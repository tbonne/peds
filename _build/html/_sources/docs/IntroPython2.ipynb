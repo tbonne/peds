{
 "cells": [
  {
   "cell_type": "markdown",
   "id": "cc9d2e2b",
   "metadata": {},
   "source": [
    "<a href=\"https://colab.research.google.com/github/tbonne/peds/blob/main/docs/IntroPython2.ipynb\" target=\"_parent\"><img src=\"https://colab.research.google.com/assets/colab-badge.svg\" alt=\"Open In Colab\"/></a>"
   ]
  },
  {
   "cell_type": "markdown",
   "id": "913b417a",
   "metadata": {},
   "source": [
    "<p align=\"center\">\n",
    "  <img src=\"https://raw.githubusercontent.com/tbonne/peds/main/images/python-logo-master-v3-TM.png\" width=\"500\" alt=\"colab\">\n",
    "</p>"
   ]
  },
  {
   "cell_type": "markdown",
   "id": "0406e1e5",
   "metadata": {},
   "source": [
    "## <font color='darkorange'>Control Structures</font>\n",
    "\n",
    "Let's take a look at a few ways to control our code:\n",
    "\n",
    "* **if elif else**\n",
    "* **Ternary expressions**\n",
    "* **while**\n",
    "* **for**"
   ]
  },
  {
   "cell_type": "markdown",
   "id": "54c6af59",
   "metadata": {},
   "source": [
    "### <font color='darkorange'>If statements and loops</font>"
   ]
  },
  {
   "cell_type": "markdown",
   "id": "1fec9162",
   "metadata": {},
   "source": [
    "**If statements**"
   ]
  },
  {
   "cell_type": "markdown",
   "id": "ec070a61",
   "metadata": {},
   "source": [
    "if statements are very readable in Python. Remember to indent!\n"
   ]
  },
  {
   "cell_type": "code",
   "execution_count": null,
   "id": "f28a19c1",
   "metadata": {},
   "outputs": [],
   "source": [
    "x = -11\n",
    "\n",
    "# A simple if-else block\n",
    "if x % 2 == 0:\n",
    "    print(\"{0:d} is even\".format(x))\n",
    "else:\n",
    "    print(\"{0:d} is odd\".format(x))"
   ]
  },
  {
   "cell_type": "markdown",
   "id": "ec23133b",
   "metadata": {},
   "source": [
    "A block with multiple cases"
   ]
  },
  {
   "cell_type": "code",
   "execution_count": null,
   "id": "72310d73",
   "metadata": {},
   "outputs": [],
   "source": [
    "if x < 0:\n",
    "    print(\"negative\")\n",
    "elif x > 0:\n",
    "    print(\"positive\")\n",
    "else:\n",
    "    print(\"zero\")"
   ]
  },
  {
   "cell_type": "markdown",
   "id": "f5bd34c2",
   "metadata": {},
   "source": [
    "Ternary expressions combine an if-else block into a single expression. This is useful syntactic sugar when the expression is simple but can sacrifice readability when the conditionals are more involved.\n"
   ]
  },
  {
   "cell_type": "code",
   "execution_count": null,
   "id": "4835f523",
   "metadata": {},
   "outputs": [],
   "source": [
    "x = 11\n",
    "print(\"Even\" if x % 2 == 0 else \"Odd\")"
   ]
  },
  {
   "cell_type": "markdown",
   "id": "5b941144",
   "metadata": {},
   "source": [
    "**While loops**\n",
    "\n"
   ]
  },
  {
   "cell_type": "code",
   "execution_count": null,
   "id": "164d5aaf",
   "metadata": {},
   "outputs": [],
   "source": [
    "# A simple while loop\n",
    "x = 10\n",
    "count = 0\n",
    "\n",
    "while x != 1:\n",
    "    x = x // 2\n",
    "    count += 1\n",
    "\n",
    "print(str(count) + \"\\n\")"
   ]
  },
  {
   "cell_type": "markdown",
   "id": "c14d1eef",
   "metadata": {},
   "source": [
    "You can also 'break' out of a while loop or 'continue' to the next iteration. "
   ]
  },
  {
   "cell_type": "code",
   "execution_count": null,
   "id": "54415e86",
   "metadata": {},
   "outputs": [],
   "source": [
    "# Continue demonstration\n",
    "x = 10\n",
    "while x > 0:\n",
    "    x -= 1\n",
    "    if x % 2 == 0:\n",
    "        continue\n",
    "    print(x)\n",
    "\n",
    "print(\"\\n\")    \n"
   ]
  },
  {
   "cell_type": "code",
   "execution_count": null,
   "id": "3171d1ba",
   "metadata": {},
   "outputs": [],
   "source": [
    "# Break demonstration\n",
    "x = 10\n",
    "while x > 0:\n",
    "    x-=1\n",
    "    print(x)\n",
    "    if x <= 5:\n",
    "        break"
   ]
  },
  {
   "cell_type": "markdown",
   "id": "40258550",
   "metadata": {},
   "source": [
    "<p align=\"left\">\n",
    "  <img src=\"https://raw.githubusercontent.com/tbonne/peds/main/images/take_action.jpg\" width=\"100\" alt=\"colab\">\n",
    "</p>"
   ]
  },
  {
   "cell_type": "markdown",
   "id": "630f654c",
   "metadata": {},
   "source": [
    "Try the two loops above with and without break/continue. Does it make sense?"
   ]
  },
  {
   "cell_type": "markdown",
   "id": "b80d1f55",
   "metadata": {},
   "source": [
    "**For loops**\n",
    "\n",
    "For loops in Python are sophisticated and powerful as they allow you to iterate over a collection or an iterator. \n",
    "\n",
    "Let's look at how we can use the built in 'range' command with loops."
   ]
  },
  {
   "cell_type": "code",
   "execution_count": null,
   "id": "537a1b95",
   "metadata": {},
   "outputs": [],
   "source": [
    "#range returns a sequence of integers within a specified range\n",
    "seq = range(10)\n",
    "print(seq)"
   ]
  },
  {
   "cell_type": "code",
   "execution_count": null,
   "id": "d2fa5f91",
   "metadata": {},
   "outputs": [],
   "source": [
    "for i in seq:\n",
    "    print(i)"
   ]
  },
  {
   "cell_type": "markdown",
   "id": "518db944",
   "metadata": {},
   "source": [
    "Let's look at a nested example"
   ]
  },
  {
   "cell_type": "code",
   "execution_count": null,
   "id": "7c462f6b",
   "metadata": {},
   "outputs": [],
   "source": [
    "seq = range(4)\n",
    "\n",
    "for i in seq:\n",
    "    for j in seq:\n",
    "        if i <= j:\n",
    "            print(f\"({i},{j})\")\n"
   ]
  },
  {
   "cell_type": "markdown",
   "id": "190dab6c",
   "metadata": {},
   "source": [
    "Let's see how we can iterate over dictionaries. Remember dictionaries are collections that hold *keys* and *values*, where keys are mapped to specific values."
   ]
  },
  {
   "cell_type": "code",
   "execution_count": 5,
   "id": "b7a16c98",
   "metadata": {},
   "outputs": [
    {
     "name": "stdout",
     "output_type": "stream",
     "text": [
      "('susan', 23)\n",
      "('brian', 25)\n",
      "('joe', 28)\n",
      "('al', 21)\n"
     ]
    }
   ],
   "source": [
    "# create a dictionary\n",
    "ages = {'susan':23, 'brian':25, 'joe':28, 'al':21} \n",
    "\n",
    "# Iterating over elements in a dictionary\n",
    "for k in ages:\n",
    "    print( (k, ages[k]) )"
   ]
  },
  {
   "cell_type": "markdown",
   "id": "1de05591",
   "metadata": {},
   "source": [
    "### <font color='darkorange'>Local functions</font>\n",
    "\n",
    "\n",
    "Like many other programming languages, functions in Python provide and important way of organizing and reusing code. If you find yourself reusing bits of code, you might want to think about creating your own function!\n",
    "\n",
    "Functions are packed with useful high-level features. \n",
    "\n",
    "* _Arguments_ can be _positional_ or specified via _keywords_. \n",
    "* Keyword arguments can be _optional_ and one can also specify _default_ values for them.\n",
    "* Order of keyword arguments can be changed.\n",
    "* Functions can return multiple values.\n",
    "\n",
    "* Use the `def` keyword to define a function, and the `return` keyword to return the result.\n",
    "* Functions _parameters_ and any variables declared within the body of the function have _local_ scope.\n",
    "* You have access to variables in the enclosing scope.\n",
    "* An optional string literal can be used as the very first statement. This is the function's _docstring_. \n",
    "* Arguments are _passed by reference_. This has implications for mutable objects. \n",
    "* If `return` is used by itself or if the function falls off the end, `None` is returned."
   ]
  },
  {
   "cell_type": "markdown",
   "id": "6428ab53",
   "metadata": {},
   "source": [
    "Let's take a look at building our own functions."
   ]
  },
  {
   "cell_type": "code",
   "execution_count": null,
   "id": "e764a05b",
   "metadata": {},
   "outputs": [],
   "source": [
    "# Function definitions and scope.\n",
    "\n",
    "def factorial2(n):\n",
    "    \"Returns n!, the factorial of a non-negative integer n\"\n",
    "    # The variables n and result have local scope.\n",
    "    \n",
    "    result = 1\n",
    "    while n > 0:\n",
    "        result *= n\n",
    "        n -= 1\n",
    "    return result\n"
   ]
  },
  {
   "cell_type": "markdown",
   "id": "e0c67406",
   "metadata": {},
   "source": [
    "Let's now use the function we created above."
   ]
  },
  {
   "cell_type": "code",
   "execution_count": null,
   "id": "c25592a4",
   "metadata": {},
   "outputs": [],
   "source": [
    "num = 10\n",
    "\n",
    "factorial2(num)"
   ]
  },
  {
   "cell_type": "markdown",
   "id": "ab0aa635",
   "metadata": {},
   "source": [
    "Let's create another function, this time let's use more than one input. This will help us learn positional and keyword arguments, and how to set default values.\n"
   ]
  },
  {
   "cell_type": "code",
   "execution_count": null,
   "id": "86c9f919",
   "metadata": {},
   "outputs": [],
   "source": [
    "#Simple exponential function\n",
    "def func2(x, y=0, z=0):\n",
    "    return x**2 + y**2 - z**2"
   ]
  },
  {
   "cell_type": "code",
   "execution_count": null,
   "id": "202e1f1b",
   "metadata": {},
   "outputs": [],
   "source": [
    "# we can call func2 with 1, 2 or 3 arguments.\n",
    "print(func2(2))\n",
    "print(func2(2,2))\n",
    "print(func2(2,2,2))"
   ]
  },
  {
   "cell_type": "code",
   "execution_count": null,
   "id": "96088067",
   "metadata": {},
   "outputs": [],
   "source": [
    "# We can also use keywords when invoking func2. \n",
    "print(func2(1,y=2, z=3))\n",
    "print(func2(1, z=3, y=2))\n",
    "print(func2(x=1, y=2, z=3)) "
   ]
  },
  {
   "cell_type": "markdown",
   "id": "f180fcc9",
   "metadata": {},
   "source": [
    "Note: keyword arguments must follow positional arguments\n",
    "\n",
    "Thus the following is not allowed.\n",
    "func2(y=2, z=3, 1)\n",
    "\n",
    "Keywords also need to match the parameters. \n",
    "\n",
    "The following is not allowed.\n",
    "func2(a=1,b=2,c=3)"
   ]
  },
  {
   "cell_type": "markdown",
   "id": "c4b4dcce",
   "metadata": {},
   "source": [
    "<p align=\"left\">\n",
    "  <img src=\"https://raw.githubusercontent.com/tbonne/peds/main/images/take_action.jpg\" width=\"100\" alt=\"colab\">\n",
    "</p>"
   ]
  },
  {
   "cell_type": "markdown",
   "id": "16391cf5",
   "metadata": {},
   "source": [
    "Let's try out what we've learnt. Try to complete the following:\n",
    "\n",
    "- Write a function that takes three integers as input and returns the largest of the three.\n",
    "\n",
    "- Write a function that takes three integers as input and returns `True` if either all three integers are even or all three integers are odd, and `False` otherwise.\n",
    "\n",
    "- Write a function that takes a list as an input and returns a new list that contains the items in the input list _reversed_."
   ]
  },
  {
   "cell_type": "markdown",
   "id": "b18f9d0f",
   "metadata": {},
   "source": [
    "### <font color='darkorange'>Further reading</font>\n",
    "  \n",
    "<a href=\"https://automatetheboringstuff.com/\">Automate the Boring Stuff with Python</a> by Al Sweigart.\n",
    "\n",
    "For additional practice, try solving practice problems available at the following web sites.\n",
    "- <a href=\"https://edabit.com/challenges/python3\">edabit</a> - (look at problems rated 'Easy' and 'Medium')\n",
    "- <a href=\"https://www.practicepython.org/\">PRACTICE PYTHON</a> - (look at problems rated 'one' and 'two' chillies)\n"
   ]
  }
 ],
 "metadata": {
  "kernelspec": {
   "display_name": "venv",
   "language": "python",
   "name": "python3"
  },
  "language_info": {
   "codemirror_mode": {
    "name": "ipython",
    "version": 3
   },
   "file_extension": ".py",
   "mimetype": "text/x-python",
   "name": "python",
   "nbconvert_exporter": "python",
   "pygments_lexer": "ipython3",
   "version": "3.11.5"
  }
 },
 "nbformat": 4,
 "nbformat_minor": 5
}
