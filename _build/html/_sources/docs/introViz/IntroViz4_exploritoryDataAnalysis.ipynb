{
  "nbformat": 4,
  "nbformat_minor": 0,
  "metadata": {
    "colab": {
      "name": "IntroViz4_exploritoryDataAnalysis.ipynb",
      "provenance": [],
      "collapsed_sections": [],
      "mount_file_id": "1R49MCyzdNfH9lVkC2Fum1xi63d5aUXtg",
      "authorship_tag": "ABX9TyPcjD/evL9iZbPdQL/OjsjX",
      "include_colab_link": true
    },
    "kernelspec": {
      "name": "python3",
      "display_name": "Python 3"
    }
  },
  "cells": [
    {
      "cell_type": "markdown",
      "metadata": {
        "id": "view-in-github",
        "colab_type": "text"
      },
      "source": [
        "<a href=\"https://colab.research.google.com/github/tbonne/IntroDataScience/blob/main/InClassNotebooks/IntroViz4_exploritoryDataAnalysis.ipynb\" target=\"_parent\"><img src=\"https://colab.research.google.com/assets/colab-badge.svg\" alt=\"Open In Colab\"/></a>"
      ]
    },
    {
      "cell_type": "markdown",
      "metadata": {
        "id": "DqPzbMV5v_NQ"
      },
      "source": [
        "<img src='http://drive.google.com/uc?export=view&id=1Lv8NU_SuGQ9uVjU8N6_NwNi72qbSnbQL'>"
      ]
    },
    {
      "cell_type": "markdown",
      "metadata": {
        "id": "vAAwrni29gHo"
      },
      "source": [
        "# <font color='lightblue'>Exploritory Data Analysis</font>"
      ]
    },
    {
      "cell_type": "markdown",
      "metadata": {
        "id": "jyHOvgcK2Oj0"
      },
      "source": [
        "In this exercise we will use what we learnt in this class to do some exploritory data analysis. The steps we will take are:\n",
        "\n",
        "*  Choose and download a dataset\n",
        "*  Visualize and get summary statistics\n",
        "*  Look for relationships between variables in the data\n",
        "\n"
      ]
    },
    {
      "cell_type": "markdown",
      "metadata": {
        "id": "wBv_U2EwAWFS"
      },
      "source": [
        "Import the libraries\n"
      ]
    },
    {
      "cell_type": "code",
      "metadata": {
        "id": "npo0C3reAbqn"
      },
      "source": [
        "#import libraries\n",
        "import pandas as pd\n",
        "import matplotlib.pyplot as plt\n",
        "import seaborn as sns\n"
      ],
      "execution_count": null,
      "outputs": []
    },
    {
      "cell_type": "markdown",
      "metadata": {
        "id": "KvGK8HSV-lql"
      },
      "source": [
        "### <font color='lightblue'>Data and summary statistics</font>"
      ]
    },
    {
      "cell_type": "markdown",
      "metadata": {
        "id": "M2r3E549wJZL"
      },
      "source": [
        "Choose a dataset and import it into colaboratory. You can use a dataset from the [class dataset folder](https://drive.google.com/drive/folders/1s2Civxvys_SR1sFF7D2ept1GSmFbICQb?usp=sharing), or if you have found other data please feel free to use that data!\n"
      ]
    },
    {
      "cell_type": "code",
      "metadata": {
        "id": "sobqsVEo4tyE"
      },
      "source": [
        "df_? = pd.read_csv(?)"
      ],
      "execution_count": null,
      "outputs": []
    },
    {
      "cell_type": "markdown",
      "metadata": {
        "id": "BFMyKInr-YxM"
      },
      "source": [
        "What types of data are you dealing with?"
      ]
    },
    {
      "cell_type": "code",
      "metadata": {
        "id": "FXVrpZ9Z-hfX"
      },
      "source": [
        ""
      ],
      "execution_count": null,
      "outputs": []
    },
    {
      "cell_type": "markdown",
      "metadata": {
        "id": "1k9BmJYr-cqt"
      },
      "source": [
        "What are the summary statistics of some of the key variables?"
      ]
    },
    {
      "cell_type": "code",
      "metadata": {
        "id": "FSJIADa1-gKi"
      },
      "source": [
        ""
      ],
      "execution_count": null,
      "outputs": []
    },
    {
      "cell_type": "markdown",
      "metadata": {
        "id": "9bKY19_k-tlK"
      },
      "source": [
        "### <font color='lightblue'>Visualize the data</font>"
      ]
    },
    {
      "cell_type": "markdown",
      "metadata": {
        "id": "Qz3sEa35-yva"
      },
      "source": [
        "What does the distribution of values look like for some key variables?"
      ]
    },
    {
      "cell_type": "code",
      "metadata": {
        "id": "AtEp7bth-2hF"
      },
      "source": [
        ""
      ],
      "execution_count": null,
      "outputs": []
    },
    {
      "cell_type": "markdown",
      "metadata": {
        "id": "8YYsjvaB-27-"
      },
      "source": [
        "What are some potentially interesting relationships between variables? \n",
        "> i.e., scatterplots, correlations, and heatmaps"
      ]
    },
    {
      "cell_type": "code",
      "metadata": {
        "id": "lMeA3Tdx_NY3"
      },
      "source": [
        ""
      ],
      "execution_count": null,
      "outputs": []
    }
  ]
}