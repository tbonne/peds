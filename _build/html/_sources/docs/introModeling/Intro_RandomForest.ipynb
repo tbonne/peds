{
  "nbformat": 4,
  "nbformat_minor": 2,
  "metadata": {
    "colab": {
      "name": "Intro_RandomForest.ipynb",
      "provenance": [],
      "collapsed_sections": [],
      "authorship_tag": "ABX9TyMsIltJCzN63S2NuI7BCzUI",
      "include_colab_link": true
    },
    "kernelspec": {
      "name": "python3",
      "display_name": "Python 3"
    },
    "language_info": {
      "name": "python"
    }
  },
  "cells": [
    {
      "cell_type": "markdown",
      "source": [
        "<a href=\"https://colab.research.google.com/github/tbonne/peds/blob/main/docs/introModeling/Intro_RandomForest.ipynb\" target=\"_parent\"><img src=\"https://colab.research.google.com/assets/colab-badge.svg\" alt=\"Open In Colab\"/></a>"
      ],
      "metadata": {
        "id": "view-in-github",
        "colab_type": "text"
      }
    },
    {
      "cell_type": "markdown",
      "source": [
        "<img src='http://drive.google.com/uc?export=view&id=1Xa0UZixN0DKiYhSnWf6FakY7Kz3xZFI_' width=500>\n",
        "\n"
      ],
      "metadata": {
        "id": "9C2arduFECBl"
      }
    },
    {
      "cell_type": "markdown",
      "source": [
        "## <font color='darkorange'>Random forests</font>"
      ],
      "metadata": {
        "id": "xDo_JqBMQqJM"
      }
    },
    {
      "cell_type": "markdown",
      "source": [
        "Let's take a look at random forests as a way to avoid over/under fitting our model decision tree models. Here we will use this algorithm to predict who will have diabetes. "
      ],
      "metadata": {
        "id": "0HwGNjO9Qt6G"
      }
    },
    {
      "cell_type": "markdown",
      "source": [
        "Load in the needed libraries"
      ],
      "metadata": {
        "id": "d0x5is0FE_j9"
      }
    },
    {
      "cell_type": "code",
      "execution_count": null,
      "source": [
        "import sklearn as sk\n",
        "import pandas as pd\n",
        "import seaborn as sns\n",
        "import matplotlib.pyplot as plt\n",
        "from sklearn.model_selection import train_test_split\n"
      ],
      "outputs": [],
      "metadata": {
        "id": "d-rPIThpIE3o"
      }
    },
    {
      "cell_type": "markdown",
      "source": [
        "### <font color='lightblue'>Load the data</font>"
      ],
      "metadata": {
        "id": "1z7obQJoGmr5"
      }
    },
    {
      "cell_type": "markdown",
      "source": [
        "Get the 'wine.csv' from the class's shared data folder and load it into a dataframe."
      ],
      "metadata": {
        "id": "cwYGOotUQfqo"
      }
    },
    {
      "cell_type": "code",
      "execution_count": null,
      "source": [
        "#get wine to a dataframe\n",
        "df_diab = pd.read_csv('')\n",
        "\n",
        "#take a look\n",
        "?\n"
      ],
      "outputs": [],
      "metadata": {
        "id": "NCpMYU5fQiM-"
      }
    },
    {
      "cell_type": "markdown",
      "source": [
        "<img src='http://drive.google.com/uc?export=view&id=1WC4tXGCEF-1_2LQ74gIxJAZ-GLXCwBdK' width=\"100\">  "
      ],
      "metadata": {
        "id": "GTUwaLV9HdvV"
      }
    },
    {
      "cell_type": "markdown",
      "source": [
        "Q: what kinds of data are we dealing with?"
      ],
      "metadata": {
        "id": "DN6DonAlHYuX"
      }
    },
    {
      "cell_type": "code",
      "execution_count": null,
      "source": [
        "?"
      ],
      "outputs": [],
      "metadata": {
        "id": "8-4mDkjCHbsc"
      }
    },
    {
      "cell_type": "markdown",
      "source": [
        "Q: are there any missing values?"
      ],
      "metadata": {
        "id": "hlYmLGWeTpri"
      }
    },
    {
      "cell_type": "code",
      "execution_count": null,
      "source": [
        "?"
      ],
      "outputs": [],
      "metadata": {
        "id": "LN9UdxsATt8D"
      }
    },
    {
      "cell_type": "markdown",
      "source": [
        "### <font color='lightblue'>Descriptive statistics</font> "
      ],
      "metadata": {
        "id": "nfcRG5tmRhOS"
      }
    },
    {
      "cell_type": "markdown",
      "source": [
        "Let's take a little time to look at some summary statistics.\n",
        " \n",
        "E.g., how many values of outcome types there are? "
      ],
      "metadata": {
        "id": "kptMv845FjpI"
      }
    },
    {
      "cell_type": "code",
      "execution_count": null,
      "source": [
        "#count how many of each value in a column using value_conunts\n",
        "df_diab.?.value_counts()"
      ],
      "outputs": [],
      "metadata": {
        "id": "nG4Am986FjTM"
      }
    },
    {
      "cell_type": "markdown",
      "source": [
        "What would be our accuracy if we always predicted the most common value?"
      ],
      "metadata": {
        "id": "_Tr4i1cWv_Ez"
      }
    },
    {
      "cell_type": "code",
      "execution_count": null,
      "source": [
        "?"
      ],
      "outputs": [],
      "metadata": {
        "id": "KqdWFqh7wDPY"
      }
    },
    {
      "cell_type": "markdown",
      "source": [
        "<img src='http://drive.google.com/uc?export=view&id=1WC4tXGCEF-1_2LQ74gIxJAZ-GLXCwBdK' width=\"100\">  "
      ],
      "metadata": {
        "id": "dLe7t6uCGiSb"
      }
    },
    {
      "cell_type": "markdown",
      "source": [
        "Q: Choose one feature (column) and get the mean, min, and max."
      ],
      "metadata": {
        "id": "2-_xBgiiFyAO"
      }
    },
    {
      "cell_type": "code",
      "execution_count": null,
      "source": [
        "?\n"
      ],
      "outputs": [],
      "metadata": {
        "id": "yIYqTxojGAqj"
      }
    },
    {
      "cell_type": "markdown",
      "source": [
        "### <font color='darkorange'>Visualizing the data</font> "
      ],
      "metadata": {
        "id": "WsIoTD89RnSH"
      }
    },
    {
      "cell_type": "markdown",
      "source": [
        "Let's plot the relationships between outcome and some of the health measures.\n",
        " \n",
        "Q: Choose one or more wine measures and generate a plot that shows the relationship between that measure and plant type."
      ],
      "metadata": {
        "id": "Yi5f6tbMHLjl"
      }
    },
    {
      "cell_type": "code",
      "execution_count": null,
      "source": [
        "sns.scatterplot(data=df_diab, x='?', y='?')"
      ],
      "outputs": [],
      "metadata": {
        "id": "PP1hbowmH4zH"
      }
    },
    {
      "cell_type": "code",
      "execution_count": null,
      "source": [
        "sns.violinplot(data=df_diab, y='?', x='?')"
      ],
      "outputs": [],
      "metadata": {
        "id": "1TRRJdscthpG"
      }
    },
    {
      "cell_type": "markdown",
      "source": [
        "### <font color='darkorange'>Data wrangling</font> \n",
        "\n"
      ],
      "metadata": {
        "id": "ozz-07c9RwXe"
      }
    },
    {
      "cell_type": "markdown",
      "source": [
        "Training testing split"
      ],
      "metadata": {
        "id": "1wngk9w1YMLY"
      }
    },
    {
      "cell_type": "code",
      "execution_count": null,
      "source": [
        "\n",
        "?\n"
      ],
      "outputs": [],
      "metadata": {
        "id": "JcziOvoDYO6I"
      }
    },
    {
      "cell_type": "markdown",
      "source": [
        "### <font color=\"darkorange\">Model building</font>"
      ],
      "metadata": {}
    },
    {
      "cell_type": "markdown",
      "source": [
        "Here we will build our first random forest model!"
      ],
      "metadata": {
        "id": "cekIelOqSG2B"
      }
    },
    {
      "cell_type": "code",
      "execution_count": null,
      "source": [
        "from sklearn.ensemble import RandomForestClassifier\n",
        "\n",
        "#1. Build the model\n",
        "forest_classifier = RandomForestClassifier(n_estimators=1000, bootstrap=True, max_features=0.8,max_samples=0.8)\n",
        "\n",
        "#2. Fit the model to the data\n",
        "forest_classifier.fit(X_train, y_train)"
      ],
      "outputs": [],
      "metadata": {
        "id": "xWRmQuhdSH5h"
      }
    },
    {
      "cell_type": "markdown",
      "source": [
        "Let's also build a decision tree model for comparison."
      ],
      "metadata": {
        "id": "3qqm9rJiu-6u"
      }
    },
    {
      "cell_type": "code",
      "execution_count": null,
      "source": [
        "from sklearn.tree import DecisionTreeClassifier\n",
        "\n",
        "#1. Build the model\n",
        "tree_classifier = ?()\n",
        "\n",
        "#2. Fit the model to the data\n",
        "?.fit(?, ?)"
      ],
      "outputs": [],
      "metadata": {
        "id": "Q-Tv-GsUvC1c"
      }
    },
    {
      "cell_type": "markdown",
      "source": [
        "Make some predictions"
      ],
      "metadata": {
        "id": "x1Mwjlurbeux"
      }
    },
    {
      "cell_type": "code",
      "execution_count": null,
      "source": [
        "#predictions from the forest model\n",
        "y_forest_pred = forest_classifier.predict(X_test)"
      ],
      "outputs": [],
      "metadata": {
        "id": "JIKo-fbPbBG7"
      }
    },
    {
      "cell_type": "code",
      "execution_count": null,
      "source": [
        "#predictions from the tree model\n",
        "y_tree_pred = tree_classifier.predict(X_test)"
      ],
      "outputs": [],
      "metadata": {
        "id": "_H6kguMZvSfF"
      }
    },
    {
      "cell_type": "markdown",
      "source": [
        "Measure classification success"
      ],
      "metadata": {
        "id": "DEr16lBebd6X"
      }
    },
    {
      "cell_type": "code",
      "execution_count": null,
      "source": [
        "from sklearn.metrics import confusion_matrix\n",
        "?\n"
      ],
      "outputs": [],
      "metadata": {
        "id": "ew9BnKJDblBY"
      }
    },
    {
      "cell_type": "code",
      "execution_count": null,
      "source": [
        "#more visual approach\n",
        "?"
      ],
      "outputs": [],
      "metadata": {
        "id": "rVJQdODwcclq"
      }
    },
    {
      "cell_type": "markdown",
      "source": [
        "More detailed metrics?"
      ],
      "metadata": {
        "id": "xXdo-AEHcnQf"
      }
    },
    {
      "cell_type": "code",
      "execution_count": null,
      "source": [
        "print('Accuracy (forest): {:.2f}'.format(sk.metrics.accuracy_score(y_test, y_forest_pred)))\n",
        "print('Accuracy (tree): {:.2f}'.format(sk.metrics.accuracy_score(y_test, y_tree_pred)))\n",
        "print('Null Accuracy: {:.2f}'.format(1-(y_train.sum()/(y_train.count()))))\n"
      ],
      "outputs": [],
      "metadata": {
        "id": "bXbkeYN3cqgN"
      }
    },
    {
      "cell_type": "code",
      "execution_count": null,
      "source": [
        "print('Precision (tree): {:.2f}'.format(sk.metrics.precision_score(y_test, y_tree_pred)))\n",
        "print('Recall (tree): {:.2f}'.format(sk.metrics.recall_score(y_test, y_tree_pred)))"
      ],
      "outputs": [],
      "metadata": {
        "id": "Jca32Rq8wv8Q"
      }
    },
    {
      "cell_type": "markdown",
      "source": [
        "<img src='http://drive.google.com/uc?export=view&id=1qWrKY9TgpgQaBCzZfz1xLTV6iCeSwfmG' width=\"100\">"
      ],
      "metadata": {
        "id": "7hyZXZE4d0VM"
      }
    },
    {
      "cell_type": "markdown",
      "source": [
        "### <font color='darkorange'>Hyperparameter tuning</font>"
      ],
      "metadata": {
        "id": "bKfJGA5V1scP"
      }
    },
    {
      "cell_type": "markdown",
      "source": [
        "Above we used the default values for how much randomness to include while builing our trees for the random forest. Let's look at how we can use k-fold cross validation to help us choose how much randomness to use when building these trees!"
      ],
      "metadata": {
        "id": "xyOD7ZsC12B7"
      }
    },
    {
      "cell_type": "markdown",
      "source": [
        "One hyperparameter:"
      ],
      "metadata": {
        "id": "UHDRS-2eve5y"
      }
    },
    {
      "cell_type": "code",
      "execution_count": null,
      "source": [
        "from sklearn.model_selection import cross_val_score\n",
        "\n",
        "number_of_trees = [50, 100, 150, 200, 250, 300, 350]\n",
        "\n",
        "for val in number_of_trees:\n",
        "  scores = cross_val_score(RandomForestClassifier(n_estimators=val), X_train, y_train, cv=5, scoring='accuracy')\n",
        "  print(scores.mean())"
      ],
      "outputs": [],
      "metadata": {
        "id": "iVRGUvjH1r8u"
      }
    },
    {
      "cell_type": "markdown",
      "source": [
        "Many hyperparameters:"
      ],
      "metadata": {
        "id": "JEVhNgo2veU4"
      }
    },
    {
      "cell_type": "code",
      "execution_count": null,
      "source": [
        "from sklearn.model_selection import GridSearchCV\n",
        "\n",
        "#define what parameters and what values to vary\n",
        "parameters = {'max_features': [0.5,0.7,0.9,1.0],\n",
        "              'n_estimators':list(range(50,200,50)),\n",
        "              'max_samples':[0.5,0.7,0.9,0.99] }\n",
        "\n",
        "#build the grid search algorithm\n",
        "grid_search = GridSearchCV(RandomForestClassifier(), parameters, cv=5, scoring='accuracy') #strattified cross validation when traget is binary or multiclass\n",
        "\n",
        "#Use training data to perform the nfold cross validation\n",
        "grid_search.fit(X_train, y_train)\n",
        "\n",
        "#find the best hyperparameters\n",
        "print(grid_search.best_params_)\n",
        "grid_search.best_score_"
      ],
      "outputs": [],
      "metadata": {
        "id": "D2RjbQGtufbv"
      }
    },
    {
      "cell_type": "markdown",
      "source": [
        "<img src='http://drive.google.com/uc?export=view&id=1WC4tXGCEF-1_2LQ74gIxJAZ-GLXCwBdK' width=\"100\">  "
      ],
      "metadata": {
        "id": "4DsVBg1sdCRH"
      }
    },
    {
      "cell_type": "markdown",
      "source": [
        "We can see that this quickly becomes time consuming to run. There are many algorithms out there to help tune your models. They generally break down into exhaustive grid searches, vs random searches. But this is an active feild that is growing all the time. "
      ],
      "metadata": {
        "id": "-fEGDNTc83fQ"
      }
    },
    {
      "cell_type": "markdown",
      "source": [
        "Now that we've tuned our random forest model let's see if we can beat the default model that we fit! "
      ],
      "metadata": {
        "id": "3giY46R8-xqy"
      }
    },
    {
      "cell_type": "code",
      "execution_count": null,
      "source": [
        "#1. build an optimized model\n",
        "forest_classifier_opt = RandomForestClassifier(n_estimators=?,max_samples=?, max_features=?)\n",
        "\n",
        "#2. Fit the model to the data\n",
        "?.fit(?, ?)\n",
        "\n",
        "#3. make predictions\n",
        "y_forest_pred_opt = ?.predict(?)\n",
        "\n",
        "#Measure accuracy\n",
        "print('Accuracy: {:.2f}'.format(sk.metrics.accuracy_score(y_test, y_forest_pred_opt)))\n",
        "print('Precision : {:.2f}'.format(sk.metrics.precision_score(y_test, y_forest_pred_opt)))\n",
        "print('Recall : {:.2f}'.format(sk.metrics.recall_score(y_test, y_forest_pred_opt)))"
      ],
      "outputs": [],
      "metadata": {
        "id": "w-7pDJcy_g3a"
      }
    },
    {
      "cell_type": "code",
      "execution_count": null,
      "source": [
        "#calculate a confusion matrix\n",
        "?\n",
        "\n",
        "#Plot the confusion matrix\n",
        "?"
      ],
      "outputs": [],
      "metadata": {
        "id": "f0AZ1ESewgvu"
      }
    },
    {
      "cell_type": "markdown",
      "source": [
        "Did your optimized model beat the default one?"
      ],
      "metadata": {
        "id": "3XX3TBEGAV2z"
      }
    },
    {
      "cell_type": "markdown",
      "source": [
        "### <font color='darkorange'>Bonus</font>"
      ],
      "metadata": {
        "id": "6bGe3ihU9Rzk"
      }
    },
    {
      "cell_type": "code",
      "execution_count": null,
      "source": [
        "#Try adding other hyperparameters, how much better can you make the model by tuning?\n",
        "#e.g., min_samples_split (how many points in a node are required to allow a split)\n",
        "#e.g., max_depth (max depth of each tree)"
      ],
      "outputs": [],
      "metadata": {
        "id": "FUEujBl09hM3"
      }
    },
    {
      "cell_type": "markdown",
      "source": [
        "<img src='http://drive.google.com/uc?export=view&id=1qWrKY9TgpgQaBCzZfz1xLTV6iCeSwfmG' width=\"100\">"
      ],
      "metadata": {
        "id": "jAtLBkSi8SlD"
      }
    },
    {
      "cell_type": "markdown",
      "source": [
        "### <font color='darkorange'>Model interpretation</font>"
      ],
      "metadata": {
        "id": "0nsw2I5da-tH"
      }
    },
    {
      "cell_type": "markdown",
      "source": [
        "Random forests are collections of many decision trees. This makes it a little more difficult to interpret how the predictions are being made, as there can be 1000s of individual trees.\n",
        "> Let's look at how to use feature importance to evaluate what is being used by the model to make predictions.\n"
      ],
      "metadata": {
        "id": "wuVYJCI9uVNr"
      }
    },
    {
      "cell_type": "code",
      "execution_count": null,
      "source": [
        "from sklearn.inspection import permutation_importance\n",
        "\n",
        "#use permutation importance\n",
        "perm_result = permutation_importance(forest_classifier_opt, X=X_test, y=y_test, scoring='accuracy', n_repeats=30)\n",
        "\n",
        "#place values into a dataframe\n",
        "forest_importances = pd.DataFrame({'variable':X_test.columns,'impo':perm_result.importances_mean.round(4), \"sd\":perm_result.importances_std.round(4)})\n",
        "\n",
        "#sort the dataframe\n",
        "forest_importances.sort_values(by='impo', ascending=False)"
      ],
      "outputs": [],
      "metadata": {
        "id": "qsSw9xV1uoxA"
      }
    },
    {
      "cell_type": "code",
      "execution_count": null,
      "source": [
        "#plot the importance\n",
        "sns.barplot(data=forest_importances, x='variable',y='impo')\n",
        "plt.xticks(rotation=70)"
      ],
      "outputs": [],
      "metadata": {
        "id": "S2Nt5sxD0nhW"
      }
    },
    {
      "cell_type": "code",
      "execution_count": null,
      "source": [
        "#plot the importance (switch axis to display labels better?)\n",
        "sns.barplot(data=forest_importances, y='variable',x='impo')\n"
      ],
      "outputs": [],
      "metadata": {
        "id": "0rUKMEaMyxQP"
      }
    },
    {
      "cell_type": "markdown",
      "source": [
        "#### Asking your model questions?"
      ],
      "metadata": {
        "id": "DKH1xdwsfqH3"
      }
    },
    {
      "cell_type": "markdown",
      "source": [
        "Sometimes it can be very helpful to create a dataset that represents a question you have, and then use your model to make predictions to answer that question. For instance, what if someone had mean values for all measures? "
      ],
      "metadata": {
        "id": "8YWPrMu5fx3L"
      }
    },
    {
      "cell_type": "code",
      "execution_count": null,
      "source": [
        "#1. Create a dataframe\n",
        "df_question = pd.DataFrame({'Pregnancies':X_train.Pregnancies.mean(),\n",
        "                            'Glucose':X_train.Glucose.mean(),\n",
        "                            'BloodPressure':X_train.BloodPressure.mean(),\n",
        "                            'SkinThickness':X_train.SkinThickness.mean(),\n",
        "                            'Insulin':X_train.Insulin.mean(),\n",
        "                            'BMI':X_train.BMI.mean(),\n",
        "                            'DiabetesPedigreeFunction':X_train.DiabetesPedigreeFunction.mean(),\n",
        "                            'Age':X_train.Age.mean()},\n",
        "                             index=[0])\n",
        "                            \n",
        "\n",
        "#2. Use the model to make predictions\n",
        "question_pred =  forest_classifier_opt.predict(df_question)\n",
        "\n",
        "#3. Take a look at the answer\n",
        "question_pred"
      ],
      "outputs": [],
      "metadata": {
        "id": "qJQEwL61gpO7"
      }
    },
    {
      "cell_type": "markdown",
      "source": [
        "Now we can make our question a little more interesting by allowing one variable to vary. Let's see how the predictions change as we vary glucose of the average person."
      ],
      "metadata": {
        "id": "TTpT78RGiZ12"
      }
    },
    {
      "cell_type": "code",
      "execution_count": null,
      "source": [
        "#1. Create a dataframe\n",
        "df_question = pd.DataFrame({'Pregnancies':X_train.Pregnancies.mean(),\n",
        "                            'Glucose':list(range(0,200,10)),\n",
        "                            'BloodPressure':X_train.BloodPressure.mean(),\n",
        "                            'SkinThickness':X_train.SkinThickness.mean(),\n",
        "                            'Insulin':X_train.Insulin.mean(),\n",
        "                            'BMI':X_train.BMI.mean(),\n",
        "                            'DiabetesPedigreeFunction':X_train.DiabetesPedigreeFunction.mean(),\n",
        "                            'Age':X_train.Age.mean()})\n",
        "                            \n",
        "\n",
        "#2. Use the model to make predictions\n",
        "question_pred =  forest_classifier_opt.predict(df_question)\n",
        "\n",
        "#3. Take a look at the answer\n",
        "question_pred"
      ],
      "outputs": [],
      "metadata": {
        "id": "XdnqTmkNilCp"
      }
    },
    {
      "cell_type": "markdown",
      "source": [
        "Let's plot the answer"
      ],
      "metadata": {
        "id": "Y24R8peWi7O6"
      }
    },
    {
      "cell_type": "code",
      "execution_count": null,
      "source": [
        "#add a column to the df_question\n",
        "df_question['predicted_diabetes'] = question_pred\n",
        "\n",
        "#plot the predictions\n",
        "sns.scatterplot(data=df_question, x='Glucose',y='predicted_diabetes')"
      ],
      "outputs": [],
      "metadata": {
        "id": "Qw5ArXCFi64K"
      }
    },
    {
      "cell_type": "markdown",
      "source": [
        "### <font color='darkorange'>Model Application</font>"
      ],
      "metadata": {
        "id": "5Z2I7aMSxtwy"
      }
    },
    {
      "cell_type": "markdown",
      "source": [
        "Let's apply what we learnt about random forests to other datasets. "
      ],
      "metadata": {
        "id": "_IpbBZLvxx8J"
      }
    },
    {
      "cell_type": "code",
      "execution_count": null,
      "source": [
        "#load dataset!"
      ],
      "outputs": [],
      "metadata": {
        "id": "u_Tzi4kAx9aF"
      }
    }
  ]
}