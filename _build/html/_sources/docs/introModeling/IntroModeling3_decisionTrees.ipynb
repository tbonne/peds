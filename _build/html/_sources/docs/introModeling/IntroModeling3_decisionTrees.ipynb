{
  "nbformat": 4,
  "nbformat_minor": 0,
  "metadata": {
    "colab": {
      "name": "IntroModeling3_decisionTrees.ipynb",
      "provenance": [],
      "collapsed_sections": [],
      "authorship_tag": "ABX9TyNhbeIvBJUWIvy+CHjAXwvZ",
      "include_colab_link": true
    },
    "kernelspec": {
      "name": "python3",
      "display_name": "Python 3"
    },
    "language_info": {
      "name": "python"
    }
  },
  "cells": [
    {
      "cell_type": "markdown",
      "metadata": {
        "id": "view-in-github",
        "colab_type": "text"
      },
      "source": [
        "<a href=\"https://colab.research.google.com/github/tbonne/IntroDataScience/blob/main/InClassNotebooks/IntroModeling3_decisionTrees.ipynb\" target=\"_parent\"><img src=\"https://colab.research.google.com/assets/colab-badge.svg\" alt=\"Open In Colab\"/></a>"
      ]
    },
    {
      "cell_type": "markdown",
      "metadata": {
        "id": "9C2arduFECBl"
      },
      "source": [
        "<img src='http://drive.google.com/uc?export=view&id=1WZbnKvEzIK70qhQXyPIS36ahLWoEsqaA' width=500>"
      ]
    },
    {
      "cell_type": "markdown",
      "metadata": {
        "id": "xDo_JqBMQqJM"
      },
      "source": [
        "# <font color='lightblue'>Decision trees</font>"
      ]
    },
    {
      "cell_type": "markdown",
      "metadata": {
        "id": "0HwGNjO9Qt6G"
      },
      "source": [
        "Let's take a look at decision tree as classifiers. Here we will use this algorithm to classify which grape plant was used to create a wine. "
      ]
    },
    {
      "cell_type": "markdown",
      "metadata": {
        "id": "d0x5is0FE_j9"
      },
      "source": [
        "Load in the needed libraries"
      ]
    },
    {
      "cell_type": "code",
      "metadata": {
        "id": "d-rPIThpIE3o"
      },
      "source": [
        "import sklearn as sk\n",
        "import pandas as pd\n",
        "import seaborn as sns\n",
        "import matplotlib.pyplot as plt\n",
        "from sklearn.model_selection import train_test_split\n"
      ],
      "execution_count": null,
      "outputs": []
    },
    {
      "cell_type": "markdown",
      "metadata": {
        "id": "1z7obQJoGmr5"
      },
      "source": [
        "### <font color='lightblue'>Load the data</font>"
      ]
    },
    {
      "cell_type": "markdown",
      "metadata": {
        "id": "cwYGOotUQfqo"
      },
      "source": [
        "Get the 'wine.csv' from the class's shared data folder and load it into a dataframe."
      ]
    },
    {
      "cell_type": "code",
      "metadata": {
        "id": "NCpMYU5fQiM-"
      },
      "source": [
        "#get wine to a dataframe\n",
        "df_wine = pd.read_csv('/content/wine_labs.csv')\n",
        "\n",
        "#take a look\n",
        "df_wine.head(3)\n",
        "\n"
      ],
      "execution_count": null,
      "outputs": []
    },
    {
      "cell_type": "markdown",
      "metadata": {
        "id": "GTUwaLV9HdvV"
      },
      "source": [
        "<img src='http://drive.google.com/uc?export=view&id=1WC4tXGCEF-1_2LQ74gIxJAZ-GLXCwBdK' width=\"100\" align = 'left'>  "
      ]
    },
    {
      "cell_type": "markdown",
      "metadata": {
        "id": "DN6DonAlHYuX"
      },
      "source": [
        "Q: what kinds of data are we dealing with?"
      ]
    },
    {
      "cell_type": "code",
      "metadata": {
        "id": "8-4mDkjCHbsc"
      },
      "source": [
        "?"
      ],
      "execution_count": null,
      "outputs": []
    },
    {
      "cell_type": "markdown",
      "metadata": {
        "id": "hlYmLGWeTpri"
      },
      "source": [
        "Q: are there any missing values?"
      ]
    },
    {
      "cell_type": "code",
      "metadata": {
        "id": "LN9UdxsATt8D"
      },
      "source": [
        "?"
      ],
      "execution_count": null,
      "outputs": []
    },
    {
      "cell_type": "code",
      "metadata": {
        "id": "4Cd-Xg-1svxe"
      },
      "source": [
        "#let's drop rows with missing data\n",
        "?"
      ],
      "execution_count": null,
      "outputs": []
    },
    {
      "cell_type": "markdown",
      "metadata": {
        "id": "nfcRG5tmRhOS"
      },
      "source": [
        "### <font color='lightblue'>Descriptive statistics</font> "
      ]
    },
    {
      "cell_type": "markdown",
      "metadata": {
        "id": "kptMv845FjpI"
      },
      "source": [
        "Let's take a little time to look at some summary statistics.\n",
        " \n",
        "E.g., how many values of plant type there are? "
      ]
    },
    {
      "cell_type": "code",
      "metadata": {
        "id": "nG4Am986FjTM"
      },
      "source": [
        "#count how many of each value in a column using value_conunts\n",
        "df_wine.plant.value_counts()"
      ],
      "execution_count": null,
      "outputs": []
    },
    {
      "cell_type": "markdown",
      "metadata": {
        "id": "dLe7t6uCGiSb"
      },
      "source": [
        "<img src='http://drive.google.com/uc?export=view&id=1WC4tXGCEF-1_2LQ74gIxJAZ-GLXCwBdK' width=\"100\" align = 'left'>  "
      ]
    },
    {
      "cell_type": "markdown",
      "metadata": {
        "id": "2-_xBgiiFyAO"
      },
      "source": [
        "Choose one feature (column) and get the mean, min, and max."
      ]
    },
    {
      "cell_type": "code",
      "metadata": {
        "id": "yIYqTxojGAqj"
      },
      "source": [
        "?"
      ],
      "execution_count": null,
      "outputs": []
    },
    {
      "cell_type": "markdown",
      "metadata": {
        "id": "WsIoTD89RnSH"
      },
      "source": [
        "### <font color='lightblue'>Visualizing the data</font> "
      ]
    },
    {
      "cell_type": "markdown",
      "metadata": {
        "id": "Yi5f6tbMHLjl"
      },
      "source": [
        "Let's plot the relationships between plant type and some of the wine measures.\n",
        " \n",
        "Q: Choose one or more wine measures and generate a plot that shows the relationship between that measure and plant type."
      ]
    },
    {
      "cell_type": "code",
      "metadata": {
        "id": "PP1hbowmH4zH"
      },
      "source": [
        "?"
      ],
      "execution_count": null,
      "outputs": []
    },
    {
      "cell_type": "markdown",
      "metadata": {
        "id": "ozz-07c9RwXe"
      },
      "source": [
        "### <font color='lightblue'>Data wrangling</font> \n",
        "\n"
      ]
    },
    {
      "cell_type": "markdown",
      "metadata": {
        "id": "id3dB2glEi2v"
      },
      "source": [
        "#### Preprocessing (categorical input variables)\\\n",
        "> Convert the categorical 'lab' variable using onehot encoding (i.e., create dummy columns)."
      ]
    },
    {
      "cell_type": "code",
      "metadata": {
        "id": "ty-cDLrJEil-"
      },
      "source": [
        "?"
      ],
      "execution_count": null,
      "outputs": []
    },
    {
      "cell_type": "markdown",
      "metadata": {
        "id": "Q-a14jmIPse1"
      },
      "source": [
        "#### Preprocessing (categorical target variable)\n",
        "> As the target variable is categorical we will convert each category into a number, and unlike the onehot encoding we will keep these numbers within the same column."
      ]
    },
    {
      "cell_type": "code",
      "metadata": {
        "id": "KGA16i5mXUZd"
      },
      "source": [
        "?"
      ],
      "execution_count": null,
      "outputs": []
    },
    {
      "cell_type": "markdown",
      "metadata": {
        "id": "1wngk9w1YMLY"
      },
      "source": [
        "#### Training testing split"
      ]
    },
    {
      "cell_type": "markdown",
      "metadata": {
        "id": "MPPwnrSFKsk-"
      },
      "source": [
        "Here we change a little how we do the data splitting. Instead of spliting the dataframe into training and testing, we'll first split the dataframe into inputs and target variables. I.e., we'd like to use X to predict y. Then we split each into training and testing sets. This makes it easier to work with sklearn algorithms."
      ]
    },
    {
      "cell_type": "code",
      "metadata": {
        "id": "JcziOvoDYO6I"
      },
      "source": [
        "\n",
        "#split data into predictors (X) and target (y)\n",
        "X = df_wine.drop('plant', axis=1)\n",
        "y = df_wine['plant']\n",
        "\n",
        "#split these data into training and testing datasets\n",
        "X_train, X_test, y_train, y_test = train_test_split(X, y, test_size=0.20)\n"
      ],
      "execution_count": null,
      "outputs": []
    },
    {
      "cell_type": "markdown",
      "metadata": {
        "id": "dQFF6vqbH2hX"
      },
      "source": [
        "#### Preprocessing (numeric variables)"
      ]
    },
    {
      "cell_type": "code",
      "metadata": {
        "id": "6VkAXoajH6DV"
      },
      "source": [
        "?"
      ],
      "execution_count": null,
      "outputs": []
    },
    {
      "cell_type": "markdown",
      "metadata": {
        "id": "C0MmbEZ7dq5e"
      },
      "source": [
        "<img src='http://drive.google.com/uc?export=view&id=1qWrKY9TgpgQaBCzZfz1xLTV6iCeSwfmG' width=\"100\" align = 'left'>"
      ]
    },
    {
      "cell_type": "markdown",
      "metadata": {
        "id": "2flRXo0eR_ur"
      },
      "source": [
        "##<font color='lightblue'>Model building</font> \n",
        " "
      ]
    },
    {
      "cell_type": "markdown",
      "metadata": {
        "id": "cekIelOqSG2B"
      },
      "source": [
        "Here we will build our first decision tree!"
      ]
    },
    {
      "cell_type": "code",
      "metadata": {
        "id": "xWRmQuhdSH5h"
      },
      "source": [
        "from sklearn.tree import DecisionTreeClassifier\n",
        "\n",
        "#1. build the algorithm\n",
        "classifier = DecisionTreeClassifier()\n",
        "\n",
        "#2. fit the algorithm to the data\n",
        "classifier_res= classifier.fit(X_train, y_train)\n"
      ],
      "execution_count": null,
      "outputs": []
    },
    {
      "cell_type": "markdown",
      "metadata": {
        "id": "E-gbWapVa6N_"
      },
      "source": [
        "### Predictions"
      ]
    },
    {
      "cell_type": "markdown",
      "metadata": {
        "id": "x1Mwjlurbeux"
      },
      "source": [
        "Make some predictions on the testing data"
      ]
    },
    {
      "cell_type": "code",
      "metadata": {
        "id": "JIKo-fbPbBG7"
      },
      "source": [
        "y_pred = classifier.predict(X_test)"
      ],
      "execution_count": null,
      "outputs": []
    },
    {
      "cell_type": "markdown",
      "metadata": {
        "id": "DEr16lBebd6X"
      },
      "source": [
        "Measure classification success"
      ]
    },
    {
      "cell_type": "code",
      "metadata": {
        "id": "ew9BnKJDblBY"
      },
      "source": [
        "from sklearn.metrics import confusion_matrix\n",
        "cm = confusion_matrix(y_test, y_pred)\n",
        "print(cm)\n"
      ],
      "execution_count": null,
      "outputs": []
    },
    {
      "cell_type": "code",
      "metadata": {
        "id": "rVJQdODwcclq"
      },
      "source": [
        "#more visual approach\n",
        "sns.heatmap(cm, annot=True)\n",
        "plt.xlabel('Predicted label')\n",
        "plt.ylabel('True label')"
      ],
      "execution_count": null,
      "outputs": []
    },
    {
      "cell_type": "markdown",
      "metadata": {
        "id": "xXdo-AEHcnQf"
      },
      "source": [
        "More detailed metrics?"
      ]
    },
    {
      "cell_type": "code",
      "metadata": {
        "id": "bXbkeYN3cqgN"
      },
      "source": [
        "print('Accuracy: {:.2f}'.format(sk.metrics.accuracy_score(y_test, y_pred)))\n",
        "print('Precision: {:.2f}'.format(sk.metrics.precision_score(y_test, y_pred, average='micro')))\n",
        "print('Recal: {:.2f}'.format(sk.metrics.recall_score(y_test, y_pred, average='micro')))"
      ],
      "execution_count": null,
      "outputs": []
    },
    {
      "cell_type": "markdown",
      "metadata": {
        "id": "aocKt6vRdLXv"
      },
      "source": [
        "<img src='http://drive.google.com/uc?export=view&id=1qWrKY9TgpgQaBCzZfz1xLTV6iCeSwfmG' width=\"100\" align = 'left'>"
      ]
    },
    {
      "cell_type": "markdown",
      "metadata": {
        "id": "VCt43JabdIFP"
      },
      "source": [
        "##<font color='lightblue'>Hyperparameters</font> \n",
        " "
      ]
    },
    {
      "cell_type": "markdown",
      "metadata": {
        "id": "i0VQBpYGdn-z"
      },
      "source": [
        "Decision tree algorithms have a number of hyperparameters that can be tuned to acheive better predictions. Let's take a look at one and how we can tune it!\n",
        " \n",
        " "
      ]
    },
    {
      "cell_type": "markdown",
      "metadata": {
        "id": "u8sd8Sjxf3G-"
      },
      "source": [
        "First we need some way to test how model performance varies as we change the parameter. We can't use the testing dataset... if we did it really wouldn't be a good test. I.e., the testing data would be used to help build the model and so would not be independent. "
      ]
    },
    {
      "cell_type": "markdown",
      "metadata": {
        "id": "29gVnbDugQiY"
      },
      "source": [
        "So let's split the training dataset again! This will create training and validation datasets! "
      ]
    },
    {
      "cell_type": "code",
      "metadata": {
        "id": "2-0Z9yLPfMfY"
      },
      "source": [
        "X_hyper_train, X_hyper_val, y_hyper_train, y_hyper_val = train_test_split(X_train, y_train, test_size=0.20)"
      ],
      "execution_count": null,
      "outputs": []
    },
    {
      "cell_type": "markdown",
      "metadata": {
        "id": "NNefL3ZNgXXu"
      },
      "source": [
        "Let's next focus on the max depth parameter, and see if we can find a value that maximizes the performance of the model on the validation dataset."
      ]
    },
    {
      "cell_type": "markdown",
      "metadata": {
        "id": "G6xL8D6zf1Vc"
      },
      "source": [
        "\n",
        "> We'll first build a function that takes as input max depth, and outputs the accuracy score.\n",
        " \n",
        "> We'll then use a loop to try out many max depth scores.\n",
        " \n",
        "> Finally we'll plot the the accuracy scores for each max depth value."
      ]
    },
    {
      "cell_type": "markdown",
      "metadata": {
        "id": "cPk77gYteS0x"
      },
      "source": [
        "Let's first build a function the takes max depth as input and outputs a accuracy score."
      ]
    },
    {
      "cell_type": "code",
      "metadata": {
        "id": "Xj5-cqamdkrL"
      },
      "source": [
        "def fit_decision_tree(maxDep):\n",
        "\n",
        "  #1. build the algorithm\n",
        "  ? = ?(max_depth=maxDep)\n",
        "\n",
        "  #2. Fit the algorithm\n",
        "  ?= ?.fit(X_hyper_train, y_hyper_train)\n",
        "\n",
        "  #3. Make predictions\n",
        "  y_pred = ?(X_hyper_val)\n",
        "\n",
        "  #4. Meausure the accuracy\n",
        "  accuracy_measured = ?(y_hyper_val, y_pred)\n",
        "\n",
        "  return accuracy_measured"
      ],
      "execution_count": null,
      "outputs": []
    },
    {
      "cell_type": "markdown",
      "metadata": {
        "id": "aaViV2XIhBJF"
      },
      "source": [
        "Try out your new function!"
      ]
    },
    {
      "cell_type": "code",
      "metadata": {
        "id": "Y6vG0eNqgxfO"
      },
      "source": [
        "fit_decision_tree(maxDep=4)"
      ],
      "execution_count": null,
      "outputs": []
    },
    {
      "cell_type": "markdown",
      "metadata": {
        "id": "wsTMPU2_hD7D"
      },
      "source": [
        "Next let's build a loop and see what values of max depth give the best results!"
      ]
    },
    {
      "cell_type": "code",
      "metadata": {
        "id": "ZW8cukwLhDi4"
      },
      "source": [
        "acc_scores = []\n",
        "for i in range(1,?):\n",
        "  acc_s = ?(i)\n",
        "  acc_scores.append(?)"
      ],
      "execution_count": null,
      "outputs": []
    },
    {
      "cell_type": "markdown",
      "metadata": {
        "id": "Mv-Vs2EWhX6z"
      },
      "source": [
        "Then let's plot it!"
      ]
    },
    {
      "cell_type": "code",
      "metadata": {
        "id": "p0F17L0ShXod"
      },
      "source": [
        "#create a dataframe\n",
        "df_plot_maxDep = pd.DataFrame({'accuracy':acc_scores, 'maxDep':range(1,10)})\n",
        "\n",
        "#make a plot\n",
        "sns.relplot(?, kind='line')"
      ],
      "execution_count": null,
      "outputs": []
    },
    {
      "cell_type": "markdown",
      "metadata": {
        "id": "J78EywXFZJdd"
      },
      "source": [
        "####<font color='lightblue'>bonus</font> \n",
        " "
      ]
    },
    {
      "cell_type": "markdown",
      "metadata": {
        "id": "a9DFqK7uXocJ"
      },
      "source": [
        "Try this exercise again but this time use min_samples_split. Which is the parameter that defines when splits are no longer considered (e.g., if a leaf has 10 points in it and min_samples_split is 11 then the algorithm will not look to split the leaf.\n",
        "\n"
      ]
    },
    {
      "cell_type": "markdown",
      "metadata": {
        "id": "oI0IEnJlihQb"
      },
      "source": [
        "<img src='http://drive.google.com/uc?export=view&id=1qWrKY9TgpgQaBCzZfz1xLTV6iCeSwfmG' width=\"100\" align = 'left'>"
      ]
    },
    {
      "cell_type": "markdown",
      "metadata": {
        "id": "0nsw2I5da-tH"
      },
      "source": [
        "## <font color='lightblue'>Model interpretation</font> "
      ]
    },
    {
      "cell_type": "markdown",
      "metadata": {
        "id": "YBexKjX6dYsk"
      },
      "source": [
        "Decision trees can offer some nice visuals that can help interpret and communicate your results, lets take a look at a few"
      ]
    },
    {
      "cell_type": "code",
      "metadata": {
        "id": "73ZYQcMIfmiN"
      },
      "source": [
        "!pip install dtreeviz\n",
        "from dtreeviz.trees import dtreeviz "
      ],
      "execution_count": null,
      "outputs": []
    },
    {
      "cell_type": "code",
      "metadata": {
        "id": "-c6XmZvIfVAo"
      },
      "source": [
        "#build the figure\n",
        "viz = dtreeviz(classifier_res, X_train, y_train,\n",
        "                target_name=\"plant\",\n",
        "                feature_names=X_train.columns.to_list(),\n",
        "                class_names={0:'plantA',1:'plantB',2:'plantC'},\n",
        "                scale=1.0)\n",
        "\n",
        "#take a look\n",
        "viz"
      ],
      "execution_count": null,
      "outputs": []
    },
    {
      "cell_type": "markdown",
      "metadata": {
        "id": "x1_3LH25bBdZ"
      },
      "source": [
        "Let's look at how the tree does with the test data"
      ]
    },
    {
      "cell_type": "code",
      "metadata": {
        "id": "0_KikDvjbAuA"
      },
      "source": [
        "#build the figure\n",
        "viz_test = dtreeviz(classifier_res, X_test, y_test,\n",
        "                target_name=\"plant\",\n",
        "                feature_names=X_train.columns.to_list(),\n",
        "                class_names={0:'plantA',1:'plantB',2:'plantC'},\n",
        "                scale=1)\n",
        "\n",
        "#take a look\n",
        "viz_test"
      ],
      "execution_count": null,
      "outputs": []
    },
    {
      "cell_type": "code",
      "metadata": {
        "id": "1qO4lQfTa3yO"
      },
      "source": [
        "#Vizualize one prediction \n",
        "import numpy as np\n",
        "# pick random X test point\n",
        "X_values_for_pred = X_test.iloc[12] #you can choose any other row!\n",
        "\n",
        "X_values_for_pred"
      ],
      "execution_count": null,
      "outputs": []
    },
    {
      "cell_type": "code",
      "metadata": {
        "id": "L0XdYC31cU7s"
      },
      "source": [
        "#build the figure\n",
        "viz_one_pred = dtreeviz(classifier_res, X_train, y_train,\n",
        "                target_name=\"plant\",\n",
        "                feature_names=X_train.columns.to_list(),\n",
        "                class_names={0:'plantA',1:'plantB',2:'plantC'},\n",
        "                scale=0.75,\n",
        "                X=X_values_for_pred)\n",
        "\n",
        "#take a look\n",
        "viz_one_pred"
      ],
      "execution_count": null,
      "outputs": []
    },
    {
      "cell_type": "code",
      "metadata": {
        "id": "ET3QSQKUcoh-"
      },
      "source": [
        "y_test.iloc[12]"
      ],
      "execution_count": null,
      "outputs": []
    },
    {
      "cell_type": "markdown",
      "metadata": {
        "id": "AiraBYwQ5Awh"
      },
      "source": [
        "## <font color='lightblue'>Bonus 2</font> "
      ]
    },
    {
      "cell_type": "markdown",
      "metadata": {
        "id": "TP_Pgh9n9Pcw"
      },
      "source": [
        "Now that you know how to use decision tree models, try going back to one of the datasets we've already worked on and see if you can get better predictions? Can you still explain what features are helping you to make those predictions?"
      ]
    },
    {
      "cell_type": "code",
      "metadata": {
        "id": "i-YZRflb9jAC"
      },
      "source": [
        "#load a dataset"
      ],
      "execution_count": null,
      "outputs": []
    }
  ]
}