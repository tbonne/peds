{
  "nbformat": 4,
  "nbformat_minor": 0,
  "metadata": {
    "colab": {
      "name": "IntroCausalAnalysis.ipynb",
      "provenance": [],
      "collapsed_sections": [],
      "mount_file_id": "1ZSejLEaSqtPw_BnKWwNvlKloiaTPp-zf",
      "authorship_tag": "ABX9TyN3HQqgWw6dGvAp7C4PrcfC",
      "include_colab_link": true
    },
    "kernelspec": {
      "name": "python3",
      "display_name": "Python 3"
    },
    "language_info": {
      "name": "python"
    }
  },
  "cells": [
    {
      "cell_type": "markdown",
      "metadata": {
        "id": "view-in-github",
        "colab_type": "text"
      },
      "source": [
        "<a href=\"https://colab.research.google.com/github/tbonne/IntroDataScience/blob/main/InClassNotebooks/IntroCausalAnalysis.ipynb\" target=\"_parent\"><img src=\"https://colab.research.google.com/assets/colab-badge.svg\" alt=\"Open In Colab\"/></a>"
      ]
    },
    {
      "cell_type": "markdown",
      "metadata": {
        "id": "9C2arduFECBl"
      },
      "source": [
        "<img src='http://drive.google.com/uc?export=view&id=1gfef2jOOS8IuF0L-2yYmx2D0eEEmZwQs' width=500>\n"
      ]
    },
    {
      "cell_type": "markdown",
      "metadata": {
        "id": "BQpnBRMDe_mB"
      },
      "source": [
        "# <font color='lightblue'>Explainability vs Causality</font>\n",
        "\n",
        "\n",
        "Here we will look at the difference between understanding how the ML model is making predictions (explainability) and what is causing the outcome (causality)\n"
      ]
    },
    {
      "cell_type": "markdown",
      "metadata": {
        "id": "yFmN1aLjfVej"
      },
      "source": [
        "To do so we will look at a silly example where we know that the patterns picked up by the model are not causal.\n"
      ]
    },
    {
      "cell_type": "markdown",
      "metadata": {
        "id": "H4-8qJBvfiL1"
      },
      "source": [
        "## <font color='lightblue'>Waffle houses and divorce rates</font>\n"
      ]
    },
    {
      "cell_type": "code",
      "metadata": {
        "id": "R6oL7k7uftq4"
      },
      "source": [
        "import pandas as pd\n",
        "import sklearn as sk\n",
        "import seaborn as sns\n",
        "from matplotlib import pyplot as plt\n",
        "from sklearn.model_selection import train_test_split"
      ],
      "execution_count": null,
      "outputs": []
    },
    {
      "cell_type": "markdown",
      "metadata": {
        "id": "GZ7MxOMHflXV"
      },
      "source": [
        "Load the data"
      ]
    },
    {
      "cell_type": "code",
      "metadata": {
        "id": "5NHlsf8GeMWW"
      },
      "source": [
        "#load data\n",
        "df_waffles = pd.read_csv(\"/content/waffles.csv\")\n",
        "\n",
        "#take a look\n",
        "df_waffles.head()"
      ],
      "execution_count": null,
      "outputs": []
    },
    {
      "cell_type": "markdown",
      "metadata": {
        "id": "FovWxCFQkiTn"
      },
      "source": [
        "Visualize the data"
      ]
    },
    {
      "cell_type": "code",
      "metadata": {
        "id": "Lm36a2uZmIW5"
      },
      "source": [
        "#sort the dataframe\n",
        "pd_df = df_waffles.sort_values(['Divorce']).reset_index(drop=True)\n",
        "\n",
        "#plot by state\n",
        "sns.barplot(data=pd_df, x=\"Loc\",y=\"Divorce\")\n",
        "plt.xticks(rotation=90)"
      ],
      "execution_count": null,
      "outputs": []
    },
    {
      "cell_type": "markdown",
      "metadata": {
        "id": "GMJVKC1ckysB"
      },
      "source": [
        "### <font color='lightblue'>Do whaffle houses cause divorce?</font>\n"
      ]
    },
    {
      "cell_type": "code",
      "metadata": {
        "id": "8ByGVB4fLmIG"
      },
      "source": [
        "#correlation\n",
        "?"
      ],
      "execution_count": null,
      "outputs": []
    },
    {
      "cell_type": "code",
      "metadata": {
        "id": "GUnoEdV7AZLP"
      },
      "source": [
        "#scatter plot\n",
        "sns.?(data=?, x=\"WaffleHouses\", y=\"Divorce\" )\n"
      ],
      "execution_count": null,
      "outputs": []
    },
    {
      "cell_type": "markdown",
      "metadata": {
        "id": "lKdW7X6B0epK"
      },
      "source": [
        "Data wrangling"
      ]
    },
    {
      "cell_type": "code",
      "metadata": {
        "id": "7uuaVICoRlMs"
      },
      "source": [
        "#split these data into training and testing datasets\n",
        "df_train, df_test = train_test_split(df_waffles, test_size=0.20, random_state=14)"
      ],
      "execution_count": null,
      "outputs": []
    },
    {
      "cell_type": "markdown",
      "metadata": {
        "id": "OAk0s-hKmH7i"
      },
      "source": [
        "### <font color='lightblue'>Build a model</font>\n",
        "\n",
        "Can we predict divorce rates based on:\n",
        "1. population\n",
        "2. marage rates (more mariage more divorce)\n",
        "3. Median age at marriage\n",
        "4. Number of waffle houses"
      ]
    },
    {
      "cell_type": "markdown",
      "metadata": {
        "id": "GTUwaLV9HdvV"
      },
      "source": [
        "<img src='http://drive.google.com/uc?export=view&id=1WC4tXGCEF-1_2LQ74gIxJAZ-GLXCwBdK' width=\"100\" align = 'left'>  "
      ]
    },
    {
      "cell_type": "markdown",
      "metadata": {
        "id": "eqXwuYoe8Va9"
      },
      "source": [
        "Build a linear regression predicting Divorce using wafflehouses."
      ]
    },
    {
      "cell_type": "code",
      "metadata": {
        "id": "eHrG5Z1lRJ5q"
      },
      "source": [
        "import statsmodels.api as sm #for running regression!\n",
        "import statsmodels.formula.api as smf\n",
        "\n",
        "#1. Build the model\n",
        "?\n",
        "\n",
        "#2. Use the data to fit the model (i.e., find the best intercept and slope parameters)\n",
        "?\n",
        "\n",
        "#Look summary\n",
        "?"
      ],
      "execution_count": null,
      "outputs": []
    },
    {
      "cell_type": "markdown",
      "metadata": {
        "id": "-l9Slvyc72dT"
      },
      "source": [
        "### <font color='lightblue'>Fit the model again, this time add the South variable</font>"
      ]
    },
    {
      "cell_type": "code",
      "metadata": {
        "id": "mweD6mtJSYPh"
      },
      "source": [
        "#Build the model\n",
        "?\n",
        "\n",
        "#Use the data to fit the model (i.e., find the best intercept and slope parameters)\n",
        "?\n",
        "\n",
        "#summary\n",
        "?"
      ],
      "execution_count": null,
      "outputs": []
    },
    {
      "cell_type": "markdown",
      "metadata": {
        "id": "NK_IenAS48i1"
      },
      "source": [
        "#### <font color='lightblue'>Bonus</font>"
      ]
    },
    {
      "cell_type": "markdown",
      "metadata": {
        "id": "9lEDh3SO4_4u"
      },
      "source": [
        "Try to run the models with alternative combinations of variables? How does the model estimate of the effect of wafflehouses on divorce change?"
      ]
    },
    {
      "cell_type": "markdown",
      "metadata": {
        "id": "KgxVHlWrjkry"
      },
      "source": [
        "### <font color='lightblue'>Statistical confounds</font>\n",
        "\n",
        "> Statistical confounds make it hard to determine the causal nature of the patterns we find in ML model results. We need to be careful about how we explain how a model makes predictions and the causal nature of those patterns.\n",
        "\n",
        "> In the case of the whaffle houses and divorce rates, there are just more waffle houses in southern states. South --> wafflehouses --> Divorce rates"
      ]
    },
    {
      "cell_type": "code",
      "metadata": {
        "id": "xsWU8gAgkGUo"
      },
      "source": [
        "sns.boxplot(data=df_waffles, x=\"South\", y=\"WaffleHouses\")"
      ],
      "execution_count": null,
      "outputs": []
    },
    {
      "cell_type": "markdown",
      "metadata": {
        "id": "ZZmp46mF7reu"
      },
      "source": [
        "### <font color='lightblue'>Let's see what feature importance suggests</font>"
      ]
    },
    {
      "cell_type": "markdown",
      "metadata": {
        "id": "aXmjmKWK4Bnh"
      },
      "source": [
        "<img src='http://drive.google.com/uc?export=view&id=1WC4tXGCEF-1_2LQ74gIxJAZ-GLXCwBdK' width=\"100\" align = 'left'>  "
      ]
    },
    {
      "cell_type": "code",
      "metadata": {
        "id": "r9PhBzfXO26O"
      },
      "source": [
        "from sklearn.linear_model import LinearRegression\n",
        "from sklearn.inspection import permutation_importance\n",
        "\n",
        "#split data into predictors (X) and target (y)\n",
        "X = df_waffles.drop(['Divorce','Location','Loc'],axis=1)\n",
        "y = df_waffles['Divorce']\n",
        "\n",
        "#split these data into training and testing datasets\n",
        "X_train, X_test, y_train, y_test = train_test_split(X, y, test_size=0.20)\n",
        "\n",
        "#fit linear regression\n",
        "LR1 = LinearRegression()\n",
        "LR1.fit(X_train, y_train)\n",
        "\n",
        "#model interpretation\n",
        "rel_impo = permutation_importance(LR1, X_test, y_test,n_repeats=30,random_state=0)\n",
        "pd.DataFrame({\"feature\":X_test.columns,\"importance\":rel_impo.importances_mean, \"sd\":rel_impo.importances_std})"
      ],
      "execution_count": null,
      "outputs": []
    },
    {
      "cell_type": "markdown",
      "metadata": {
        "id": "md1RcfQv8iJp"
      },
      "source": [
        "### <font color='lightblue'>Let's see what feature selection suggests</font>"
      ]
    },
    {
      "cell_type": "code",
      "metadata": {
        "id": "yp9Zr-3C80AC"
      },
      "source": [
        "from sklearn.model_selection import KFold\n",
        "from sklearn.feature_selection import RFECV\n",
        "\n",
        "#split data into predictors (X) and target (y)\n",
        "X = df_waffles.drop(['Divorce','Location','Loc'], axis=1)\n",
        "y = df_waffles['Divorce']\n",
        "\n",
        "#split these data into training and testing datasets\n",
        "X_train, X_test, y_train, y_test = train_test_split(X, y, test_size=0.20)\n",
        "\n",
        "#build a linear regression (full model)\n",
        "LR1 = LinearRegression()\n",
        "\n",
        "#fit linear regression\n",
        "LR1.fit(X_train, y_train)"
      ],
      "execution_count": null,
      "outputs": []
    },
    {
      "cell_type": "code",
      "metadata": {
        "id": "qLvRgura9lSE"
      },
      "source": [
        "#min number of variables/features\n",
        "min_features_to_select = 1\n",
        "\n",
        "#build the feature selection algorithm\n",
        "rfecv = RFECV(estimator=LR1, step=1, cv=3,scoring='neg_mean_squared_error', min_features_to_select=min_features_to_select)\n",
        "\n",
        "#fit the algorithm to the data\n",
        "rfecv.fit(X_train, y_train)"
      ],
      "execution_count": null,
      "outputs": []
    },
    {
      "cell_type": "code",
      "metadata": {
        "id": "FSObYPwA80AR"
      },
      "source": [
        "print(\"Optimal number of features : %d\" % rfecv.n_features_)\n",
        "\n",
        "# Plot number of features VS. cross-validation scores\n",
        "plt.figure()\n",
        "plt.xlabel(\"Number of features selected\")\n",
        "plt.ylabel(\"Cross validation score (mean square error?)\")\n",
        "plt.plot(range(min_features_to_select,\n",
        "               len(rfecv.grid_scores_) + min_features_to_select),\n",
        "         rfecv.grid_scores_)\n",
        "plt.show()"
      ],
      "execution_count": null,
      "outputs": []
    },
    {
      "cell_type": "code",
      "metadata": {
        "id": "XfXCCK-q80AS"
      },
      "source": [
        "rfecv.support_"
      ],
      "execution_count": null,
      "outputs": []
    },
    {
      "cell_type": "code",
      "metadata": {
        "id": "3f-RxGiU80AS"
      },
      "source": [
        "X_train_reduced = X_train.iloc[:,rfecv.support_]\n",
        "\n",
        "X_train_reduced.head(3)"
      ],
      "execution_count": null,
      "outputs": []
    },
    {
      "cell_type": "code",
      "metadata": {
        "id": "5E1zJmWw-Oox"
      },
      "source": [
        "#get the slopes!\n",
        "rfecv.estimator_.coef_"
      ],
      "execution_count": null,
      "outputs": []
    },
    {
      "cell_type": "markdown",
      "metadata": {
        "id": "rhsmIwF-OoJU"
      },
      "source": [
        "#### <font color='lightblue'>Bonus</font>"
      ]
    },
    {
      "cell_type": "markdown",
      "metadata": {
        "id": "rTOtIGZmOqsF"
      },
      "source": [
        "Redo the exercise above this time using a more black box approach, e.g., Random Forest!"
      ]
    }
  ]
}