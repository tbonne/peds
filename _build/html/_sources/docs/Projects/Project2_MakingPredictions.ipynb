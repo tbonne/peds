{
  "nbformat": 4,
  "nbformat_minor": 2,
  "metadata": {
    "colab": {
      "name": "Project2_MakingPredictions.ipynb",
      "provenance": [],
      "collapsed_sections": [],
      "mount_file_id": "1R49MCyzdNfH9lVkC2Fum1xi63d5aUXtg",
      "authorship_tag": "ABX9TyOR+2h+X/Lmvtc4hWrqMBh2",
      "include_colab_link": true
    },
    "kernelspec": {
      "name": "python3",
      "display_name": "Python 3"
    }
  },
  "cells": [
    {
      "cell_type": "markdown",
      "source": [
        "<a href=\"https://colab.research.google.com/github/tbonne/IntroDataScience/blob/main/Projects/Project2_MakingPredictions.ipynb\" target=\"_parent\"><img src=\"https://colab.research.google.com/assets/colab-badge.svg\" alt=\"Open In Colab\"/></a>"
      ],
      "metadata": {
        "id": "view-in-github",
        "colab_type": "text"
      }
    },
    {
      "cell_type": "markdown",
      "source": [
        "<img src='http://drive.google.com/uc?export=view&id=1ZhMMgLVVc2Tm79BanxAusgHB51pgC6iL'>"
      ],
      "metadata": {
        "id": "DqPzbMV5v_NQ"
      }
    },
    {
      "cell_type": "markdown",
      "source": [
        "## <font color='darkorange'>Project 2 - Making Predictions</font>"
      ],
      "metadata": {
        "id": "vAAwrni29gHo"
      }
    },
    {
      "cell_type": "markdown",
      "source": [
        "In this project you will build a model to make predictions. This project will build on your exploritory data analyitic (EDA) skills. You may choose to use the datasets you used with project 1 or move to another dataset. \n",
        "\n",
        "In this project you will:\n",
        "\n",
        "1.  Develop an understanding of the dataset\n",
        "2.  Do exploritory data analysis and visualzation\n",
        "3.  Do some data preprocessing\n",
        "4.  Build a predictive model \n",
        "5.  Measure the performance of your model\n",
        "6.  Summarize and interpret your results\n",
        "\n"
      ],
      "metadata": {
        "id": "jyHOvgcK2Oj0"
      }
    },
    {
      "cell_type": "markdown",
      "source": [
        "**Action:** Import python libraries\n"
      ],
      "metadata": {
        "id": "wBv_U2EwAWFS"
      }
    },
    {
      "cell_type": "code",
      "execution_count": null,
      "source": [],
      "outputs": [],
      "metadata": {
        "id": "npo0C3reAbqn"
      }
    },
    {
      "cell_type": "markdown",
      "source": [
        "### <font color='darkorange'>1. Data Understanding </font>"
      ],
      "metadata": {
        "id": "KvGK8HSV-lql"
      }
    },
    {
      "cell_type": "markdown",
      "source": [
        "**Action:** Import your data into colaboratory.\n"
      ],
      "metadata": {
        "id": "M2r3E549wJZL"
      }
    },
    {
      "cell_type": "code",
      "execution_count": null,
      "source": [],
      "outputs": [],
      "metadata": {
        "id": "sobqsVEo4tyE"
      }
    },
    {
      "cell_type": "markdown",
      "source": [
        "**Action:** Determine the types of data are you dealing with & handle missing data (if there is any!). *Marks (0.5)*"
      ],
      "metadata": {
        "id": "BFMyKInr-YxM"
      }
    },
    {
      "cell_type": "code",
      "execution_count": null,
      "source": [],
      "outputs": [],
      "metadata": {
        "id": "FXVrpZ9Z-hfX"
      }
    },
    {
      "cell_type": "markdown",
      "source": [
        "**Action:** Estimate the summary statistics of some of the key variables. *Marks (0.5)*"
      ],
      "metadata": {
        "id": "1k9BmJYr-cqt"
      }
    },
    {
      "cell_type": "code",
      "execution_count": null,
      "source": [],
      "outputs": [],
      "metadata": {
        "id": "FSJIADa1-gKi"
      }
    },
    {
      "cell_type": "markdown",
      "source": [
        "### <font color='darkorange'>2. Data Exploration and Visualization </font>"
      ],
      "metadata": {
        "id": "9bKY19_k-tlK"
      }
    },
    {
      "cell_type": "markdown",
      "source": [
        "**Action:** Visualize 1- the distribution of values for some key variables, and 2- the relationships between key variables. Remember to add text that walks a reader through what you found. *Marks: 2*"
      ],
      "metadata": {
        "id": "Qz3sEa35-yva"
      }
    },
    {
      "cell_type": "code",
      "execution_count": null,
      "source": [],
      "outputs": [],
      "metadata": {
        "id": "AtEp7bth-2hF"
      }
    },
    {
      "cell_type": "markdown",
      "source": [
        "**Action:** Use correlation to estimate the relationship between some of the key variables. Remember to add text that helps a reader interpret the correlations. *Marks: 1* "
      ],
      "metadata": {
        "id": "8YYsjvaB-27-"
      }
    },
    {
      "cell_type": "code",
      "execution_count": null,
      "source": [],
      "outputs": [],
      "metadata": {
        "id": "lMeA3Tdx_NY3"
      }
    },
    {
      "cell_type": "markdown",
      "source": [
        "### <font color='darkorange'>3. Data preprocessing </font>"
      ],
      "metadata": {
        "id": "p6skEOWhAKDQ"
      }
    },
    {
      "cell_type": "markdown",
      "source": [
        "**Action:** Do you need to apply any preprocessing steps? E.g., convert a binary variable to 1/0, or use one-hot encoding to convert categorical variables? Apply at least one preprocessing step, and explain why you used it. *Marks: 2*"
      ],
      "metadata": {
        "id": "BMABXnk6AUDB"
      }
    },
    {
      "cell_type": "code",
      "execution_count": null,
      "source": [],
      "outputs": [],
      "metadata": {
        "id": "eX5ZT6sFBUC0"
      }
    },
    {
      "cell_type": "markdown",
      "source": [
        "**Action:** Split your data into training and testing datasets *Marks: 1*"
      ],
      "metadata": {
        "id": "i5ctJ1w-BTTW"
      }
    },
    {
      "cell_type": "code",
      "execution_count": null,
      "source": [],
      "outputs": [],
      "metadata": {
        "id": "4QCvqICNBUie"
      }
    },
    {
      "cell_type": "markdown",
      "source": [
        "**Action: (optional)** Scale any numeric variables. If you have no binary or categorical variables that need transforming, scaling will count towards your marks for your preprocessing step."
      ],
      "metadata": {
        "id": "n6O_YWGDBi8k"
      }
    },
    {
      "cell_type": "code",
      "execution_count": null,
      "source": [],
      "outputs": [],
      "metadata": {
        "id": "t4eOtTprCBw7"
      }
    },
    {
      "cell_type": "markdown",
      "source": [
        "### <font color='darkorange'>4. Build a model</font>\n",
        "\n"
      ],
      "metadata": {
        "id": "D8nlQspTG8Ll"
      }
    },
    {
      "cell_type": "markdown",
      "source": [
        "**Action:** Use your training dataset to build a model with the goal of predicting a target variable. *Marks: 2*"
      ],
      "metadata": {
        "id": "n1Srx5ZCBFA9"
      }
    },
    {
      "cell_type": "code",
      "execution_count": null,
      "source": [],
      "outputs": [],
      "metadata": {
        "id": "Qif0JPCmBFU1"
      }
    },
    {
      "cell_type": "markdown",
      "source": [
        "### <font color='darkorange'>5. Measure performance</font>"
      ],
      "metadata": {
        "id": "00Xex47wBGt0"
      }
    },
    {
      "cell_type": "markdown",
      "source": [
        "**Action:** Use your testing dataset to estimate the performance of your model. Add text describing what kind of measure you used. *Marks: 2*"
      ],
      "metadata": {
        "id": "kLkpINmzCWJq"
      }
    },
    {
      "cell_type": "code",
      "execution_count": null,
      "source": [],
      "outputs": [],
      "metadata": {
        "id": "0f7BQslOCVTe"
      }
    },
    {
      "cell_type": "markdown",
      "source": [
        "### <font color='darkorange'>6. Discussion and interpretation</font>"
      ],
      "metadata": {
        "id": "DBudKPp1BP3G"
      }
    },
    {
      "cell_type": "markdown",
      "source": [
        "**Q1:** \n",
        "> What have you learnt about the ability to model and predict your variable of interest? *Marks: 1*\n",
        " \n",
        "> What variables are responsible for the predictive ability of your model, and what does your model suggest about the relationships these variables have with your target variable? (i.e., think magnitude and sign of each effect). *Marks: 2*\n",
        " \n",
        "> How did these relationships generalize to the with-held sample (i.e., testing data sample)? *Marks: 1*"
      ],
      "metadata": {
        "id": "YPRIFmPJBFlZ"
      }
    }
  ]
}