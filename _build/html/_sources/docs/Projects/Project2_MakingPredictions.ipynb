{
  "nbformat": 4,
  "nbformat_minor": 0,
  "metadata": {
    "colab": {
      "name": "Project2_MakingPredictions.ipynb",
      "provenance": [],
      "collapsed_sections": [],
      "mount_file_id": "1R49MCyzdNfH9lVkC2Fum1xi63d5aUXtg",
      "authorship_tag": "ABX9TyOR+2h+X/Lmvtc4hWrqMBh2",
      "include_colab_link": true
    },
    "kernelspec": {
      "name": "python3",
      "display_name": "Python 3"
    }
  },
  "cells": [
    {
      "cell_type": "markdown",
      "metadata": {
        "id": "view-in-github",
        "colab_type": "text"
      },
      "source": [
        "<a href=\"https://colab.research.google.com/github/tbonne/IntroDataScience/blob/main/Projects/Project2_MakingPredictions.ipynb\" target=\"_parent\"><img src=\"https://colab.research.google.com/assets/colab-badge.svg\" alt=\"Open In Colab\"/></a>"
      ]
    },
    {
      "cell_type": "markdown",
      "metadata": {
        "id": "DqPzbMV5v_NQ"
      },
      "source": [
        "<img src='http://drive.google.com/uc?export=view&id=1ZhMMgLVVc2Tm79BanxAusgHB51pgC6iL'>"
      ]
    },
    {
      "cell_type": "markdown",
      "metadata": {
        "id": "vAAwrni29gHo"
      },
      "source": [
        "# <font color='lightblue'>Making Predictions</font>"
      ]
    },
    {
      "cell_type": "markdown",
      "metadata": {
        "id": "jyHOvgcK2Oj0"
      },
      "source": [
        "In this project you will build a model to make predictions. This project will build on your exploritory data analyitic (EDA) skills. You may choose to use the datasets you used with project 1 or move to another dataset. \n",
        "\n",
        "In this project you will:\n",
        "\n",
        "1.  Develop an understanding of the dataset\n",
        "2.  Do exploritory data analysis and visualzation\n",
        "3.  Do some data preprocessing\n",
        "4.  Build a predictive model \n",
        "5.  Measure the performance of your model\n",
        "6.  Summarize and interpret your results\n",
        "\n"
      ]
    },
    {
      "cell_type": "markdown",
      "metadata": {
        "id": "wBv_U2EwAWFS"
      },
      "source": [
        "**Action:** Import python libraries\n"
      ]
    },
    {
      "cell_type": "code",
      "metadata": {
        "id": "npo0C3reAbqn"
      },
      "source": [
        ""
      ],
      "execution_count": null,
      "outputs": []
    },
    {
      "cell_type": "markdown",
      "metadata": {
        "id": "KvGK8HSV-lql"
      },
      "source": [
        "## <font color='lightblue'>1. Data Understanding </font>"
      ]
    },
    {
      "cell_type": "markdown",
      "metadata": {
        "id": "M2r3E549wJZL"
      },
      "source": [
        "**Action:** Import your data into colaboratory.\n"
      ]
    },
    {
      "cell_type": "code",
      "metadata": {
        "id": "sobqsVEo4tyE"
      },
      "source": [
        ""
      ],
      "execution_count": null,
      "outputs": []
    },
    {
      "cell_type": "markdown",
      "metadata": {
        "id": "BFMyKInr-YxM"
      },
      "source": [
        "**Action:** Determine the types of data are you dealing with & handle missing data (if there is any!). *Marks (0.5)*"
      ]
    },
    {
      "cell_type": "code",
      "metadata": {
        "id": "FXVrpZ9Z-hfX"
      },
      "source": [
        ""
      ],
      "execution_count": null,
      "outputs": []
    },
    {
      "cell_type": "markdown",
      "metadata": {
        "id": "1k9BmJYr-cqt"
      },
      "source": [
        "**Action:** Estimate the summary statistics of some of the key variables. *Marks (0.5)*"
      ]
    },
    {
      "cell_type": "code",
      "metadata": {
        "id": "FSJIADa1-gKi"
      },
      "source": [
        ""
      ],
      "execution_count": null,
      "outputs": []
    },
    {
      "cell_type": "markdown",
      "metadata": {
        "id": "9bKY19_k-tlK"
      },
      "source": [
        "## <font color='lightblue'>2. Data Exploration and Visualization </font>"
      ]
    },
    {
      "cell_type": "markdown",
      "metadata": {
        "id": "Qz3sEa35-yva"
      },
      "source": [
        "**Action:** Visualize 1- the distribution of values for some key variables, and 2- the relationships between key variables. Remember to add text that walks a reader through what you found. *Marks: 2*"
      ]
    },
    {
      "cell_type": "code",
      "metadata": {
        "id": "AtEp7bth-2hF"
      },
      "source": [
        ""
      ],
      "execution_count": null,
      "outputs": []
    },
    {
      "cell_type": "markdown",
      "metadata": {
        "id": "8YYsjvaB-27-"
      },
      "source": [
        "**Action:** Use correlation to estimate the relationship between some of the key variables. Remember to add text that helps a reader interpret the correlations. *Marks: 1* "
      ]
    },
    {
      "cell_type": "code",
      "metadata": {
        "id": "lMeA3Tdx_NY3"
      },
      "source": [
        ""
      ],
      "execution_count": null,
      "outputs": []
    },
    {
      "cell_type": "markdown",
      "metadata": {
        "id": "p6skEOWhAKDQ"
      },
      "source": [
        "## <font color='lightblue'>3. Data preprocessing </font>"
      ]
    },
    {
      "cell_type": "markdown",
      "metadata": {
        "id": "BMABXnk6AUDB"
      },
      "source": [
        "**Action:** Do you need to apply any preprocessing steps? E.g., convert a binary variable to 1/0, or use one-hot encoding to convert categorical variables? Apply at least one preprocessing step, and explain why you used it. *Marks: 2*"
      ]
    },
    {
      "cell_type": "code",
      "metadata": {
        "id": "eX5ZT6sFBUC0"
      },
      "source": [
        ""
      ],
      "execution_count": null,
      "outputs": []
    },
    {
      "cell_type": "markdown",
      "metadata": {
        "id": "i5ctJ1w-BTTW"
      },
      "source": [
        "**Action:** Split your data into training and testing datasets *Marks: 1*"
      ]
    },
    {
      "cell_type": "code",
      "metadata": {
        "id": "4QCvqICNBUie"
      },
      "source": [
        ""
      ],
      "execution_count": null,
      "outputs": []
    },
    {
      "cell_type": "markdown",
      "metadata": {
        "id": "n6O_YWGDBi8k"
      },
      "source": [
        "**Action: (optional)** Scale any numeric variables. If you have no binary or categorical variables that need transforming, scaling will count towards your marks for your preprocessing step."
      ]
    },
    {
      "cell_type": "code",
      "metadata": {
        "id": "t4eOtTprCBw7"
      },
      "source": [
        ""
      ],
      "execution_count": null,
      "outputs": []
    },
    {
      "cell_type": "markdown",
      "metadata": {
        "id": "D8nlQspTG8Ll"
      },
      "source": [
        "## <font color='lightblue'>4. Build a model</font>\n",
        "\n"
      ]
    },
    {
      "cell_type": "markdown",
      "metadata": {
        "id": "n1Srx5ZCBFA9"
      },
      "source": [
        "**Action:** Use your training dataset to build a model with the goal of predicting a target variable. *Marks: 2*"
      ]
    },
    {
      "cell_type": "code",
      "metadata": {
        "id": "Qif0JPCmBFU1"
      },
      "source": [
        ""
      ],
      "execution_count": null,
      "outputs": []
    },
    {
      "cell_type": "markdown",
      "metadata": {
        "id": "00Xex47wBGt0"
      },
      "source": [
        "## <font color='lightblue'>5. Measure performance</font>"
      ]
    },
    {
      "cell_type": "markdown",
      "metadata": {
        "id": "kLkpINmzCWJq"
      },
      "source": [
        "**Action:** Use your testing dataset to estimate the performance of your model. Add text describing what kind of measure you used. *Marks: 2*"
      ]
    },
    {
      "cell_type": "code",
      "metadata": {
        "id": "0f7BQslOCVTe"
      },
      "source": [
        ""
      ],
      "execution_count": null,
      "outputs": []
    },
    {
      "cell_type": "markdown",
      "metadata": {
        "id": "DBudKPp1BP3G"
      },
      "source": [
        "## <font color='lightblue'>6. Discussion and interpretation</font>"
      ]
    },
    {
      "cell_type": "markdown",
      "metadata": {
        "id": "YPRIFmPJBFlZ"
      },
      "source": [
        "**Q1:** \n",
        "> What have you learnt about the ability to model and predict your variable of interest? *Marks: 1*\n",
        " \n",
        "> What variables are responsible for the predictive ability of your model, and what does your model suggest about the relationships these variables have with your target variable? (i.e., think magnitude and sign of each effect). *Marks: 2*\n",
        " \n",
        "> How did these relationships generalize to the with-held sample (i.e., testing data sample)? *Marks: 1*"
      ]
    }
  ]
}