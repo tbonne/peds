{
  "cells": [
    {
      "cell_type": "markdown",
      "metadata": {
        "colab_type": "text",
        "id": "view-in-github"
      },
      "source": [
        "<a href=\"https://colab.research.google.com/github/tbonne/IntroDataScience/blob/main/Projects/Project3_AnsweringQuestions.ipynb\" target=\"_parent\"><img src=\"https://colab.research.google.com/assets/colab-badge.svg\" alt=\"Open In Colab\"/></a>"
      ]
    },
    {
      "cell_type": "markdown",
      "metadata": {
        "id": "DqPzbMV5v_NQ"
      },
      "source": [
        "<p align=\"center\">\n",
        "  <img src=\"https://raw.githubusercontent.com/tbonne/peds/main/images/decision-making.jpg\" width=\"500\" alt=\"colab\">\n",
        "</p>"
      ]
    },
    {
      "cell_type": "markdown",
      "metadata": {
        "id": "vAAwrni29gHo"
      },
      "source": [
        "## <font color='darkorange'>Project 3 - Answering Questions</font>"
      ]
    },
    {
      "cell_type": "markdown",
      "metadata": {
        "id": "jyHOvgcK2Oj0"
      },
      "source": [
        "In this project you will use all you learnt about in the class to answer a question. Imagine you are part of a team and you have been assigned a question to answer, build a notebook that you would be able to share with your team that shows what you found. \n",
        "\n",
        "In this project you will:\n",
        "\n",
        "1.  Introduce your question of interest\n",
        "2.  Make sure your reader knows enough about the data\n",
        "3.  Wrangle and preprocess your data so that a team mate can reproduce your work\n",
        "4.  Build and test a model that can provide insight into your question\n",
        "5.  Interpret your model results\n",
        "6.  Answer your question\n",
        "\n"
      ]
    },
    {
      "cell_type": "markdown",
      "metadata": {
        "id": "VOM6_Dwe6MnH"
      },
      "source": [
        "Note: Marks will be awarded for clarity, organization, and succinctness. I.e., try to point out only the important parts in a well-organized easy to follow manner. (Marks: 3)"
      ]
    },
    {
      "cell_type": "markdown",
      "metadata": {
        "id": "WyyfflcQzGjr"
      },
      "source": [
        "### <font color='darkorange'>Ask a question </font>"
      ]
    },
    {
      "cell_type": "markdown",
      "metadata": {
        "id": "gl-8v0MLzLj_"
      },
      "source": [
        "**Q1**: Layout your question of interest. Remember to state your question as clearly and simply as you can (Mark 1), and what your ideal outcome would be (Marks 1).\n",
        "\n",
        "**Q2**: Identify and describe what data sources you'll use (Marks 1). Make sure to talk about one of the following: data accuracy, reliability, validity, or sample selection. (Marks: 1)\n",
        "\n",
        "**Q3**: Layout what kind of ML problem you are facing and what kind of model you'll use to answer it (eg., is it unsupervised or supervised learning, and is it classification or regression). Make sure to say why. (Marks 1)"
      ]
    },
    {
      "cell_type": "markdown",
      "metadata": {
        "id": "KvGK8HSV-lql"
      },
      "source": [
        "### <font color='darkorange'>Data understanding, exploration, and visualization </font>"
      ]
    },
    {
      "cell_type": "markdown",
      "metadata": {
        "id": "TdJ8XvUN0lQK"
      },
      "source": [
        "**Action**: While above you gave an overview of the dataset(s) that will be used, here make sure that the reader understands the important details of the data. E.g., show a figure or descriptive statistic and explain why the reader should know about this, i.e., how will it help your reader understand your analysis? (Marks: 2)"
      ]
    },
    {
      "cell_type": "code",
      "execution_count": null,
      "metadata": {
        "id": "m8LXjN351_NS"
      },
      "outputs": [],
      "source": []
    },
    {
      "cell_type": "markdown",
      "metadata": {
        "id": "p6skEOWhAKDQ"
      },
      "source": [
        "### <font color='darkorange'>Data wrangling and preprocessing </font>"
      ]
    },
    {
      "cell_type": "markdown",
      "metadata": {
        "id": "WMte_Mry1l2T"
      },
      "source": [
        "**Action**: Layout all your data wrangling and preprocessing steps so that a reader will understand why you took each step, and would be able to reproduce your steps. (Marks: 3)"
      ]
    },
    {
      "cell_type": "code",
      "execution_count": null,
      "metadata": {
        "id": "KtHyLG1B1_-s"
      },
      "outputs": [],
      "source": []
    },
    {
      "cell_type": "markdown",
      "metadata": {
        "id": "D8nlQspTG8Ll"
      },
      "source": [
        "### <font color='darkorange'>Build and test a model</font>\n",
        "\n"
      ]
    },
    {
      "cell_type": "markdown",
      "metadata": {
        "id": "n1Srx5ZCBFA9"
      },
      "source": [
        "**Action:** Use your training dataset to build a model with the goal of addressing your question of interest. (Marks: 2)"
      ]
    },
    {
      "cell_type": "code",
      "execution_count": null,
      "metadata": {
        "id": "Qif0JPCmBFU1"
      },
      "outputs": [],
      "source": []
    },
    {
      "cell_type": "markdown",
      "metadata": {
        "id": "hxEQnE2K2J1d"
      },
      "source": [
        "**Q4**: Measure the performance of your model, and describe how well your model generalizes to new data (Marks: 2)"
      ]
    },
    {
      "cell_type": "markdown",
      "metadata": {
        "id": "00Xex47wBGt0"
      },
      "source": [
        "### <font color='darkorange'>Interpret your model</font>"
      ]
    },
    {
      "cell_type": "markdown",
      "metadata": {
        "id": "kLkpINmzCWJq"
      },
      "source": [
        "**Q5**: Interpret your model results. E.g., what features contributed to your predictions, if possible, can you determine the sign and magnitude of the effect (Marks: 2)."
      ]
    },
    {
      "cell_type": "markdown",
      "metadata": {
        "id": "DBudKPp1BP3G"
      },
      "source": [
        "### <font color='darkorange'>Answer your question</font>"
      ]
    },
    {
      "cell_type": "markdown",
      "metadata": {
        "id": "YPRIFmPJBFlZ"
      },
      "source": [
        "**Q6:** Use your analysis above to answer your question of interest. Did you achieve your desired outcome, and what might the next steps be? Remember to write as though you are writing to team mates working on the same/similar problem. (Marks: 3)\n",
        "\n",
        "\n",
        "Note: It is ok if your analysis doesn't provide a strong answer, you can point out where it failed. If anything you can cross the approach you took off the list of possible ways to tackle your question. I.e., you still made progress!"
      ]
    }
  ],
  "metadata": {
    "colab": {
      "authorship_tag": "ABX9TyOLDcJctCiYL/LOIOjJQYr3",
      "collapsed_sections": [],
      "include_colab_link": true,
      "mount_file_id": "1R49MCyzdNfH9lVkC2Fum1xi63d5aUXtg",
      "name": "Project3_AnsweringQuestions.ipynb",
      "provenance": []
    },
    "kernelspec": {
      "display_name": "Python 3",
      "name": "python3"
    }
  },
  "nbformat": 4,
  "nbformat_minor": 2
}
