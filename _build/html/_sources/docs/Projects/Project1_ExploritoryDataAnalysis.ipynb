{
  "nbformat": 4,
  "nbformat_minor": 0,
  "metadata": {
    "colab": {
      "name": "Project1_ExploritoryDataAnalysis.ipynb",
      "provenance": [],
      "collapsed_sections": [],
      "mount_file_id": "1R49MCyzdNfH9lVkC2Fum1xi63d5aUXtg",
      "authorship_tag": "ABX9TyOtN/POgLHgv3hUotROPT+P",
      "include_colab_link": true
    },
    "kernelspec": {
      "name": "python3",
      "display_name": "Python 3"
    }
  },
  "cells": [
    {
      "cell_type": "markdown",
      "metadata": {
        "id": "view-in-github",
        "colab_type": "text"
      },
      "source": [
        "<a href=\"https://colab.research.google.com/github/tbonne/IntroDataScience/blob/main/Projects/Project1_ExploritoryDataAnalysis.ipynb\" target=\"_parent\"><img src=\"https://colab.research.google.com/assets/colab-badge.svg\" alt=\"Open In Colab\"/></a>"
      ]
    },
    {
      "cell_type": "markdown",
      "metadata": {
        "id": "DqPzbMV5v_NQ"
      },
      "source": [
        "<img src='http://drive.google.com/uc?export=view&id=1Lv8NU_SuGQ9uVjU8N6_NwNi72qbSnbQL'>"
      ]
    },
    {
      "cell_type": "markdown",
      "metadata": {
        "id": "vAAwrni29gHo"
      },
      "source": [
        "# <font color='lightblue'>Exploritory Data Analysis</font>"
      ]
    },
    {
      "cell_type": "markdown",
      "metadata": {
        "id": "jyHOvgcK2Oj0"
      },
      "source": [
        "In this project you will perform an exploritory data analysis (EDA) using visualizations and correlations. You may choose from one of the datasets within the [class shared data folder](https://drive.google.com/drive/folders/1s2Civxvys_SR1sFF7D2ept1GSmFbICQb?usp=sharing), or search for a dataset that interests you the most! [Kaggle](https://www.kaggle.com/datasets?fileType=csv) is a good place to start, as they often have relatively clean and easy to use datasets, but feel free to explore other places. There is a lot of data out there!\n",
        "\n",
        "In this project you will:\n",
        "\n",
        "1.  Choose and download a dataset\n",
        "2.  Get summary statistics for key variables\n",
        "3.  Create visuals to help understand your data\n",
        "4.  Use correlation to measure relationships between key variables\n",
        "5.  Summarise how EDA helped (or not!) in understanding your dataset\n",
        "\n"
      ]
    },
    {
      "cell_type": "markdown",
      "metadata": {
        "id": "wBv_U2EwAWFS"
      },
      "source": [
        "Import python libraries\n"
      ]
    },
    {
      "cell_type": "code",
      "metadata": {
        "id": "npo0C3reAbqn"
      },
      "source": [
        "\n",
        "import pandas as pd\n",
        "import matplotlib.pyplot as plt\n",
        "import seaborn as sns\n"
      ],
      "execution_count": null,
      "outputs": []
    },
    {
      "cell_type": "markdown",
      "metadata": {
        "id": "KvGK8HSV-lql"
      },
      "source": [
        "## <font color='lightblue'>1. Data </font>"
      ]
    },
    {
      "cell_type": "markdown",
      "metadata": {
        "id": "M2r3E549wJZL"
      },
      "source": [
        "**Action:** Import your data into colaboratory.\n"
      ]
    },
    {
      "cell_type": "code",
      "metadata": {
        "id": "sobqsVEo4tyE"
      },
      "source": [
        ""
      ],
      "execution_count": null,
      "outputs": []
    },
    {
      "cell_type": "markdown",
      "metadata": {
        "id": "BFMyKInr-YxM"
      },
      "source": [
        "**Action:** Determine the types of data are you dealing with."
      ]
    },
    {
      "cell_type": "code",
      "metadata": {
        "id": "FXVrpZ9Z-hfX"
      },
      "source": [
        ""
      ],
      "execution_count": null,
      "outputs": []
    },
    {
      "cell_type": "markdown",
      "metadata": {
        "id": "kVDi_3vBEkkm"
      },
      "source": [
        "## <font color='lightblue'>2. Summary statistics</font>"
      ]
    },
    {
      "cell_type": "markdown",
      "metadata": {
        "id": "1k9BmJYr-cqt"
      },
      "source": [
        "**Action:** Estimate the summary statistics of some of the key variables"
      ]
    },
    {
      "cell_type": "code",
      "metadata": {
        "id": "FSJIADa1-gKi"
      },
      "source": [
        ""
      ],
      "execution_count": null,
      "outputs": []
    },
    {
      "cell_type": "markdown",
      "metadata": {
        "id": "9bKY19_k-tlK"
      },
      "source": [
        "## <font color='lightblue'>3. Visualize the data</font>"
      ]
    },
    {
      "cell_type": "markdown",
      "metadata": {
        "id": "Qz3sEa35-yva"
      },
      "source": [
        "**Action:** Visualize the distribution of values for some key variables"
      ]
    },
    {
      "cell_type": "code",
      "metadata": {
        "id": "AtEp7bth-2hF"
      },
      "source": [
        ""
      ],
      "execution_count": null,
      "outputs": []
    },
    {
      "cell_type": "markdown",
      "metadata": {
        "id": "ZSAzW3WtEtrR"
      },
      "source": [
        "**Q1:** Explain your choice of plots using the five visualization components: \n",
        "1. Data component -- what kinds of data are you dealing with?\n",
        "2. Graphical component -- what kinds of plot can you use?\n",
        "3. Label component -- what should be on the plot axis?\n",
        "4. Esthetic component -- what should you plot say, and how best to do this?\n",
        "5. Ethical component -- Is the graph misleading, what is left out?"
      ]
    },
    {
      "cell_type": "markdown",
      "metadata": {
        "id": "X3j3SzCVGJ8V"
      },
      "source": [
        "## <font color='lightblue'>4. Correlations</font>"
      ]
    },
    {
      "cell_type": "markdown",
      "metadata": {
        "id": "8YYsjvaB-27-"
      },
      "source": [
        "**Action:** Use correlation to estimate the relationship between some of the key variables. Try exploring for interesting relationships using heatmaps."
      ]
    },
    {
      "cell_type": "code",
      "metadata": {
        "id": "lMeA3Tdx_NY3"
      },
      "source": [
        ""
      ],
      "execution_count": null,
      "outputs": []
    },
    {
      "cell_type": "markdown",
      "metadata": {
        "id": "HM0Hi7VUGe14"
      },
      "source": [
        "**Q2:** Choose one or two correlations and describe what the magnitude and direction of the correlation suggests about the relationship between the two variables."
      ]
    },
    {
      "cell_type": "markdown",
      "metadata": {
        "id": "D8nlQspTG8Ll"
      },
      "source": [
        "## <font color='lightblue'>5. Discussion</font>\n",
        "\n",
        "**Q3:** Did this exploritory data analysis help you better understand your chosen dataset? If so how? Is there still parts that don't make sense? \n",
        "> The idea with this question is not to see if you know everything about this dataset, just how EDA might have helped (or not!)."
      ]
    }
  ]
}