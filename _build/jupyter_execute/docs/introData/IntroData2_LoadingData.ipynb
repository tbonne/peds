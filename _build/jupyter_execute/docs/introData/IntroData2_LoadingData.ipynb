{
 "cells": [
  {
   "cell_type": "markdown",
   "metadata": {
    "id": "BAIFtJ6eihzI"
   },
   "source": [
    "<img src='http://drive.google.com/uc?export=view&id=1FZW6_R4T8PailZCgLSdNTZLIDoAG9VM5' width=\"300\" align = 'left'> "
   ]
  },
  {
   "cell_type": "markdown",
   "metadata": {
    "id": "QQfYJa5t8HtW"
   },
   "source": [
    "# <font color='lightblue'>Using existing data</font>"
   ]
  },
  {
   "cell_type": "markdown",
   "metadata": {
    "id": "0RXQK2SpjqCu"
   },
   "source": [
    "In this exercise we will start working with some real data. We will first learn how to load in data, then test out what you've learnt about DataFrames.\n",
    "\n",
    "Outline:\n",
    "*   Load in data\n",
    "*   Explore the dataframe\n",
    "*   Manipulate the dataframe"
   ]
  },
  {
   "cell_type": "code",
   "execution_count": null,
   "metadata": {
    "id": "awfx5nbUGxfd"
   },
   "outputs": [],
   "source": [
    "#Load in pandas\n",
    "import pandas as pd"
   ]
  },
  {
   "cell_type": "markdown",
   "metadata": {
    "id": "9oJgGETQkiwY"
   },
   "source": [
    "## <font color='lightblue'>Loading data</font>"
   ]
  },
  {
   "cell_type": "markdown",
   "metadata": {
    "id": "8FvZqqDOkrWL"
   },
   "source": [
    "There are many ways to load in datasets, here we'll look at two methods."
   ]
  },
  {
   "cell_type": "markdown",
   "metadata": {
    "id": "cYghAs_iqdAM"
   },
   "source": [
    "But first let's get the data:\n",
    "> Goto the shared [data folder](https://drive.google.com/drive/folders/1s2Civxvys_SR1sFF7D2ept1GSmFbICQb?usp=sharing) for the class and download nyc_flight_data.csv\n",
    "\n"
   ]
  },
  {
   "cell_type": "markdown",
   "metadata": {
    "id": "HskW9AzTI7cJ"
   },
   "source": [
    "Let's then load in the flights data using a function from pandas called *read_csv*."
   ]
  },
  {
   "cell_type": "markdown",
   "metadata": {
    "id": "s5NhKsGTGULu"
   },
   "source": [
    "Option 1 - load from temporary folder (easier but not permanent). \n",
    "1. Drag and drop the data into the files tab on the left. \n",
    "2. Then right click and copy the path.\n",
    "3. Then paste the path into the pd.read_csv(PATH_HERE) "
   ]
  },
  {
   "cell_type": "code",
   "execution_count": null,
   "metadata": {
    "id": "jnwMrEIVGTps"
   },
   "outputs": [],
   "source": [
    "#load in the nyc flight data\n",
    "df_flights = pd.read_csv('/content/nyc_flight_data.csv') "
   ]
  },
  {
   "cell_type": "markdown",
   "metadata": {
    "id": "kl1JU2UbGQcI"
   },
   "source": [
    "Option 2 - load from your google drive\n",
    "1. mount your google drive"
   ]
  },
  {
   "cell_type": "code",
   "execution_count": null,
   "metadata": {
    "id": "7YY7VNVtG66S"
   },
   "outputs": [],
   "source": [
    "#mount your google drive\n",
    "from google.colab import drive\n",
    "drive.mount('/content/gdrive')"
   ]
  },
  {
   "cell_type": "markdown",
   "metadata": {
    "id": "fWDxTfOEIHeU"
   },
   "source": [
    "2. Use the files tab on the left to find the file you like to load \n",
    "3. Right click on the file and copy the path\n",
    "4. Paste the path into the pd.read_csv()"
   ]
  },
  {
   "cell_type": "code",
   "execution_count": null,
   "metadata": {
    "id": "g2KKj_co9xsz"
   },
   "outputs": [],
   "source": [
    "##load in the nyc flight data \n",
    "df_flights = pd.read_csv('/content/gdrive/MyDrive/Colab Notebooks/DataScience/dataDSI/nyc_flight_data.csv') "
   ]
  },
  {
   "cell_type": "markdown",
   "metadata": {
    "id": "zmXGEfFKnM7H"
   },
   "source": [
    "## <font color='lightblue'>Exploring the dataframe</font>"
   ]
  },
  {
   "cell_type": "markdown",
   "metadata": {
    "id": "lsYFARHaGdX-"
   },
   "source": [
    "Now that we have the dataset loaded, let's take a look at it. Let's first look at it's shape."
   ]
  },
  {
   "cell_type": "code",
   "execution_count": null,
   "metadata": {
    "id": "uLa-XVQxuBwF"
   },
   "outputs": [],
   "source": [
    "df_flights.shape"
   ]
  },
  {
   "cell_type": "markdown",
   "metadata": {
    "id": "pubLayxLuA5f"
   },
   "source": [
    "Here we can get a quick look the dataframe using the **head** method."
   ]
  },
  {
   "cell_type": "code",
   "execution_count": null,
   "metadata": {
    "id": "jV14MnZpGpnL"
   },
   "outputs": [],
   "source": [
    "df_flights.head(5)"
   ]
  },
  {
   "cell_type": "markdown",
   "metadata": {
    "id": "ihn7iAw6I_lQ"
   },
   "source": [
    "Or if you like a little more options you can use the folowing to help visualize the table better."
   ]
  },
  {
   "cell_type": "code",
   "execution_count": null,
   "metadata": {
    "id": "TIgYRG3nI_Ul"
   },
   "outputs": [],
   "source": [
    "%load_ext google.colab.data_table"
   ]
  },
  {
   "cell_type": "markdown",
   "metadata": {
    "id": "AQ_xGhtRJOw_"
   },
   "source": [
    "Now try looking at your dataframe again."
   ]
  },
  {
   "cell_type": "code",
   "execution_count": null,
   "metadata": {
    "id": "H37YQMKPJRpB"
   },
   "outputs": [],
   "source": [
    "df_flights.head(5)"
   ]
  },
  {
   "cell_type": "markdown",
   "metadata": {
    "id": "_HiaHTk4HTpv"
   },
   "source": [
    "We can also see what kinds of variables are in the dataframe by using the **dtype** method:"
   ]
  },
  {
   "cell_type": "code",
   "execution_count": null,
   "metadata": {
    "id": "r3SY-DNmHai7"
   },
   "outputs": [],
   "source": [
    "#find the data types\n",
    "df_flights.dtypes"
   ]
  },
  {
   "cell_type": "markdown",
   "metadata": {
    "id": "HEpqUyo0q8JK"
   },
   "source": [
    "We can get a quick description of the numeric data using the **describe** method:"
   ]
  },
  {
   "cell_type": "code",
   "execution_count": null,
   "metadata": {
    "id": "X_ExHFhxq77p"
   },
   "outputs": [],
   "source": [
    "df_flights.describe()"
   ]
  },
  {
   "cell_type": "markdown",
   "metadata": {
    "id": "bJxRYLmYHaFB"
   },
   "source": [
    "We can also take a look at the dataframe by double clicking on the nycflights.csv file in the files tab on the left. This gives us a more dynamic view as we can use filter to explore the data a little more.\n",
    "Try filtering for carrier: e.g., AA"
   ]
  },
  {
   "cell_type": "markdown",
   "metadata": {
    "id": "uk7OJAh6mBSQ"
   },
   "source": [
    "## <font color='lightblue'>Manipulate the dataframe</font>"
   ]
  },
  {
   "cell_type": "markdown",
   "metadata": {
    "id": "aN7MXElJl-4u"
   },
   "source": [
    "Let's now use your new found skills to answer some questions!"
   ]
  },
  {
   "cell_type": "markdown",
   "metadata": {
    "id": "o0ndWycZn9sR"
   },
   "source": [
    "<img src='http://drive.google.com/uc?export=view&id=1WC4tXGCEF-1_2LQ74gIxJAZ-GLXCwBdK' width=\"100\" align = 'left'>"
   ]
  },
  {
   "cell_type": "markdown",
   "metadata": {
    "id": "qsvRUqaEJ4JT"
   },
   "source": [
    "Make a dataframe with only carrier, arr_delay, dep_delay, and air_time as columns."
   ]
  },
  {
   "cell_type": "code",
   "execution_count": null,
   "metadata": {
    "id": "m0zqbaCcAneP"
   },
   "outputs": [],
   "source": [
    "#keep only the a subset of columns\n",
    "df_flights_sub = df_flights.loc[? ,?  ]  #Warning: the column names will be case sensitive!\n",
    "\n",
    "#take a look at the new dataframe\n",
    "?"
   ]
  },
  {
   "cell_type": "markdown",
   "metadata": {
    "id": "2znJOff0JpXE"
   },
   "source": [
    "Make a dataframe of all flights that have an arrival delay of greater than 60min"
   ]
  },
  {
   "cell_type": "code",
   "execution_count": null,
   "metadata": {
    "id": "lS27a2TUJ2IG"
   },
   "outputs": [],
   "source": [
    "#keep only the rows with arr_delay of greater than 60 minutes\n",
    "df_flights_delayed60 = df_flights[?]\n",
    "\n",
    "#What is the shape of this new dataframe\n",
    "?"
   ]
  },
  {
   "cell_type": "markdown",
   "metadata": {
    "id": "Edr1BV2OjImL"
   },
   "source": [
    "Can you also calculate how many flights arrived earlier than expected (i.e., where the plane arrived before the scheduled arrival time). "
   ]
  },
  {
   "cell_type": "code",
   "execution_count": null,
   "metadata": {
    "id": "L1RLoJ5mNrAt"
   },
   "outputs": [],
   "source": [
    "#keep only the rows with arr_delay less than 0 minutes (i.e., negative delay!)\n",
    "\n",
    "#what is the shape of this new dataframe"
   ]
  },
  {
   "cell_type": "markdown",
   "metadata": {
    "id": "3cUMKEmbyxsY"
   },
   "source": [
    "Finally can you express these numbers as percentages?"
   ]
  },
  {
   "cell_type": "code",
   "execution_count": null,
   "metadata": {
    "id": "dOspEKWIy8fQ"
   },
   "outputs": [],
   "source": [
    "#percentage of flights delayed more than 60mins, i.e., number delayed rows / number total rows\n"
   ]
  },
  {
   "cell_type": "code",
   "execution_count": null,
   "metadata": {
    "id": "sZ65plI6zGUA"
   },
   "outputs": [],
   "source": [
    "#percentage of flights arriving before scheduled time, i.e., number early rows / number total rows\n"
   ]
  },
  {
   "cell_type": "markdown",
   "metadata": {
    "id": "TUNoATnrzL4K"
   },
   "source": [
    "Post to slack once you've got an answer!"
   ]
  },
  {
   "cell_type": "markdown",
   "metadata": {
    "id": "xVcb23hW1oXD"
   },
   "source": [
    "# <font color='lightblue'>Further reading</font>"
   ]
  },
  {
   "cell_type": "markdown",
   "metadata": {
    "id": "T0CUWO8D1wPz"
   },
   "source": [
    "The many ways to work with [data in colab](https://neptune.ai/blog/google-colab-dealing-with-files)."
   ]
  }
 ],
 "metadata": {
  "colab": {
   "authorship_tag": "ABX9TyOwZnZB4e7fR5w1wutzVvE2",
   "collapsed_sections": [],
   "mount_file_id": "1DPfUfk_MvYKEIp0HqW0MZCrxHuqjl_RU",
   "name": "IntroData2_LoadingData.ipynb",
   "provenance": [
    {
     "file_id": "1s_HXYjeYp4woIIfmfEthPTQ9-QuapLRF",
     "timestamp": 1624904433195
    }
   ]
  },
  "kernelspec": {
   "display_name": "Python 3",
   "name": "python3"
  }
 },
 "nbformat": 4,
 "nbformat_minor": 0
}