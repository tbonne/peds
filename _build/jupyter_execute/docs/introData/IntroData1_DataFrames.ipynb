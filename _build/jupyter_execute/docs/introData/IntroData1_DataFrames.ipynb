{
 "cells": [
  {
   "cell_type": "markdown",
   "metadata": {
    "id": "RiUBgnB1ZciE"
   },
   "source": [
    "<img src='http://drive.google.com/uc?export=view&id=1RkQNovXbpa5a43mEAIpdWlL_ungUN-8j' width=\"300\" align = 'left'>  "
   ]
  },
  {
   "cell_type": "markdown",
   "metadata": {
    "id": "3rLULDui-b6N"
   },
   "source": [
    "# <font color='lightblue'>Introduction to DataFrames</font>\n",
    "\n",
    "In this exercise we will introduce **dataframes** which are objects in python that we will work a lot with in this class. These **dataframes** will be how we work with data, and get the data ready for visualizing and modeling."
   ]
  },
  {
   "cell_type": "markdown",
   "metadata": {
    "id": "cjwdUlMlJyUD"
   },
   "source": [
    "Outline:\n",
    "\n",
    "\n",
    "*   Creating dataframes\n",
    "*   Selecting from DataFrames\n",
    "*   Creating new columns\n",
    "*   Filtering rows\n",
    "*   DataFrame functions\n",
    "\n"
   ]
  },
  {
   "cell_type": "markdown",
   "metadata": {
    "id": "Muqa6CAM-2aw"
   },
   "source": [
    "We'll be using the **Pandas** library to do most of this work. Let's take a look at how to create and modify dataframes using **Pandas**! "
   ]
  },
  {
   "cell_type": "markdown",
   "metadata": {
    "id": "xE8bwZnCNdfS"
   },
   "source": [
    "# <font color='lightblue'>Creating DataFrames</font>"
   ]
  },
  {
   "cell_type": "code",
   "execution_count": null,
   "metadata": {
    "id": "9kGezV0PzwkU"
   },
   "outputs": [],
   "source": [
    "#import python libraries that we will use\n",
    "import numpy as np\n",
    "import pandas as pd"
   ]
  },
  {
   "cell_type": "markdown",
   "metadata": {
    "id": "0MCymSuFGaD0"
   },
   "source": [
    "Create a dataframe from scratch"
   ]
  },
  {
   "cell_type": "code",
   "execution_count": null,
   "metadata": {
    "id": "irF1XgaENSYc"
   },
   "outputs": [],
   "source": [
    "\n",
    "## create a dictionary\n",
    "d = {'A':[1,2,3,4], 'B':[5,6,7,8] }\n",
    "\n",
    "## convert the dictionary to a dataframe\n",
    "df_test = pd.DataFrame(data=d)\n",
    "\n",
    "#take a look at the dataframe\n",
    "df_test\n"
   ]
  },
  {
   "cell_type": "markdown",
   "metadata": {
    "id": "OFshOnrNI2wh"
   },
   "source": [
    "Add a column to the data frame"
   ]
  },
  {
   "cell_type": "code",
   "execution_count": null,
   "metadata": {
    "id": "yxfMzpAsI3GH"
   },
   "outputs": [],
   "source": [
    "#add list of names\n",
    "df_test['ID'] = ['Steve','Sarojini','Emil','Sarah']\n",
    "\n",
    "#add country\n",
    "df_test['country'] = 'Canada'\n",
    "\n",
    "#take a look (notice how it filled in the country!)\n",
    "df_test\n"
   ]
  },
  {
   "cell_type": "markdown",
   "metadata": {
    "id": "HJCQPHlqtsB0"
   },
   "source": [
    "All dataframes also have an index, which keeps track of what data is in each row/column."
   ]
  },
  {
   "cell_type": "code",
   "execution_count": null,
   "metadata": {
    "id": "ldXk8lNvtsOK"
   },
   "outputs": [],
   "source": [
    "#index of the rows\n",
    "df_test.index"
   ]
  },
  {
   "cell_type": "code",
   "execution_count": null,
   "metadata": {
    "id": "2piZzMk_uFEh"
   },
   "outputs": [],
   "source": [
    "#index of the columns\n",
    "df_test.columns"
   ]
  },
  {
   "cell_type": "markdown",
   "metadata": {
    "id": "X7PiujKcuPUC"
   },
   "source": [
    "## <font color='lightblue'>Selecting from a Dataframe</font>"
   ]
  },
  {
   "cell_type": "code",
   "execution_count": null,
   "metadata": {
    "id": "cngjJPg0XL4y"
   },
   "outputs": [],
   "source": [
    "#take a look at the full dataframe\n",
    "df_test"
   ]
  },
  {
   "cell_type": "code",
   "execution_count": null,
   "metadata": {
    "id": "g1vB62vWuSOT"
   },
   "outputs": [],
   "source": [
    "#grab the A column\n",
    "df_test['A']"
   ]
  },
  {
   "cell_type": "code",
   "execution_count": null,
   "metadata": {
    "id": "_OB1fdVx0gah"
   },
   "outputs": [],
   "source": [
    "#or similarly grab the A column\n",
    "df_test.A"
   ]
  },
  {
   "cell_type": "code",
   "execution_count": null,
   "metadata": {
    "id": "-JEUpTVPuYVA"
   },
   "outputs": [],
   "source": [
    "#grab the first three rows\n",
    "df_test[0:3]"
   ]
  },
  {
   "cell_type": "markdown",
   "metadata": {
    "id": "ArTxNCL0um2u"
   },
   "source": [
    "It is also possible to select by slicing similar to the numpy array! \n",
    "> Here we use the method **loc** with square brackets to select rows and columns \n",
    "[rows , columns] with the similar slicing [start:stop:steps]. The **loc** method uses the index and the column names of the dataframe.\n",
    "\n",
    "Below we take the first three rows and only the A and B columns:"
   ]
  },
  {
   "cell_type": "code",
   "execution_count": null,
   "metadata": {
    "id": "r72GQqs3umLB"
   },
   "outputs": [],
   "source": [
    "#first three rows and the A and B columns\n",
    "df_test.loc[ 0:2 , [\"A\",\"B\"] ]"
   ]
  },
  {
   "cell_type": "markdown",
   "metadata": {
    "id": "zSqMuXRE1ckh"
   },
   "source": [
    "<img src='http://drive.google.com/uc?export=view&id=1WC4tXGCEF-1_2LQ74gIxJAZ-GLXCwBdK' width=\"100\" align = 'left'>  \n",
    "<br>\n",
    "<br>\n",
    "<br>\n",
    "Let's try out what you've learnt. Try and select the ID and Country columns and only the third row:"
   ]
  },
  {
   "cell_type": "code",
   "execution_count": null,
   "metadata": {
    "id": "w4BAU1eY55Xc"
   },
   "outputs": [],
   "source": [
    "#ID and country columns, and the third row\n",
    "df_test.loc[?, ?]\n"
   ]
  },
  {
   "cell_type": "markdown",
   "metadata": {
    "id": "Zdno5mpBv97x"
   },
   "source": [
    "## <font color='lightblue'>Selecting from a Dataframe: using positions</font>"
   ]
  },
  {
   "cell_type": "code",
   "execution_count": null,
   "metadata": {
    "id": "K_zBDBYehPS1"
   },
   "outputs": [],
   "source": [
    "#full dataframe\n",
    "df_test"
   ]
  },
  {
   "cell_type": "code",
   "execution_count": null,
   "metadata": {
    "id": "xNqlx196wA9p"
   },
   "outputs": [],
   "source": [
    "#first three rows and the second and thrid columns - using :\n",
    "df_test.iloc[0:3,1:3]"
   ]
  },
  {
   "cell_type": "code",
   "execution_count": null,
   "metadata": {
    "id": "VjGSgaMYw9Nf"
   },
   "outputs": [],
   "source": [
    "#second, and fourth rows, and second and fourth columns - using lists\n",
    "df_test.iloc[ [1,3] , [1,3] ]"
   ]
  },
  {
   "cell_type": "markdown",
   "metadata": {
    "id": "bYUJEa7gcSSl"
   },
   "source": [
    "<img src='http://drive.google.com/uc?export=view&id=1WC4tXGCEF-1_2LQ74gIxJAZ-GLXCwBdK' width=\"100\" align = 'left'>  \n",
    "<br>\n",
    "<br>\n",
    "<br>\n",
    "Try and select the ID and Country columns and only the third row using iloc:"
   ]
  },
  {
   "cell_type": "code",
   "execution_count": null,
   "metadata": {
    "id": "CqmFH1QVcSSm"
   },
   "outputs": [],
   "source": [
    "#ID and country columns, and the third row\n",
    "df_test.iloc[?, ?]\n"
   ]
  },
  {
   "cell_type": "markdown",
   "metadata": {
    "id": "ZxPG6easNiRt"
   },
   "source": [
    "## <font color='lightblue'>Creating new variables</font>"
   ]
  },
  {
   "cell_type": "code",
   "execution_count": null,
   "metadata": {
    "id": "5z1tlk6XHmBe"
   },
   "outputs": [],
   "source": [
    "\n",
    "#multiply the B column by 4 to create a new variable C\n",
    "df_test['C'] = df_test['B'] * 4\n",
    "\n",
    "#multiply the C column by A to create a new variable D\n",
    "df_test['D'] = df_test['C'] * df_test['A']\n",
    "\n",
    "#take a look\n",
    "df_test"
   ]
  },
  {
   "cell_type": "markdown",
   "metadata": {
    "id": "3ZjmqvNgcy18"
   },
   "source": [
    "## <font color='lightblue'>Filtering DataFrames</font>"
   ]
  },
  {
   "cell_type": "markdown",
   "metadata": {
    "id": "PFbIn1XAHljz"
   },
   "source": [
    "Keep only the rows/columns that you'd like"
   ]
  },
  {
   "cell_type": "code",
   "execution_count": null,
   "metadata": {
    "id": "AdbAWCNjINd6"
   },
   "outputs": [],
   "source": [
    "#keep only the rows where A is less than 3\n",
    "df_test_sub = df_test[df_test.A<3]\n",
    "\n",
    "#keep only the columns A and ID\n",
    "df_test_sub = df_test_sub[['A','B']]\n",
    "\n",
    "#take a look\n",
    "df_test_sub"
   ]
  },
  {
   "cell_type": "markdown",
   "metadata": {
    "id": "cG8Sd9JhdRFF"
   },
   "source": [
    "<img src='http://drive.google.com/uc?export=view&id=1WC4tXGCEF-1_2LQ74gIxJAZ-GLXCwBdK' width=\"100\" align = 'left'>  \n",
    "<br>\n",
    "<br>\n",
    "<br>\n",
    "Add the C and D columns together and select only the rows with values greater than 100:"
   ]
  },
  {
   "cell_type": "code",
   "execution_count": null,
   "metadata": {
    "id": "zFnR2MAkdRFG"
   },
   "outputs": [],
   "source": [
    "#Add the columns C and D together\n",
    "df_test['D'] = ? + ?\n",
    "\n",
    "#keep only the rows where D is greater than 100\n",
    "df_test_100 = ?\n",
    "\n",
    "#take a look\n",
    "df_test_100\n"
   ]
  },
  {
   "cell_type": "markdown",
   "metadata": {
    "id": "nEzmqKcTh2bd"
   },
   "source": [
    "## <font color='lightblue'>Dataframe functions</font>"
   ]
  },
  {
   "cell_type": "markdown",
   "metadata": {
    "id": "z5J1IOxRDoMY"
   },
   "source": [
    "When we create a dataframe we are creating an object, and this dataframe object has functions built in. Let's take a look at a few now, and we will see more as we go along in this course. \n",
    "\n",
    "Try just typing df_test. \n",
    "\n",
    "After typing the \".\" you should see the list of functions available to you once you've created a dataframe object. "
   ]
  },
  {
   "cell_type": "code",
   "execution_count": null,
   "metadata": {
    "id": "xG7rywyOh-EU"
   },
   "outputs": [],
   "source": [
    "df_test."
   ]
  },
  {
   "cell_type": "markdown",
   "metadata": {
    "id": "dFVcxOeoiAGA"
   },
   "source": [
    "One useful function is the *dtypes* function. It will tell us what data type is in each column."
   ]
  },
  {
   "cell_type": "code",
   "execution_count": null,
   "metadata": {
    "id": "7rd8ujZdD3mo"
   },
   "outputs": [],
   "source": [
    "#What data type is stored in each column\n",
    "df_test.dtypes"
   ]
  },
  {
   "cell_type": "markdown",
   "metadata": {
    "id": "rassdQRmiH6Q"
   },
   "source": [
    "The *sum* function is very useful for quickly summing up the values in a column."
   ]
  },
  {
   "cell_type": "code",
   "execution_count": null,
   "metadata": {
    "id": "V1rfSd1vEkRZ"
   },
   "outputs": [],
   "source": [
    "#What is the sum of the A column\n",
    "df_test.A.sum()"
   ]
  },
  {
   "cell_type": "markdown",
   "metadata": {
    "id": "R9iqgF1XiPCS"
   },
   "source": [
    "The *?* is a very useful function in general, and can provide us with useful information about most objects."
   ]
  },
  {
   "cell_type": "code",
   "execution_count": null,
   "metadata": {
    "id": "d_DHj9E0FKGs"
   },
   "outputs": [],
   "source": [
    "#find help on functions, objects, ... etc\n",
    "?df_test"
   ]
  },
  {
   "cell_type": "markdown",
   "metadata": {
    "id": "8qXfWPP13jb-"
   },
   "source": [
    "# <font color='lightblue'>Further reading</font>\n",
    "\n",
    "Pandas quick intro:\n",
    "https://pandas.pydata.org/pandas-docs/stable/user_guide/10min.html\n",
    "</br>\n",
    "Pandas longer intro:\n",
    "https://pandas.pydata.org/pandas-docs/stable/user_guide/indexing.html"
   ]
  }
 ],
 "metadata": {
  "colab": {
   "authorship_tag": "ABX9TyPTlecIMKKEg7HWDY8D0P0P",
   "collapsed_sections": [],
   "mount_file_id": "1BYqTV-rYD0cCvjBxN8CWpAkmb8pvXsj8",
   "name": "IntroData1_DataFrames.ipynb",
   "provenance": [
    {
     "file_id": "1BYqTV-rYD0cCvjBxN8CWpAkmb8pvXsj8",
     "timestamp": 1624897773097
    }
   ]
  },
  "kernelspec": {
   "display_name": "Python 3",
   "name": "python3"
  }
 },
 "nbformat": 4,
 "nbformat_minor": 0
}