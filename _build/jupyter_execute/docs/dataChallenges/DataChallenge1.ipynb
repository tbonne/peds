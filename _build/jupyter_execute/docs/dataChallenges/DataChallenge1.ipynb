{
 "cells": [
  {
   "cell_type": "markdown",
   "metadata": {
    "colab_type": "text",
    "id": "view-in-github"
   },
   "source": [
    "<a href=\"https://colab.research.google.com/github/tbonne/IntroDataScience/blob/main/challenges/DataChallenge1.ipynb\" target=\"_parent\"><img src=\"https://colab.research.google.com/assets/colab-badge.svg\" alt=\"Open In Colab\"/></a>"
   ]
  },
  {
   "cell_type": "markdown",
   "metadata": {
    "id": "RGdfRVd5TStQ"
   },
   "source": [
    "<img src='http://drive.google.com/uc?export=view&id=1BoSI6ZAmGc3mvjUZWGiUw9IZaPaWbV6Y' width=200>"
   ]
  },
  {
   "cell_type": "markdown",
   "metadata": {},
   "source": [
    "***"
   ]
  },
  {
   "cell_type": "markdown",
   "metadata": {
    "id": "K8WxUf9X68ui"
   },
   "source": [
    "## <font color='darkorange'>Class Data Challenge 1</font>\n",
    "\n",
    "Welcome to the first simulation challenge! We will use this competition to try out what we've learnt so far, and to learn some important lessons about clustering and visualizing data.\n",
    "\n",
    "The challenge will follow five stages:\n",
    "\n",
    "1. Simulate some data where you know the answer\n",
    "2. Post your data to slack\n",
    "3. Find data from another team (mark with thumbs up)\n",
    "4. Reply with your predictions of the number of clusters\n",
    "5. Start back at step 1, this time increase by 1 dimension.\n"
   ]
  },
  {
   "cell_type": "markdown",
   "metadata": {
    "id": "tA4DrgD_1xr-"
   },
   "source": [
    "This challenge is meant to develop our collaboration and data sharing skills, as well as our visualization and clusting skills! \n",
    " \n",
    " As we will be in break out groups of three, feel free to contact me on slack and i'll come by to help out!"
   ]
  },
  {
   "cell_type": "markdown",
   "metadata": {
    "id": "S90V2af88kGq"
   },
   "source": [
    "Load the libraries we will need to generate some points"
   ]
  },
  {
   "cell_type": "code",
   "execution_count": null,
   "metadata": {
    "id": "gHnoZ9ds8r_E"
   },
   "outputs": [],
   "source": [
    "import numpy as np\n",
    "import pandas as pd\n",
    "from matplotlib import pyplot as plt\n",
    "import seaborn as sns"
   ]
  },
  {
   "cell_type": "markdown",
   "metadata": {
    "id": "uHhZDzWO8fhz"
   },
   "source": [
    "### <font color='darkorange'>Simulate some data</font>\n",
    "\n"
   ]
  },
  {
   "cell_type": "code",
   "execution_count": null,
   "metadata": {
    "id": "ghfyYYfL8iOc"
   },
   "outputs": [],
   "source": [
    "#Simulate a cluster\n",
    "cluster1_x = np.random.normal(0,10,size=1000)\n",
    "cluster1_y = np.random.normal(0,10,size=1000)\n",
    "\n",
    "#put it into a dataframe\n",
    "d = {'x':cluster1_x,'y':cluster1_y,'cluster':'1'}\n",
    "df_clusters = pd.DataFrame(data=d)\n",
    "\n",
    "#take a look\n",
    "df_clusters.head(5)"
   ]
  },
  {
   "cell_type": "markdown",
   "metadata": {
    "id": "dhrStvFU_P0x"
   },
   "source": [
    "Visualize your cluster. "
   ]
  },
  {
   "cell_type": "code",
   "execution_count": null,
   "metadata": {
    "id": "HRxZxHHk66Cm"
   },
   "outputs": [],
   "source": [
    "#scatter plot\n",
    "sns.scatterplot(data=df_clusters, x=\"x\", y=\"y\",hue='cluster')\n"
   ]
  },
  {
   "cell_type": "markdown",
   "metadata": {
    "id": "eA_YBD-YCPs-"
   },
   "source": [
    "Add another cluster!"
   ]
  },
  {
   "cell_type": "code",
   "execution_count": null,
   "metadata": {
    "id": "ggAEAAEsCPNv"
   },
   "outputs": [],
   "source": [
    "#Simulate a cluster\n",
    "cluster2_x = np.random.uniform(5,10,size=1000)\n",
    "cluster2_y = np.random.uniform(5,10,size=1000)\n",
    "\n",
    "#put it into a dataframe\n",
    "d2 = {'x':cluster2_x,'y':cluster2_y,'cluster':'2'}\n",
    "df_cluster2 = pd.DataFrame(data=d2)\n",
    "\n",
    "#add it to the previous cluster\n",
    "df_clusters = df_clusters.append(df_cluster2)\n",
    "\n",
    "#take a look\n",
    "df_clusters.head(5)"
   ]
  },
  {
   "cell_type": "code",
   "execution_count": null,
   "metadata": {
    "id": "k0Z7-euyCRWk"
   },
   "outputs": [],
   "source": [
    "sns.scatterplot(data=df_clusters, x=\"x\", y=\"y\",hue='cluster')"
   ]
  },
  {
   "cell_type": "markdown",
   "metadata": {
    "id": "2ECKpLhRDUW9"
   },
   "source": [
    "**Things to try**\n",
    "- Change the mean of your clusters: np.random.normal(**50**,10,size=1000)\n",
    "- Change the spread of your clusters: np.random.normal(50,**10**,size=1000)\n",
    "- Change the number of points in your clusters: np.random.normal(50,10,size=**1000**)\n",
    "- Change the distribution of you cluster: \n",
    "> np.random.**uniform**(5,10,size=100)<br>\n",
    "> np.random.**normal**(5,10,size=100)<br>\n",
    "- Change the number of dimensions, e.g.,: <br> \n",
    "> cluster_**x** = np.random.uniform(5,10,size=1000)<br> \n",
    "> cluster_**y** = np.random.uniform(5,10,size=1000)<br> \n",
    "> cluster_**z** = np.random.uniform(5,10,size=1000)\n",
    " \n"
   ]
  },
  {
   "cell_type": "markdown",
   "metadata": {
    "id": "6VaBfsnoCQMk"
   },
   "source": [
    "**Things to ask yourself**\n",
    "\n",
    "- Do you think it is easy to find out how many clusters there are? \n",
    "- Is it imposible to figure it out? \n",
    "- How can you visualize something that is in 3D well enough to see the clusters you made?"
   ]
  },
  {
   "cell_type": "markdown",
   "metadata": {
    "id": "nARYqUA9ETvD"
   },
   "source": [
    "### <font color='darkorange'>Post your data to Slack!</font>"
   ]
  },
  {
   "cell_type": "code",
   "execution_count": null,
   "metadata": {
    "id": "rzsCwDgvEbBM"
   },
   "outputs": [],
   "source": [
    "#randomly shuffle the rows around\n",
    "df_clusters = df_clusters.sample(frac=1)\n",
    "\n",
    "#remove the cluster column (i.e., no labels!)\n",
    "df_clusters = df_clusters.drop('cluster', axis=1)\n",
    "\n",
    "#save your dataframe to a csv file\n",
    "df_clusters.to_csv(\"MyTeamName_clusters.csv\", index=False)\n"
   ]
  },
  {
   "cell_type": "markdown",
   "metadata": {
    "id": "PdO_gMrbEpGa"
   },
   "source": [
    "The csv file should now be in your google drive. You can also just click on files on the left and you will be able to see and download your data. Once downloaded place into the simulation_competition1 channel on slack."
   ]
  },
  {
   "cell_type": "markdown",
   "metadata": {
    "id": "GPNoKQpdE-Vh"
   },
   "source": [
    "### <font color='darkorange'>Predict the number of clusters in other datasets!</font>"
   ]
  },
  {
   "cell_type": "markdown",
   "metadata": {
    "id": "pw-89X-wFEry"
   },
   "source": [
    "Import the data into your colab:\n",
    "1. Download a dataset from slack\n",
    "2. Drag and drop the file into the files tab (to the left)\n",
    "3. Load in the data using pandas"
   ]
  },
  {
   "cell_type": "code",
   "execution_count": null,
   "metadata": {
    "id": "nMfP1OctFohK"
   },
   "outputs": [],
   "source": [
    "#use read_csv to load the data (Hint: right click on the file you want, then copy path)\n",
    "df_other = pd.read_csv('/content/MyTeamName_clusters.csv') \n",
    "\n",
    "#take a look\n",
    "df_other"
   ]
  },
  {
   "cell_type": "markdown",
   "metadata": {
    "id": "fduCJM5lGbeU"
   },
   "source": [
    "Try visualizing the data"
   ]
  },
  {
   "cell_type": "code",
   "execution_count": null,
   "metadata": {
    "id": "g_qnpwHOGgKM"
   },
   "outputs": [],
   "source": [
    "#scatter plots\n"
   ]
  },
  {
   "cell_type": "markdown",
   "metadata": {
    "id": "zNP7mhGEGjG-"
   },
   "source": [
    "Try out some of the clustering algorithims we learnt"
   ]
  },
  {
   "cell_type": "code",
   "execution_count": null,
   "metadata": {
    "id": "5mGQo_u_GnwV"
   },
   "outputs": [],
   "source": [
    "# k-means clustering (elbow method)\n",
    "\n",
    "# Hdbscan clustering (min number of points in a cluster)"
   ]
  },
  {
   "cell_type": "markdown",
   "metadata": {
    "id": "fdHSwShE8uPU"
   },
   "source": [
    "Which method does better on mean silhouette distance, and how many clusters does it suggest?"
   ]
  },
  {
   "cell_type": "markdown",
   "metadata": {
    "id": "TH_9hGu_GvPt"
   },
   "source": [
    "**Things to ask yourself:**\n",
    "\n",
    "- Do the visualization and clustering algorithms aggree on the number of clusters?\n",
    "\n"
   ]
  },
  {
   "cell_type": "markdown",
   "metadata": {
    "id": "xllfJd9fG8CR"
   },
   "source": [
    "When you think you have an answer post it to slack and see if you are right!\n",
    "Feel free to communicate and collaborate with the eachother!! "
   ]
  }
 ],
 "metadata": {
  "colab": {
   "collapsed_sections": [],
   "include_colab_link": true,
   "name": "DataChallenge1.ipynb",
   "provenance": []
  },
  "kernelspec": {
   "display_name": "Python 3",
   "name": "python3"
  }
 },
 "nbformat": 4,
 "nbformat_minor": 0
}