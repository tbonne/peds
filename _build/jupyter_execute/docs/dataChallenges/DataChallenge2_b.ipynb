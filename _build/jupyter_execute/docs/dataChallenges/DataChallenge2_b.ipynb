{
 "cells": [
  {
   "cell_type": "markdown",
   "metadata": {
    "id": "SxbjEx_hDDru"
   },
   "source": [
    "<a href=\"https://colab.research.google.com/github/tbonne/peds/blob/main/docs/dataChallenges/DataChallenge2_b.ipynb\" target=\"_parent\"><img src=\"https://colab.research.google.com/assets/colab-badge.svg\" alt=\"Open In Colab\"/></a>"
   ]
  },
  {
   "cell_type": "markdown",
   "metadata": {
    "id": "oTMg-BpW1n-4"
   },
   "source": [
    "<p align=\"center\">\n",
    "  <img src=\"https://raw.githubusercontent.com/tbonne/peds/main/images/competitionIcon.jpeg\" width=\"200\" alt=\"colab\">\n",
    "</p>"
   ]
  },
  {
   "cell_type": "markdown",
   "metadata": {
    "id": "jy45aegPDDrv"
   },
   "source": [
    "***"
   ]
  },
  {
   "cell_type": "markdown",
   "metadata": {
    "id": "WSOMtkWA02jB"
   },
   "source": [
    "## <font color=\"darkorange\">Class Data Challenge IIb</font>\n",
    "\n",
    "> Welcome to data challenge II (second round)! In this challenge we will build a predictive model. Our goal will be to gain the highest prediction, explain how the model is making those predictions, and use the model to suggest an **interention** in a system!\n",
    "\n",
    "\n",
    "**Context**  \n",
    "\n",
    "Congratulations you've just been hired by a mysterious company X to help them increase the chance that Y will occur. They don't want to provide you with too much detail due to privacy concerns. They do provided you with a dataset, however the labels have been removed.\n",
    "\n",
    "They would like to know the following:\n",
    "\n",
    "1. Can you build a model to predict the variable \"c\"?\n",
    "\n",
    "2. What are some of the most important factors leading to these predictions?\n",
    "\n",
    "3. What can they do to increase the chance that \"c\" occurs: i.e., c is a 1 and not a 0.\n"
   ]
  },
  {
   "cell_type": "code",
   "execution_count": null,
   "metadata": {
    "id": "4DVGuh_R02XO"
   },
   "outputs": [],
   "source": [
    "import pandas as pd\n",
    "import numpy as np\n",
    "\n",
    "import sklearn as sk\n",
    "import pandas as pd\n",
    "import seaborn as sns\n",
    "import matplotlib.pyplot as plt\n",
    "from sklearn.model_selection import train_test_split\n",
    "from sklearn.model_selection import cross_val_score"
   ]
  },
  {
   "cell_type": "markdown",
   "metadata": {
    "id": "H1bV3abzDDrv"
   },
   "source": [
    "Load in the dataset"
   ]
  },
  {
   "cell_type": "code",
   "execution_count": null,
   "metadata": {
    "colab": {
     "base_uri": "https://localhost:8080/",
     "height": 423
    },
    "id": "KXlqQSEB0zkt",
    "outputId": "c0bc116e-2918-4332-ef82-15fba3433347"
   },
   "outputs": [],
   "source": [
    "df = pd.read_csv('/content/company_X_unlabeled.csv')\n",
    "\n",
    "df"
   ]
  },
  {
   "cell_type": "markdown",
   "metadata": {
    "id": "baA7SMPPjD-H"
   },
   "source": [
    "### <font color=\"darkorange\">Data wrangling</font>"
   ]
  },
  {
   "cell_type": "markdown",
   "metadata": {
    "id": "BuyZCr1cDDrw"
   },
   "source": [
    "Get your data ready for visualization and modeling!"
   ]
  },
  {
   "cell_type": "markdown",
   "metadata": {
    "id": "YNUa9cpu6v0W"
   },
   "source": [
    "### <font color=\"darkorange\">Data Visualization and Exploration</font>"
   ]
  },
  {
   "cell_type": "markdown",
   "metadata": {
    "id": "a1bJsnmF61Di"
   },
   "source": [
    "Let's look at the distribution of the variable we are trying to predict."
   ]
  },
  {
   "cell_type": "code",
   "execution_count": null,
   "metadata": {
    "id": "MxTirfuR6zdm"
   },
   "outputs": [],
   "source": [
    "import seaborn as sns\n"
   ]
  },
  {
   "cell_type": "code",
   "execution_count": null,
   "metadata": {
    "id": "lpwu2z2yGu1W"
   },
   "outputs": [],
   "source": []
  },
  {
   "cell_type": "markdown",
   "metadata": {
    "id": "_2QMy34S4OwJ"
   },
   "source": [
    "### <font color=\"darkorange\">Model building and fitting</font>"
   ]
  },
  {
   "cell_type": "markdown",
   "metadata": {
    "id": "tN2B9_R-DDrw"
   },
   "source": [
    "Build your model then fit it to the data!"
   ]
  },
  {
   "cell_type": "code",
   "execution_count": null,
   "metadata": {
    "id": "WQKOYHnHEQt6"
   },
   "outputs": [],
   "source": []
  },
  {
   "cell_type": "code",
   "execution_count": null,
   "metadata": {
    "id": "lLH-aGCuEeoY"
   },
   "outputs": [],
   "source": []
  },
  {
   "cell_type": "markdown",
   "metadata": {
    "id": "1dho8TGMDDrw"
   },
   "source": [
    "How well does it perform?"
   ]
  },
  {
   "cell_type": "markdown",
   "metadata": {
    "id": "QAD3MhD-6Gl3"
   },
   "source": [
    "### <font color=\"darkorange\">Model inference </font>"
   ]
  },
  {
   "cell_type": "markdown",
   "metadata": {
    "id": "Oi9_2e-K9D3Z"
   },
   "source": [
    "Let's see what it thought was important for making predictions"
   ]
  },
  {
   "cell_type": "code",
   "execution_count": null,
   "metadata": {
    "colab": {
     "base_uri": "https://localhost:8080/",
     "height": 174
    },
    "id": "uCYFYegdEibi",
    "outputId": "21156694-a5e9-4765-c5e9-fa248c4ec06a"
   },
   "outputs": [],
   "source": []
  },
  {
   "cell_type": "code",
   "execution_count": null,
   "metadata": {
    "colab": {
     "base_uri": "https://localhost:8080/",
     "height": 466
    },
    "id": "I63G_ap1EpST",
    "outputId": "8b3b3f86-91f7-439d-e635-8341082fd153"
   },
   "outputs": [],
   "source": []
  },
  {
   "cell_type": "markdown",
   "metadata": {
    "id": "zoxxnbjRDDrx"
   },
   "source": [
    "### <font color=\"darkorange\">New data</font>\n",
    "\n",
    "1. Let me know when your group is happy with your model and I'll release some new data! We can use this new data to compare and see which group has the most useful model: it makes predictions outside the data it was built with (i.e., it generalizes well).\n",
    "\n",
    "2. **Write out a statement to the company X about how they can increase the chances that c will occur.**"
   ]
  },
  {
   "cell_type": "markdown",
   "metadata": {
    "id": "MunM-RvGDDrx"
   },
   "source": []
  },
  {
   "cell_type": "markdown",
   "metadata": {
    "id": "CdkLSIrMDDrx"
   },
   "source": [
    "### <font color=\"darkorange\">Bonus</font>"
   ]
  },
  {
   "cell_type": "markdown",
   "metadata": {
    "id": "JlUi5213DDrx"
   },
   "source": [
    "Let's try that again with the labeled dataset and see if our domain expertise can help us make a better model and better statement about how they might be able to increase c!"
   ]
  },
  {
   "cell_type": "code",
   "execution_count": null,
   "metadata": {
    "colab": {
     "base_uri": "https://localhost:8080/",
     "height": 339
    },
    "id": "G43NwrcrDDrx",
    "outputId": "4f3f135c-08cc-4be6-88dd-c8a30b8b24bb"
   },
   "outputs": [],
   "source": [
    "df = pd.read_csv('/content/company_X_labeled.csv')\n",
    "\n",
    "df"
   ]
  }
 ],
 "metadata": {
  "colab": {
   "provenance": []
  },
  "kernelspec": {
   "display_name": "Python 3",
   "name": "python3"
  },
  "language_info": {
   "name": "python",
   "version": "3.8.9"
  }
 },
 "nbformat": 4,
 "nbformat_minor": 0
}