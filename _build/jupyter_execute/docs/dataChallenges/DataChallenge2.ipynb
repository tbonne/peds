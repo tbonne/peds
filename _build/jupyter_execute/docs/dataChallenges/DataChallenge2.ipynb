{
 "cells": [
  {
   "cell_type": "markdown",
   "metadata": {
    "id": "oTMg-BpW1n-4"
   },
   "source": [
    "<img src='http://drive.google.com/uc?export=view&id=1BoSI6ZAmGc3mvjUZWGiUw9IZaPaWbV6Y' width=200>"
   ]
  },
  {
   "cell_type": "markdown",
   "metadata": {},
   "source": [
    "***"
   ]
  },
  {
   "cell_type": "markdown",
   "metadata": {
    "id": "WSOMtkWA02jB"
   },
   "source": [
    "## <font color=\"darkorange\">Class Data Challenge II</font>\n",
    "\n",
    "> Welcome to data challenge II. In this challenge we will break into groups to work on a large dataset. The goal will be to gain the highest prediction, while being able to explain how the model is making those predictions.\n",
    "\n",
    "\n",
    "**Context**  \n",
    "\n",
    "Congratulations you've just been hired by the local school board to help them make decision about how to reduce alcohol consumption in high schoolers. They have provided you with a dataset collected over the last year from anonymous students. They would like to know the following:\n",
    " \n",
    "1. Can you build a model to help identify individuals that might be high drinkers?\n",
    "\n",
    "2. What are some of the most important factors leading to these predictions?\n"
   ]
  },
  {
   "cell_type": "code",
   "execution_count": null,
   "metadata": {
    "id": "4DVGuh_R02XO"
   },
   "outputs": [],
   "source": [
    "import pandas as pd\n",
    "import numpy as np\n",
    "\n",
    "import sklearn as sk\n",
    "import pandas as pd\n",
    "import seaborn as sns\n",
    "import matplotlib.pyplot as plt\n",
    "from sklearn.model_selection import train_test_split\n",
    "from sklearn.model_selection import cross_val_score"
   ]
  },
  {
   "cell_type": "markdown",
   "metadata": {},
   "source": [
    "Load in the dataset"
   ]
  },
  {
   "cell_type": "code",
   "execution_count": null,
   "metadata": {
    "colab": {
     "base_uri": "https://localhost:8080/",
     "height": 443
    },
    "id": "KXlqQSEB0zkt",
    "outputId": "5e96d201-43c8-44a2-a280-d1131199d0e5"
   },
   "outputs": [],
   "source": [
    "df = pd.read_csv('/content/student-mat.csv')\n",
    "\n",
    "df"
   ]
  },
  {
   "cell_type": "markdown",
   "metadata": {
    "id": "baA7SMPPjD-H"
   },
   "source": [
    "### <font color=\"darkorange\">Data wrangling</font>"
   ]
  },
  {
   "cell_type": "markdown",
   "metadata": {},
   "source": [
    "Get your data ready for visualization and modeling!"
   ]
  },
  {
   "cell_type": "markdown",
   "metadata": {
    "id": "YNUa9cpu6v0W"
   },
   "source": [
    "### <font color=\"darkorange\">Data Visualization and Exploration</font>"
   ]
  },
  {
   "cell_type": "markdown",
   "metadata": {
    "id": "a1bJsnmF61Di"
   },
   "source": [
    "Let's look at the distribution of the variable we are trying to predict."
   ]
  },
  {
   "cell_type": "code",
   "execution_count": null,
   "metadata": {
    "colab": {
     "base_uri": "https://localhost:8080/",
     "height": 283
    },
    "id": "MxTirfuR6zdm",
    "outputId": "765ff27b-9202-44ff-86a4-945866de7567"
   },
   "outputs": [],
   "source": []
  },
  {
   "cell_type": "markdown",
   "metadata": {
    "id": "_2QMy34S4OwJ"
   },
   "source": [
    "### <font color=\"darkorange\">Model building and fitting</font>"
   ]
  },
  {
   "cell_type": "markdown",
   "metadata": {},
   "source": [
    "Build your model then fit it to the data!"
   ]
  },
  {
   "cell_type": "markdown",
   "metadata": {},
   "source": [
    "How well does it perform?"
   ]
  },
  {
   "cell_type": "markdown",
   "metadata": {
    "id": "QAD3MhD-6Gl3"
   },
   "source": [
    "### <font color=\"darkorange\">Model inference </font>"
   ]
  },
  {
   "cell_type": "markdown",
   "metadata": {
    "id": "Oi9_2e-K9D3Z"
   },
   "source": [
    "Let's see what it thought was important for making predictions"
   ]
  },
  {
   "cell_type": "markdown",
   "metadata": {},
   "source": [
    "### <font color=\"darkorange\">New data</font>\n",
    "\n",
    "Let me know when your group is happy with your model and I'll release some new data! We can use this new data to compare and see which group has the most useful model: it makes predictions outside the data it was built with (i.e., it generalizes well)."
   ]
  },
  {
   "cell_type": "markdown",
   "metadata": {
    "id": "baA7SMPPjD-H"
   },
   "source": [
    "### <font color=\"darkorange\">Bonus</font>"
   ]
  },
  {
   "cell_type": "markdown",
   "metadata": {},
   "source": [
    "Let's try that again with another dataset!"
   ]
  },
  {
   "cell_type": "code",
   "execution_count": null,
   "metadata": {
    "colab": {
     "base_uri": "https://localhost:8080/",
     "height": 443
    },
    "id": "KXlqQSEB0zkt",
    "outputId": "5e96d201-43c8-44a2-a280-d1131199d0e5"
   },
   "outputs": [],
   "source": [
    "df = pd.read_csv('/content/student-mat2.csv')\n",
    "\n",
    "df"
   ]
  }
 ],
 "metadata": {
  "colab": {
   "collapsed_sections": [],
   "name": "DataChallengeII_full.ipynb",
   "provenance": []
  },
  "kernelspec": {
   "display_name": "Python 3",
   "name": "python3"
  },
  "language_info": {
   "name": "python"
  }
 },
 "nbformat": 4,
 "nbformat_minor": 0
}