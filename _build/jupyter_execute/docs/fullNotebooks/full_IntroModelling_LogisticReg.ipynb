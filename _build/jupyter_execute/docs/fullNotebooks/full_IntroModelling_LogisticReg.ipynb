{
 "cells": [
  {
   "cell_type": "markdown",
   "metadata": {
    "colab_type": "text",
    "id": "view-in-github"
   },
   "source": [
    "<a href=\"https://colab.research.google.com/github/tbonne/peds/blob/main/docs/introModeling/IntroModelling_LogisticReg.ipynb\" target=\"_parent\"><img src=\"https://colab.research.google.com/assets/colab-badge.svg\" alt=\"Open In Colab\"/></a>"
   ]
  },
  {
   "cell_type": "markdown",
   "metadata": {
    "id": "0BFAQnfHmeaB"
   },
   "source": [
    "<img src='http://drive.google.com/uc?export=view&id=1bZKsW45WU9qy7y13X5QF5IYgJ58OTYm0'>"
   ]
  },
  {
   "cell_type": "markdown",
   "metadata": {},
   "source": [
    "***"
   ]
  },
  {
   "cell_type": "markdown",
   "metadata": {
    "id": "4VTsxBzT7tAb"
   },
   "source": [
    "## <font color='darkorange'>Logistic regression</font>"
   ]
  },
  {
   "cell_type": "markdown",
   "metadata": {
    "id": "03s3L0-C8Zxr"
   },
   "source": [
    "> In previous classes we have used exploritory approaches to visualize and quantify relationships between variables. We used linear regression to make predictions about numeric values (e.g., boston house prices), now we will use logistic regression models for a classification problem. Here we will try and distinguish tissue samples as positive/negative for breast cancer."
   ]
  },
  {
   "cell_type": "markdown",
   "metadata": {
    "id": "MAhpAGvgCH_5"
   },
   "source": [
    "Let's load in our growing list of python packages that we are getting used to using.\n"
   ]
  },
  {
   "cell_type": "code",
   "execution_count": null,
   "metadata": {
    "id": "JyXkhDShnx8J"
   },
   "outputs": [],
   "source": [
    "import sklearn as sk\n",
    "from sklearn.model_selection import train_test_split\n",
    "\n",
    "import pandas as pd\n",
    "import seaborn as sns\n",
    "import matplotlib.pyplot as plt\n",
    "\n",
    "import statsmodels.api as sm\n",
    "import statsmodels.formula.api as smf\n"
   ]
  },
  {
   "cell_type": "markdown",
   "metadata": {
    "id": "aZZS3rQvo7Xk"
   },
   "source": [
    "Then let's load in the breast cancer dataset, and get it into a format we can use."
   ]
  },
  {
   "cell_type": "code",
   "execution_count": null,
   "metadata": {
    "id": "Iv6LFQPupABa"
   },
   "outputs": [],
   "source": [
    "# The tissue sample dataset\n",
    "df_cancer = pd.read_csv('/content/tissueSamples.csv')\n",
    "\n",
    "#take a look\n",
    "df_cancer"
   ]
  },
  {
   "cell_type": "markdown",
   "metadata": {
    "id": "wJHjdshLGGyI"
   },
   "source": [
    "### <font color='darkorange'>Understand the data </font>"
   ]
  },
  {
   "cell_type": "markdown",
   "metadata": {
    "id": "E-eSiYP3HOlx"
   },
   "source": [
    "What kinds of data is the cancer data?\n"
   ]
  },
  {
   "cell_type": "code",
   "execution_count": null,
   "metadata": {
    "id": "3YbSSBjNHWun"
   },
   "outputs": [],
   "source": [
    "df_cancer.dtypes"
   ]
  },
  {
   "cell_type": "markdown",
   "metadata": {
    "id": "4JTcOqxPHXZh"
   },
   "source": [
    "Are there missing values anywhere?"
   ]
  },
  {
   "cell_type": "code",
   "execution_count": null,
   "metadata": {
    "id": "6hmyJub7HX6h"
   },
   "outputs": [],
   "source": [
    "df_cancer.isna().sum()"
   ]
  },
  {
   "cell_type": "markdown",
   "metadata": {
    "id": "IRu_wGLKG5qK"
   },
   "source": [
    "### <font color='darkorange'>Visualize and Explore </font>"
   ]
  },
  {
   "cell_type": "markdown",
   "metadata": {
    "id": "mEcsEoBeFpYa"
   },
   "source": [
    "Histogram of the target variable"
   ]
  },
  {
   "cell_type": "code",
   "execution_count": null,
   "metadata": {
    "id": "RNIgmjtjFrz5"
   },
   "outputs": [],
   "source": [
    "sns.displot(data=df_cancer,x='benign')"
   ]
  },
  {
   "cell_type": "markdown",
   "metadata": {
    "id": "g87llbBEG-J4"
   },
   "source": [
    "Plot the target variable (benign) on the y-axis with another variable on the x-axis. Try out a few different variables on the x-axis."
   ]
  },
  {
   "cell_type": "code",
   "execution_count": null,
   "metadata": {
    "id": "STIJY6mXGGh3"
   },
   "outputs": [],
   "source": [
    "sns.scatterplot(data=df_cancer, x=\"benign\",y=\"mean_radius\")"
   ]
  },
  {
   "cell_type": "markdown",
   "metadata": {
    "id": "kBlzvYeAHb_p"
   },
   "source": [
    "Create a heat map to help you explore"
   ]
  },
  {
   "cell_type": "code",
   "execution_count": null,
   "metadata": {
    "id": "gIxHKp43JMzO"
   },
   "outputs": [],
   "source": [
    "#calculate the correlations between each variable\n",
    "df_cancer_corr = df_cancer.corr()\n",
    "\n",
    "#plot the correlations in a heat map (hotter = higher correlation)\n",
    "sns.heatmap(data=df_cancer_corr)"
   ]
  },
  {
   "cell_type": "markdown",
   "metadata": {
    "id": "GFsEVUnqquWz"
   },
   "source": [
    "### <font color='darkorange'>Data wrangeling </font>"
   ]
  },
  {
   "cell_type": "markdown",
   "metadata": {
    "id": "HYoCKQeQsVBl"
   },
   "source": [
    "#### Data preprocessing (binary variables)"
   ]
  },
  {
   "cell_type": "code",
   "execution_count": null,
   "metadata": {
    "id": "Mc_Ru7FRsdJ9"
   },
   "outputs": [],
   "source": [
    "from sklearn.preprocessing import OrdinalEncoder\n",
    "\n",
    "#get the columns names of features you'd like to turn into 0/1\n",
    "bin_names = ['benign']\n",
    "\n",
    "#create a dataframe of those features\n",
    "bin_features = df_cancer[bin_names]\n",
    "\n",
    "#fit the scaler to those data\n",
    "bin_scaler = OrdinalEncoder().fit(bin_features.values)\n",
    "\n",
    "#use the scaler to transform your data\n",
    "bin_features = bin_scaler.transform(bin_features.values)\n",
    "\n",
    "#put these scaled features back into your transformed features dataframe\n",
    "df_cancer[bin_names] = bin_features\n",
    "\n",
    "#take a look\n",
    "df_cancer"
   ]
  },
  {
   "cell_type": "code",
   "execution_count": null,
   "metadata": {
    "id": "dl4BZFyoM6qq"
   },
   "outputs": [],
   "source": [
    "bin_scaler.categories_"
   ]
  },
  {
   "cell_type": "markdown",
   "metadata": {
    "id": "RWiQn1gHs4i5"
   },
   "source": [
    "#### Data preprocessing (categorical variables)"
   ]
  },
  {
   "cell_type": "markdown",
   "metadata": {
    "id": "O2wZLBstt_rV"
   },
   "source": [
    "Technician ID number is a categorical value, but it is being treated as a number (int64). Let's convert it to a category."
   ]
  },
  {
   "cell_type": "code",
   "execution_count": null,
   "metadata": {
    "id": "6hLs5unAN0kb"
   },
   "outputs": [],
   "source": [
    "df_cancer['technician'] = df_cancer.technician.astype('category')"
   ]
  },
  {
   "cell_type": "code",
   "execution_count": null,
   "metadata": {
    "id": "X2loCli-s0SF"
   },
   "outputs": [],
   "source": [
    "\n",
    "#categorical variables\n",
    "cat_names = ['technician']\n",
    "\n",
    "#create dummy variables\n",
    "df_cat = pd.get_dummies(df_cancer[cat_names])\n",
    "\n",
    "#add them back to the original dataframe\n",
    "df_cancer = pd.concat([df_cancer,df_cat], axis=1)\n",
    "\n",
    "#remove the old columns\n",
    "df_cancer = df_cancer.drop(cat_names, axis=1)\n",
    "\n",
    "#take a look\n",
    "df_cancer"
   ]
  },
  {
   "cell_type": "markdown",
   "metadata": {
    "id": "n8C4RUB7RYCG"
   },
   "source": [
    "#### Split our dataframe into training and testing datasets"
   ]
  },
  {
   "cell_type": "code",
   "execution_count": null,
   "metadata": {
    "id": "eZEdEuROIFNC"
   },
   "outputs": [],
   "source": [
    "#split the data into training and testing (80/20 split)\n",
    "df_train, df_test = sk.model_selection.train_test_split(df_cancer, test_size=0.20)\n"
   ]
  },
  {
   "cell_type": "code",
   "execution_count": null,
   "metadata": {
    "id": "2CmwRtpxS7Vf"
   },
   "outputs": [],
   "source": [
    "#take a look training dataset\n",
    "df_train.shape"
   ]
  },
  {
   "cell_type": "code",
   "execution_count": null,
   "metadata": {
    "id": "HdMXfjuFSNfq"
   },
   "outputs": [],
   "source": [
    "#take a look\n",
    "df_test.shape\n"
   ]
  },
  {
   "cell_type": "markdown",
   "metadata": {
    "id": "gk9WNnywF7Cw"
   },
   "source": [
    "### Data pre-processing (numeric)"
   ]
  },
  {
   "cell_type": "code",
   "execution_count": null,
   "metadata": {
    "id": "7dXBfXA8F9UD"
   },
   "outputs": [],
   "source": [
    "#Feature Scaling (after spliting the data!)\n",
    "from sklearn.preprocessing import StandardScaler \n",
    "\n",
    "#numeric variables\n",
    "numb_names = df_train.drop(['benign','technician_1','technician_2','technician_3','technician_4'],axis=1).select_dtypes('number').columns.tolist()\n",
    "\n",
    "#create the standard scaler object\n",
    "sc = StandardScaler()\n",
    "\n",
    "#use this object to fit (i.e., to calculate the mean and sd of each variable in the training data) and then to transform the training data\n",
    "df_train[numb_names] = sc.fit_transform(df_train[numb_names])\n",
    "\n",
    "#use the fit from the training data to transform the test data\n",
    "df_test[numb_names] = sc.transform(df_test[numb_names])\n"
   ]
  },
  {
   "cell_type": "markdown",
   "metadata": {
    "id": "d5JdBUC5HlCl"
   },
   "source": [
    "\n",
    "### <font color='darkorange'>Modeling and Prediction</font>"
   ]
  },
  {
   "cell_type": "markdown",
   "metadata": {
    "id": "xlIVmLX7HqMm"
   },
   "source": [
    "> Let's look building our second kind of model -- logistic regression! How well can we predict the benign cases? This is similar to clustering analysis except we have the labels! Can we train a model to make the right predictions?\n",
    "<br>\n",
    "We will follow a general approach when building models. We will divide the dataset into *training* and *testing* datasets. \n",
    "<br>\n",
    "This lets us fit the model to one part of the data and then use the withheld data to test the predictions of the model. This helps us avoid *overfitting* our model!"
   ]
  },
  {
   "cell_type": "markdown",
   "metadata": {
    "id": "moh5HFYwTKoz"
   },
   "source": [
    "### Fit a model"
   ]
  },
  {
   "cell_type": "markdown",
   "metadata": {
    "id": "_YLTO-6TN-wq"
   },
   "source": [
    "<img src='http://drive.google.com/uc?export=view&id=1WC4tXGCEF-1_2LQ74gIxJAZ-GLXCwBdK' width=\"100\" align = 'left'>  "
   ]
  },
  {
   "cell_type": "markdown",
   "metadata": {
    "id": "dIvVVDYnN_uq"
   },
   "source": [
    "Below choose a variable to predict if the tissue sample is benign or not."
   ]
  },
  {
   "cell_type": "markdown",
   "metadata": {
    "id": "vrThvCCaTbqR"
   },
   "source": [
    "In general when using sklearn to fit a model we will follow these steps:"
   ]
  },
  {
   "cell_type": "code",
   "execution_count": null,
   "metadata": {
    "id": "jI65cVtTTbFd"
   },
   "outputs": [],
   "source": [
    "#define model parameters\n",
    "log_reg = smf.logit('benign ~ mean_symmetry', data=df_train)\n",
    "\n",
    "#fit the model to the training data\n",
    "results = log_reg.fit()\n",
    "\n",
    "#Get a summary of the model parameters\n",
    "print(results.summary())\n"
   ]
  },
  {
   "cell_type": "markdown",
   "metadata": {
    "id": "GmYUjT27dbBy"
   },
   "source": [
    "#### Visualize and explore the model predictions"
   ]
  },
  {
   "cell_type": "markdown",
   "metadata": {
    "id": "_s_PldxndpS3"
   },
   "source": [
    "Let's look at where the model to a good/bad job of classifying images into benign or not!"
   ]
  },
  {
   "cell_type": "code",
   "execution_count": null,
   "metadata": {
    "id": "OYucuvmqj0uN"
   },
   "outputs": [],
   "source": [
    "#let's first predict values in the testing dataset\n",
    "df_test['benign_prob'] = results.predict(df_test).round(2)\n",
    "\n",
    "df_test['benign_pred'] = (df_test['benign_prob']>0.5).astype(int) #here we've used 0.5 as the threshold of benign or not!\n",
    "\n",
    "df_test"
   ]
  },
  {
   "cell_type": "markdown",
   "metadata": {
    "id": "V4YdwcpskQyC"
   },
   "source": [
    "Let's plot the predicted and observed points!"
   ]
  },
  {
   "cell_type": "code",
   "execution_count": null,
   "metadata": {
    "id": "EZxBRFwqdwd5"
   },
   "outputs": [],
   "source": [
    "sns.scatterplot(data=df_test,x='mean_symmetry', y='benign')"
   ]
  },
  {
   "cell_type": "code",
   "execution_count": null,
   "metadata": {
    "id": "-OgHBdczgYn1"
   },
   "outputs": [],
   "source": [
    "sns.scatterplot(data=df_test,x='mean_symmetry', y='benign')\n",
    "sns.scatterplot(data=df_test,x='mean_symmetry', y='benign_pred')"
   ]
  },
  {
   "cell_type": "markdown",
   "metadata": {
    "id": "C0MmbEZ7dq5e"
   },
   "source": [
    "<img src='http://drive.google.com/uc?export=view&id=1qWrKY9TgpgQaBCzZfz1xLTV6iCeSwfmG' width=\"100\" align = 'left'>"
   ]
  },
  {
   "cell_type": "markdown",
   "metadata": {
    "id": "S7gvWHDrbuK1"
   },
   "source": [
    "How good is the model at classifying?"
   ]
  },
  {
   "cell_type": "code",
   "execution_count": null,
   "metadata": {
    "id": "ksoip4-QFDYe"
   },
   "outputs": [],
   "source": [
    "#confusion table\n",
    "confusion_matrix = sk.metrics.confusion_matrix(df_test['benign'], df_test['benign_pred'])\n",
    "print(confusion_matrix)"
   ]
  },
  {
   "cell_type": "code",
   "execution_count": null,
   "metadata": {
    "id": "AhYeBHZJMn2u"
   },
   "outputs": [],
   "source": [
    "#more visual approach\n",
    "sns.heatmap(confusion_matrix, annot=True)\n",
    "plt.xlabel('Predicted label')\n",
    "plt.ylabel('True label')"
   ]
  },
  {
   "cell_type": "markdown",
   "metadata": {
    "id": "bEvZvpW3FFdB"
   },
   "source": [
    "Measuring classification success:"
   ]
  },
  {
   "cell_type": "code",
   "execution_count": null,
   "metadata": {
    "id": "T-3K34M6clh1"
   },
   "outputs": [],
   "source": [
    "print('Accuracy: {:.2f}'.format(sk.metrics.accuracy_score(df_test['benign'], df_test['benign_pred'])))\n",
    "print('precision: {:.2f}'.format(sk.metrics.precision_score(df_test['benign'], df_test['benign_pred'])))\n",
    "print('recal: {:.2f}'.format(sk.metrics.recall_score(df_test['benign'], df_test['benign_pred'])))\n"
   ]
  },
  {
   "cell_type": "markdown",
   "metadata": {
    "id": "8wk1MP3yPt41"
   },
   "source": [
    "> **Accuracy** is the overall ability of the model to correctly identify positive and negative samples.\n",
    "\n",
    "> **Precision** is intuitively the ability of the classifier to not label a sample as positive if it is negative.\n",
    "\n",
    "> **Recall** is intuitively the ability of the classifier to find all the positive samples."
   ]
  },
  {
   "cell_type": "markdown",
   "metadata": {
    "id": "imuhCYCRwAKW"
   },
   "source": [
    "Compare that accuracy if we just predicted the most common type (i.e., let's compute a baseline!)"
   ]
  },
  {
   "cell_type": "code",
   "execution_count": null,
   "metadata": {
    "id": "nZtsrN4AwHZG"
   },
   "outputs": [],
   "source": [
    "df_cancer.benign.value_counts()"
   ]
  },
  {
   "cell_type": "code",
   "execution_count": null,
   "metadata": {
    "id": "mBePam8lwMDT"
   },
   "outputs": [],
   "source": [
    "357/(212+357)"
   ]
  },
  {
   "cell_type": "markdown",
   "metadata": {
    "id": "d2iuYitVkb3O"
   },
   "source": [
    "Is all that variation noise? Or maybe there are other variables that might explain why the predictions are off."
   ]
  },
  {
   "cell_type": "markdown",
   "metadata": {
    "id": "SS_vxHN7vpBg"
   },
   "source": [
    "<img src='http://drive.google.com/uc?export=view&id=1qWrKY9TgpgQaBCzZfz1xLTV6iCeSwfmG' width=\"100\" align = 'left'>"
   ]
  },
  {
   "cell_type": "markdown",
   "metadata": {
    "id": "6L3gTa8Ik_6I"
   },
   "source": [
    "### Fit a more complex model"
   ]
  },
  {
   "cell_type": "markdown",
   "metadata": {
    "id": "S4pSaQXslLVk"
   },
   "source": [
    "This time we will try logistic regression with many predictors. How high can you get the accuracy?"
   ]
  },
  {
   "cell_type": "markdown",
   "metadata": {
    "id": "uUm_ZfRBvhs5"
   },
   "source": [
    "<img src='http://drive.google.com/uc?export=view&id=1WC4tXGCEF-1_2LQ74gIxJAZ-GLXCwBdK' width=\"100\" align = 'left'>  "
   ]
  },
  {
   "cell_type": "code",
   "execution_count": null,
   "metadata": {
    "id": "LcG4MXuolVpB"
   },
   "outputs": [],
   "source": [
    "#get all the column names, with a + between them, as a string\n",
    "all_columns = \"+\".join(df_train.drop(['benign','technician_1'],axis=1).columns )\n",
    "\n",
    "#write the formula\n",
    "my_formula = \"benign~\" + all_columns\n",
    "\n",
    "#define model parameters\n",
    "log_reg2 = smf.logit(my_formula , data=df_train)\n",
    "\n",
    "#fit the model to the training data\n",
    "results2 = log_reg2.fit(method='bfgs')\n",
    "\n",
    "#Get a summary of the model parameters\n",
    "print(results2.summary())\n"
   ]
  },
  {
   "cell_type": "markdown",
   "metadata": {
    "id": "8yeNY-fNlVpo"
   },
   "source": [
    "Visualize and explore these predictions"
   ]
  },
  {
   "cell_type": "code",
   "execution_count": null,
   "metadata": {
    "id": "Ql6ferivj2v4"
   },
   "outputs": [],
   "source": [
    "#let's first predict values in the testing dataset\n",
    "df_test['benign_prob_multi'] = results2.predict(df_test).round(2)\n",
    "\n",
    "df_test['benign_pred_multi'] = (df_test['benign_prob_multi']>0.5).astype(int) #here we've used 0.5 as the threshold of benign or not!\n",
    "\n",
    "df_test"
   ]
  },
  {
   "cell_type": "markdown",
   "metadata": {
    "id": "UkNy9y6XlVpp"
   },
   "source": [
    "First let's look at how the model fit to the training data. Now that we have two predictors we'll have to look at one at a time.\n",
    "</br>\n",
    "Let's look at RM first:"
   ]
  },
  {
   "cell_type": "markdown",
   "metadata": {
    "id": "NHsjIRSOlVpu"
   },
   "source": [
    "How good is the model at predicting?"
   ]
  },
  {
   "cell_type": "code",
   "execution_count": null,
   "metadata": {
    "id": "aFLuCoA1TFjY"
   },
   "outputs": [],
   "source": [
    "#confusion table\n",
    "confusion_matrix2 = sk.metrics.confusion_matrix(df_test['benign'], df_test['benign_pred_multi'])\n",
    "print(confusion_matrix2)"
   ]
  },
  {
   "cell_type": "code",
   "execution_count": null,
   "metadata": {
    "id": "IyradqCwTFj4"
   },
   "outputs": [],
   "source": [
    "#more visual approach\n",
    "sns.heatmap(confusion_matrix2, annot=True)\n",
    "plt.xlabel('Predicted label')\n",
    "plt.ylabel('True label')"
   ]
  },
  {
   "cell_type": "markdown",
   "metadata": {
    "id": "CxIVSJErTFj7"
   },
   "source": [
    "Measuring classification success:"
   ]
  },
  {
   "cell_type": "code",
   "execution_count": null,
   "metadata": {
    "id": "LoOHb_z4TFj7"
   },
   "outputs": [],
   "source": [
    "print('Accuracy: {:.2f}'.format(sk.metrics.accuracy_score(df_test['benign'], df_test['benign_pred_multi'])))\n",
    "print('Precision: {:.2f}'.format(sk.metrics.precision_score(df_test['benign'], df_test['benign_pred_multi'])))\n",
    "print('Recall: {:.2f}'.format(sk.metrics.recall_score(df_test['benign'], df_test['benign_pred_multi'])))"
   ]
  },
  {
   "cell_type": "markdown",
   "metadata": {
    "id": "0ng0E-HeTgiB"
   },
   "source": [
    "> **Accuracy** is the fraction of predictions our model got right.\n",
    "\n",
    "> **Precision** is intuitively the ability of the classifier to not label a sample as positive if it is negative.\n",
    "\n",
    "> **Recall** is intuitively the ability of the classifier to find all the positive samples."
   ]
  },
  {
   "cell_type": "markdown",
   "metadata": {
    "id": "03Ocqib_Yqqu"
   },
   "source": [
    "### <font color='darkorange'>Bonus </font>\n"
   ]
  },
  {
   "cell_type": "markdown",
   "metadata": {},
   "source": [
    "**Titanic survivors**"
   ]
  },
  {
   "cell_type": "markdown",
   "metadata": {
    "id": "IDtR4pZx5Z6v"
   },
   "source": [
    "Let's see if we can use what we learnt today to predict who survived the titanic sinking, and what features help us to make these predictions.\n",
    "\n",
    "> I've taken a random 20% sample from the titanic data. Try and build a model on the data you have (titanic_subsample.csv - in the shared data folder) that can best predict who will survive.\n",
    "\n",
    "> when you think you've got a good model, let me know on slack and i'll give you the with-held sample. You can then estimate your models performance!"
   ]
  },
  {
   "cell_type": "code",
   "execution_count": null,
   "metadata": {
    "colab": {
     "base_uri": "https://localhost:8080/",
     "height": 486
    },
    "id": "sZ0zdUOa5swV",
    "outputId": "816bb1eb-601d-4682-ecb5-794e6f011a86"
   },
   "outputs": [
    {
     "data": {
      "text/html": [
       "<div>\n",
       "<style scoped>\n",
       "    .dataframe tbody tr th:only-of-type {\n",
       "        vertical-align: middle;\n",
       "    }\n",
       "\n",
       "    .dataframe tbody tr th {\n",
       "        vertical-align: top;\n",
       "    }\n",
       "\n",
       "    .dataframe thead th {\n",
       "        text-align: right;\n",
       "    }\n",
       "</style>\n",
       "<table border=\"1\" class=\"dataframe\">\n",
       "  <thead>\n",
       "    <tr style=\"text-align: right;\">\n",
       "      <th></th>\n",
       "      <th>PassengerId</th>\n",
       "      <th>Survived</th>\n",
       "      <th>Pclass</th>\n",
       "      <th>Name</th>\n",
       "      <th>Sex</th>\n",
       "      <th>Age</th>\n",
       "      <th>SibSp</th>\n",
       "      <th>Parch</th>\n",
       "      <th>Ticket</th>\n",
       "      <th>Fare</th>\n",
       "      <th>Cabin</th>\n",
       "      <th>Embarked</th>\n",
       "      <th>WikiId</th>\n",
       "      <th>Name_wiki</th>\n",
       "      <th>Age_wiki</th>\n",
       "      <th>Hometown</th>\n",
       "      <th>Boarded</th>\n",
       "      <th>Destination</th>\n",
       "      <th>Lifeboat</th>\n",
       "      <th>Body</th>\n",
       "      <th>Class</th>\n",
       "    </tr>\n",
       "  </thead>\n",
       "  <tbody>\n",
       "    <tr>\n",
       "      <th>0</th>\n",
       "      <td>1134</td>\n",
       "      <td>NaN</td>\n",
       "      <td>1</td>\n",
       "      <td>Spedden, Mr. Frederic Oakley</td>\n",
       "      <td>male</td>\n",
       "      <td>45.0</td>\n",
       "      <td>1</td>\n",
       "      <td>1</td>\n",
       "      <td>16966</td>\n",
       "      <td>134.500</td>\n",
       "      <td>E34</td>\n",
       "      <td>C</td>\n",
       "      <td>269.0</td>\n",
       "      <td>Spedden, Mr. Frederic Oakley</td>\n",
       "      <td>45.0</td>\n",
       "      <td>Tuxedo Park, New York, US</td>\n",
       "      <td>Cherbourg</td>\n",
       "      <td>Tuxedo Park, New York, US</td>\n",
       "      <td>3</td>\n",
       "      <td>NaN</td>\n",
       "      <td>1.0</td>\n",
       "    </tr>\n",
       "    <tr>\n",
       "      <th>1</th>\n",
       "      <td>962</td>\n",
       "      <td>NaN</td>\n",
       "      <td>3</td>\n",
       "      <td>Mulvihill, Miss. Bertha E</td>\n",
       "      <td>female</td>\n",
       "      <td>24.0</td>\n",
       "      <td>0</td>\n",
       "      <td>0</td>\n",
       "      <td>382653</td>\n",
       "      <td>7.750</td>\n",
       "      <td>NaN</td>\n",
       "      <td>Q</td>\n",
       "      <td>1048.0</td>\n",
       "      <td>Mulvihill, Miss Bridget Elizabeth \"Bertha\"</td>\n",
       "      <td>25.0</td>\n",
       "      <td>Athlone, Westmeath, Ireland</td>\n",
       "      <td>Queenstown</td>\n",
       "      <td>Providence, Rhode Island, US</td>\n",
       "      <td>15</td>\n",
       "      <td>NaN</td>\n",
       "      <td>3.0</td>\n",
       "    </tr>\n",
       "    <tr>\n",
       "      <th>2</th>\n",
       "      <td>185</td>\n",
       "      <td>1.0</td>\n",
       "      <td>3</td>\n",
       "      <td>Kink-Heilmann, Miss. Luise Gretchen</td>\n",
       "      <td>female</td>\n",
       "      <td>4.0</td>\n",
       "      <td>0</td>\n",
       "      <td>2</td>\n",
       "      <td>315153</td>\n",
       "      <td>22.025</td>\n",
       "      <td>NaN</td>\n",
       "      <td>S</td>\n",
       "      <td>940.0</td>\n",
       "      <td>Kink, Miss Luise Gretchen</td>\n",
       "      <td>4.0</td>\n",
       "      <td>Zürich, Switzerland</td>\n",
       "      <td>Southampton</td>\n",
       "      <td>Milwaukee, Wisconsin, US</td>\n",
       "      <td>2</td>\n",
       "      <td>NaN</td>\n",
       "      <td>3.0</td>\n",
       "    </tr>\n",
       "    <tr>\n",
       "      <th>3</th>\n",
       "      <td>769</td>\n",
       "      <td>0.0</td>\n",
       "      <td>3</td>\n",
       "      <td>Moran, Mr. Daniel J</td>\n",
       "      <td>male</td>\n",
       "      <td>NaN</td>\n",
       "      <td>1</td>\n",
       "      <td>0</td>\n",
       "      <td>371110</td>\n",
       "      <td>24.150</td>\n",
       "      <td>NaN</td>\n",
       "      <td>Q</td>\n",
       "      <td>1038.0</td>\n",
       "      <td>Moran, Mr. Daniel James</td>\n",
       "      <td>27.0</td>\n",
       "      <td>Askeaton, Limerick, Ireland</td>\n",
       "      <td>Queenstown</td>\n",
       "      <td>Brooklyn, New York, US</td>\n",
       "      <td>NaN</td>\n",
       "      <td>NaN</td>\n",
       "      <td>3.0</td>\n",
       "    </tr>\n",
       "    <tr>\n",
       "      <th>4</th>\n",
       "      <td>1050</td>\n",
       "      <td>NaN</td>\n",
       "      <td>1</td>\n",
       "      <td>Borebank, Mr. John James</td>\n",
       "      <td>male</td>\n",
       "      <td>42.0</td>\n",
       "      <td>0</td>\n",
       "      <td>0</td>\n",
       "      <td>110489</td>\n",
       "      <td>26.550</td>\n",
       "      <td>D22</td>\n",
       "      <td>S</td>\n",
       "      <td>37.0</td>\n",
       "      <td>Borebank, Mr. John James</td>\n",
       "      <td>42.0</td>\n",
       "      <td>London, England, UK</td>\n",
       "      <td>Southampton</td>\n",
       "      <td>Toronto, Ontario, Canada</td>\n",
       "      <td>NaN</td>\n",
       "      <td>NaN</td>\n",
       "      <td>1.0</td>\n",
       "    </tr>\n",
       "  </tbody>\n",
       "</table>\n",
       "</div>"
      ],
      "text/plain": [
       "   PassengerId  Survived  Pclass  ... Lifeboat Body  Class\n",
       "0         1134       NaN       1  ...        3  NaN    1.0\n",
       "1          962       NaN       3  ...       15  NaN    3.0\n",
       "2          185       1.0       3  ...        2  NaN    3.0\n",
       "3          769       0.0       3  ...      NaN  NaN    3.0\n",
       "4         1050       NaN       1  ...      NaN  NaN    1.0\n",
       "\n",
       "[5 rows x 21 columns]"
      ]
     },
     "metadata": {},
     "output_type": "display_data"
    }
   ],
   "source": [
    "df_titanic = pd.read_csv('titanic_subset.csv')\n",
    "\n",
    "df_titanic.head(5)"
   ]
  },
  {
   "cell_type": "markdown",
   "metadata": {
    "id": "yILa1g5052Qj"
   },
   "source": [
    "## Data understanding"
   ]
  },
  {
   "cell_type": "code",
   "execution_count": null,
   "metadata": {
    "colab": {
     "base_uri": "https://localhost:8080/",
     "height": 300
    },
    "id": "CI7uRfHX54qE",
    "outputId": "7e8d80ad-a9ff-459d-b429-eb0044f71400"
   },
   "outputs": [
    {
     "data": {
      "text/html": [
       "<div>\n",
       "<style scoped>\n",
       "    .dataframe tbody tr th:only-of-type {\n",
       "        vertical-align: middle;\n",
       "    }\n",
       "\n",
       "    .dataframe tbody tr th {\n",
       "        vertical-align: top;\n",
       "    }\n",
       "\n",
       "    .dataframe thead th {\n",
       "        text-align: right;\n",
       "    }\n",
       "</style>\n",
       "<table border=\"1\" class=\"dataframe\">\n",
       "  <thead>\n",
       "    <tr style=\"text-align: right;\">\n",
       "      <th></th>\n",
       "      <th>PassengerId</th>\n",
       "      <th>Survived</th>\n",
       "      <th>Pclass</th>\n",
       "      <th>Age</th>\n",
       "      <th>SibSp</th>\n",
       "      <th>Parch</th>\n",
       "      <th>Fare</th>\n",
       "      <th>WikiId</th>\n",
       "      <th>Age_wiki</th>\n",
       "      <th>Class</th>\n",
       "    </tr>\n",
       "  </thead>\n",
       "  <tbody>\n",
       "    <tr>\n",
       "      <th>count</th>\n",
       "      <td>1047.000000</td>\n",
       "      <td>710.000000</td>\n",
       "      <td>1047.000000</td>\n",
       "      <td>843.000000</td>\n",
       "      <td>1047.000000</td>\n",
       "      <td>1047.000000</td>\n",
       "      <td>1046.000000</td>\n",
       "      <td>1044.000000</td>\n",
       "      <td>1042.000000</td>\n",
       "      <td>1044.000000</td>\n",
       "    </tr>\n",
       "    <tr>\n",
       "      <th>mean</th>\n",
       "      <td>655.062082</td>\n",
       "      <td>0.391549</td>\n",
       "      <td>2.271251</td>\n",
       "      <td>30.413310</td>\n",
       "      <td>0.446036</td>\n",
       "      <td>0.360076</td>\n",
       "      <td>33.598908</td>\n",
       "      <td>645.529693</td>\n",
       "      <td>29.921459</td>\n",
       "      <td>2.268199</td>\n",
       "    </tr>\n",
       "    <tr>\n",
       "      <th>std</th>\n",
       "      <td>376.099338</td>\n",
       "      <td>0.488441</td>\n",
       "      <td>0.840516</td>\n",
       "      <td>14.284108</td>\n",
       "      <td>0.916547</td>\n",
       "      <td>0.825763</td>\n",
       "      <td>53.850500</td>\n",
       "      <td>376.820248</td>\n",
       "      <td>13.688834</td>\n",
       "      <td>0.843965</td>\n",
       "    </tr>\n",
       "    <tr>\n",
       "      <th>min</th>\n",
       "      <td>1.000000</td>\n",
       "      <td>0.000000</td>\n",
       "      <td>1.000000</td>\n",
       "      <td>0.170000</td>\n",
       "      <td>0.000000</td>\n",
       "      <td>0.000000</td>\n",
       "      <td>0.000000</td>\n",
       "      <td>1.000000</td>\n",
       "      <td>0.170000</td>\n",
       "      <td>1.000000</td>\n",
       "    </tr>\n",
       "    <tr>\n",
       "      <th>25%</th>\n",
       "      <td>327.500000</td>\n",
       "      <td>0.000000</td>\n",
       "      <td>1.000000</td>\n",
       "      <td>21.000000</td>\n",
       "      <td>0.000000</td>\n",
       "      <td>0.000000</td>\n",
       "      <td>7.895800</td>\n",
       "      <td>316.750000</td>\n",
       "      <td>21.000000</td>\n",
       "      <td>1.000000</td>\n",
       "    </tr>\n",
       "    <tr>\n",
       "      <th>50%</th>\n",
       "      <td>656.000000</td>\n",
       "      <td>0.000000</td>\n",
       "      <td>3.000000</td>\n",
       "      <td>28.500000</td>\n",
       "      <td>0.000000</td>\n",
       "      <td>0.000000</td>\n",
       "      <td>14.454200</td>\n",
       "      <td>646.500000</td>\n",
       "      <td>28.000000</td>\n",
       "      <td>3.000000</td>\n",
       "    </tr>\n",
       "    <tr>\n",
       "      <th>75%</th>\n",
       "      <td>983.500000</td>\n",
       "      <td>1.000000</td>\n",
       "      <td>3.000000</td>\n",
       "      <td>39.000000</td>\n",
       "      <td>1.000000</td>\n",
       "      <td>0.000000</td>\n",
       "      <td>30.695800</td>\n",
       "      <td>961.250000</td>\n",
       "      <td>38.000000</td>\n",
       "      <td>3.000000</td>\n",
       "    </tr>\n",
       "    <tr>\n",
       "      <th>max</th>\n",
       "      <td>1309.000000</td>\n",
       "      <td>1.000000</td>\n",
       "      <td>3.000000</td>\n",
       "      <td>80.000000</td>\n",
       "      <td>8.000000</td>\n",
       "      <td>9.000000</td>\n",
       "      <td>512.329200</td>\n",
       "      <td>1314.000000</td>\n",
       "      <td>74.000000</td>\n",
       "      <td>3.000000</td>\n",
       "    </tr>\n",
       "  </tbody>\n",
       "</table>\n",
       "</div>"
      ],
      "text/plain": [
       "       PassengerId    Survived  ...     Age_wiki        Class\n",
       "count  1047.000000  710.000000  ...  1042.000000  1044.000000\n",
       "mean    655.062082    0.391549  ...    29.921459     2.268199\n",
       "std     376.099338    0.488441  ...    13.688834     0.843965\n",
       "min       1.000000    0.000000  ...     0.170000     1.000000\n",
       "25%     327.500000    0.000000  ...    21.000000     1.000000\n",
       "50%     656.000000    0.000000  ...    28.000000     3.000000\n",
       "75%     983.500000    1.000000  ...    38.000000     3.000000\n",
       "max    1309.000000    1.000000  ...    74.000000     3.000000\n",
       "\n",
       "[8 rows x 10 columns]"
      ]
     },
     "metadata": {},
     "output_type": "display_data"
    }
   ],
   "source": [
    "df_titanic.describe()"
   ]
  },
  {
   "cell_type": "code",
   "execution_count": null,
   "metadata": {
    "colab": {
     "base_uri": "https://localhost:8080/"
    },
    "id": "Z-uP5LAvRCHU",
    "outputId": "f45e8331-eea1-461d-885b-a369897e0e26"
   },
   "outputs": [
    {
     "data": {
      "text/plain": [
       "PassengerId    0.000000\n",
       "Survived       0.321872\n",
       "Pclass         0.000000\n",
       "Name           0.000000\n",
       "Sex            0.000000\n",
       "Age            0.194842\n",
       "SibSp          0.000000\n",
       "Parch          0.000000\n",
       "Ticket         0.000000\n",
       "Fare           0.000955\n",
       "Cabin          0.771729\n",
       "Embarked       0.000955\n",
       "WikiId         0.002865\n",
       "Name_wiki      0.002865\n",
       "Age_wiki       0.004776\n",
       "Hometown       0.002865\n",
       "Boarded        0.002865\n",
       "Destination    0.002865\n",
       "Lifeboat       0.617001\n",
       "Body           0.894938\n",
       "Class          0.002865\n",
       "dtype: float64"
      ]
     },
     "metadata": {},
     "output_type": "display_data"
    }
   ],
   "source": [
    "df_titanic.isna().sum() / len(df_titanic)"
   ]
  },
  {
   "cell_type": "code",
   "execution_count": null,
   "metadata": {
    "colab": {
     "base_uri": "https://localhost:8080/"
    },
    "id": "CTX9X4t5SfMv",
    "outputId": "eec030e3-6450-4bf3-f549-2f6001a28130"
   },
   "outputs": [
    {
     "data": {
      "text/plain": [
       "3    550\n",
       "1    266\n",
       "2    231\n",
       "Name: Pclass, dtype: int64"
      ]
     },
     "metadata": {},
     "output_type": "display_data"
    }
   ],
   "source": [
    "#Is pclass a ordinal variable... if so, how many data points in each class.\n",
    "df_titanic.Pclass.value_counts()"
   ]
  },
  {
   "cell_type": "code",
   "execution_count": null,
   "metadata": {
    "colab": {
     "base_uri": "https://localhost:8080/"
    },
    "id": "SjoKEadJZscW",
    "outputId": "c298f529-56b0-4333-a621-3afb1504fb8b"
   },
   "outputs": [
    {
     "data": {
      "text/plain": [
       "S    741\n",
       "C    214\n",
       "Q     91\n",
       "Name: Embarked, dtype: int64"
      ]
     },
     "metadata": {},
     "output_type": "display_data"
    }
   ],
   "source": [
    "df_titanic.Embarked.value_counts()"
   ]
  },
  {
   "cell_type": "code",
   "execution_count": null,
   "metadata": {
    "colab": {
     "base_uri": "https://localhost:8080/",
     "height": 283
    },
    "id": "MqhdvMFdSoMF",
    "outputId": "5921d2df-3a37-4196-8be3-1c9bfd6a0ff6"
   },
   "outputs": [
    {
     "data": {
      "text/plain": [
       "<matplotlib.axes._subplots.AxesSubplot at 0x7fe449243450>"
      ]
     },
     "metadata": {},
     "output_type": "display_data"
    },
    {
     "data": {
      "image/png": "[encoded data removed]",
      "text/plain": [
       "<Figure size 432x288 with 1 Axes>"
      ]
     },
     "metadata": {
      "filenames": {
       "image/png": "/Users/tyler/Documents/GitHub/peds/_build/jupyter_execute/docs/fullNotebooks/full_IntroModelling_LogisticReg_82_1.png"
      }
     },
     "output_type": "display_data"
    }
   ],
   "source": [
    "#what does the distribution of ages look like?\n",
    "df_titanic.Age_wiki.hist()"
   ]
  },
  {
   "cell_type": "code",
   "execution_count": null,
   "metadata": {
    "colab": {
     "base_uri": "https://localhost:8080/",
     "height": 283
    },
    "id": "jtBqLL4ESjdr",
    "outputId": "186bf32d-85d9-4e54-db7b-f6f26f7f6c3a"
   },
   "outputs": [
    {
     "data": {
      "text/plain": [
       "<matplotlib.axes._subplots.AxesSubplot at 0x7fe449319290>"
      ]
     },
     "metadata": {},
     "output_type": "display_data"
    },
    {
     "data": {
      "image/png": "[encoded data removed]",
      "text/plain": [
       "<Figure size 432x288 with 1 Axes>"
      ]
     },
     "metadata": {
      "filenames": {
       "image/png": "/Users/tyler/Documents/GitHub/peds/_build/jupyter_execute/docs/fullNotebooks/full_IntroModelling_LogisticReg_83_1.png"
      }
     },
     "output_type": "display_data"
    }
   ],
   "source": [
    "#is fare numeric, if so what does its distribution look like?\n",
    "df_titanic.Fare.hist()"
   ]
  },
  {
   "cell_type": "code",
   "execution_count": null,
   "metadata": {
    "colab": {
     "base_uri": "https://localhost:8080/"
    },
    "id": "jD45KjBfRJyE",
    "outputId": "2d9d20cd-e756-45d2-ce28-d62d5ed688d9"
   },
   "outputs": [
    {
     "data": {
      "text/plain": [
       "PassengerId    0.000000\n",
       "Survived       0.000000\n",
       "Pclass         0.000000\n",
       "Name           0.000000\n",
       "Sex            0.000000\n",
       "Age            0.197183\n",
       "SibSp          0.000000\n",
       "Parch          0.000000\n",
       "Ticket         0.000000\n",
       "Fare           0.000000\n",
       "Cabin          0.771831\n",
       "Embarked       0.001408\n",
       "WikiId         0.001408\n",
       "Name_wiki      0.001408\n",
       "Age_wiki       0.004225\n",
       "Hometown       0.001408\n",
       "Boarded        0.001408\n",
       "Destination    0.001408\n",
       "Lifeboat       0.604225\n",
       "Body           0.897183\n",
       "Class          0.001408\n",
       "dtype: float64"
      ]
     },
     "metadata": {},
     "output_type": "display_data"
    }
   ],
   "source": [
    "#let's only work with data where we have a value for the target variable: survived or not\n",
    "\n",
    "#filter out missing survival data\n",
    "df_titanic_survived = df_titanic[df_titanic.Survived.isna()==False]\n",
    "\n",
    "#check to make sure all worked\n",
    "df_titanic_survived.isna().sum() / len(df_titanic_survived)"
   ]
  },
  {
   "cell_type": "markdown",
   "metadata": {
    "id": "ecEdp5iY55ML"
   },
   "source": [
    "### Exploration and visualization"
   ]
  },
  {
   "cell_type": "code",
   "execution_count": null,
   "metadata": {
    "colab": {
     "base_uri": "https://localhost:8080/",
     "height": 297
    },
    "id": "xz9Cc2uy59QN",
    "outputId": "7eb264de-0ad8-4345-e986-c4e656a08472"
   },
   "outputs": [
    {
     "data": {
      "text/plain": [
       "<matplotlib.axes._subplots.AxesSubplot at 0x7fe44911c1d0>"
      ]
     },
     "metadata": {},
     "output_type": "display_data"
    },
    {
     "data": {
      "image/png": "[encoded data removed]",
      "text/plain": [
       "<Figure size 432x288 with 1 Axes>"
      ]
     },
     "metadata": {
      "filenames": {
       "image/png": "/Users/tyler/Documents/GitHub/peds/_build/jupyter_execute/docs/fullNotebooks/full_IntroModelling_LogisticReg_86_1.png"
      }
     },
     "output_type": "display_data"
    }
   ],
   "source": [
    "#Is age related to \n",
    "sns.violinplot(data=df_titanic_survived, x='Survived', y='Age_wiki')"
   ]
  },
  {
   "cell_type": "code",
   "execution_count": null,
   "metadata": {
    "colab": {
     "base_uri": "https://localhost:8080/",
     "height": 297
    },
    "id": "tsDAgHQGRs79",
    "outputId": "b0f38321-8106-48f4-fbc6-db8b83ee3a3d"
   },
   "outputs": [
    {
     "data": {
      "text/plain": [
       "<matplotlib.axes._subplots.AxesSubplot at 0x7fe449008f90>"
      ]
     },
     "metadata": {},
     "output_type": "display_data"
    },
    {
     "data": {
      "image/png": "[encoded data removed]",
      "text/plain": [
       "<Figure size 432x288 with 1 Axes>"
      ]
     },
     "metadata": {
      "filenames": {
       "image/png": "/Users/tyler/Documents/GitHub/peds/_build/jupyter_execute/docs/fullNotebooks/full_IntroModelling_LogisticReg_87_1.png"
      }
     },
     "output_type": "display_data"
    }
   ],
   "source": [
    "sns.barplot(data=df_titanic_survived, y='Survived', x='Pclass')"
   ]
  },
  {
   "cell_type": "markdown",
   "metadata": {
    "id": "GhMq1eKv6Bbm"
   },
   "source": [
    "### Data Preprocessing"
   ]
  },
  {
   "cell_type": "markdown",
   "metadata": {
    "id": "4dgLp6Qc6F7u"
   },
   "source": [
    "> Feel free here to work with a subset of features that you think will help make predictions in the with-held dataset! I.e., what relationships will generalize well?"
   ]
  },
  {
   "cell_type": "markdown",
   "metadata": {
    "id": "416wEAd8T4Gu"
   },
   "source": [
    "Let's one hot encode Pclass "
   ]
  },
  {
   "cell_type": "code",
   "execution_count": null,
   "metadata": {
    "colab": {
     "base_uri": "https://localhost:8080/",
     "height": 441
    },
    "id": "SmSxdtcTUGBI",
    "outputId": "15bc7b24-6b25-41fa-d7df-9397c650f1e6"
   },
   "outputs": [
    {
     "name": "stderr",
     "output_type": "stream",
     "text": [
      "/usr/local/lib/python3.7/dist-packages/ipykernel_launcher.py:2: SettingWithCopyWarning: \n",
      "A value is trying to be set on a copy of a slice from a DataFrame.\n",
      "Try using .loc[row_indexer,col_indexer] = value instead\n",
      "\n",
      "See the caveats in the documentation: https://pandas.pydata.org/pandas-docs/stable/user_guide/indexing.html#returning-a-view-versus-a-copy\n",
      "  \n"
     ]
    },
    {
     "data": {
      "text/html": [
       "<div>\n",
       "<style scoped>\n",
       "    .dataframe tbody tr th:only-of-type {\n",
       "        vertical-align: middle;\n",
       "    }\n",
       "\n",
       "    .dataframe tbody tr th {\n",
       "        vertical-align: top;\n",
       "    }\n",
       "\n",
       "    .dataframe thead th {\n",
       "        text-align: right;\n",
       "    }\n",
       "</style>\n",
       "<table border=\"1\" class=\"dataframe\">\n",
       "  <thead>\n",
       "    <tr style=\"text-align: right;\">\n",
       "      <th></th>\n",
       "      <th>PassengerId</th>\n",
       "      <th>Survived</th>\n",
       "      <th>Name</th>\n",
       "      <th>Sex</th>\n",
       "      <th>Age</th>\n",
       "      <th>SibSp</th>\n",
       "      <th>Parch</th>\n",
       "      <th>Ticket</th>\n",
       "      <th>Fare</th>\n",
       "      <th>Cabin</th>\n",
       "      <th>WikiId</th>\n",
       "      <th>Name_wiki</th>\n",
       "      <th>Age_wiki</th>\n",
       "      <th>Hometown</th>\n",
       "      <th>Boarded</th>\n",
       "      <th>Destination</th>\n",
       "      <th>Lifeboat</th>\n",
       "      <th>Body</th>\n",
       "      <th>Class</th>\n",
       "      <th>Pclass_1</th>\n",
       "      <th>Pclass_2</th>\n",
       "      <th>Pclass_3</th>\n",
       "      <th>Embarked_C</th>\n",
       "      <th>Embarked_Q</th>\n",
       "      <th>Embarked_S</th>\n",
       "    </tr>\n",
       "  </thead>\n",
       "  <tbody>\n",
       "    <tr>\n",
       "      <th>2</th>\n",
       "      <td>185</td>\n",
       "      <td>1.0</td>\n",
       "      <td>Kink-Heilmann, Miss. Luise Gretchen</td>\n",
       "      <td>female</td>\n",
       "      <td>4.0</td>\n",
       "      <td>0</td>\n",
       "      <td>2</td>\n",
       "      <td>315153</td>\n",
       "      <td>22.025</td>\n",
       "      <td>NaN</td>\n",
       "      <td>940.0</td>\n",
       "      <td>Kink, Miss Luise Gretchen</td>\n",
       "      <td>4.0</td>\n",
       "      <td>Zürich, Switzerland</td>\n",
       "      <td>Southampton</td>\n",
       "      <td>Milwaukee, Wisconsin, US</td>\n",
       "      <td>2</td>\n",
       "      <td>NaN</td>\n",
       "      <td>3.0</td>\n",
       "      <td>0</td>\n",
       "      <td>0</td>\n",
       "      <td>1</td>\n",
       "      <td>0</td>\n",
       "      <td>0</td>\n",
       "      <td>1</td>\n",
       "    </tr>\n",
       "    <tr>\n",
       "      <th>3</th>\n",
       "      <td>769</td>\n",
       "      <td>0.0</td>\n",
       "      <td>Moran, Mr. Daniel J</td>\n",
       "      <td>male</td>\n",
       "      <td>NaN</td>\n",
       "      <td>1</td>\n",
       "      <td>0</td>\n",
       "      <td>371110</td>\n",
       "      <td>24.150</td>\n",
       "      <td>NaN</td>\n",
       "      <td>1038.0</td>\n",
       "      <td>Moran, Mr. Daniel James</td>\n",
       "      <td>27.0</td>\n",
       "      <td>Askeaton, Limerick, Ireland</td>\n",
       "      <td>Queenstown</td>\n",
       "      <td>Brooklyn, New York, US</td>\n",
       "      <td>NaN</td>\n",
       "      <td>NaN</td>\n",
       "      <td>3.0</td>\n",
       "      <td>0</td>\n",
       "      <td>0</td>\n",
       "      <td>1</td>\n",
       "      <td>0</td>\n",
       "      <td>1</td>\n",
       "      <td>0</td>\n",
       "    </tr>\n",
       "    <tr>\n",
       "      <th>5</th>\n",
       "      <td>118</td>\n",
       "      <td>0.0</td>\n",
       "      <td>Turpin, Mr. William John Robert</td>\n",
       "      <td>male</td>\n",
       "      <td>29.0</td>\n",
       "      <td>1</td>\n",
       "      <td>0</td>\n",
       "      <td>11668</td>\n",
       "      <td>21.000</td>\n",
       "      <td>NaN</td>\n",
       "      <td>580.0</td>\n",
       "      <td>Turpin, Mr. William John Robert</td>\n",
       "      <td>29.0</td>\n",
       "      <td>Plymouth, Devon, England</td>\n",
       "      <td>Southampton</td>\n",
       "      <td>Salt Lake City, Utah, US</td>\n",
       "      <td>NaN</td>\n",
       "      <td>NaN</td>\n",
       "      <td>2.0</td>\n",
       "      <td>0</td>\n",
       "      <td>1</td>\n",
       "      <td>0</td>\n",
       "      <td>0</td>\n",
       "      <td>0</td>\n",
       "      <td>1</td>\n",
       "    </tr>\n",
       "  </tbody>\n",
       "</table>\n",
       "</div>"
      ],
      "text/plain": [
       "   PassengerId  Survived  ... Embarked_Q Embarked_S\n",
       "2          185       1.0  ...          0          1\n",
       "3          769       0.0  ...          1          0\n",
       "5          118       0.0  ...          0          1\n",
       "\n",
       "[3 rows x 25 columns]"
      ]
     },
     "metadata": {},
     "output_type": "display_data"
    }
   ],
   "source": [
    "#convert Pclass to category\n",
    "df_titanic_survived['Pclass'] = df_titanic_survived.Pclass.astype('category')\n",
    "\n",
    "#categorical variables\n",
    "cat_names = ['Pclass','Embarked']\n",
    "\n",
    "#create dummy variables\n",
    "df_cat = pd.get_dummies(df_titanic_survived[cat_names])\n",
    "\n",
    "#add them back to the original dataframe\n",
    "df_titanic_survived = pd.concat([df_titanic_survived,df_cat], axis=1)\n",
    "\n",
    "#remove the old columns\n",
    "df_titanic_survived = df_titanic_survived.drop(cat_names, axis=1)\n",
    "\n",
    "#take a look\n",
    "df_titanic_survived.head(3)\n"
   ]
  },
  {
   "cell_type": "markdown",
   "metadata": {
    "id": "TUZrdY0iUcES"
   },
   "source": [
    "Let's convert Sex to 0/1"
   ]
  },
  {
   "cell_type": "code",
   "execution_count": null,
   "metadata": {
    "colab": {
     "base_uri": "https://localhost:8080/",
     "height": 337
    },
    "id": "NLIXM-NtUm93",
    "outputId": "18ba38be-ffb3-4b6c-c3ca-4132b6d8cd3d"
   },
   "outputs": [
    {
     "data": {
      "text/html": [
       "<div>\n",
       "<style scoped>\n",
       "    .dataframe tbody tr th:only-of-type {\n",
       "        vertical-align: middle;\n",
       "    }\n",
       "\n",
       "    .dataframe tbody tr th {\n",
       "        vertical-align: top;\n",
       "    }\n",
       "\n",
       "    .dataframe thead th {\n",
       "        text-align: right;\n",
       "    }\n",
       "</style>\n",
       "<table border=\"1\" class=\"dataframe\">\n",
       "  <thead>\n",
       "    <tr style=\"text-align: right;\">\n",
       "      <th></th>\n",
       "      <th>PassengerId</th>\n",
       "      <th>Survived</th>\n",
       "      <th>Name</th>\n",
       "      <th>Sex</th>\n",
       "      <th>Age</th>\n",
       "      <th>SibSp</th>\n",
       "      <th>Parch</th>\n",
       "      <th>Ticket</th>\n",
       "      <th>Fare</th>\n",
       "      <th>Cabin</th>\n",
       "      <th>WikiId</th>\n",
       "      <th>Name_wiki</th>\n",
       "      <th>Age_wiki</th>\n",
       "      <th>Hometown</th>\n",
       "      <th>Boarded</th>\n",
       "      <th>Destination</th>\n",
       "      <th>Lifeboat</th>\n",
       "      <th>Body</th>\n",
       "      <th>Class</th>\n",
       "      <th>Pclass_1</th>\n",
       "      <th>Pclass_2</th>\n",
       "      <th>Pclass_3</th>\n",
       "      <th>Embarked_C</th>\n",
       "      <th>Embarked_Q</th>\n",
       "      <th>Embarked_S</th>\n",
       "    </tr>\n",
       "  </thead>\n",
       "  <tbody>\n",
       "    <tr>\n",
       "      <th>2</th>\n",
       "      <td>185</td>\n",
       "      <td>1.0</td>\n",
       "      <td>Kink-Heilmann, Miss. Luise Gretchen</td>\n",
       "      <td>0.0</td>\n",
       "      <td>4.0</td>\n",
       "      <td>0</td>\n",
       "      <td>2</td>\n",
       "      <td>315153</td>\n",
       "      <td>22.025</td>\n",
       "      <td>NaN</td>\n",
       "      <td>940.0</td>\n",
       "      <td>Kink, Miss Luise Gretchen</td>\n",
       "      <td>4.0</td>\n",
       "      <td>Zürich, Switzerland</td>\n",
       "      <td>Southampton</td>\n",
       "      <td>Milwaukee, Wisconsin, US</td>\n",
       "      <td>2</td>\n",
       "      <td>NaN</td>\n",
       "      <td>3.0</td>\n",
       "      <td>0</td>\n",
       "      <td>0</td>\n",
       "      <td>1</td>\n",
       "      <td>0</td>\n",
       "      <td>0</td>\n",
       "      <td>1</td>\n",
       "    </tr>\n",
       "    <tr>\n",
       "      <th>3</th>\n",
       "      <td>769</td>\n",
       "      <td>0.0</td>\n",
       "      <td>Moran, Mr. Daniel J</td>\n",
       "      <td>1.0</td>\n",
       "      <td>NaN</td>\n",
       "      <td>1</td>\n",
       "      <td>0</td>\n",
       "      <td>371110</td>\n",
       "      <td>24.150</td>\n",
       "      <td>NaN</td>\n",
       "      <td>1038.0</td>\n",
       "      <td>Moran, Mr. Daniel James</td>\n",
       "      <td>27.0</td>\n",
       "      <td>Askeaton, Limerick, Ireland</td>\n",
       "      <td>Queenstown</td>\n",
       "      <td>Brooklyn, New York, US</td>\n",
       "      <td>NaN</td>\n",
       "      <td>NaN</td>\n",
       "      <td>3.0</td>\n",
       "      <td>0</td>\n",
       "      <td>0</td>\n",
       "      <td>1</td>\n",
       "      <td>0</td>\n",
       "      <td>1</td>\n",
       "      <td>0</td>\n",
       "    </tr>\n",
       "    <tr>\n",
       "      <th>5</th>\n",
       "      <td>118</td>\n",
       "      <td>0.0</td>\n",
       "      <td>Turpin, Mr. William John Robert</td>\n",
       "      <td>1.0</td>\n",
       "      <td>29.0</td>\n",
       "      <td>1</td>\n",
       "      <td>0</td>\n",
       "      <td>11668</td>\n",
       "      <td>21.000</td>\n",
       "      <td>NaN</td>\n",
       "      <td>580.0</td>\n",
       "      <td>Turpin, Mr. William John Robert</td>\n",
       "      <td>29.0</td>\n",
       "      <td>Plymouth, Devon, England</td>\n",
       "      <td>Southampton</td>\n",
       "      <td>Salt Lake City, Utah, US</td>\n",
       "      <td>NaN</td>\n",
       "      <td>NaN</td>\n",
       "      <td>2.0</td>\n",
       "      <td>0</td>\n",
       "      <td>1</td>\n",
       "      <td>0</td>\n",
       "      <td>0</td>\n",
       "      <td>0</td>\n",
       "      <td>1</td>\n",
       "    </tr>\n",
       "  </tbody>\n",
       "</table>\n",
       "</div>"
      ],
      "text/plain": [
       "   PassengerId  Survived  ... Embarked_Q  Embarked_S\n",
       "2          185       1.0  ...          0           1\n",
       "3          769       0.0  ...          1           0\n",
       "5          118       0.0  ...          0           1\n",
       "\n",
       "[3 rows x 25 columns]"
      ]
     },
     "metadata": {},
     "output_type": "display_data"
    }
   ],
   "source": [
    "from sklearn.preprocessing import OrdinalEncoder\n",
    "\n",
    "#get the columns names of features you'd like to turn into 0/1\n",
    "bin_names = ['Sex']\n",
    "\n",
    "#create a dataframe of those features\n",
    "bin_features = df_titanic_survived[bin_names]\n",
    "\n",
    "#fit the scaler to those data\n",
    "bin_scaler = OrdinalEncoder().fit(bin_features.values)\n",
    "\n",
    "#use the scaler to transform your data\n",
    "bin_features = bin_scaler.transform(bin_features.values)\n",
    "\n",
    "#put these scaled features back into your transformed features dataframe\n",
    "df_titanic_survived[bin_names] = bin_features\n",
    "\n",
    "#take a look\n",
    "df_titanic_survived.head(3)"
   ]
  },
  {
   "cell_type": "markdown",
   "metadata": {
    "id": "-3xsjXfBUnWV"
   },
   "source": [
    "Let's split the data into training and testing"
   ]
  },
  {
   "cell_type": "code",
   "execution_count": null,
   "metadata": {
    "id": "ujjwEGdnUntG"
   },
   "outputs": [],
   "source": [
    "#split the data into training and testing (80/20 split)\n",
    "df_train, df_test = sk.model_selection.train_test_split(df_titanic_survived, test_size=0.20)"
   ]
  },
  {
   "cell_type": "markdown",
   "metadata": {
    "id": "DA9AtP-KUryP"
   },
   "source": [
    "Let's scale age wiki"
   ]
  },
  {
   "cell_type": "code",
   "execution_count": null,
   "metadata": {
    "id": "8EL4EAQ2UvGw"
   },
   "outputs": [],
   "source": [
    "#Feature Scaling (after spliting the data!)\n",
    "from sklearn.preprocessing import StandardScaler \n",
    "\n",
    "#numeric variables\n",
    "numb_names = ['Age_wiki','Fare','SibSp','Parch']\n",
    "\n",
    "#create the standard scaler object\n",
    "sc = StandardScaler()\n",
    "\n",
    "#use this object to fit (i.e., to calculate the mean and sd of each variable in the training data) and then to transform the training data\n",
    "df_train[numb_names] = sc.fit_transform(df_train[numb_names])\n",
    "\n",
    "#use the fit from the training data to transform the test data\n",
    "df_test[numb_names] = sc.transform(df_test[numb_names])"
   ]
  },
  {
   "cell_type": "markdown",
   "metadata": {
    "id": "4XqfoM4I594j"
   },
   "source": [
    "## Model building"
   ]
  },
  {
   "cell_type": "code",
   "execution_count": null,
   "metadata": {
    "colab": {
     "base_uri": "https://localhost:8080/"
    },
    "id": "dmF6gOEK81cb",
    "outputId": "6fb82dae-5404-4f39-b6ae-b28e5b8fba57"
   },
   "outputs": [
    {
     "name": "stdout",
     "output_type": "stream",
     "text": [
      "Optimization terminated successfully.\n",
      "         Current function value: 0.567840\n",
      "         Iterations 6\n",
      "                           Logit Regression Results                           \n",
      "==============================================================================\n",
      "Dep. Variable:               Survived   No. Observations:                  565\n",
      "Model:                          Logit   Df Residuals:                      556\n",
      "Method:                           MLE   Df Model:                            8\n",
      "Date:                Tue, 27 Jul 2021   Pseudo R-squ.:                  0.1474\n",
      "Time:                        19:44:15   Log-Likelihood:                -320.83\n",
      "converged:                       True   LL-Null:                       -376.30\n",
      "Covariance Type:            nonrobust   LLR p-value:                 2.434e-20\n",
      "==============================================================================\n",
      "                 coef    std err          z      P>|z|      [0.025      0.975]\n",
      "------------------------------------------------------------------------------\n",
      "Intercept     -1.0854      0.268     -4.044      0.000      -1.611      -0.559\n",
      "Age_wiki      -0.5273      0.117     -4.511      0.000      -0.756      -0.298\n",
      "Fare           0.2788      0.175      1.596      0.110      -0.064       0.621\n",
      "SibSp         -0.3065      0.124     -2.480      0.013      -0.549      -0.064\n",
      "Parch          0.2465      0.107      2.301      0.021       0.037       0.456\n",
      "Pclass_1       1.9412      0.344      5.639      0.000       1.267       2.616\n",
      "Pclass_2       1.3345      0.253      5.278      0.000       0.839       1.830\n",
      "Embarked_Q     0.7620      0.399      1.911      0.056      -0.020       1.544\n",
      "Embarked_S    -0.3920      0.256     -1.532      0.125      -0.893       0.109\n",
      "==============================================================================\n"
     ]
    }
   ],
   "source": [
    "#define model parameters\n",
    "log_reg_sur = smf.logit('Survived ~ Age_wiki + Fare + SibSp + Parch + Pclass_1 + Pclass_2 + Embarked_Q + Embarked_S', data=df_train)\n",
    "\n",
    "#fit the model to the training data\n",
    "results_sur = log_reg_sur.fit()\n",
    "\n",
    "#Get a summary of the model parameters\n",
    "print(results_sur.summary())"
   ]
  },
  {
   "cell_type": "code",
   "execution_count": null,
   "metadata": {
    "colab": {
     "base_uri": "https://localhost:8080/",
     "height": 579
    },
    "id": "OKg9RAT6eDlk",
    "outputId": "84ff98f8-f5aa-47ce-8073-70b682f0b6cd"
   },
   "outputs": [
    {
     "name": "stderr",
     "output_type": "stream",
     "text": [
      "/usr/local/lib/python3.7/dist-packages/ipykernel_launcher.py:2: SettingWithCopyWarning: \n",
      "A value is trying to be set on a copy of a slice from a DataFrame.\n",
      "Try using .loc[row_indexer,col_indexer] = value instead\n",
      "\n",
      "See the caveats in the documentation: https://pandas.pydata.org/pandas-docs/stable/user_guide/indexing.html#returning-a-view-versus-a-copy\n",
      "  \n",
      "/usr/local/lib/python3.7/dist-packages/ipykernel_launcher.py:4: SettingWithCopyWarning: \n",
      "A value is trying to be set on a copy of a slice from a DataFrame.\n",
      "Try using .loc[row_indexer,col_indexer] = value instead\n",
      "\n",
      "See the caveats in the documentation: https://pandas.pydata.org/pandas-docs/stable/user_guide/indexing.html#returning-a-view-versus-a-copy\n",
      "  after removing the cwd from sys.path.\n"
     ]
    },
    {
     "data": {
      "text/html": [
       "<div>\n",
       "<style scoped>\n",
       "    .dataframe tbody tr th:only-of-type {\n",
       "        vertical-align: middle;\n",
       "    }\n",
       "\n",
       "    .dataframe tbody tr th {\n",
       "        vertical-align: top;\n",
       "    }\n",
       "\n",
       "    .dataframe thead th {\n",
       "        text-align: right;\n",
       "    }\n",
       "</style>\n",
       "<table border=\"1\" class=\"dataframe\">\n",
       "  <thead>\n",
       "    <tr style=\"text-align: right;\">\n",
       "      <th></th>\n",
       "      <th>PassengerId</th>\n",
       "      <th>Survived</th>\n",
       "      <th>Name</th>\n",
       "      <th>Sex</th>\n",
       "      <th>Age</th>\n",
       "      <th>SibSp</th>\n",
       "      <th>Parch</th>\n",
       "      <th>Ticket</th>\n",
       "      <th>Fare</th>\n",
       "      <th>Cabin</th>\n",
       "      <th>WikiId</th>\n",
       "      <th>Name_wiki</th>\n",
       "      <th>Age_wiki</th>\n",
       "      <th>Hometown</th>\n",
       "      <th>Boarded</th>\n",
       "      <th>Destination</th>\n",
       "      <th>Lifeboat</th>\n",
       "      <th>Body</th>\n",
       "      <th>Class</th>\n",
       "      <th>Pclass_1</th>\n",
       "      <th>Pclass_2</th>\n",
       "      <th>Pclass_3</th>\n",
       "      <th>Embarked_C</th>\n",
       "      <th>Embarked_Q</th>\n",
       "      <th>Embarked_S</th>\n",
       "      <th>survive_prob</th>\n",
       "      <th>survive_pred</th>\n",
       "    </tr>\n",
       "  </thead>\n",
       "  <tbody>\n",
       "    <tr>\n",
       "      <th>702</th>\n",
       "      <td>601</td>\n",
       "      <td>1.0</td>\n",
       "      <td>Jacobsohn, Mrs. Sidney Samuel (Amy Frances Chr...</td>\n",
       "      <td>0.0</td>\n",
       "      <td>24.0</td>\n",
       "      <td>1.498682</td>\n",
       "      <td>0.858651</td>\n",
       "      <td>243847</td>\n",
       "      <td>-0.112156</td>\n",
       "      <td>NaN</td>\n",
       "      <td>466.0</td>\n",
       "      <td>Jacobsohn, Mrs. Amy Frances Christy (née Cohen)</td>\n",
       "      <td>-0.429398</td>\n",
       "      <td>London, England</td>\n",
       "      <td>Southampton</td>\n",
       "      <td>Montreal, Quebec, Canada</td>\n",
       "      <td>12</td>\n",
       "      <td>NaN</td>\n",
       "      <td>2.0</td>\n",
       "      <td>0</td>\n",
       "      <td>1</td>\n",
       "      <td>0</td>\n",
       "      <td>0</td>\n",
       "      <td>0</td>\n",
       "      <td>1</td>\n",
       "      <td>0.45</td>\n",
       "      <td>0</td>\n",
       "    </tr>\n",
       "    <tr>\n",
       "      <th>536</th>\n",
       "      <td>215</td>\n",
       "      <td>0.0</td>\n",
       "      <td>Kiernan, Mr. Philip</td>\n",
       "      <td>1.0</td>\n",
       "      <td>NaN</td>\n",
       "      <td>0.512296</td>\n",
       "      <td>-0.455942</td>\n",
       "      <td>367229</td>\n",
       "      <td>-0.466055</td>\n",
       "      <td>NaN</td>\n",
       "      <td>936.0</td>\n",
       "      <td>Kiernan, Mr. Philip</td>\n",
       "      <td>-0.575205</td>\n",
       "      <td>Aughnacliffe, Longford, Ireland</td>\n",
       "      <td>Queenstown</td>\n",
       "      <td>Jersey City, New Jersey, US</td>\n",
       "      <td>NaN</td>\n",
       "      <td>NaN</td>\n",
       "      <td>3.0</td>\n",
       "      <td>0</td>\n",
       "      <td>0</td>\n",
       "      <td>1</td>\n",
       "      <td>0</td>\n",
       "      <td>1</td>\n",
       "      <td>0</td>\n",
       "      <td>0.40</td>\n",
       "      <td>0</td>\n",
       "    </tr>\n",
       "    <tr>\n",
       "      <th>194</th>\n",
       "      <td>802</td>\n",
       "      <td>1.0</td>\n",
       "      <td>Collyer, Mrs. Harvey (Charlotte Annie Tate)</td>\n",
       "      <td>0.0</td>\n",
       "      <td>31.0</td>\n",
       "      <td>0.512296</td>\n",
       "      <td>0.858651</td>\n",
       "      <td>C.A. 31921</td>\n",
       "      <td>-0.125945</td>\n",
       "      <td>NaN</td>\n",
       "      <td>384.0</td>\n",
       "      <td>Collyer, Mrs. Charlotte Annie (née Tate)</td>\n",
       "      <td>0.080925</td>\n",
       "      <td>Bishopstoke, Hampshire, England</td>\n",
       "      <td>Southampton</td>\n",
       "      <td>Payette, Idaho, US</td>\n",
       "      <td>14</td>\n",
       "      <td>NaN</td>\n",
       "      <td>2.0</td>\n",
       "      <td>0</td>\n",
       "      <td>1</td>\n",
       "      <td>0</td>\n",
       "      <td>0</td>\n",
       "      <td>0</td>\n",
       "      <td>1</td>\n",
       "      <td>0.46</td>\n",
       "      <td>0</td>\n",
       "    </tr>\n",
       "  </tbody>\n",
       "</table>\n",
       "</div>"
      ],
      "text/plain": [
       "     PassengerId  Survived  ... survive_prob  survive_pred\n",
       "702          601       1.0  ...         0.45             0\n",
       "536          215       0.0  ...         0.40             0\n",
       "194          802       1.0  ...         0.46             0\n",
       "\n",
       "[3 rows x 27 columns]"
      ]
     },
     "metadata": {},
     "output_type": "display_data"
    }
   ],
   "source": [
    "#let's first predict values in the testing dataset\n",
    "df_test['survive_prob'] = results_sur.predict(df_test).round(2)\n",
    "\n",
    "df_test['survive_pred'] = (df_test['survive_prob']>0.5).astype(int) #here we've used 0.5 as the threshold of benign or not!\n",
    "\n",
    "df_test.head(3)"
   ]
  },
  {
   "cell_type": "markdown",
   "metadata": {
    "id": "tvKyvyb3ev_B"
   },
   "source": [
    "Let's measure the performance of our model on our with-held data set. This will give us an idea of how the model might perform on the data set I (tyler) took out before class! "
   ]
  },
  {
   "cell_type": "code",
   "execution_count": null,
   "metadata": {
    "colab": {
     "base_uri": "https://localhost:8080/",
     "height": 297
    },
    "id": "SM2OxUUweupp",
    "outputId": "91902d8a-61f6-4198-8e0c-5ceb0005c73e"
   },
   "outputs": [
    {
     "data": {
      "text/plain": [
       "Text(33.0, 0.5, 'True label')"
      ]
     },
     "metadata": {},
     "output_type": "display_data"
    },
    {
     "data": {
      "image/png": "[encoded data removed]",
      "text/plain": [
       "<Figure size 432x288 with 2 Axes>"
      ]
     },
     "metadata": {
      "filenames": {
       "image/png": "/Users/tyler/Documents/GitHub/peds/_build/jupyter_execute/docs/fullNotebooks/full_IntroModelling_LogisticReg_102_1.png"
      }
     },
     "output_type": "display_data"
    }
   ],
   "source": [
    "confusion_matrix_sur = sk.metrics.confusion_matrix(df_test['Survived'], df_test['survive_pred'])\n",
    "sns.heatmap(confusion_matrix_sur, annot=True)\n",
    "plt.xlabel('Predicted label')\n",
    "plt.ylabel('True label')\n"
   ]
  },
  {
   "cell_type": "code",
   "execution_count": null,
   "metadata": {
    "colab": {
     "base_uri": "https://localhost:8080/"
    },
    "id": "3d-TzJ6bfKBT",
    "outputId": "9989653a-7980-434e-f887-8efa4ab8b106"
   },
   "outputs": [
    {
     "name": "stdout",
     "output_type": "stream",
     "text": [
      "Accuracy: 0.72\n",
      "Precision: 0.77\n",
      "Recall: 0.49\n"
     ]
    }
   ],
   "source": [
    "print('Accuracy: {:.2f}'.format(sk.metrics.accuracy_score(df_test['Survived'], df_test['survive_pred'])))\n",
    "print('Precision: {:.2f}'.format(sk.metrics.precision_score(df_test['Survived'], df_test['survive_pred'])))\n",
    "print('Recall: {:.2f}'.format(sk.metrics.recall_score(df_test['Survived'], df_test['survive_pred'])))"
   ]
  },
  {
   "cell_type": "markdown",
   "metadata": {
    "id": "JmzHUa11-RVB"
   },
   "source": [
    "### Model predictions"
   ]
  },
  {
   "cell_type": "markdown",
   "metadata": {
    "id": "wdacn-sf-B7h"
   },
   "source": [
    "When you've got a good model and you are ready to test it out let me know and i'll send you the withheld data! When you measure the performance of the model does it differ in accuracy, precision, and recall?"
   ]
  },
  {
   "cell_type": "code",
   "execution_count": null,
   "metadata": {
    "id": "LEp71grz-UC8"
   },
   "outputs": [],
   "source": [
    "#load the 'new' data \n",
    "\n",
    "#use your model to make predictions\n",
    "\n",
    "#measure the performace of your model (did it correctly predict the new data?)"
   ]
  }
 ],
 "metadata": {
  "colab": {
   "authorship_tag": "ABX9TyOeqLWnzBhQehWioLwgrotP",
   "collapsed_sections": [],
   "include_colab_link": true,
   "name": "IntroModelling_LogisticReg.ipynb",
   "provenance": []
  },
  "kernelspec": {
   "display_name": "Python 3",
   "name": "python3"
  },
  "language_info": {
   "name": "python"
  }
 },
 "nbformat": 4,
 "nbformat_minor": 2
}