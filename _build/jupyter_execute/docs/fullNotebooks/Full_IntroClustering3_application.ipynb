{
 "cells": [
  {
   "cell_type": "markdown",
   "metadata": {
    "id": "Ff3qPaLI390b"
   },
   "source": [
    "<img src='http://drive.google.com/uc?export=view&id=1vIqiOO8nF8qtVvwkcLA_bx3vRmkzXZSO' width=500>\n",
    "\n"
   ]
  },
  {
   "cell_type": "markdown",
   "metadata": {
    "id": "N6ULenhF39aV"
   },
   "source": [
    "# <font color='lightblue'>Credit card usage</font>"
   ]
  },
  {
   "cell_type": "markdown",
   "metadata": {
    "id": "x8xd-YdGCN0h"
   },
   "source": [
    "In this exercise we will look at how to use our new found clustering skills with real data. We'll look for clusters of credic card users and see if we can identify different classes of users."
   ]
  },
  {
   "cell_type": "code",
   "execution_count": null,
   "metadata": {
    "id": "dZqwcX2934AE"
   },
   "outputs": [],
   "source": [
    "import numpy as np\n",
    "import seaborn as sns\n",
    "import pandas as pd\n",
    "from sklearn import cluster\n",
    "import sklearn as sk\n",
    "import matplotlib.pyplot as plt\n"
   ]
  },
  {
   "cell_type": "markdown",
   "metadata": {
    "id": "YlV3DICbZa_B"
   },
   "source": [
    "## <font color='lightblue'>Load data</font>"
   ]
  },
  {
   "cell_type": "markdown",
   "metadata": {
    "id": "wJZnfzlmr01l"
   },
   "source": [
    "Let's simulate some data where we know how many clusters there are. This time we'll add an extra dimension.\n",
    "\n",
    "> i.e., let's create 1000 points and set them to class 1. Each point will get a random x, y, and z coordinate."
   ]
  },
  {
   "cell_type": "code",
   "execution_count": null,
   "metadata": {
    "colab": {
     "base_uri": "https://localhost:8080/",
     "height": 226
    },
    "id": "cPRKRQ5BwR_i",
    "outputId": "7d61f4a9-6cb6-47d2-ee30-7a4dd491bbf7"
   },
   "outputs": [],
   "source": [
    "df_cc = pd.read_csv(\"/content/CC GENERAL.csv\")\n",
    "\n",
    "df_cc.head()\n"
   ]
  },
  {
   "cell_type": "markdown",
   "metadata": {
    "id": "sec46iri4BJN"
   },
   "source": [
    "Check for and handle missing values"
   ]
  },
  {
   "cell_type": "code",
   "execution_count": null,
   "metadata": {
    "colab": {
     "base_uri": "https://localhost:8080/",
     "height": 356
    },
    "id": "rq5spzB74Noa",
    "outputId": "b6471afc-a778-4193-eff0-83b2135065ac"
   },
   "outputs": [],
   "source": [
    "df_cc = df_cc.dropna().drop('CUST_ID', axis=1)"
   ]
  },
  {
   "cell_type": "markdown",
   "metadata": {
    "id": "RY0aNadI2B5g"
   },
   "source": [
    "Descibe the data\n"
   ]
  },
  {
   "cell_type": "code",
   "execution_count": null,
   "metadata": {
    "colab": {
     "base_uri": "https://localhost:8080/"
    },
    "id": "OzXYdm-b2GgT",
    "outputId": "d75d25c1-561c-46a9-deb1-dc351e9e0928"
   },
   "outputs": [],
   "source": [
    "df_cc.info()"
   ]
  },
  {
   "cell_type": "markdown",
   "metadata": {
    "id": "1jqsbr0I4pVD"
   },
   "source": [
    "\n",
    "## <font color='lightblue'>Visualizing in 3D</font>"
   ]
  },
  {
   "cell_type": "markdown",
   "metadata": {
    "id": "lOtwPbVtADO7"
   },
   "source": [
    "Plot the credit card data in a few different ways. What can you learn about the data?"
   ]
  },
  {
   "cell_type": "code",
   "execution_count": null,
   "metadata": {
    "colab": {
     "base_uri": "https://localhost:8080/",
     "height": 542
    },
    "id": "M_0_GUkyGNTJ",
    "outputId": "6929f049-7ada-4cfc-fb3f-0f119df20008"
   },
   "outputs": [],
   "source": [
    "#import plotly\n",
    "import plotly.express as px\n",
    "\n",
    "#build a figure with three axis\n",
    "fig = px.scatter(df_cc, x='PAYMENTS', y='CREDIT_LIMIT')\n",
    "fig.show()"
   ]
  },
  {
   "cell_type": "markdown",
   "metadata": {
    "id": "qDcmCkkG9NlX"
   },
   "source": [
    "Try a heat map? Any strong correlations?"
   ]
  },
  {
   "cell_type": "code",
   "execution_count": null,
   "metadata": {
    "id": "rJvW5BSm9P3F"
   },
   "outputs": [],
   "source": []
  },
  {
   "cell_type": "markdown",
   "metadata": {
    "id": "a6bIK4CF4sqg"
   },
   "source": [
    "## <font color='lightblue'>PCA Dimension reduction</font>"
   ]
  },
  {
   "cell_type": "markdown",
   "metadata": {
    "id": "7UtPQ_MO32ju"
   },
   "source": [
    "Sometimes we want to work with a reduced dimension dataset. In these cases we can use different methods, let's lean how to use principal component analysis (PCA).\n",
    "> This approach will create orthogonal axis that capture the maximum variance in the data."
   ]
  },
  {
   "cell_type": "code",
   "execution_count": null,
   "metadata": {
    "colab": {
     "base_uri": "https://localhost:8080/"
    },
    "id": "vVy7GtvOcVkT",
    "outputId": "9bdece83-50a9-43db-95b2-c0348bb26c4b"
   },
   "outputs": [],
   "source": [
    "#load in the PCA\n",
    "from sklearn.decomposition import PCA\n",
    "from sklearn.preprocessing import StandardScaler\n",
    "\n",
    "# Standardize all the features\n",
    "scaler = StandardScaler()\n",
    "X_scaled = scaler.fit_transform(df_cc)\n",
    "\n",
    "# Create the algorithm\n",
    "pca = PCA(n_components=2)\n",
    "\n",
    "# Fit the algorithm\n",
    "X_pca = pca.fit_transform(X_scaled)\n",
    "\n",
    "X_pca"
   ]
  },
  {
   "cell_type": "markdown",
   "metadata": {
    "id": "szA3MqM29-Ii"
   },
   "source": [
    "Let's see how much of the variance in the data can be explained by the first two principal components."
   ]
  },
  {
   "cell_type": "code",
   "execution_count": null,
   "metadata": {
    "colab": {
     "base_uri": "https://localhost:8080/"
    },
    "id": "1iQ8jiKA9-b5",
    "outputId": "0697a3d2-7b02-4ed0-8fc4-a5e0c1b6adc5"
   },
   "outputs": [],
   "source": [
    "# explained variance of each component\n",
    "explained_var = pca.explained_variance_ratio_\n",
    "print(\"Explained variance ratio:\", explained_var)"
   ]
  },
  {
   "cell_type": "markdown",
   "metadata": {
    "id": "J59Fa17S9rfJ"
   },
   "source": [
    "Let's take a look at what the PCA did."
   ]
  },
  {
   "cell_type": "code",
   "execution_count": null,
   "metadata": {
    "colab": {
     "base_uri": "https://localhost:8080/",
     "height": 472
    },
    "id": "L0TDDH6a9rC4",
    "outputId": "b54261ac-cc57-41ee-f1a9-f4ddf6a0e26a"
   },
   "outputs": [],
   "source": [
    "# Convert it to a dataframe\n",
    "pca_df = pd.DataFrame(data=X_pca, columns=['PC1', 'PC2'])\n",
    "\n",
    "# Plot it\n",
    "sns.scatterplot( data=pca_df, x='PC1', y='PC2', alpha=0.5)\n",
    "plt.title('Credit Card Data Projected onto First 2 Principal Components')\n",
    "plt.xlabel(f\"PC1 ({pca.explained_variance_ratio_[0]*100:.1f}% var)\")\n",
    "plt.ylabel(f\"PC2 ({pca.explained_variance_ratio_[1]*100:.1f}% var)\")\n",
    "plt.grid(True)\n",
    "plt.show()"
   ]
  },
  {
   "cell_type": "markdown",
   "metadata": {
    "id": "9K-PGsou-4AL"
   },
   "source": [
    "## <font color='lightblue'>Cluster on reduced dimentions</font>"
   ]
  },
  {
   "cell_type": "markdown",
   "metadata": {
    "id": "K51pqq0h-wUI"
   },
   "source": [
    "Next let's cluster on this reduced space."
   ]
  },
  {
   "cell_type": "code",
   "execution_count": null,
   "metadata": {
    "colab": {
     "base_uri": "https://localhost:8080/",
     "height": 472
    },
    "id": "uuCwYS01-zWc",
    "outputId": "957c925d-90e9-4f51-d884-71e962aa5d1f"
   },
   "outputs": [],
   "source": [
    "from sklearn.cluster import KMeans\n",
    "\n",
    "# Create the algorithm\n",
    "kmeans = KMeans(n_clusters=4, random_state=42)\n",
    "\n",
    "# Fit the algorithm to the data\n",
    "clusters = kmeans.fit_predict(X_pca)\n",
    "\n",
    "# Plot the clusters\n",
    "pca_df['Cluster'] = clusters\n",
    "sns.scatterplot(x='PC1', y='PC2', hue='Cluster', palette='tab10', data=pca_df)\n",
    "plt.title('K-Means Clusters in PCA Space')\n",
    "plt.show()\n"
   ]
  },
  {
   "cell_type": "markdown",
   "metadata": {
    "id": "fjL0AtiN_B0D"
   },
   "source": [
    "What do these clusters look like on the original data? Let's do some summary statistics."
   ]
  },
  {
   "cell_type": "code",
   "execution_count": null,
   "metadata": {
    "colab": {
     "base_uri": "https://localhost:8080/",
     "height": 226
    },
    "id": "J9INvlZt_HRh",
    "outputId": "7cf97b2b-4245-4a18-e6ed-9d3a35b83549"
   },
   "outputs": [],
   "source": [
    "df_cc_k = pd.merge(df_cc, pca_df, left_index=True, right_index=True)\n",
    "df_cc_k.groupby('Cluster').mean()"
   ]
  },
  {
   "cell_type": "markdown",
   "metadata": {
    "id": "bM6QRWkc-uB3"
   },
   "source": [
    "## <font color='lightblue'>PaCMAP Dimension reduction</font>"
   ]
  },
  {
   "cell_type": "markdown",
   "metadata": {
    "id": "-KQTFISrcWIc"
   },
   "source": [
    "Let's do the steps above again, this time with PaCMAP.\n",
    "\n",
    "> n_neighbors (size of local neighborhood)\n",
    "\n",
    "> n_components (how many dimensions to keep)"
   ]
  },
  {
   "cell_type": "code",
   "execution_count": null,
   "metadata": {
    "colab": {
     "base_uri": "https://localhost:8080/"
    },
    "id": "2emSU3YHlzYr",
    "outputId": "d7df037d-afdc-4d54-b853-107cc91e461e"
   },
   "outputs": [],
   "source": [
    "# Install the library\n",
    "!pip install pacmap\n"
   ]
  },
  {
   "cell_type": "code",
   "execution_count": null,
   "metadata": {
    "colab": {
     "base_uri": "https://localhost:8080/",
     "height": 489
    },
    "id": "iGqlaiNQl9SP",
    "outputId": "34905fe0-c879-4b11-eef7-096af4123814"
   },
   "outputs": [],
   "source": [
    "import pacmap\n",
    "\n",
    "# Create the algorithm\n",
    "embedding = pacmap.PaCMAP(n_components=2, n_neighbors=30, random_state=192)\n",
    "\n",
    "# Fit the algorithm to the data\n",
    "X_pacmap = embedding.fit_transform(X_scaled)\n",
    "\n"
   ]
  },
  {
   "cell_type": "markdown",
   "metadata": {
    "id": "7mKx6_ihcdrs"
   },
   "source": [
    "Let's plot the data in it's reduced dimensions. What do you find?"
   ]
  },
  {
   "cell_type": "code",
   "execution_count": null,
   "metadata": {
    "colab": {
     "base_uri": "https://localhost:8080/",
     "height": 547
    },
    "id": "JBeiP5E6cjoC",
    "outputId": "397c8911-89af-411f-bc9f-fb64d445ee12"
   },
   "outputs": [],
   "source": [
    "plt.scatter(X_pacmap[:,0], X_pacmap[:,1], s=10, alpha=0.6)\n",
    "plt.title(\"PaCMAP Embedding\")\n",
    "plt.xlabel(\"PaCMAP1\"); plt.ylabel(\"PaCMAP2\")\n",
    "plt.show()"
   ]
  },
  {
   "cell_type": "markdown",
   "metadata": {
    "id": "wUJ2AG7k52cI"
   },
   "source": [
    "Similarly, when measuring the performance of the algorithm we need to include all dimension when making predictions."
   ]
  },
  {
   "cell_type": "code",
   "execution_count": null,
   "metadata": {
    "colab": {
     "base_uri": "https://localhost:8080/",
     "height": 537
    },
    "id": "UHMdnrtP6DcP",
    "outputId": "408f8fde-0f01-4cfd-8982-bf09490803a1"
   },
   "outputs": [],
   "source": [
    "# Build the clustering algorithm\n",
    "km = KMeans(n_clusters=5, n_init=\"auto\", random_state=42)\n",
    "\n",
    "# fit the clustering algorithm to the reduced data\n",
    "labels_km = km.fit_predict(X_pacmap)\n",
    "\n",
    "#create a scaterplot with points labeled by cluster\n",
    "emb_km = pd.DataFrame(X_pacmap)\n",
    "emb_km[\"Cluster\"] = labels_km\n",
    "\n",
    "plt.figure(figsize=(7,6))\n",
    "sns.scatterplot(x=emb_km[0], y=emb_km[1], hue=emb_km[\"Cluster\"], palette=\"tab10\")\n",
    "plt.title(\"k-means Clusters on UMAP\")\n",
    "plt.xlabel(\"UMAP1\"); plt.ylabel(\"UMAP2\")\n",
    "plt.legend()\n",
    "plt.show()"
   ]
  },
  {
   "cell_type": "markdown",
   "metadata": {
    "id": "BsBSuv0kAnVT"
   },
   "source": [
    "Now that we've identified clusters let's summarize their properties back on the original scale."
   ]
  },
  {
   "cell_type": "code",
   "execution_count": null,
   "metadata": {
    "colab": {
     "base_uri": "https://localhost:8080/",
     "height": 258
    },
    "id": "EeZgR25rAnpA",
    "outputId": "ae7a424d-a470-44b2-bb81-7f03af276d04"
   },
   "outputs": [],
   "source": [
    "df_cc_umap = pd.merge(df_cc, emb_km, left_index=True, right_index=True)\n",
    "df_cc_umap.groupby('Cluster').mean()"
   ]
  },
  {
   "cell_type": "markdown",
   "metadata": {
    "id": "c5fxlKMpkwqE"
   },
   "source": [
    "<img src='http://drive.google.com/uc?export=view&id=1WC4tXGCEF-1_2LQ74gIxJAZ-GLXCwBdK' width=\"100\" align = 'left'>  \n",
    "\n"
   ]
  },
  {
   "cell_type": "markdown",
   "metadata": {
    "id": "p4T2kG5kwHA5"
   },
   "source": [
    "Try to again cluster the above dataset, this time using the HDBScan algorithm."
   ]
  },
  {
   "cell_type": "markdown",
   "metadata": {
    "id": "kN1BOzx-k0Aq"
   },
   "source": [
    "## <font color='lightblue'>Bonus</font>"
   ]
  },
  {
   "cell_type": "markdown",
   "metadata": {
    "id": "kcIUJfnjwFLt"
   },
   "source": [
    "<img src='http://drive.google.com/uc?export=view&id=1WC4tXGCEF-1_2LQ74gIxJAZ-GLXCwBdK' width=\"100\" align = 'left'>  "
   ]
  },
  {
   "cell_type": "markdown",
   "metadata": {
    "id": "X4g9c1udA7Hf"
   },
   "source": [
    "Try to cluster again but this time don't reduce the dimensions when clustering and see how our results differ!"
   ]
  },
  {
   "cell_type": "markdown",
   "metadata": {
    "id": "v6F-hjnc6zFB"
   },
   "source": [
    "## <font color='lightblue'>Further reading</font>"
   ]
  },
  {
   "cell_type": "markdown",
   "metadata": {
    "id": "HwhprU0g61lt"
   },
   "source": [
    "[PaCMAP documentation](https://github.com/YingfanWang/PaCMAP)"
   ]
  }
 ],
 "metadata": {
  "colab": {
   "provenance": []
  },
  "kernelspec": {
   "display_name": "Python 3",
   "name": "python3"
  },
  "language_info": {
   "name": "python"
  }
 },
 "nbformat": 4,
 "nbformat_minor": 0
}