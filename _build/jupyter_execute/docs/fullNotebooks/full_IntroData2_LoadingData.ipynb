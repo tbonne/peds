{
 "cells": [
  {
   "cell_type": "markdown",
   "metadata": {},
   "source": [
    "<a href=\"https://colab.research.google.com/github/tbonne/peds/blob/main/docs/introData/IntroData2_LoadingData.ipynb\" target=\"_parent\"><img src=\"https://colab.research.google.com/assets/colab-badge.svg\" alt=\"Open In Colab\"/></a>"
   ]
  },
  {
   "cell_type": "markdown",
   "metadata": {
    "id": "BAIFtJ6eihzI"
   },
   "source": [
    "<img src='http://drive.google.com/uc?export=view&id=1FZW6_R4T8PailZCgLSdNTZLIDoAG9VM5' width=\"300\" align = 'center'> "
   ]
  },
  {
   "cell_type": "markdown",
   "metadata": {
    "id": "QQfYJa5t8HtW"
   },
   "source": [
    "## <font color='darkorange'>Using existing data</font>"
   ]
  },
  {
   "cell_type": "markdown",
   "metadata": {},
   "source": [
    "***"
   ]
  },
  {
   "cell_type": "markdown",
   "metadata": {
    "id": "0RXQK2SpjqCu"
   },
   "source": [
    "In this exercise we will start working with some real data. We will first learn how to load in data, then test out what you've learnt about DataFrames.\n",
    "\n",
    "Outline:\n",
    "*   Load in data\n",
    "*   Explore the dataframe\n",
    "*   Manipulate the dataframe"
   ]
  },
  {
   "cell_type": "code",
   "execution_count": null,
   "metadata": {
    "id": "awfx5nbUGxfd"
   },
   "outputs": [],
   "source": [
    "#Load in pandas\n",
    "import pandas as pd"
   ]
  },
  {
   "cell_type": "markdown",
   "metadata": {
    "id": "9oJgGETQkiwY"
   },
   "source": [
    "### <font color='darkorange'>Loading data</font>"
   ]
  },
  {
   "cell_type": "markdown",
   "metadata": {
    "id": "8FvZqqDOkrWL"
   },
   "source": [
    "There are many ways to load in datasets, here we'll look at two methods."
   ]
  },
  {
   "cell_type": "markdown",
   "metadata": {
    "id": "cYghAs_iqdAM"
   },
   "source": [
    "But first let's get the data:\n",
    "> Goto the shared [data folder](https://drive.google.com/drive/folders/1s2Civxvys_SR1sFF7D2ept1GSmFbICQb?usp=sharing) for the class and download nyc_flight_data.csv\n",
    "\n"
   ]
  },
  {
   "cell_type": "markdown",
   "metadata": {
    "id": "HskW9AzTI7cJ"
   },
   "source": [
    "Let's then load in the flights data using a function from pandas called *read_csv*."
   ]
  },
  {
   "cell_type": "markdown",
   "metadata": {
    "id": "s5NhKsGTGULu"
   },
   "source": [
    "Option 1 - load from temporary folder (easier but not permanent). \n",
    "1. Drag and drop the data into the files tab on the left. \n",
    "2. Then right click and copy the path.\n",
    "3. Then paste the path into the pd.read_csv(PATH_HERE) "
   ]
  },
  {
   "cell_type": "code",
   "execution_count": null,
   "metadata": {
    "id": "jnwMrEIVGTps"
   },
   "outputs": [],
   "source": [
    "#load in the nyc flight data\n",
    "df_flights = pd.read_csv('/content/nyc_flight_data.csv') "
   ]
  },
  {
   "cell_type": "markdown",
   "metadata": {
    "id": "kl1JU2UbGQcI"
   },
   "source": [
    "Option 2 - load from your google drive\n",
    "1. mount your google drive"
   ]
  },
  {
   "cell_type": "code",
   "execution_count": null,
   "metadata": {
    "id": "7YY7VNVtG66S"
   },
   "outputs": [],
   "source": [
    "#mount your google drive\n",
    "from google.colab import drive\n",
    "drive.mount('/content/gdrive')"
   ]
  },
  {
   "cell_type": "markdown",
   "metadata": {
    "id": "fWDxTfOEIHeU"
   },
   "source": [
    "2. Use the files tab on the left to find the file you like to load \n",
    "3. Right click on the file and copy the path\n",
    "4. Paste the path into the pd.read_csv()"
   ]
  },
  {
   "cell_type": "code",
   "execution_count": null,
   "metadata": {
    "id": "g2KKj_co9xsz"
   },
   "outputs": [],
   "source": [
    "##load in the nyc flight data \n",
    "df_flights = pd.read_csv('/content/gdrive/MyDrive/Colab Notebooks/DataScience/dataDSI/nyc_flight_data.csv') "
   ]
  },
  {
   "cell_type": "markdown",
   "metadata": {
    "id": "zmXGEfFKnM7H"
   },
   "source": [
    "### <font color='darkorange'>Exploring the dataframe</font>"
   ]
  },
  {
   "cell_type": "markdown",
   "metadata": {
    "id": "lsYFARHaGdX-"
   },
   "source": [
    "Now that we have the dataset loaded, let's take a look at it. Let's first look at it's shape."
   ]
  },
  {
   "cell_type": "code",
   "execution_count": null,
   "metadata": {
    "id": "uLa-XVQxuBwF"
   },
   "outputs": [],
   "source": [
    "df_flights.shape"
   ]
  },
  {
   "cell_type": "markdown",
   "metadata": {
    "id": "pubLayxLuA5f"
   },
   "source": [
    "Here we can get a quick look the dataframe using the **head** method."
   ]
  },
  {
   "cell_type": "code",
   "execution_count": null,
   "metadata": {
    "id": "jV14MnZpGpnL"
   },
   "outputs": [],
   "source": [
    "df_flights.head(5)"
   ]
  },
  {
   "cell_type": "markdown",
   "metadata": {
    "id": "ihn7iAw6I_lQ"
   },
   "source": [
    "Or if you like a little more options you can use the folowing to help visualize the table better."
   ]
  },
  {
   "cell_type": "code",
   "execution_count": null,
   "metadata": {
    "id": "TIgYRG3nI_Ul"
   },
   "outputs": [],
   "source": [
    "%load_ext google.colab.data_table"
   ]
  },
  {
   "cell_type": "markdown",
   "metadata": {
    "id": "AQ_xGhtRJOw_"
   },
   "source": [
    "Now try looking at your dataframe again."
   ]
  },
  {
   "cell_type": "code",
   "execution_count": null,
   "metadata": {
    "id": "H37YQMKPJRpB"
   },
   "outputs": [],
   "source": [
    "df_flights.head(5)"
   ]
  },
  {
   "cell_type": "markdown",
   "metadata": {
    "id": "_HiaHTk4HTpv"
   },
   "source": [
    "We can also see what kinds of variables are in the dataframe by using the **dtype** method:"
   ]
  },
  {
   "cell_type": "code",
   "execution_count": null,
   "metadata": {
    "id": "r3SY-DNmHai7"
   },
   "outputs": [],
   "source": [
    "#find the data types\n",
    "df_flights.dtypes"
   ]
  },
  {
   "cell_type": "markdown",
   "metadata": {
    "id": "HEpqUyo0q8JK"
   },
   "source": [
    "We can get a quick description of the numeric data using the **describe** method:"
   ]
  },
  {
   "cell_type": "code",
   "execution_count": null,
   "metadata": {
    "id": "X_ExHFhxq77p"
   },
   "outputs": [],
   "source": [
    "df_flights.describe()"
   ]
  },
  {
   "cell_type": "markdown",
   "metadata": {
    "id": "bJxRYLmYHaFB"
   },
   "source": [
    "We can also take a look at the dataframe by double clicking on the nycflights.csv file in the files tab on the left. This gives us a more dynamic view as we can use filter to explore the data a little more.\n",
    "Try filtering for carrier: e.g., AA"
   ]
  },
  {
   "cell_type": "markdown",
   "metadata": {
    "id": "uk7OJAh6mBSQ"
   },
   "source": [
    "### <font color='darkorange'>Manipulate the dataframe</font>"
   ]
  },
  {
   "cell_type": "markdown",
   "metadata": {
    "id": "aN7MXElJl-4u"
   },
   "source": [
    "Let's now use your new found skills to answer some questions!"
   ]
  },
  {
   "cell_type": "markdown",
   "metadata": {
    "id": "o0ndWycZn9sR"
   },
   "source": [
    "<img src='http://drive.google.com/uc?export=view&id=1WC4tXGCEF-1_2LQ74gIxJAZ-GLXCwBdK' width=\"100\">"
   ]
  },
  {
   "cell_type": "markdown",
   "metadata": {
    "id": "qsvRUqaEJ4JT"
   },
   "source": [
    "Make a dataframe with only carrier, arr_delay, dep_delay, and air_time as columns."
   ]
  },
  {
   "cell_type": "code",
   "execution_count": null,
   "metadata": {
    "id": "m0zqbaCcAneP"
   },
   "outputs": [],
   "source": [
    "#keep only the a subset of columns\n",
    "df_flights_sub = df_flights.loc[ : , ['carrier','arr_delay','dep_delay','air_time']  ]  #Warning: the column names will be case sensitive!\n",
    "\n",
    "#take a look at the new dataframe\n",
    "df_flights_sub"
   ]
  },
  {
   "cell_type": "markdown",
   "metadata": {
    "id": "2znJOff0JpXE"
   },
   "source": [
    "Make a dataframe of all flights that have an arrival delay of greater than 60min"
   ]
  },
  {
   "cell_type": "code",
   "execution_count": null,
   "metadata": {
    "id": "lS27a2TUJ2IG"
   },
   "outputs": [],
   "source": [
    "#keep only the rows with arr_delay of greater than 60 minutes\n",
    "df_flights_delayed60 = df_flights[df_flights.arr_delay>60]\n",
    "\n",
    "#What is the shape of this new dataframe\n",
    "df_flights_delayed60.shape"
   ]
  },
  {
   "cell_type": "markdown",
   "metadata": {
    "id": "Edr1BV2OjImL"
   },
   "source": [
    "Can you also calculate how many flights arrived earlier than expected (i.e., where the plane arrived before the scheduled arrival time). "
   ]
  },
  {
   "cell_type": "code",
   "execution_count": null,
   "metadata": {
    "id": "L1RLoJ5mNrAt"
   },
   "outputs": [],
   "source": [
    "#keep only the rows with arr_delay less than 0 minutes (i.e., negative delay!)\n",
    "df_flights_early = df_flights[df_flights.arr_delay<0]\n",
    "\n",
    "#what is the shape of this new dataframe\n",
    "df_flights_early.shape"
   ]
  },
  {
   "cell_type": "markdown",
   "metadata": {
    "id": "3cUMKEmbyxsY"
   },
   "source": [
    "Finally can you express these numbers as percentages?"
   ]
  },
  {
   "cell_type": "code",
   "execution_count": null,
   "metadata": {
    "id": "dOspEKWIy8fQ"
   },
   "outputs": [],
   "source": [
    "#percentage of flights delayed more than 60mins, i.e., number delayed rows / number total rows\n",
    "df_flights_delayed60.shape[0]/df_flights.shape[0] * 100\n",
    "\n",
    "#or just\n",
    "226 / 3614"
   ]
  },
  {
   "cell_type": "code",
   "execution_count": 1,
   "metadata": {
    "id": "sZ65plI6zGUA"
   },
   "outputs": [
    {
     "ename": "NameError",
     "evalue": "name 'df_flights_early' is not defined",
     "output_type": "error",
     "traceback": [
      "\u001b[0;31m---------------------------------------------------------------------------\u001b[0m",
      "\u001b[0;31mNameError\u001b[0m                                 Traceback (most recent call last)",
      "\u001b[0;32m<ipython-input-1-ce70047e62e7>\u001b[0m in \u001b[0;36m<module>\u001b[0;34m\u001b[0m\n\u001b[1;32m      1\u001b[0m \u001b[0;31m#percentage of flights arriving before scheduled time, i.e., number early rows / number total rows\u001b[0m\u001b[0;34m\u001b[0m\u001b[0;34m\u001b[0m\u001b[0;34m\u001b[0m\u001b[0m\n\u001b[0;32m----> 2\u001b[0;31m \u001b[0mlen\u001b[0m\u001b[0;34m(\u001b[0m\u001b[0mdf_flights_early\u001b[0m\u001b[0;34m)\u001b[0m \u001b[0;34m/\u001b[0m \u001b[0mlen\u001b[0m\u001b[0;34m(\u001b[0m\u001b[0mdf_flights\u001b[0m\u001b[0;34m)\u001b[0m \u001b[0;34m*\u001b[0m \u001b[0;36m100\u001b[0m\u001b[0;34m\u001b[0m\u001b[0;34m\u001b[0m\u001b[0m\n\u001b[0m",
      "\u001b[0;31mNameError\u001b[0m: name 'df_flights_early' is not defined"
     ]
    }
   ],
   "source": [
    "#percentage of flights arriving before scheduled time, i.e., number early rows / number total rows\n",
    "len(df_flights_early) / len(df_flights) * 100"
   ]
  },
  {
   "cell_type": "markdown",
   "metadata": {
    "id": "TUNoATnrzL4K"
   },
   "source": [
    "Post to slack once you've got an answer!"
   ]
  },
  {
   "cell_type": "markdown",
   "metadata": {
    "id": "xVcb23hW1oXD"
   },
   "source": [
    "### <font color='darkorange'>Further reading</font>"
   ]
  },
  {
   "cell_type": "markdown",
   "metadata": {
    "id": "T0CUWO8D1wPz"
   },
   "source": [
    "The many ways to work with [data in colab](https://neptune.ai/blog/google-colab-dealing-with-files).\n",
    "\n",
    "> If you would like the notebook without missing code check out the [full code](https://colab.research.google.com/github/tbonne/peds/blob/main/docs/fullNotebooks/full_IntroData2_LoadingData.ipynb) version."
   ]
  }
 ],
 "metadata": {
  "colab": {
   "authorship_tag": "ABX9TyOwZnZB4e7fR5w1wutzVvE2",
   "collapsed_sections": [],
   "mount_file_id": "1DPfUfk_MvYKEIp0HqW0MZCrxHuqjl_RU",
   "name": "IntroData2_LoadingData.ipynb",
   "provenance": [
    {
     "file_id": "1s_HXYjeYp4woIIfmfEthPTQ9-QuapLRF",
     "timestamp": 1624904433195
    }
   ]
  },
  "interpreter": {
   "hash": "a9bfdd3506d8ff06ea54eab0350bf37508ce74b9dbf3b3db19c82e1420de1fd0"
  },
  "kernelspec": {
   "display_name": "Python 3.8.8 64-bit ('adhd': conda)",
   "name": "python3"
  },
  "language_info": {
   "codemirror_mode": {
    "name": "ipython",
    "version": 3
   },
   "file_extension": ".py",
   "mimetype": "text/x-python",
   "name": "python",
   "nbconvert_exporter": "python",
   "pygments_lexer": "ipython3",
   "version": "3.8.8"
  }
 },
 "nbformat": 4,
 "nbformat_minor": 2
}