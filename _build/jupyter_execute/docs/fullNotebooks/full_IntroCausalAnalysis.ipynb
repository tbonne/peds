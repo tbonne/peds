{
 "cells": [
  {
   "cell_type": "markdown",
   "metadata": {
    "colab_type": "text",
    "id": "view-in-github"
   },
   "source": [
    "<a href=\"https://colab.research.google.com/github/tbonne/peds/blob/main/docs/introComm/IntroCausalAnalysis.ipynb\" target=\"_parent\"><img src=\"https://colab.research.google.com/assets/colab-badge.svg\" alt=\"Open In Colab\"/></a>"
   ]
  },
  {
   "cell_type": "markdown",
   "metadata": {
    "id": "9C2arduFECBl"
   },
   "source": [
    "<img src='http://drive.google.com/uc?export=view&id=1gfef2jOOS8IuF0L-2yYmx2D0eEEmZwQs' width=500>\n"
   ]
  },
  {
   "cell_type": "markdown",
   "metadata": {},
   "source": [
    "***"
   ]
  },
  {
   "cell_type": "markdown",
   "metadata": {
    "id": "BQpnBRMDe_mB"
   },
   "source": [
    "## <font color='darkorange'>Explainability vs Causality</font>\n",
    "\n",
    "\n",
    "Here we will look at the difference between understanding how the ML model is making predictions (explainability) and what is causing the outcome (causality)\n"
   ]
  },
  {
   "cell_type": "markdown",
   "metadata": {
    "id": "yFmN1aLjfVej"
   },
   "source": [
    "To do so we will look at a silly example where we know that the patterns picked up by the model are not causal.\n"
   ]
  },
  {
   "cell_type": "markdown",
   "metadata": {
    "id": "H4-8qJBvfiL1"
   },
   "source": [
    "### <font color='darkorange'>Waffle houses and divorce rates</font>\n"
   ]
  },
  {
   "cell_type": "code",
   "execution_count": null,
   "metadata": {
    "id": "R6oL7k7uftq4"
   },
   "outputs": [],
   "source": [
    "import pandas as pd\n",
    "import sklearn as sk\n",
    "import seaborn as sns\n",
    "from matplotlib import pyplot as plt\n",
    "from sklearn.model_selection import train_test_split"
   ]
  },
  {
   "cell_type": "markdown",
   "metadata": {
    "id": "GZ7MxOMHflXV"
   },
   "source": [
    "Load the data"
   ]
  },
  {
   "cell_type": "code",
   "execution_count": null,
   "metadata": {
    "id": "5NHlsf8GeMWW"
   },
   "outputs": [],
   "source": [
    "#load data\n",
    "df_waffles = pd.read_csv(\"/content/waffles.csv\")\n",
    "\n",
    "#take a look\n",
    "df_waffles.head()"
   ]
  },
  {
   "cell_type": "markdown",
   "metadata": {
    "id": "FovWxCFQkiTn"
   },
   "source": [
    "Visualize the data"
   ]
  },
  {
   "cell_type": "code",
   "execution_count": null,
   "metadata": {
    "id": "Lm36a2uZmIW5"
   },
   "outputs": [],
   "source": [
    "#sort the dataframe\n",
    "pd_df = df_waffles.sort_values(['Divorce']).reset_index(drop=True)\n",
    "\n",
    "#plot by state\n",
    "sns.barplot(data=pd_df, x=\"Loc\",y=\"Divorce\")\n",
    "plt.xticks(rotation=90)"
   ]
  },
  {
   "cell_type": "markdown",
   "metadata": {
    "id": "GMJVKC1ckysB"
   },
   "source": [
    "### <font color='darkorange'>Do whaffle houses cause divorce?</font>\n"
   ]
  },
  {
   "cell_type": "code",
   "execution_count": null,
   "metadata": {
    "id": "8ByGVB4fLmIG"
   },
   "outputs": [],
   "source": [
    "#correlation\n",
    "df_waffles.WaffleHouses.corr(df_waffles.Divorce)"
   ]
  },
  {
   "cell_type": "code",
   "execution_count": null,
   "metadata": {
    "id": "GUnoEdV7AZLP"
   },
   "outputs": [],
   "source": [
    "#scatter plot\n",
    "sns.scatterplot(data=df_waffles, x=\"WaffleHouses\", y=\"Divorce\" )\n"
   ]
  },
  {
   "cell_type": "markdown",
   "metadata": {
    "id": "lKdW7X6B0epK"
   },
   "source": [
    "Data wrangling"
   ]
  },
  {
   "cell_type": "code",
   "execution_count": null,
   "metadata": {
    "id": "7uuaVICoRlMs"
   },
   "outputs": [],
   "source": [
    "#split these data into training and testing datasets\n",
    "df_train, df_test = train_test_split(df_waffles, test_size=0.20, random_state=14)"
   ]
  },
  {
   "cell_type": "markdown",
   "metadata": {
    "id": "OAk0s-hKmH7i"
   },
   "source": [
    "### <font color='darkorange'>Build a model</font>\n",
    "\n",
    "Can we predict divorce rates based on:\n",
    "1. population\n",
    "2. marage rates (more mariage more divorce)\n",
    "3. Median age at marriage\n",
    "4. Number of waffle houses"
   ]
  },
  {
   "cell_type": "markdown",
   "metadata": {
    "id": "GTUwaLV9HdvV"
   },
   "source": [
    "<img src='http://drive.google.com/uc?export=view&id=1WC4tXGCEF-1_2LQ74gIxJAZ-GLXCwBdK' width=\"100\">  "
   ]
  },
  {
   "cell_type": "markdown",
   "metadata": {
    "id": "eqXwuYoe8Va9"
   },
   "source": [
    "Build a linear regression predicting Divorce using wafflehouses."
   ]
  },
  {
   "cell_type": "code",
   "execution_count": null,
   "metadata": {
    "id": "eHrG5Z1lRJ5q"
   },
   "outputs": [],
   "source": [
    "import statsmodels.api as sm #for running regression!\n",
    "import statsmodels.formula.api as smf\n",
    "\n",
    "#Build the model\n",
    "linear_reg_model = smf.ols(formula='Divorce ~ WaffleHouses ', data=df_train)\n",
    "\n",
    "#Use the data to fit the model (i.e., find the best intercept and slope parameters)\n",
    "linear_reg_results = linear_reg_model.fit()\n",
    "\n",
    "#summary\n",
    "print(linear_reg_results.summary())"
   ]
  },
  {
   "cell_type": "markdown",
   "metadata": {
    "id": "-l9Slvyc72dT"
   },
   "source": [
    "### <font color='darkorange'>Fit the model again, this time add the South variable</font>"
   ]
  },
  {
   "cell_type": "code",
   "execution_count": null,
   "metadata": {
    "id": "mweD6mtJSYPh"
   },
   "outputs": [],
   "source": [
    "#Build the model\n",
    "linear_reg_model_South = smf.ols(formula='Divorce ~ WaffleHouses + South', data=df_train)\n",
    "\n",
    "#Use the data to fit the model (i.e., find the best intercept and slope parameters)\n",
    "linear_reg_model_South = linear_reg_model_South.fit()\n",
    "\n",
    "#summary\n",
    "print(linear_reg_model_South.summary())"
   ]
  },
  {
   "cell_type": "markdown",
   "metadata": {
    "id": "NK_IenAS48i1"
   },
   "source": [
    "#### <font color='darkorange'>Bonus</font>"
   ]
  },
  {
   "cell_type": "markdown",
   "metadata": {
    "id": "9lEDh3SO4_4u"
   },
   "source": [
    "Try to run the models with alternative combinations of variables? How does the model estimate of the effect of wafflehouses on divorce change?"
   ]
  },
  {
   "cell_type": "markdown",
   "metadata": {
    "id": "KgxVHlWrjkry"
   },
   "source": [
    "### <font color='darkorange'>Statistical confounds</font>\n",
    "\n",
    "> Statistical confounds make it hard to determine the causal nature of the patterns we find in ML model results. We need to be careful about how we explain how a model makes predictions and the causal nature of those patterns.\n",
    "\n",
    "> In the case of the whaffle houses and divorce rates, there are just more waffle houses in southern states. South --> wafflehouses --> Divorce rates"
   ]
  },
  {
   "cell_type": "code",
   "execution_count": null,
   "metadata": {
    "id": "xsWU8gAgkGUo"
   },
   "outputs": [],
   "source": [
    "sns.boxplot(data=df_waffles, x=\"South\", y=\"WaffleHouses\")"
   ]
  },
  {
   "cell_type": "markdown",
   "metadata": {
    "id": "ZZmp46mF7reu"
   },
   "source": [
    "### <font color='darkorange'>Let's see what feature importance suggests</font>"
   ]
  },
  {
   "cell_type": "markdown",
   "metadata": {
    "id": "aXmjmKWK4Bnh"
   },
   "source": [
    "<img src='http://drive.google.com/uc?export=view&id=1WC4tXGCEF-1_2LQ74gIxJAZ-GLXCwBdK' width=\"100\">  "
   ]
  },
  {
   "cell_type": "code",
   "execution_count": null,
   "metadata": {
    "id": "r9PhBzfXO26O"
   },
   "outputs": [],
   "source": [
    "from sklearn.linear_model import LinearRegression\n",
    "from sklearn.inspection import permutation_importance\n",
    "\n",
    "#split data into predictors (X) and target (y)\n",
    "X = df_waffles.drop(['Divorce','Location','Loc'],axis=1)\n",
    "y = df_waffles['Divorce']\n",
    "\n",
    "#split these data into training and testing datasets\n",
    "X_train, X_test, y_train, y_test = train_test_split(X, y, test_size=0.20)\n",
    "\n",
    "#fit linear regression\n",
    "LR1 = LinearRegression()\n",
    "LR1.fit(X_train, y_train)\n",
    "\n",
    "#model interpretation\n",
    "rel_impo = permutation_importance(LR1, X_test, y_test,n_repeats=30,random_state=0)\n",
    "pd.DataFrame({\"feature\":X_test.columns,\"importance\":rel_impo.importances_mean, \"sd\":rel_impo.importances_std})"
   ]
  },
  {
   "cell_type": "markdown",
   "metadata": {
    "id": "md1RcfQv8iJp"
   },
   "source": [
    "### <font color='darkorange'>Let's see what feature selection suggests</font>"
   ]
  },
  {
   "cell_type": "code",
   "execution_count": null,
   "metadata": {
    "id": "yp9Zr-3C80AC"
   },
   "outputs": [],
   "source": [
    "from sklearn.model_selection import KFold\n",
    "from sklearn.feature_selection import RFECV\n",
    "\n",
    "#split data into predictors (X) and target (y)\n",
    "X = df_waffles.drop(['Divorce','Location','Loc'], axis=1)\n",
    "y = df_waffles['Divorce']\n",
    "\n",
    "#split these data into training and testing datasets\n",
    "X_train, X_test, y_train, y_test = train_test_split(X, y, test_size=0.20)\n",
    "\n",
    "#build a linear regression (full model)\n",
    "LR1 = LinearRegression()\n",
    "\n",
    "#fit linear regression\n",
    "LR1.fit(X_train, y_train)"
   ]
  },
  {
   "cell_type": "code",
   "execution_count": null,
   "metadata": {
    "id": "qLvRgura9lSE"
   },
   "outputs": [],
   "source": [
    "#min number of variables/features\n",
    "min_features_to_select = 1\n",
    "\n",
    "#build the feature selection algorithm\n",
    "rfecv = RFECV(estimator=LR1, step=1, cv=3,scoring='neg_mean_squared_error', min_features_to_select=min_features_to_select)\n",
    "\n",
    "#fit the algorithm to the data\n",
    "rfecv.fit(X_train, y_train)"
   ]
  },
  {
   "cell_type": "code",
   "execution_count": null,
   "metadata": {
    "id": "FSObYPwA80AR"
   },
   "outputs": [],
   "source": [
    "print(\"Optimal number of features : %d\" % rfecv.n_features_)\n",
    "\n",
    "# Plot number of features VS. cross-validation scores\n",
    "plt.figure()\n",
    "plt.xlabel(\"Number of features selected\")\n",
    "plt.ylabel(\"Cross validation score (mean square error?)\")\n",
    "plt.plot(range(min_features_to_select,\n",
    "               len(rfecv.grid_scores_) + min_features_to_select),\n",
    "         rfecv.grid_scores_)\n",
    "plt.show()"
   ]
  },
  {
   "cell_type": "code",
   "execution_count": null,
   "metadata": {
    "id": "XfXCCK-q80AS"
   },
   "outputs": [],
   "source": [
    "rfecv.support_"
   ]
  },
  {
   "cell_type": "code",
   "execution_count": null,
   "metadata": {
    "id": "3f-RxGiU80AS"
   },
   "outputs": [],
   "source": [
    "X_train_reduced = X_train.iloc[:,rfecv.support_]\n",
    "\n",
    "X_train_reduced.head(3)"
   ]
  },
  {
   "cell_type": "code",
   "execution_count": null,
   "metadata": {
    "id": "5E1zJmWw-Oox"
   },
   "outputs": [],
   "source": [
    "#get the slopes!\n",
    "rfecv.estimator_.coef_"
   ]
  },
  {
   "cell_type": "markdown",
   "metadata": {
    "id": "rhsmIwF-OoJU"
   },
   "source": [
    "### <font color='darkorange'>Bonus</font>"
   ]
  },
  {
   "cell_type": "markdown",
   "metadata": {
    "id": "rTOtIGZmOqsF"
   },
   "source": [
    "Redo the exercise above this time using a more black box approach, e.g., Random Forest!"
   ]
  },
  {
   "cell_type": "code",
   "execution_count": null,
   "metadata": {
    "id": "YvwxByCV0gdy"
   },
   "outputs": [],
   "source": [
    "from sklearn.model_selection import train_test_split\n",
    "\n",
    "#split data into predictors (X) and target (y)\n",
    "X = df_waffles[['Population','Marriage','WaffleHouses']]\n",
    "y = df_waffles['Divorce']\n",
    "\n",
    "#split these data into training and testing datasets\n",
    "X_train, X_test, y_train, y_test = train_test_split(X, y, test_size=0.20)"
   ]
  },
  {
   "cell_type": "markdown",
   "metadata": {
    "id": "eq8pKsUQANn2"
   },
   "source": [
    "Find optimal hyperparameters"
   ]
  },
  {
   "cell_type": "code",
   "execution_count": null,
   "metadata": {
    "colab": {
     "base_uri": "https://localhost:8080/"
    },
    "id": "yZOfTkuj7pb8",
    "outputId": "f14216d6-cf96-4ee4-841b-6e7629e9ae68"
   },
   "outputs": [
    {
     "name": "stdout",
     "output_type": "stream",
     "text": [
      "{'max_depth': 5, 'max_samples': 0.99, 'n_estimators': 100}\n"
     ]
    }
   ],
   "source": [
    "import numpy as np\n",
    "from sklearn.ensemble import RandomForestRegressor\n",
    "from sklearn.model_selection import GridSearchCV\n",
    "\n",
    "parameters = {'max_depth': list(range(1, 10,2)),\n",
    "              'n_estimators':list(range(50,200,50)),\n",
    "              'max_samples':[0.5,0.7,0.9,0.99]}\n",
    "\n",
    "randForest = RandomForestRegressor()\n",
    "grid_search = GridSearchCV(randForest, parameters, cv=5, n_jobs=1, scoring='neg_mean_squared_error')\n",
    "grid_search.fit(X_train, y_train)\n",
    "\n",
    "sorted(grid_search.cv_results_.keys())\n",
    "print(grid_search.best_params_)\n",
    "\n",
    "\n"
   ]
  },
  {
   "cell_type": "markdown",
   "metadata": {
    "id": "T4hpoy5y36Zo"
   },
   "source": [
    "Build the model with the optimal hyperparameters"
   ]
  },
  {
   "cell_type": "code",
   "execution_count": null,
   "metadata": {
    "id": "Dk0PgRjU35ml"
   },
   "outputs": [],
   "source": [
    "#1. build the model\n",
    "RFR = RandomForestRegressor(max_depth=5,n_estimators=50,max_samples=0.5)\n",
    "\n",
    "#2. fit the model to the data\n",
    "RFR.fit(X_train, y_train)\n",
    "\n",
    "#3. make predictions using the model\n",
    "y_pred = RFR.predict(X_test)"
   ]
  },
  {
   "cell_type": "markdown",
   "metadata": {
    "id": "nH2WdajbATXa"
   },
   "source": [
    "How well did the model perform"
   ]
  },
  {
   "cell_type": "code",
   "execution_count": null,
   "metadata": {
    "colab": {
     "base_uri": "https://localhost:8080/"
    },
    "id": "r6BY7JkAE1s0",
    "outputId": "8cacd119-9c73-45e1-da12-2bc0886a4d8a"
   },
   "outputs": [
    {
     "data": {
      "text/plain": [
       "2.861558440608589"
      ]
     },
     "metadata": {},
     "output_type": "display_data"
    }
   ],
   "source": [
    "#how well does it predict\n",
    "from sklearn.metrics import mean_squared_error\n",
    "\n",
    "mean_squared_error(y_test,y_pred)"
   ]
  },
  {
   "cell_type": "markdown",
   "metadata": {
    "id": "Q45Wwh3ZLvxL"
   },
   "source": [
    "Explain how the model is making these predictions?"
   ]
  },
  {
   "cell_type": "code",
   "execution_count": null,
   "metadata": {
    "colab": {
     "base_uri": "https://localhost:8080/",
     "height": 143
    },
    "id": "WKOTXaq0FAxr",
    "outputId": "cacb0f28-5a4e-4a80-f90d-b64fab4c22b5"
   },
   "outputs": [
    {
     "data": {
      "text/html": [
       "<div>\n",
       "<style scoped>\n",
       "    .dataframe tbody tr th:only-of-type {\n",
       "        vertical-align: middle;\n",
       "    }\n",
       "\n",
       "    .dataframe tbody tr th {\n",
       "        vertical-align: top;\n",
       "    }\n",
       "\n",
       "    .dataframe thead th {\n",
       "        text-align: right;\n",
       "    }\n",
       "</style>\n",
       "<table border=\"1\" class=\"dataframe\">\n",
       "  <thead>\n",
       "    <tr style=\"text-align: right;\">\n",
       "      <th></th>\n",
       "      <th>feature</th>\n",
       "      <th>importance</th>\n",
       "      <th>sd</th>\n",
       "    </tr>\n",
       "  </thead>\n",
       "  <tbody>\n",
       "    <tr>\n",
       "      <th>0</th>\n",
       "      <td>Population</td>\n",
       "      <td>0.358426</td>\n",
       "      <td>0.292075</td>\n",
       "    </tr>\n",
       "    <tr>\n",
       "      <th>1</th>\n",
       "      <td>Marriage</td>\n",
       "      <td>1.539061</td>\n",
       "      <td>0.902035</td>\n",
       "    </tr>\n",
       "    <tr>\n",
       "      <th>2</th>\n",
       "      <td>WaffleHouses</td>\n",
       "      <td>0.878724</td>\n",
       "      <td>0.643748</td>\n",
       "    </tr>\n",
       "  </tbody>\n",
       "</table>\n",
       "</div>"
      ],
      "text/plain": [
       "        feature  importance        sd\n",
       "0    Population    0.358426  0.292075\n",
       "1      Marriage    1.539061  0.902035\n",
       "2  WaffleHouses    0.878724  0.643748"
      ]
     },
     "metadata": {},
     "output_type": "display_data"
    }
   ],
   "source": [
    "#What is important for prediction?\n",
    "from sklearn.inspection import permutation_importance\n",
    "\n",
    "#estimate permutation importance on the test data\n",
    "perm_impo = permutation_importance(RFR, X_test, y_test,scoring='neg_mean_squared_error',n_repeats=30)\n",
    "\n",
    "#create a dataframe with the values\n",
    "df_imp = pd.DataFrame({\"feature\":X_test.columns,\"importance\":perm_impo.importances_mean, \"sd\":perm_impo.importances_std})\n",
    "sorted(sk.metrics.SCORERS.keys())\n",
    "\n",
    "#take a look\n",
    "df_imp"
   ]
  },
  {
   "cell_type": "code",
   "execution_count": null,
   "metadata": {
    "colab": {
     "base_uri": "https://localhost:8080/",
     "height": 355
    },
    "id": "LgfCwJOHOx-k",
    "outputId": "4ae6bf18-20a1-4d2b-f67c-70a7372ec69f"
   },
   "outputs": [
    {
     "data": {
      "text/plain": [
       "(array([0, 1, 2]), <a list of 3 Text major ticklabel objects>)"
      ]
     },
     "metadata": {},
     "output_type": "display_data"
    },
    {
     "data": {
      "image/png": "[encoded data removed]",
      "text/plain": [
       "<Figure size 432x288 with 1 Axes>"
      ]
     },
     "metadata": {
      "filenames": {
       "image/png": "/Users/tylerbonnell/Dropbox/IntroDataScience/peds/peds/_build/jupyter_execute/docs/fullNotebooks/full_IntroCausalAnalysis_47_1.png"
      }
     },
     "output_type": "display_data"
    }
   ],
   "source": [
    "#plot the importance values\n",
    "df_imp_all = pd.DataFrame(perm_impo.importances.transpose())\n",
    "df_imp_all.columns = X_test.columns\n",
    "df_imp_all_long = pd.melt(df_imp_all)\n",
    "sns.barplot(data=df_imp_all_long, x=\"variable\",y=\"value\", ci=95)\n",
    "plt.xticks(rotation=90) \n"
   ]
  },
  {
   "cell_type": "markdown",
   "metadata": {
    "id": "I54NX306uLG2"
   },
   "source": [
    "What does the model think divorce rates will change when we vary wafflehouses?"
   ]
  },
  {
   "cell_type": "code",
   "execution_count": null,
   "metadata": {
    "colab": {
     "base_uri": "https://localhost:8080/",
     "height": 349
    },
    "id": "HiCvLf23uG-B",
    "outputId": "acbec70e-62ff-4d24-e358-ed681eff7947"
   },
   "outputs": [
    {
     "data": {
      "text/plain": [
       "array([ 9.828     ,  9.828     , 10.95209127, 11.50665238, 11.50865238,\n",
       "       11.50865238, 11.50865238, 11.50865238, 11.50865238, 11.50865238,\n",
       "       11.50865238, 11.50865238, 11.50865238, 11.50865238, 11.50865238,\n",
       "       11.50865238, 11.50865238, 11.50865238, 11.50865238, 11.50865238])"
      ]
     },
     "metadata": {},
     "output_type": "display_data"
    },
    {
     "data": {
      "image/png": "[encoded data removed]",
      "text/plain": [
       "<Figure size 432x288 with 1 Axes>"
      ]
     },
     "metadata": {
      "filenames": {
       "image/png": "/Users/tylerbonnell/Dropbox/IntroDataScience/peds/peds/_build/jupyter_execute/docs/fullNotebooks/full_IntroCausalAnalysis_49_1.png"
      }
     },
     "output_type": "display_data"
    }
   ],
   "source": [
    "#1. Create a dataframe\n",
    "df_question = pd.DataFrame({'Population':X_train.Population.mean(),\n",
    "                            'WaffleHouses':list(range(0,200,10)),\n",
    "                            'Marriage':X_train.Marriage.mean(),\n",
    "                            })\n",
    "                            \n",
    "\n",
    "#2. Use the model to make predictions\n",
    "question_pred =  RFR.predict(df_question)\n",
    "\n",
    "#3. add a column to the df_question\n",
    "df_question['predicted_divorceRates'] = question_pred\n",
    "\n",
    "#4. plot the predictions\n",
    "sns.scatterplot(data=df_question, x='WaffleHouses',y='predicted_divorceRates')\n",
    "question_pred"
   ]
  },
  {
   "cell_type": "markdown",
   "metadata": {
    "id": "C0tUHgMi6FI7"
   },
   "source": [
    "In my case, the random forest model has found a positive association between wafflehouses and divorce rates!"
   ]
  },
  {
   "cell_type": "markdown",
   "metadata": {
    "id": "Ck4ogI1vLzGX"
   },
   "source": [
    "### Repeat the analysis but this time add in the variable 'South'\n"
   ]
  },
  {
   "cell_type": "markdown",
   "metadata": {
    "id": "6VCJDhfML9xb"
   },
   "source": [
    "Data wrangling"
   ]
  },
  {
   "cell_type": "code",
   "execution_count": null,
   "metadata": {
    "id": "tYdP7aH5L3yS"
   },
   "outputs": [],
   "source": [
    "#split data into predictors (X) and target (y)\n",
    "X = df_waffles[['Population','Marriage','WaffleHouses','South']]\n",
    "y = df_waffles['Divorce']\n",
    "\n",
    "\n",
    "#split these data into training and testing datasets\n",
    "X_train, X_test, y_train, y_test = train_test_split(X, y, test_size=0.20)"
   ]
  },
  {
   "cell_type": "markdown",
   "metadata": {
    "id": "eHZqGKK4MEJb"
   },
   "source": [
    "Build the model"
   ]
  },
  {
   "cell_type": "code",
   "execution_count": null,
   "metadata": {
    "colab": {
     "base_uri": "https://localhost:8080/"
    },
    "id": "lUAwAPM9MDsp",
    "outputId": "95e31175-9427-426d-b9cd-758c5550da3f"
   },
   "outputs": [
    {
     "data": {
      "text/plain": [
       "RandomForestRegressor(bootstrap=True, ccp_alpha=0.0, criterion='mse',\n",
       "                      max_depth=5, max_features='auto', max_leaf_nodes=None,\n",
       "                      max_samples=0.5, min_impurity_decrease=0.0,\n",
       "                      min_impurity_split=None, min_samples_leaf=1,\n",
       "                      min_samples_split=2, min_weight_fraction_leaf=0.0,\n",
       "                      n_estimators=50, n_jobs=None, oob_score=False,\n",
       "                      random_state=None, verbose=0, warm_start=False)"
      ]
     },
     "metadata": {},
     "output_type": "display_data"
    }
   ],
   "source": [
    "RFR2 = RandomForestRegressor(max_depth=5,n_estimators=50,max_samples=0.5)\n",
    "RFR2.fit(X_train, y_train)"
   ]
  },
  {
   "cell_type": "markdown",
   "metadata": {
    "id": "bDMKUha5W2VV"
   },
   "source": [
    "Make predictions "
   ]
  },
  {
   "cell_type": "code",
   "execution_count": null,
   "metadata": {
    "colab": {
     "base_uri": "https://localhost:8080/"
    },
    "id": "Ilmul8EaW49y",
    "outputId": "34a39a11-9ee3-409a-b97e-20f17c4fb0ef"
   },
   "outputs": [
    {
     "data": {
      "text/plain": [
       "2.3490485825328804"
      ]
     },
     "metadata": {},
     "output_type": "display_data"
    }
   ],
   "source": [
    "mean_squared_error(RFR2.predict(X_test), y_test)"
   ]
  },
  {
   "cell_type": "code",
   "execution_count": null,
   "metadata": {
    "colab": {
     "base_uri": "https://localhost:8080/",
     "height": 175
    },
    "id": "BZWlb2KQMJYH",
    "outputId": "67f43f0b-813e-4a94-9861-bf2570424b5c"
   },
   "outputs": [
    {
     "data": {
      "text/html": [
       "<div>\n",
       "<style scoped>\n",
       "    .dataframe tbody tr th:only-of-type {\n",
       "        vertical-align: middle;\n",
       "    }\n",
       "\n",
       "    .dataframe tbody tr th {\n",
       "        vertical-align: top;\n",
       "    }\n",
       "\n",
       "    .dataframe thead th {\n",
       "        text-align: right;\n",
       "    }\n",
       "</style>\n",
       "<table border=\"1\" class=\"dataframe\">\n",
       "  <thead>\n",
       "    <tr style=\"text-align: right;\">\n",
       "      <th></th>\n",
       "      <th>feature</th>\n",
       "      <th>importance</th>\n",
       "      <th>sd</th>\n",
       "    </tr>\n",
       "  </thead>\n",
       "  <tbody>\n",
       "    <tr>\n",
       "      <th>0</th>\n",
       "      <td>Population</td>\n",
       "      <td>-0.014684</td>\n",
       "      <td>0.099183</td>\n",
       "    </tr>\n",
       "    <tr>\n",
       "      <th>1</th>\n",
       "      <td>Marriage</td>\n",
       "      <td>0.431683</td>\n",
       "      <td>0.246602</td>\n",
       "    </tr>\n",
       "    <tr>\n",
       "      <th>2</th>\n",
       "      <td>WaffleHouses</td>\n",
       "      <td>-0.122132</td>\n",
       "      <td>0.270624</td>\n",
       "    </tr>\n",
       "    <tr>\n",
       "      <th>3</th>\n",
       "      <td>South</td>\n",
       "      <td>-0.066082</td>\n",
       "      <td>0.031657</td>\n",
       "    </tr>\n",
       "  </tbody>\n",
       "</table>\n",
       "</div>"
      ],
      "text/plain": [
       "        feature  importance        sd\n",
       "0    Population   -0.014684  0.099183\n",
       "1      Marriage    0.431683  0.246602\n",
       "2  WaffleHouses   -0.122132  0.270624\n",
       "3         South   -0.066082  0.031657"
      ]
     },
     "metadata": {},
     "output_type": "display_data"
    }
   ],
   "source": [
    "rel_impo2 = permutation_importance(RFR2, X_test, y_test,n_repeats=30,random_state=0)\n",
    "\n",
    "pd.DataFrame({\"feature\":X_test.columns,\"importance\":rel_impo2.importances_mean, \"sd\":rel_impo2.importances_std})"
   ]
  },
  {
   "cell_type": "code",
   "execution_count": null,
   "metadata": {
    "colab": {
     "base_uri": "https://localhost:8080/",
     "height": 355
    },
    "id": "HeKVNhuFWN1D",
    "outputId": "9af2f0a2-30a0-42a2-ca8a-86d4a187149b"
   },
   "outputs": [
    {
     "data": {
      "text/plain": [
       "(array([0, 1, 2, 3]), <a list of 4 Text major ticklabel objects>)"
      ]
     },
     "metadata": {},
     "output_type": "display_data"
    },
    {
     "data": {
      "image/png": "[encoded data removed]",
      "text/plain": [
       "<Figure size 432x288 with 1 Axes>"
      ]
     },
     "metadata": {
      "filenames": {
       "image/png": "/Users/tylerbonnell/Dropbox/IntroDataScience/peds/peds/_build/jupyter_execute/docs/fullNotebooks/full_IntroCausalAnalysis_59_1.png"
      }
     },
     "output_type": "display_data"
    }
   ],
   "source": [
    "df_imp_all = pd.DataFrame(rel_impo2.importances.transpose())\n",
    "df_imp_all.columns = X_test.columns\n",
    "df_imp_all_long = pd.melt(df_imp_all)\n",
    "sns.barplot(data=df_imp_all_long, x=\"variable\",y=\"value\", ci=95)\n",
    "plt.xticks(rotation=90)\n"
   ]
  },
  {
   "cell_type": "markdown",
   "metadata": {
    "id": "_iGIZB1cw5Nr"
   },
   "source": [
    "What does the model think divorce rates will change when we vary wafflehouses?"
   ]
  },
  {
   "cell_type": "code",
   "execution_count": null,
   "metadata": {
    "colab": {
     "base_uri": "https://localhost:8080/",
     "height": 349
    },
    "id": "N9Unq7r3w5N7",
    "outputId": "3e04a649-35ec-465c-de81-ae0f15875c17"
   },
   "outputs": [
    {
     "data": {
      "text/plain": [
       "array([10.04433333, 10.04433333, 10.68667857, 11.44525   , 11.44925   ,\n",
       "       11.44925   , 11.44925   , 11.44925   , 11.44925   , 11.44925   ,\n",
       "       11.44925   , 11.44925   , 11.44925   , 11.44925   , 11.44925   ,\n",
       "       11.44925   , 11.44925   , 11.44925   , 11.44925   , 11.44925   ])"
      ]
     },
     "metadata": {},
     "output_type": "display_data"
    },
    {
     "data": {
      "image/png": "[encoded data removed]",
      "text/plain": [
       "<Figure size 432x288 with 1 Axes>"
      ]
     },
     "metadata": {
      "filenames": {
       "image/png": "/Users/tylerbonnell/Dropbox/IntroDataScience/peds/peds/_build/jupyter_execute/docs/fullNotebooks/full_IntroCausalAnalysis_61_1.png"
      }
     },
     "output_type": "display_data"
    }
   ],
   "source": [
    "#1. Create a dataframe\n",
    "df_question = pd.DataFrame({'Population':X_train.Population.mean(),\n",
    "                            'WaffleHouses':list(range(0,200,10)),\n",
    "                            'Marriage':X_train.Marriage.mean(),\n",
    "                            'South':1\n",
    "                            })\n",
    "                            \n",
    "\n",
    "#2. Use the model to make predictions\n",
    "question_pred =  RFR2.predict(df_question)\n",
    "\n",
    "#3. add a column to the df_question\n",
    "df_question['predicted_divorceRates'] = question_pred\n",
    "\n",
    "#4. plot the predictions\n",
    "sns.scatterplot(data=df_question, x='WaffleHouses',y='predicted_divorceRates')\n",
    "question_pred"
   ]
  },
  {
   "cell_type": "markdown",
   "metadata": {
    "id": "DtOvUZNZw5N7"
   },
   "source": [
    "In this case, the random forest model has still found a positive association between wafflehouses and divorce rates!"
   ]
  }
 ],
 "metadata": {
  "colab": {
   "authorship_tag": "ABX9TyN3HQqgWw6dGvAp7C4PrcfC",
   "collapsed_sections": [],
   "include_colab_link": true,
   "mount_file_id": "1ZSejLEaSqtPw_BnKWwNvlKloiaTPp-zf",
   "name": "IntroCausalAnalysis.ipynb",
   "provenance": []
  },
  "kernelspec": {
   "display_name": "Python 3",
   "name": "python3"
  },
  "language_info": {
   "name": "python"
  }
 },
 "nbformat": 4,
 "nbformat_minor": 2
}