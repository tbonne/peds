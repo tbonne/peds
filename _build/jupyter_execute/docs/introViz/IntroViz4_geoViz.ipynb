{
 "cells": [
  {
   "cell_type": "markdown",
   "metadata": {},
   "source": [
    "<a href=\"https://colab.research.google.com/github/tbonne/peds/blob/main/docs/introViz/IntroViz4_geoViz.ipynb\" target=\"_parent\"><img src=\"https://colab.research.google.com/assets/colab-badge.svg\" alt=\"Open In Colab\"/></a>"
   ]
  },
  {
   "cell_type": "markdown",
   "metadata": {},
   "source": [
    "<p align=\"center\">\n",
    "  <img src=\"https://raw.githubusercontent.com/tbonne/peds/main/images/geopandas_logo.png\" width=\"500\" alt=\"colab\">\n",
    "</p>"
   ]
  },
  {
   "cell_type": "markdown",
   "metadata": {
    "id": "U3MCrd2NY8-G"
   },
   "source": [
    "# <font color='darkorange'>Geo-Visualization</font>\n"
   ]
  },
  {
   "cell_type": "markdown",
   "metadata": {
    "id": "L1PUlsGVY8-H"
   },
   "source": [
    "In this notebook we will explore geo-visualization using:\n",
    "\n",
    "- `GeoPandas`\n",
    "- `matplotlib`\n",
    "- `plotly.express`  \n",
    "\n",
    "This notebook was largely built by Usman Alim (ualim@ucalgary.ca)"
   ]
  },
  {
   "cell_type": "markdown",
   "metadata": {
    "id": "OIMtMpaUlZfh"
   },
   "source": [
    "Let's load in the libraries that we'll need."
   ]
  },
  {
   "cell_type": "code",
   "execution_count": null,
   "metadata": {
    "colab": {
     "base_uri": "https://localhost:8080/"
    },
    "id": "ZstZB6A9Y8-H",
    "outputId": "f20497fd-1d1b-4ec6-80b6-2baa0a17f146"
   },
   "outputs": [],
   "source": [
    "import numpy as np\n",
    "import pandas as pd\n",
    "import geopandas as gpd\n",
    "\n",
    "import matplotlib as mpl\n",
    "import matplotlib.pyplot as plt\n",
    "\n",
    "import plotly.express as px"
   ]
  },
  {
   "cell_type": "markdown",
   "metadata": {
    "id": "Y-QFgyZ8Y8-I"
   },
   "source": [
    "### GeoPandas\n",
    "\n",
    "- Inherits from pandas. Provides the following two data structures: `GeoSeries` and `GeoDataFrame`.\n",
    "\n",
    "\n",
    "- A `GeoSeries` is a `Series` where each entry describes a geometric shape in _vector_ format. The following shapes are supported:<br>\n",
    "  - Points / Multi-points\n",
    "  - Lines / Multi-lines\n",
    "  - Polygons / Multi-polygons\n",
    "  \n",
    "  \n",
    "- A `GeoDataFrame` is a `pandas` `DataFrame` with a special 'geometry' column that contains a `GeoSeries`.\n",
    "\n",
    "\n",
    "- Provides methods to convert between different geospatial coordinate systems.\n"
   ]
  },
  {
   "cell_type": "markdown",
   "metadata": {
    "id": "C6VH-BcDY8-I"
   },
   "source": [
    "### <font color='darkorange'>Read GeoJSON Data</font>\n",
    "\n",
    "GeoJSON is a commonly used format for storing data associated with regions defined through geographic coordinates.\n",
    "In this notebook, we'll look at the Census by Community dataset for Calgary.\n",
    "\n",
    "Download the dataset (in GeoJSON format) from the following URL:\n",
    "[Census by Community 2019](https://data.calgary.ca/Demographics/Census-by-Community-2019/rkfr-buzb)"
   ]
  },
  {
   "cell_type": "code",
   "execution_count": null,
   "metadata": {
    "colab": {
     "base_uri": "https://localhost:8080/",
     "height": 1000
    },
    "id": "svNFuzfuY8-I",
    "outputId": "93df05b7-aac3-46e8-a984-41e0b246a6ea"
   },
   "outputs": [],
   "source": [
    "# Let's read the dataset through geopandas as a GeoDataFrame\n",
    "\n",
    "census_file = '/content/Census_by_Community_2019_20250904.geojson' #you'll have to change this to your path!\n",
    "cendf = gpd.read_file(census_file)\n",
    "cendf.head()\n"
   ]
  },
  {
   "cell_type": "markdown",
   "metadata": {},
   "source": [
    "We can see that we created a geopandas dataframe"
   ]
  },
  {
   "cell_type": "code",
   "execution_count": null,
   "metadata": {},
   "outputs": [],
   "source": [
    "type(cendf)"
   ]
  },
  {
   "cell_type": "markdown",
   "metadata": {},
   "source": [
    "There's a geometry column which holds the geometric information as a GeoSeries"
   ]
  },
  {
   "cell_type": "code",
   "execution_count": null,
   "metadata": {},
   "outputs": [],
   "source": [
    "type(cendf.geometry)"
   ]
  },
  {
   "cell_type": "markdown",
   "metadata": {},
   "source": [
    "It looks like the coordinates for the community polygons are in lat/long format.\n",
    "The projection can be setup appropriately.\n",
    "For further details on managing projections, see:\n",
    "https://geopandas.org/en/stable/docs/user_guide/projections.html"
   ]
  },
  {
   "cell_type": "code",
   "execution_count": null,
   "metadata": {},
   "outputs": [],
   "source": [
    "#check the crs\n",
    "cendf.crs"
   ]
  },
  {
   "cell_type": "markdown",
   "metadata": {},
   "source": [
    "Let's convert to world mercator which has units of meters\n",
    "> You can check out the CRS at: https://epsg.io/3395"
   ]
  },
  {
   "cell_type": "code",
   "execution_count": null,
   "metadata": {
    "colab": {
     "base_uri": "https://localhost:8080/",
     "height": 807
    },
    "id": "fLRi5QDlY8-J",
    "outputId": "13af8df8-7402-448b-c912-a5b0fc2c8f8a"
   },
   "outputs": [],
   "source": [
    "#change crs\n",
    "cendf.geometry = cendf.geometry.to_crs(epsg=3395)\n",
    "\n",
    "#check that the new crs is setup\n",
    "cendf.crs"
   ]
  },
  {
   "cell_type": "markdown",
   "metadata": {},
   "source": [
    "Finally let's change the index so that it uses the name of the polygon"
   ]
  },
  {
   "cell_type": "code",
   "execution_count": null,
   "metadata": {},
   "outputs": [],
   "source": [
    "# Let's index by community name\n",
    "cendf.set_index('name', inplace=True)\n",
    "\n",
    "#take a look\n",
    "cendf.head()"
   ]
  },
  {
   "cell_type": "markdown",
   "metadata": {
    "id": "JZftEUabmFAS"
   },
   "source": [
    "### <font color='darkorange'>Plot GeoJSON Data</font>"
   ]
  },
  {
   "cell_type": "markdown",
   "metadata": {},
   "source": [
    "To visualize all the geometric entities, we can use the built-in plot command."
   ]
  },
  {
   "cell_type": "code",
   "execution_count": null,
   "metadata": {
    "colab": {
     "base_uri": "https://localhost:8080/",
     "height": 961
    },
    "id": "gHJantY_Y8-J",
    "outputId": "bbfd8520-9b50-4917-eeb5-41e0632eb08a"
   },
   "outputs": [],
   "source": [
    "\n",
    "#create an empty plot\n",
    "fig = plt.figure()\n",
    "\n",
    "#create one drawing box within that box\n",
    "axis = fig.add_subplot(1,1,1) #(nrow,ncol,index)\n",
    "\n",
    "#plot the map within that box\n",
    "cendf.plot(ax=axis, edgecolor='black')\n",
    "\n",
    "#make sure the x and y axies are equal\n",
    "plt.axis('equal')\n",
    "\n",
    "#add a tile\n",
    "plt.title('YYC Community Map')\n",
    "\n",
    "#set the size of the plot\n",
    "fig.set_size_inches(8,8)\n",
    "\n",
    "\n"
   ]
  },
  {
   "cell_type": "markdown",
   "metadata": {
    "id": "EiSrhuLFmVf1"
   },
   "source": [
    "<p align=\"left\">\n",
    "  <img src=\"https://raw.githubusercontent.com/tbonne/peds/main/images/take_action.jpg\" width=\"100\" alt=\"colab\">\n",
    "</p>\n",
    "\n",
    "Try out the above with the lat/long projection (use EPSG 4326)"
   ]
  },
  {
   "cell_type": "markdown",
   "metadata": {
    "id": "QcUdBGcQmiBy"
   },
   "source": [
    "Now let's look at how we can plot individual polygons."
   ]
  },
  {
   "cell_type": "code",
   "execution_count": null,
   "metadata": {},
   "outputs": [],
   "source": [
    "# If we select a particular geometry cell, Jupyter will display it\n",
    "cendf.loc['INGLEWOOD','geometry']"
   ]
  },
  {
   "cell_type": "code",
   "execution_count": null,
   "metadata": {
    "colab": {
     "base_uri": "https://localhost:8080/",
     "height": 433
    },
    "id": "ouQlwyRkY8-J",
    "outputId": "3a54a4e5-15f7-4b98-8ff1-a034240cae93"
   },
   "outputs": [],
   "source": [
    "# Let's take a look at a few!\n",
    "display(cendf.loc['INGLEWOOD','geometry'], cendf.loc['ROCKY RIDGE', 'geometry'],\n",
    "        cendf.loc['VARSITY', 'geometry'], cendf.loc['FISH CREEK PARK','geometry'])\n",
    "\n",
    "\n",
    "\n",
    "\n"
   ]
  },
  {
   "cell_type": "code",
   "execution_count": null,
   "metadata": {
    "colab": {
     "base_uri": "https://localhost:8080/",
     "height": 489
    },
    "id": "OEJfpLoqm-yZ",
    "outputId": "06f406f0-1385-45fd-d0e2-280f5c300dbc"
   },
   "outputs": [],
   "source": [
    "# Basic methods to compute areas and bounds are also provided.\n",
    "cendf['geometry'].area"
   ]
  },
  {
   "cell_type": "markdown",
   "metadata": {
    "id": "nnV8kU62m03V"
   },
   "source": [
    "We can even calculate the distance between polygons."
   ]
  },
  {
   "cell_type": "code",
   "execution_count": null,
   "metadata": {
    "colab": {
     "base_uri": "https://localhost:8080/",
     "height": 489
    },
    "id": "HnUreTThm4i0",
    "outputId": "c393efb1-8cd4-48aa-ec3e-59edce942e64"
   },
   "outputs": [],
   "source": [
    "# Euclidean distance to Downtown for all the communities (based on centroid distances)\n",
    "cendf['geometry'].distance(cendf.loc['DOWNTOWN COMMERCIAL CORE', 'geometry'])"
   ]
  },
  {
   "cell_type": "markdown",
   "metadata": {
    "id": "lEUjj8abntl6"
   },
   "source": [
    "### <font color='darkorange'>Choropleth mapping</font>"
   ]
  },
  {
   "cell_type": "markdown",
   "metadata": {
    "id": "njvYpXzAn7Rd"
   },
   "source": [
    "When we want to visualize how a value changes between polugons it is often useful to build a choropleth map. In these maps we colour code the polygons by a variable value. Let's take a look below.\n",
    "\n",
    "First let's install a library that colab is missing."
   ]
  },
  {
   "cell_type": "code",
   "execution_count": null,
   "metadata": {
    "colab": {
     "base_uri": "https://localhost:8080/"
    },
    "id": "EsYub9vib-Id",
    "outputId": "f2dc3527-b305-4a23-e9d1-6384a5171c8f"
   },
   "outputs": [],
   "source": [
    "# Have to install a new library to color code polygons\n",
    "!pip install mapclassify"
   ]
  },
  {
   "cell_type": "markdown",
   "metadata": {
    "id": "W3Jt3UbKoPBW"
   },
   "source": [
    "We can then specify a column from the GeoDataFrame to visualize. Let's use the count of residences within each polygon: res_cnt"
   ]
  },
  {
   "cell_type": "code",
   "execution_count": null,
   "metadata": {},
   "outputs": [],
   "source": [
    "# if we try to get summary stats we see something strange...\n",
    "cendf.res_cnt.describe()"
   ]
  },
  {
   "cell_type": "markdown",
   "metadata": {},
   "source": [
    "Essentially, the variable has been assigned the datatype 'Object' not a number... let's change that."
   ]
  },
  {
   "cell_type": "code",
   "execution_count": null,
   "metadata": {
    "colab": {
     "base_uri": "https://localhost:8080/",
     "height": 335
    },
    "id": "hI97k3LHY8-J",
    "outputId": "569c6b35-736d-4fa5-99c6-37df26d9132c"
   },
   "outputs": [],
   "source": [
    "#convert to float first then integer\n",
    "cendf['res_cnt'] = cendf['res_cnt'].astype(float).astype(int) # convert to an integer\n",
    "\n",
    "#try again\n",
    "cendf['res_cnt'].describe()\n",
    "\n",
    "\n"
   ]
  },
  {
   "cell_type": "markdown",
   "metadata": {},
   "source": [
    "Now that we have a numeric varaible let's create a plot where each polygon is coloured based on the residential count."
   ]
  },
  {
   "cell_type": "code",
   "execution_count": null,
   "metadata": {
    "colab": {
     "base_uri": "https://localhost:8080/",
     "height": 718
    },
    "id": "AOKkbhVOoY1_",
    "outputId": "242d2301-60f6-4209-b724-baa13c6397a6"
   },
   "outputs": [],
   "source": [
    "\n",
    "#empty plot with a box to add a plot to\n",
    "fig = plt.figure()\n",
    "axis = fig.add_subplot(1,1,1)\n",
    "\n",
    "#use the plot function: specifcy numeric column, how to classify residential counts to colours (i.e., quantiles, k is the number of classes)\n",
    "cendf.plot(ax=axis, column='res_cnt', scheme='quantiles', k=6, cmap='Blues', legend=True)\n",
    "\n",
    "#keep the x and y axes equal\n",
    "plt.axis('equal')\n",
    "\n",
    "#title and size\n",
    "plt.title('YYC Resident Count (2019)')\n",
    "fig.set_size_inches(8,8)\n"
   ]
  },
  {
   "cell_type": "markdown",
   "metadata": {},
   "source": [
    "In the plot above we've used quantiles to help break the polygons up into different classes. Here are some more options we could have tried and the use cases."
   ]
  },
  {
   "cell_type": "markdown",
   "metadata": {},
   "source": [
    "| Scheme                      | Description                                                                            | When to use                                                                                  |\n",
    "| --------------------------- | -------------------------------------------------------------------------------------- | -------------------------------------------------------------------------------------------- |\n",
    "| **quantiles**               | Equal number of polygons in each class (e.g., 20% each for quintiles).                 | Good for showing *rank* or relative standing; can exaggerate differences if data are skewed. |\n",
    "| **equal\\_interval**         | Divides range into equal-width bins.                                                   | Easy to interpret, but may leave some bins with few/no polygons if data are skewed.          |\n",
    "| **natural\\_breaks** (Jenks) | Finds breaks that minimize variance within classes and maximize variance between them. | Good default for skewed data; emphasizes “natural” groupings.                                |\n",
    "| **fisher\\_jenks**           | Similar to natural breaks but optimized using Fisher-Jenks algorithm.                  | More computationally intensive, often very clear groupings.                                  |\n",
    "| **std\\_mean**               | Bins based on standard deviations from the mean.                                       | Good for data with normal-ish distribution, emphasizes how far from average a polygon is.    |\n",
    "| **boxplot**                 | Uses quartiles and interquartile range (IQR).                                          | Nice when you want consistency with boxplot outlier rules.                                   |\n",
    "| **percentiles**             | Similar to quantiles, but lets you specify exact percent thresholds.                   | Custom flexibility.                                                                          |\n",
    "| **maximum\\_breaks**         | Finds breakpoints that maximize the differences between groups.                        | Similar use case to Jenks.                                                                   |\n",
    "| **headtail\\_breaks**        | For heavy-tailed distributions; recursively splits head/tail.                          | Great for city-size or population-type data.                                                 |\n"
   ]
  },
  {
   "cell_type": "markdown",
   "metadata": {
    "id": "1GUmlgSFoiz1"
   },
   "source": [
    "<p align=\"left\">\n",
    "  <img src=\"https://raw.githubusercontent.com/tbonne/peds/main/images/take_action.jpg\" width=\"100\" alt=\"colab\">\n",
    "</p>\n",
    "\n",
    "Experiment with setting scheme='equal_interval' or another classification method. How does changing the scheme affect the way the polygons are grouped? Does it change your interpretation of where most residences are concentrated?\n",
    "\n",
    "**Bonus**\n",
    "\n",
    "See if you can do the same with Edmonton! You should be able to download the geojson file here: https://data.edmonton.ca/City-Administration/City-of-Edmonton-Neighbourhoods/65fr-66s6/"
   ]
  },
  {
   "cell_type": "markdown",
   "metadata": {
    "id": "VJpHzQC4ouNs"
   },
   "source": [
    "### <font color='darkorange'>Adding a scatterplot on a map</font>"
   ]
  },
  {
   "cell_type": "markdown",
   "metadata": {
    "id": "dAO1E_YiY8-K"
   },
   "source": [
    "- We can also plot points (given in geographic coordinates) on a base map.\n",
    "- Let's display micromobility locations on YYC base map (i.e., locations of rentable e-bikes or scooters)\n",
    "- Download the dataset from the following URL (for offline use):\n",
    "  [Micromobility Locations](https://data.calgary.ca/Transportation-Transit/Micromobility-Locations-in-Calgary/a3ya-gwgt)\n",
    "  \n",
    "  There is also a live feed which at the time of writing this notebook is accessible through the following URL:\n",
    "  https://data.calgary.ca/resource/8mci-3bzr.csv"
   ]
  },
  {
   "cell_type": "code",
   "execution_count": null,
   "metadata": {},
   "outputs": [],
   "source": [
    "# Let's use the live feed\n",
    "mmlocs = pd.read_csv(\"https://data.calgary.ca/resource/8mci-3bzr.csv\", #read_csv is very flexible... here we are reading directly from a URL!\n",
    "                     usecols=[\"timestamp\",\"latitude\", \"longitude\"],    #only read in certain columns\n",
    "                     parse_dates=['timestamp'])  #automatically convert this column to dates!\n",
    "\n",
    "#take a look\n",
    "mmlocs"
   ]
  },
  {
   "cell_type": "markdown",
   "metadata": {},
   "source": [
    "We can see that we have a dataframe with latitude and longitude coordinates! \n",
    "\n",
    "Let's use this to create a geodataframe object that we can then plot."
   ]
  },
  {
   "cell_type": "code",
   "execution_count": null,
   "metadata": {
    "colab": {
     "base_uri": "https://localhost:8080/",
     "height": 398
    },
    "id": "79IZ4VfiY8-K",
    "outputId": "ddfdf913-ef4f-4489-ab9c-a71f9e2431dc"
   },
   "outputs": [],
   "source": [
    "from shapely.geometry import Point\n",
    "\n",
    "#add longitude and latitude together into a list and place it into a new column called coordinates\n",
    "mmlocs['coordinates'] = list(zip(mmlocs[\"longitude\"], mmlocs[\"latitude\"]))\n",
    "\n",
    "#once in a list we can convert the list to a point for each row\n",
    "mmlocs['coordinates'] = mmlocs['coordinates'].apply(Point)\n",
    "\n",
    "#take a look\n",
    "mmlocs"
   ]
  },
  {
   "cell_type": "markdown",
   "metadata": {},
   "source": [
    "You should now see a new column with Points in it!\n",
    "\n",
    "Now we can convert it to a geodataframe."
   ]
  },
  {
   "cell_type": "code",
   "execution_count": null,
   "metadata": {},
   "outputs": [],
   "source": [
    "#specify which column to find the geometry\n",
    "locsdf = gpd.GeoDataFrame(mmlocs, geometry='coordinates')\n",
    "\n",
    "#set the coordinate reference system\n",
    "locsdf = locsdf.set_crs(epsg=4326) # interpret the coordinates as lat/long\n",
    "\n",
    "#take a look\n",
    "locsdf.head()"
   ]
  },
  {
   "cell_type": "markdown",
   "metadata": {},
   "source": [
    "Now that we have a geodataframe let's plot it!\n",
    "\n",
    "This time, let's add a base map so we can see where the points fall within the city. To do this we'll call the plot function twice adding layers to the map."
   ]
  },
  {
   "cell_type": "code",
   "execution_count": null,
   "metadata": {
    "colab": {
     "base_uri": "https://localhost:8080/",
     "height": 733
    },
    "id": "uoJH_yBRY8-K",
    "outputId": "cb464fcc-e094-4f99-e11c-2fad53d74fd7"
   },
   "outputs": [],
   "source": [
    "#create an empty plot\n",
    "fig = plt.figure()\n",
    "axis = fig.add_subplot(1,1,1)\n",
    "\n",
    "# set the projection to mercator (always good to make sure your data is in the same crs)\n",
    "cendf = cendf.to_crs(epsg=3395) \n",
    "locsdf = locsdf.to_crs(epsg=3395)\n",
    "\n",
    "#plot the layers we want (order matters here)\n",
    "locsdf.plot(ax=axis, markersize=5, color=\"red\")\n",
    "cendf.plot(ax=axis, edgecolor='black')\n",
    "\n",
    "\n",
    "#title/size\n",
    "plt.axis('equal')\n",
    "plt.title('YYC Micromobility Locations Snapshot (' + str(locsdf['timestamp'].mean()) + ')')\n",
    "fig.set_size_inches(8,8)"
   ]
  },
  {
   "cell_type": "markdown",
   "metadata": {
    "id": "0Jze20t_fF5J"
   },
   "source": [
    "<p align=\"left\">\n",
    "  <img src=\"https://raw.githubusercontent.com/tbonne/peds/main/images/take_action.jpg\" width=\"100\" alt=\"colab\">\n",
    "</p>\n",
    "\n",
    "\n",
    "See if you can do the same for Edmonton again! Below is some code for the micromobility data in Edmonton, just to get you started.\n",
    "\n"
   ]
  },
  {
   "cell_type": "code",
   "execution_count": null,
   "metadata": {
    "colab": {
     "base_uri": "https://localhost:8080/"
    },
    "id": "1PdIZxD5fFlT",
    "outputId": "a451ae7f-a03d-41ec-ce50-9afae2181ab8"
   },
   "outputs": [],
   "source": [
    "csv_url = \"https://data.edmonton.ca/resource/vq44-ni9f.csv\"\n",
    "df = pd.read_csv(csv_url)\n",
    "print(df.head())"
   ]
  },
  {
   "cell_type": "markdown",
   "metadata": {
    "id": "HPag7mbYY8-K"
   },
   "source": [
    "### <font color='darkorange'>Mapping in Plotly</font>\n",
    "\n",
    "- Matplotlib maps are good for offline use, lack interactivity.\n",
    "\n",
    "- Plotly uses _tiled maps_ provided by mapbox as the underlying interactive base maps.\n",
    "  - Some mapbox base maps require an [access token](https://docs.mapbox.com/help/getting-started/access-tokens/) but there are also free ones.\n",
    "  - Untiled (outline) maps are also supported.\n",
    "- We'll look at the following examples that work with geopandas dataframes:\n",
    "  - [px.scatter_mapbox()](https://plotly.com/python/scattermapbox/)\n",
    "  - [px.choropleth_mapbox()](https://plotly.com/python/mapbox-county-choropleth/)"
   ]
  },
  {
   "cell_type": "code",
   "execution_count": null,
   "metadata": {
    "colab": {
     "base_uri": "https://localhost:8080/",
     "height": 617
    },
    "id": "n0aZz4vMY8-K",
    "outputId": "6d125665-da25-4a16-8567-995a69d5e629"
   },
   "outputs": [],
   "source": [
    "#Let's use a simple geographic projection (WGS84)\n",
    "locsdf = locsdf.to_crs(epsg=4326)\n",
    "\n",
    "#Create a spatial scatter plot\n",
    "fig = px.scatter_mapbox(locsdf,\n",
    "                        lat=locsdf.geometry.y,\n",
    "                        lon=locsdf.geometry.x,\n",
    "                        hover_name=\"timestamp\",\n",
    "                        center={\"lat\": 51.0486, \"lon\": -114.0708}, # Calgary\n",
    "                        mapbox_style='open-street-map', #this will be the background\n",
    "                        zoom=9, #try changing this to zoom in or out\n",
    "                        title='YYC Micromobility Locations Snapshot (' + str(locsdf['timestamp'].mean()) + ')')\n",
    "\n",
    "#add some margins around the plotting area (helps avoid labels getting cut off)\n",
    "fig.update_layout(margin={\"r\":50,\"t\":50,\"l\":50,\"b\":50},\n",
    "                  autosize=True,\n",
    "                  height=600 )\n",
    "fig.show()"
   ]
  },
  {
   "cell_type": "markdown",
   "metadata": {},
   "source": [
    "Let's do the same thing, but this time generate a choropleth map."
   ]
  },
  {
   "cell_type": "code",
   "execution_count": null,
   "metadata": {
    "colab": {
     "base_uri": "https://localhost:8080/",
     "height": 617
    },
    "id": "VnDEpp7yY8-K",
    "outputId": "91e450ad-a0be-4504-85bb-f3b4e543a3b2"
   },
   "outputs": [],
   "source": [
    "#Let's use a simple geographic projection (WGS84)\n",
    "cendf = cendf.to_crs(epsg=4326)\n",
    "\n",
    "#Create a choropleth plot\n",
    "fig = px.choropleth_mapbox(data_frame = cendf, #dataframe with polygons and attributes\n",
    "                           geojson=cendf, #geometry to draw the polygons\n",
    "                           locations=cendf.index, #which rows in the data_frame correspond to polygons in the geojson data\n",
    "                           color=\"res_cnt\", #variable used to fill colours\n",
    "                           color_continuous_scale = 'YlGn', #yellow to green color map (to see more options: https://colorbrewer2.org/)\n",
    "                           center={\"lat\": 51.0486, \"lon\": -114.0708}, # Calgary\n",
    "                           mapbox_style=\"carto-positron\", #free background base map\n",
    "                           opacity=0.5, #how transparent the polygons are\n",
    "                           zoom=9,\n",
    "                           title = 'YYC Resident Count (2019)')\n",
    "\n",
    "#add some margins around the plotting area (helps avoid labels getting cut off)\n",
    "fig.update_layout(margin={\"r\":50,\"t\":50,\"l\":50,\"b\":50},\n",
    "                  autosize=True,\n",
    "                  height=600 )\n",
    "fig.show()\n"
   ]
  },
  {
   "cell_type": "markdown",
   "metadata": {
    "id": "QX2oylTLqGXK"
   },
   "source": [
    "### <font color='darkorange'>Search for your own geo-datastes (Optional!)</font>"
   ]
  },
  {
   "cell_type": "markdown",
   "metadata": {},
   "source": [
    "<p align=\"left\">\n",
    "  <img src=\"https://raw.githubusercontent.com/tbonne/peds/main/images/take_action.jpg\" width=\"100\" alt=\"colab\">\n",
    "</p>"
   ]
  },
  {
   "cell_type": "markdown",
   "metadata": {},
   "source": [
    "Feel free to go to www.naturalearthdata.com and in the search bar, search for some spatial data that might be of interest to you!\n",
    "\n",
    "E.g., Antarctic ice shelves, antarctic boundaries, protected areas, etc...\n",
    "\n",
    "Just to get you started here's an example with coral reefs around the world!"
   ]
  },
  {
   "cell_type": "markdown",
   "metadata": {
    "id": "LdvPFQZhfOP8"
   },
   "source": [
    "Download reef data:\n",
    "\n",
    "https://www.naturalearthdata.com/downloads/10m-physical-vectors/10m-reefs/\n",
    "\n",
    "Download country data:\n",
    "\n",
    "https://www.naturalearthdata.com/downloads/10m-cultural-vectors/10m-admin-0-countries/\n",
    "\n"
   ]
  },
  {
   "cell_type": "code",
   "execution_count": null,
   "metadata": {
    "colab": {
     "base_uri": "https://localhost:8080/",
     "height": 401
    },
    "id": "OcZEMWxCY8-K",
    "outputId": "11fb3cb2-51f1-4e18-d6e1-d18020255f22"
   },
   "outputs": [],
   "source": [
    "import geopandas as gpd\n",
    "import requests\n",
    "import zipfile\n",
    "import io\n",
    "\n",
    "#import the data into a geopandas object\n",
    "# Note: here we are reading directly into a geodataframe from a zip file that contains a shapfile within! very convenient...\n",
    "reefs = gpd.read_file(\"/content/ne_10m_reefs.zip\")\n",
    "\n",
    "print(reefs.head())\n",
    "print(reefs.crs)  # check the coordinate reference system\n",
    "reefs.plot()\n"
   ]
  },
  {
   "cell_type": "code",
   "execution_count": null,
   "metadata": {
    "colab": {
     "base_uri": "https://localhost:8080/",
     "height": 532
    },
    "id": "ZQloqxQmhsK7",
    "outputId": "c0542f8e-bf3f-456a-b748-fa42a6c3eb33"
   },
   "outputs": [],
   "source": [
    "# Load a world background (built into GeoPandas: naturalearth_lowres)\n",
    "world = gpd.read_file(\"/content/ne_10m_admin_0_countries_lakes.zip\")\n",
    "\n",
    "# Make sure both are in the same CRS (coordinate reference system)\n",
    "reefs = reefs.to_crs(world.crs)\n",
    "\n",
    "# Plot\n",
    "fig, ax = plt.subplots(figsize=(12, 6))\n",
    "world.plot(ax=ax, color=\"lightgrey\", edgecolor=\"white\")\n",
    "reefs.plot(ax=ax, color=\"red\", markersize=1, alpha=0.7)\n",
    "\n",
    "ax.set_title(\"World Reefs (Natural Earth 1:10m)\", fontsize=14)\n",
    "plt.show()"
   ]
  },
  {
   "cell_type": "markdown",
   "metadata": {
    "id": "L7RmQqyZlGg7"
   },
   "source": [
    "### <font color='darkorange'>Further reading</font>\n",
    "\n",
    "In this notebook, we've explored libraries that support geographic data visualization. In particular, we've looked at [GeoPandas](http://geopandas.org/) and its integration with [matplotlib](http://geopandas.org/mapping.html).\n",
    "\n",
    "[Plotly](https://plot.ly/python/maps/) supports interactive geo-visualization capabilities on top of base maps provided by [mapbox](https://www.mapbox.com/)."
   ]
  }
 ],
 "metadata": {
  "celltoolbar": "Slideshow",
  "colab": {
   "provenance": []
  },
  "kernelspec": {
   "display_name": "Python 3 (ipykernel)",
   "language": "python",
   "name": "python3"
  },
  "language_info": {
   "codemirror_mode": {
    "name": "ipython",
    "version": 3
   },
   "file_extension": ".py",
   "mimetype": "text/x-python",
   "name": "python",
   "nbconvert_exporter": "python",
   "pygments_lexer": "ipython3",
   "version": "3.11.6"
  }
 },
 "nbformat": 4,
 "nbformat_minor": 0
}