{
 "cells": [
  {
   "cell_type": "markdown",
   "metadata": {
    "colab_type": "text",
    "id": "view-in-github"
   },
   "source": [
    "<a href=\"https://colab.research.google.com/github/tbonne/peds/blob/main/docs/introModeling/IntroModeling1_LinearReg.ipynb\" target=\"_parent\"><img src=\"https://colab.research.google.com/assets/colab-badge.svg\" alt=\"Open In Colab\"/></a>"
   ]
  },
  {
   "cell_type": "markdown",
   "metadata": {
    "id": "TrWSETZ3NmJs"
   },
   "source": [
    "<img src='http://drive.google.com/uc?export=view&id=1L4qAFCwXR9S6RHVzdOc7PhL7-B3yW-Jb' width=\"300\">  "
   ]
  },
  {
   "cell_type": "markdown",
   "metadata": {},
   "source": [
    "***"
   ]
  },
  {
   "cell_type": "markdown",
   "metadata": {
    "id": "4VTsxBzT7tAb"
   },
   "source": [
    "## <font color='darkorange'>Linear regression</font>"
   ]
  },
  {
   "cell_type": "markdown",
   "metadata": {
    "id": "03s3L0-C8Zxr"
   },
   "source": [
    "In previous classes we have used exploratory approaches to visualize and quantify relationships between variables. Now we will use linear regression to start to build models that can make predictions based on these relationships. "
   ]
  },
  {
   "cell_type": "markdown",
   "metadata": {
    "id": "TF0wODYsSb22"
   },
   "source": [
    "Import the needed libraries"
   ]
  },
  {
   "cell_type": "code",
   "execution_count": null,
   "metadata": {
    "id": "ABe6f2_V7X3h"
   },
   "outputs": [],
   "source": [
    "import sklearn as sk\n",
    "import pandas as pd\n",
    "import seaborn as sns\n",
    "import matplotlib.pyplot as plt\n",
    "\n",
    "import statsmodels.api as sm #for running regression!\n",
    "import statsmodels.formula.api as smf\n"
   ]
  },
  {
   "cell_type": "markdown",
   "metadata": {},
   "source": [
    "### <font color='darkorange'>Load the data</font>"
   ]
  },
  {
   "cell_type": "markdown",
   "metadata": {
    "id": "vUf5CUjMTCgH"
   },
   "source": [
    "Download the 'bostonHouses.csv' from the class's [shared data folder](https://drive.google.com/drive/folders/1s2Civxvys_SR1sFF7D2ept1GSmFbICQb?usp=sharing) and load it into a dataframe.\n",
    "> Note: one way to get the data in, is just to drag and drop the csv file into the files tab on the left. However, using this method means that when we leave our session the data will be removed (i.e., it isn't on your gdrive)."
   ]
  },
  {
   "cell_type": "code",
   "execution_count": null,
   "metadata": {
    "id": "F_73fyteS9gX"
   },
   "outputs": [],
   "source": [
    "df_boston = pd.read_csv('/content/bostonHouses.csv')"
   ]
  },
  {
   "cell_type": "markdown",
   "metadata": {
    "id": "k3DKADFdU0re"
   },
   "source": [
    "<img src='http://drive.google.com/uc?export=view&id=1WC4tXGCEF-1_2LQ74gIxJAZ-GLXCwBdK' width=\"100\">  "
   ]
  },
  {
   "cell_type": "markdown",
   "metadata": {
    "id": "E-eSiYP3HOlx"
   },
   "source": [
    "Q: What kinds of data do you have?\n"
   ]
  },
  {
   "cell_type": "code",
   "execution_count": null,
   "metadata": {
    "id": "3YbSSBjNHWun"
   },
   "outputs": [],
   "source": [
    "?"
   ]
  },
  {
   "cell_type": "markdown",
   "metadata": {
    "id": "4JTcOqxPHXZh"
   },
   "source": [
    "Q: Are there missing values anywhere?"
   ]
  },
  {
   "cell_type": "code",
   "execution_count": null,
   "metadata": {
    "id": "6hmyJub7HX6h"
   },
   "outputs": [],
   "source": [
    "?"
   ]
  },
  {
   "cell_type": "markdown",
   "metadata": {
    "id": "IRu_wGLKG5qK"
   },
   "source": [
    "### <font color='darkorange'>Visualize and Explore</font>"
   ]
  },
  {
   "cell_type": "markdown",
   "metadata": {
    "id": "Z-XsLsMQVJBE"
   },
   "source": [
    "<img src='http://drive.google.com/uc?export=view&id=1WC4tXGCEF-1_2LQ74gIxJAZ-GLXCwBdK' width=\"100\">  "
   ]
  },
  {
   "cell_type": "markdown",
   "metadata": {
    "id": "g87llbBEG-J4"
   },
   "source": [
    "Plot the house prices on the y-axis, with some other variables on the x-axis.\n",
    "> Generally the value we are trying to predict is called the response variable, while the values we are using to make those predictions are the predictor variables."
   ]
  },
  {
   "cell_type": "code",
   "execution_count": null,
   "metadata": {
    "id": "STIJY6mXGGh3"
   },
   "outputs": [],
   "source": [
    "sns.scatterplot(data=df_boston, x=\"?\",y=\"price\")"
   ]
  },
  {
   "cell_type": "markdown",
   "metadata": {
    "id": "kBlzvYeAHb_p"
   },
   "source": [
    "Create a heat map to help you identify potentially interesting relationships."
   ]
  },
  {
   "cell_type": "code",
   "execution_count": null,
   "metadata": {
    "id": "gIxHKp43JMzO"
   },
   "outputs": [],
   "source": [
    "df_boston_corr = df_boston.?()\n",
    "sns.heatmap(data=?)"
   ]
  },
  {
   "cell_type": "markdown",
   "metadata": {
    "id": "d5JdBUC5HlCl"
   },
   "source": [
    "### <font color='darkorange'>Build and train a model </font>"
   ]
  },
  {
   "cell_type": "markdown",
   "metadata": {
    "id": "6Pvddzu_V9Ym"
   },
   "source": [
    "Let's look at building our first model -- linear regression! \n",
    "> How well can we predict the price of a house based on the proportion of large lots in the area (i.e., the ZN value)?"
   ]
  },
  {
   "cell_type": "code",
   "execution_count": null,
   "metadata": {
    "id": "jySJe9bGV8lf"
   },
   "outputs": [],
   "source": [
    "#Build the model\n",
    "linear_reg_model = smf.ols(formula='price ~ RM', data=df_boston)\n",
    "\n",
    "#Use the data to fit the model (i.e., find the best intercept and slope parameters)\n",
    "linear_reg_results = linear_reg_model.fit()\n",
    "\n",
    "#make predictions using the model\n",
    "df_boston['price_pred'] = linear_reg_results.predict(df_boston)"
   ]
  },
  {
   "cell_type": "markdown",
   "metadata": {
    "id": "U8It3FHqX4x1"
   },
   "source": [
    "Let's take a look at the predictions!"
   ]
  },
  {
   "cell_type": "code",
   "execution_count": null,
   "metadata": {
    "id": "BzbR3ZSHX9KL"
   },
   "outputs": [],
   "source": [
    "df_boston"
   ]
  },
  {
   "cell_type": "markdown",
   "metadata": {
    "id": "L1wuh6o4YE9v"
   },
   "source": [
    "Let's plot the predictions"
   ]
  },
  {
   "cell_type": "code",
   "execution_count": null,
   "metadata": {
    "id": "gIp6hA-QYEw1"
   },
   "outputs": [],
   "source": [
    "sns.scatterplot(data=df_boston,x='RM', y='price')\n",
    "sns.scatterplot(data=df_boston,x='RM', y='price_pred')\n"
   ]
  },
  {
   "cell_type": "markdown",
   "metadata": {
    "id": "0GSoZJ_aZc9v"
   },
   "source": [
    "We can see that all the predicted points fall along a line. This is y = a + b*rooms.\n",
    " \n",
    "Let's take a look at what values for a (intercept) and b (slope RM) the model estimated."
   ]
  },
  {
   "cell_type": "code",
   "execution_count": null,
   "metadata": {
    "id": "wyoJTungeX4p"
   },
   "outputs": [],
   "source": [
    "print(linear_reg_results.summary())"
   ]
  },
  {
   "cell_type": "markdown",
   "metadata": {
    "id": "Wr5smD6t8Tff"
   },
   "source": [
    "Before moving on let's drop the predictions we have made so far."
   ]
  },
  {
   "cell_type": "code",
   "execution_count": null,
   "metadata": {
    "id": "hUNqmKiO8D8f"
   },
   "outputs": [],
   "source": [
    "df_boston = df_boston.drop('price_pred',axis=1)"
   ]
  },
  {
   "cell_type": "markdown",
   "metadata": {
    "id": "C0MmbEZ7dq5e"
   },
   "source": [
    "<img src='http://drive.google.com/uc?export=view&id=1qWrKY9TgpgQaBCzZfz1xLTV6iCeSwfmG' width=\"100\">"
   ]
  },
  {
   "cell_type": "markdown",
   "metadata": {
    "id": "n8C4RUB7RYCG"
   },
   "source": [
    "### <font color='darkorange'>Training / Testing Split </font>"
   ]
  },
  {
   "cell_type": "markdown",
   "metadata": {
    "id": "xlIVmLX7HqMm"
   },
   "source": [
    "\n",
    "</br>\n",
    "</br>\n",
    "We will follow a general approach when building models. We will divide the dataset into *training* and *testing* datasets. \n",
    "</br>\n",
    "This lets us fit the model to one part of the data and then use the withheld data to test the predictions of the model. This helps us avoid *overfitting* our model!"
   ]
  },
  {
   "cell_type": "code",
   "execution_count": null,
   "metadata": {
    "id": "eZEdEuROIFNC"
   },
   "outputs": [],
   "source": [
    "#load libraries to do the training and testing split\n",
    "from sklearn.model_selection import train_test_split\n",
    "\n",
    "#Split the dataframe into 80% training and 20% testing datasets\n",
    "df_train, df_test = train_test_split(df_boston, test_size=0.20)"
   ]
  },
  {
   "cell_type": "code",
   "execution_count": null,
   "metadata": {
    "id": "2CmwRtpxS7Vf"
   },
   "outputs": [],
   "source": [
    "#take a look at the shape of the training dataset\n",
    "df_train.shape"
   ]
  },
  {
   "cell_type": "code",
   "execution_count": null,
   "metadata": {
    "id": "HdMXfjuFSNfq"
   },
   "outputs": [],
   "source": [
    "#take a look at the shape of the testing dataset\n",
    "df_test.shape\n"
   ]
  },
  {
   "cell_type": "markdown",
   "metadata": {
    "id": "moh5HFYwTKoz"
   },
   "source": [
    "### <font color='darkorange'>Fit a model </font>"
   ]
  },
  {
   "cell_type": "markdown",
   "metadata": {
    "id": "Dvm90X8DlqnT"
   },
   "source": [
    "<img src='http://drive.google.com/uc?export=view&id=1WC4tXGCEF-1_2LQ74gIxJAZ-GLXCwBdK' width=\"100\">  "
   ]
  },
  {
   "cell_type": "markdown",
   "metadata": {
    "id": "vrThvCCaTbqR"
   },
   "source": [
    "In general when using sklearn to fit a model we will follow these steps:"
   ]
  },
  {
   "cell_type": "code",
   "execution_count": null,
   "metadata": {
    "id": "jI65cVtTTbFd"
   },
   "outputs": [],
   "source": [
    "#define model parameters\n",
    "linear_reg_split_model = smf.ols(formula='?', data=df_train) #note: using training data\n",
    "\n",
    "#fit the model to the training data\n",
    "linear_reg_split_results = linear_reg_split_model.?\n",
    "\n",
    "#predict values in the training and testing dataset\n",
    "df_train['price_pred'] = ?(df_train) #note: using train data\n",
    "df_test['price_pred'] = ?(df_test) #note: using test data\n",
    "\n",
    "#Get a summary of the model parameters\n",
    "print(linear_reg_split_results.summary())"
   ]
  },
  {
   "cell_type": "markdown",
   "metadata": {
    "id": "GmYUjT27dbBy"
   },
   "source": [
    "Visualize predictions on the training dataset"
   ]
  },
  {
   "cell_type": "code",
   "execution_count": null,
   "metadata": {
    "id": "-OgHBdczgYn1"
   },
   "outputs": [],
   "source": [
    "?(data=df_train,x=\"RM\",y=\"price\") # observed price\n",
    "?(data=df_train,x=\"RM\",y=\"price_pred\") #predicted price\n"
   ]
  },
  {
   "cell_type": "markdown",
   "metadata": {
    "id": "OI0ISMZ6hLa5"
   },
   "source": [
    "Visualize predictions on the testing dataset"
   ]
  },
  {
   "cell_type": "code",
   "execution_count": null,
   "metadata": {
    "id": "KqQVt4qUhKgg"
   },
   "outputs": [],
   "source": [
    "?(data=df_test,x=\"RM\",y=\"price\") # observed price\n",
    "?(data=df_test,x=\"RM\",y=\"price_pred\") # predicted price\n"
   ]
  },
  {
   "cell_type": "markdown",
   "metadata": {
    "id": "S7gvWHDrbuK1"
   },
   "source": [
    "How good is the model at predicting?"
   ]
  },
  {
   "cell_type": "markdown",
   "metadata": {
    "id": "JVjbIwh9jrZN"
   },
   "source": [
    "> Making predictions in the training dataset"
   ]
  },
  {
   "cell_type": "code",
   "execution_count": null,
   "metadata": {
    "id": "iP5YMbKljvIj"
   },
   "outputs": [],
   "source": [
    "#mean squared error\n",
    "mse_train = sk.metrics.mean_squared_error(df_train['price'], df_train['price_pred']) \n",
    "\n",
    "print(\" Mean squared error = \", mse_train)"
   ]
  },
  {
   "cell_type": "markdown",
   "metadata": {
    "id": "feVCA701j0fM"
   },
   "source": [
    "> Making predictions in the testing dataset (not used to fit the model)"
   ]
  },
  {
   "cell_type": "code",
   "execution_count": null,
   "metadata": {
    "id": "copqYxmCj4QR"
   },
   "outputs": [],
   "source": [
    "#mean squared error\n",
    "mse_test = sk.metrics.mean_squared_error(df_test['price'], df_test['price_pred']) \n",
    "\n",
    "print(\" Mean squared error = \", mse_test)"
   ]
  },
  {
   "cell_type": "markdown",
   "metadata": {
    "id": "4Y6ZNq82kMwJ"
   },
   "source": [
    "Q: Which prediction error is higher?"
   ]
  },
  {
   "cell_type": "markdown",
   "metadata": {
    "id": "d2iuYitVkb3O"
   },
   "source": [
    "Q: Is all that error just noise? Or could there be other variables that might explain why the predictions are off?"
   ]
  },
  {
   "cell_type": "markdown",
   "metadata": {
    "id": "giyvuAxJgSOa"
   },
   "source": [
    "<img src='http://drive.google.com/uc?export=view&id=1qWrKY9TgpgQaBCzZfz1xLTV6iCeSwfmG' width=\"100\">"
   ]
  },
  {
   "cell_type": "markdown",
   "metadata": {
    "id": "6L3gTa8Ik_6I"
   },
   "source": [
    "### <font color='darkorange'>Fit a more complex model</font>"
   ]
  },
  {
   "cell_type": "markdown",
   "metadata": {
    "id": "S4pSaQXslLVk"
   },
   "source": [
    "This time we will try multiple linear regression"
   ]
  },
  {
   "cell_type": "code",
   "execution_count": null,
   "metadata": {
    "id": "LcG4MXuolVpB"
   },
   "outputs": [],
   "source": [
    "#define model parameters, and the training data to be used\n",
    "multi_linear_reg = smf.ols(formula='price ~ RM + ZN', data=df_train) #use training data\n",
    "\n",
    "#fit the model to the training data\n",
    "results_RN_ZN = multi_linear_reg.fit() \n",
    "\n",
    "#Predict values in the testing dataset\n",
    "df_test['price_pred_RM_ZN'] = results_RN_ZN.predict(df_test) #predict on testing data\n",
    "\n",
    "#Get a summary of the model parameters\n",
    "print(results_RN_ZN.summary()) \n"
   ]
  },
  {
   "cell_type": "markdown",
   "metadata": {
    "id": "8yeNY-fNlVpo"
   },
   "source": [
    "Visualize and explore these predictions"
   ]
  },
  {
   "cell_type": "code",
   "execution_count": null,
   "metadata": {
    "id": "Ql6ferivj2v4"
   },
   "outputs": [],
   "source": [
    "df_test"
   ]
  },
  {
   "cell_type": "markdown",
   "metadata": {
    "id": "UkNy9y6XlVpp"
   },
   "source": [
    "First let's look at how the model predicts the price of houses in the testing dataset. Now that we have two predictors we'll have to look at one at a time.\n",
    "</br>\n",
    "Let's look at the number of rooms (RM) first:"
   ]
  },
  {
   "cell_type": "code",
   "execution_count": null,
   "metadata": {
    "id": "ISDYqiddlVpq"
   },
   "outputs": [],
   "source": [
    "sns.scatterplot(data=df_test,x='RM', y='price')\n",
    "sns.scatterplot(data=df_test,x='RM', y='price_pred_RM_ZN')\n"
   ]
  },
  {
   "cell_type": "markdown",
   "metadata": {
    "id": "lpiaTnKMtE7a"
   },
   "source": [
    "Then at lot size (ZN):"
   ]
  },
  {
   "cell_type": "code",
   "execution_count": null,
   "metadata": {
    "id": "SYoe7PJ1tGhL"
   },
   "outputs": [],
   "source": [
    "sns.scatterplot(data=df_test,x='ZN', y='price')\n",
    "sns.scatterplot(data=df_test,x='ZN', y='price_pred_RM_ZN')"
   ]
  },
  {
   "cell_type": "markdown",
   "metadata": {
    "id": "NHsjIRSOlVpu"
   },
   "source": [
    "How good is the model at predicting?"
   ]
  },
  {
   "cell_type": "code",
   "execution_count": null,
   "metadata": {
    "id": "oE07NmnClVpv"
   },
   "outputs": [],
   "source": [
    "#mean squared error\n",
    "mse_multi = sk.metrics.mean_squared_error(df_test['price'], df_test['price_pred_RM_ZN']) \n",
    "\n",
    "print(\" Mean squared error = \", mse_multi.round(2))\n",
    "\n"
   ]
  },
  {
   "cell_type": "markdown",
   "metadata": {
    "id": "zU9L78-Oo--6"
   },
   "source": [
    "Q: how does that compare to our simple model?"
   ]
  },
  {
   "cell_type": "markdown",
   "metadata": {
    "id": "r2ZaE1KKpKk4"
   },
   "source": [
    "<img src='http://drive.google.com/uc?export=view&id=1WC4tXGCEF-1_2LQ74gIxJAZ-GLXCwBdK' width=\"100\">  "
   ]
  },
  {
   "cell_type": "markdown",
   "metadata": {
    "id": "lc8RCXOrxCHX"
   },
   "source": [
    "### <font color='darkorange'>Try adding more variables!</font>\n",
    " \n",
    " Run a linear regression model to predict house prices. Try and beat the RMSE of the previous models! Feel free to post to slack your results and RMSE scores! Does RMSE always decrease as you add more variables?"
   ]
  },
  {
   "cell_type": "code",
   "execution_count": null,
   "metadata": {
    "id": "dGhrD9IemCHT"
   },
   "outputs": [],
   "source": [
    "#define model parameters\n",
    "large_linear_reg = ?\n",
    "\n",
    "#fit the model to the training data\n",
    "large_linear_reg_res = ?\n",
    "\n",
    "#predit with the full model\n",
    "df_test['price_pred_full'] = ?\n",
    "\n",
    "#Get a summary of the model parameters\n",
    "print(?) "
   ]
  },
  {
   "cell_type": "markdown",
   "metadata": {
    "id": "aWSmXpW_maHS"
   },
   "source": [
    "How well does it do on the test data?"
   ]
  },
  {
   "cell_type": "code",
   "execution_count": null,
   "metadata": {
    "id": "q9Ji6W8QmZ3U"
   },
   "outputs": [],
   "source": [
    "#mean squared error\n",
    "mse_full = ?\n",
    "\n",
    "print(\" Mean squared error = \", ?)\n"
   ]
  },
  {
   "cell_type": "markdown",
   "metadata": {
    "id": "-weXKGRN3MCv"
   },
   "source": [
    "<img src='http://drive.google.com/uc?export=view&id=1qWrKY9TgpgQaBCzZfz1xLTV6iCeSwfmG' width=\"100\">"
   ]
  },
  {
   "cell_type": "markdown",
   "metadata": {
    "id": "h852C7SpsWzN"
   },
   "source": [
    "### <font color='darkorange'>Explaining how the model is making predictions</font>"
   ]
  },
  {
   "cell_type": "markdown",
   "metadata": {
    "id": "gW82VH3Ks4wd"
   },
   "source": [
    "With linear regression we can look to see what features are important when making predictions. We can also see the direction and magnitude of the effect of these features.\n",
    "> E.g., more rooms in a house are positively associated with house price"
   ]
  },
  {
   "cell_type": "markdown",
   "metadata": {
    "id": "R8saNIkjtVlr"
   },
   "source": [
    "Let's take a look at how to make it easier to see which features are important when making predictions.\n",
    "> To do this we'll ensure that all numeric features are on the same scale (e.g., mean of 0, and standard deviation of 1)."
   ]
  },
  {
   "cell_type": "markdown",
   "metadata": {
    "id": "XjxUeWwpv-_s"
   },
   "source": [
    "Data wrangling: preprocessing the data"
   ]
  },
  {
   "cell_type": "code",
   "execution_count": null,
   "metadata": {
    "id": "z1TzauNnstwu"
   },
   "outputs": [],
   "source": [
    "from sklearn.preprocessing import StandardScaler\n"
   ]
  },
  {
   "cell_type": "markdown",
   "metadata": {
    "id": "v19jraci1Hym"
   },
   "source": [
    "Data preprocessing should be done after the training testing split"
   ]
  },
  {
   "cell_type": "code",
   "execution_count": null,
   "metadata": {
    "id": "6D1Sq_4V1McD"
   },
   "outputs": [],
   "source": [
    "#Split the dataframe into 80% training and 20% testing datasets\n",
    "df_train, df_test = train_test_split(df_boston, test_size=0.20)"
   ]
  },
  {
   "cell_type": "markdown",
   "metadata": {
    "id": "kuebewUqwHlo"
   },
   "source": [
    "As the preprocessing step can be quite time consuming, we will use a function called DataFrameMapper to help make it easier. The steps to use this function are:\n",
    "1. Build the transformer\n",
    "2. Fit the transformer and \n",
    "3. Use the transformer to transform the data\n"
   ]
  },
  {
   "cell_type": "code",
   "execution_count": null,
   "metadata": {
    "id": "rmLVRaLRw93V"
   },
   "outputs": [],
   "source": [
    "#create a copy of your dataframe to transform\n",
    "df_train_scaled = df_train.copy()\n",
    "\n",
    "#1. build the preprocessing transformer\n",
    "scal = StandardScaler()\n",
    "\n",
    "#2. Fit the DataFrameMapper, and transform the data \n",
    "df_train_scaled = scal.fit_transform(df_train[:])\n",
    "\n",
    "#take a look\n",
    "df_train_scaled"
   ]
  },
  {
   "cell_type": "markdown",
   "metadata": {
    "id": "9QgxxZhjye6U"
   },
   "source": [
    "Q: estimate the mean and standard deviation for one of the new transformed features."
   ]
  },
  {
   "cell_type": "code",
   "execution_count": null,
   "metadata": {
    "id": "bF1BAk60ymip"
   },
   "outputs": [],
   "source": []
  },
  {
   "cell_type": "markdown",
   "metadata": {
    "id": "lwf3qy3_zYzU"
   },
   "source": [
    "Now run your best model again, this time with the scaled training data."
   ]
  },
  {
   "cell_type": "code",
   "execution_count": null,
   "metadata": {
    "id": "SPJe3CE3zlZv"
   },
   "outputs": [],
   "source": [
    "#define model parameters, and the training data to be used\n",
    "best_linear_reg_scaled = smf.ols(formula='price ~ RM', data=df_train_scaled) \n",
    "\n",
    "#fit the model to the training data\n",
    "?\n",
    "\n",
    "#Get a summary of the model parameters\n",
    "?\n"
   ]
  },
  {
   "cell_type": "markdown",
   "metadata": {
    "id": "nj-mUI_j34tG"
   },
   "source": [
    "We can now compare the relative effect of each of the features in predicting the price of a house.\n",
    "> e.g the magnitude and direction of each parameter estimate.\n",
    " \n"
   ]
  },
  {
   "cell_type": "markdown",
   "metadata": {
    "id": "ck64DNX_jcjl"
   },
   "source": [
    "\n",
    "### <font color='darkorange'>Further reading</font>"
   ]
  },
  {
   "cell_type": "markdown",
   "metadata": {
    "id": "BBuzn2WSjd3y"
   },
   "source": [
    "Read more about [using statsmodel](https://www.statsmodels.org/stable/gettingstarted.html) to run regression models.\n"
   ]
  },
  {
   "cell_type": "markdown",
   "metadata": {},
   "source": [
    "> If you would like the notebook without missing code check out the [full code](https://colab.research.google.com/github/tbonne/peds/blob/main/docs/fullNotebooks/full_IntroModeling1_LinearReg.ipynb) version."
   ]
  }
 ],
 "metadata": {
  "colab": {
   "authorship_tag": "ABX9TyPTZy0+xo1W59EjpXqDP/Zu",
   "collapsed_sections": [],
   "include_colab_link": true,
   "name": "IntroModeling1_LinearReg.ipynb",
   "provenance": []
  },
  "kernelspec": {
   "display_name": "Python 3",
   "name": "python3"
  }
 },
 "nbformat": 4,
 "nbformat_minor": 2
}