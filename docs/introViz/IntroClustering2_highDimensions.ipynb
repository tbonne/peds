{
  "nbformat": 4,
  "nbformat_minor": 2,
  "metadata": {
    "colab": {
      "name": "IntroClustering2_highDimensions.ipynb",
      "provenance": [],
      "collapsed_sections": [],
      "authorship_tag": "ABX9TyNfszrrPnEkyzwddLAwjT0e",
      "include_colab_link": true
    },
    "kernelspec": {
      "name": "python3",
      "display_name": "Python 3"
    },
    "language_info": {
      "name": "python"
    }
  },
  "cells": [
    {
      "cell_type": "markdown",
      "source": [
        "<a href=\"https://colab.research.google.com/github/tbonne/IntroDataScience/blob/main/InClassNotebooks/IntroClustering2_highDimensions.ipynb\" target=\"_parent\"><img src=\"https://colab.research.google.com/assets/colab-badge.svg\" alt=\"Open In Colab\"/></a>"
      ],
      "metadata": {
        "id": "view-in-github",
        "colab_type": "text"
      }
    },
    {
      "cell_type": "markdown",
      "source": [
        "<img src='http://drive.google.com/uc?export=view&id=1eaZWfBLfmkzNndnA8pJvo6tO4Lm7Qz83' width=500>"
      ],
      "metadata": {
        "id": "Ff3qPaLI390b"
      }
    },
    {
      "cell_type": "markdown",
      "source": [
        "## <font color='darkorange'>Clustering in higher dimensions</font>"
      ],
      "metadata": {
        "id": "N6ULenhF39aV"
      }
    },
    {
      "cell_type": "markdown",
      "source": [
        "In this exercise we will look at adding an extra dimension to our points. We'll look at how changing the problem from 2D to 3D can cause challenges. "
      ],
      "metadata": {
        "id": "x8xd-YdGCN0h"
      }
    },
    {
      "cell_type": "code",
      "execution_count": null,
      "source": [
        "import numpy as np\n",
        "import seaborn as sns\n",
        "import pandas as pd\n",
        "from sklearn import cluster\n",
        "import sklearn as sk\n"
      ],
      "outputs": [],
      "metadata": {
        "id": "dZqwcX2934AE"
      }
    },
    {
      "cell_type": "markdown",
      "source": [
        "### <font color='darkorange'>Simulating data</font>"
      ],
      "metadata": {
        "id": "YlV3DICbZa_B"
      }
    },
    {
      "cell_type": "markdown",
      "source": [
        "Let's simulate some data where we know how many clusters there are. This time we'll add an extra dimension. \n",
        "\n",
        "> i.e., let's create 1000 points and set them to class 1. Each point will get a random x, y, and z coordinate."
      ],
      "metadata": {
        "id": "wJZnfzlmr01l"
      }
    },
    {
      "cell_type": "code",
      "execution_count": null,
      "source": [
        "#simulate some random values\n",
        "array_class1 = {\"x\":np.random.normal(1,4, size=1000),\n",
        "                \"y\":np.random.normal(1,4, size=1000),\n",
        "                \"z\":np.random.normal(1,40, size=1000),\n",
        "                \"class\": 1}\n",
        "\n",
        "#put them in a dataframe\n",
        "df_class1 = pd.DataFrame(data=array_class1)\n",
        "\n",
        "#plot it\n",
        "sns.scatterplot(data=df_class1, x=\"x\",y=\"y\")\n"
      ],
      "outputs": [],
      "metadata": {
        "id": "cPRKRQ5BwR_i"
      }
    },
    {
      "cell_type": "markdown",
      "source": [
        "Because the cluster is more than 2 dimensions it is hard to visualize with a scatterplot. Let's look at the cluster from the x and z dimension."
      ],
      "metadata": {
        "id": "sec46iri4BJN"
      }
    },
    {
      "cell_type": "code",
      "execution_count": null,
      "source": [
        "sns.scatterplot(data=df_class1, x=\"x\",y=\"z\")"
      ],
      "outputs": [],
      "metadata": {
        "id": "rq5spzB74Noa"
      }
    },
    {
      "cell_type": "markdown",
      "source": [
        "Create another set of 1000 points and assign them to class 2. Then we'll add the two sets of points together by using **concat**:\n"
      ],
      "metadata": {
        "id": "RY0aNadI2B5g"
      }
    },
    {
      "cell_type": "code",
      "execution_count": null,
      "source": [
        "#generate some random values\n",
        "array_class2 = {\"x\":np.random.normal(8,5, size=1000),\n",
        "                \"y\":np.random.normal(8,1, size=1000),\n",
        "                \"z\":np.random.normal(8,0.5, size=1000),\n",
        "                \"class\": 2}\n",
        "\n",
        "#put them in a dataframe\n",
        "df_class2 = pd.DataFrame(data=array_class2)\n",
        "\n",
        "#bind the two dataframes together by rows\n",
        "df_class = pd.concat([df_class1,df_class2], axis = 0) #axis=0 just says to bind by rows, axis=1 would be by columns \n",
        "\n",
        "#plot it\n",
        "sns.scatterplot(data=df_class, x=\"x\",y=\"y\", hue='class')"
      ],
      "outputs": [],
      "metadata": {
        "id": "OzXYdm-b2GgT"
      }
    },
    {
      "cell_type": "code",
      "execution_count": null,
      "source": [
        "sns.scatterplot(data=df_class, x=\"x\",y=\"z\", hue='class')"
      ],
      "outputs": [],
      "metadata": {
        "id": "29Vfwaa24eEN"
      }
    },
    {
      "cell_type": "markdown",
      "source": [
        "\n",
        "### <font color='darkorange'>Visualizing in 3D</font>"
      ],
      "metadata": {
        "id": "1jqsbr0I4pVD"
      }
    },
    {
      "cell_type": "markdown",
      "source": [
        "Let's learn how to visualize data in 3D! We'll use **plotly** as it is easy to use and gives us a great interactive plot to use!"
      ],
      "metadata": {
        "id": "lOtwPbVtADO7"
      }
    },
    {
      "cell_type": "code",
      "execution_count": null,
      "source": [
        "#import plotly\n",
        "import plotly.express as px\n",
        "\n",
        "#build a figure with three axis\n",
        "fig = px.scatter_3d(df_class, x='x', y='y', z='z', color='class')\n",
        "fig.show()"
      ],
      "outputs": [],
      "metadata": {
        "id": "M_0_GUkyGNTJ"
      }
    },
    {
      "cell_type": "markdown",
      "source": [
        "### <font color='darkorange'>Clustering with many dimensions</font>"
      ],
      "metadata": {
        "id": "a6bIK4CF4sqg"
      }
    },
    {
      "cell_type": "markdown",
      "source": [
        "Let's try out the clustering in higher dimensions using k-means.\n",
        "> The approach we use will work the same for HDBScan and many of the other clustering algorithm."
      ],
      "metadata": {
        "id": "7UtPQ_MO32ju"
      }
    },
    {
      "cell_type": "markdown",
      "source": [
        "**First** let's build the machine learning algorithm that we will use (i.e., k-means)"
      ],
      "metadata": {
        "id": "B9Bpf4vGcL0b"
      }
    },
    {
      "cell_type": "code",
      "execution_count": null,
      "source": [
        "#initalize the kmeans algorithm\n",
        "clus_kmeans = cluster.KMeans(n_clusters=2) #how many clusters are there?"
      ],
      "outputs": [],
      "metadata": {
        "id": "vVy7GtvOcVkT"
      }
    },
    {
      "cell_type": "markdown",
      "source": [
        "**Second** let's fit the model using data \n",
        "> This is the only difference: we need to make sure we pass all the dimensions when fitting the algorithm"
      ],
      "metadata": {
        "id": "-KQTFISrcWIc"
      }
    },
    {
      "cell_type": "code",
      "execution_count": null,
      "source": [
        "#fit the model\n",
        "clus_kmeans.fit(df_class[['x','y','z']] )"
      ],
      "outputs": [],
      "metadata": {
        "id": "9ovnDjraccDV"
      }
    },
    {
      "cell_type": "markdown",
      "source": [
        "**Third**, now that the model is built and fit to data we can use it to make predictions!"
      ],
      "metadata": {
        "id": "7mKx6_ihcdrs"
      }
    },
    {
      "cell_type": "code",
      "execution_count": null,
      "source": [
        "#make some predictions\n",
        "df_class['pred_kmeans'] = clus_kmeans.fit_predict(df_class[['x','y','z']] )\n",
        "\n",
        "#take a look\n",
        "df_class"
      ],
      "outputs": [],
      "metadata": {
        "id": "JBeiP5E6cjoC"
      }
    },
    {
      "cell_type": "markdown",
      "source": [
        "Similarly, when measuring the performance of the algorithm we need to include all dimension when making predictions."
      ],
      "metadata": {
        "id": "wUJ2AG7k52cI"
      }
    },
    {
      "cell_type": "code",
      "execution_count": null,
      "source": [
        "sk.metrics.silhouette_score(X=df_class.loc[:,['x','y','z']],labels=df_class['pred_kmeans'])"
      ],
      "outputs": [],
      "metadata": {
        "id": "UHMdnrtP6DcP"
      }
    },
    {
      "cell_type": "markdown",
      "source": [
        "Finally, let's plot those predictions in 3D"
      ],
      "metadata": {
        "id": "ZgUO8FBYkU7g"
      }
    },
    {
      "cell_type": "code",
      "execution_count": null,
      "source": [
        "#build a figure with three axis\n",
        "fig_pred = px.scatter_3d(df_class, x='x', y='y', z='z', color='pred_kmeans')\n",
        "fig_pred.show()"
      ],
      "outputs": [],
      "metadata": {
        "id": "NWrVKvxekXlR"
      }
    },
    {
      "cell_type": "markdown",
      "source": [
        "### <font color='darkorange'>Bonus</font>"
      ],
      "metadata": {
        "id": "kN1BOzx-k0Aq"
      }
    },
    {
      "cell_type": "markdown",
      "source": [
        "Try to again cluster the above dataset, this time using the HDBScan algorithm."
      ],
      "metadata": {
        "id": "c5fxlKMpkwqE"
      }
    },
    {
      "cell_type": "code",
      "execution_count": null,
      "source": [
        "!pip install hdbscan\n",
        "import hdbscan"
      ],
      "outputs": [],
      "metadata": {
        "id": "1jrDNJj8rTTY"
      }
    },
    {
      "cell_type": "code",
      "execution_count": null,
      "source": [
        "#initalize the kmeans algorithm (hyperparameter - choose minimum cluster size)\n",
        "clus_hdbscan = hdbscan.HDBSCAN(min_cluster_size = ?) "
      ],
      "outputs": [],
      "metadata": {
        "id": "3MuVt9PPqkzL"
      }
    },
    {
      "cell_type": "markdown",
      "source": [
        "Second fit the ml algorithm to the data\n"
      ],
      "metadata": {
        "id": "tkm4aTkRqwJZ"
      }
    },
    {
      "cell_type": "code",
      "execution_count": null,
      "source": [
        "#fit the model\n",
        "clus_hdbscan.fit(df_class[['?','?','?']] )"
      ],
      "outputs": [],
      "metadata": {
        "id": "sVsRb1VOq3Qa"
      }
    },
    {
      "cell_type": "markdown",
      "source": [
        "Third use the ml algorithm to make some predictions"
      ],
      "metadata": {
        "id": "x-wtYK27q3xK"
      }
    },
    {
      "cell_type": "code",
      "execution_count": null,
      "source": [
        "#make some predictions\n",
        "df_class['pred_khdbscan'] = clus_hdbscan.fit_predict(?] )"
      ],
      "outputs": [],
      "metadata": {
        "id": "e1ESWmAtq7_o"
      }
    },
    {
      "cell_type": "code",
      "execution_count": null,
      "source": [
        "#build a figure with three axis\n",
        "fig_Hpred = px.scatter_3d(df_class, x='?', y='?', z='?', color='?')\n",
        "fig_Hpred.show()"
      ],
      "outputs": [],
      "metadata": {
        "id": "kHTV4MqtlOhn"
      }
    },
    {
      "cell_type": "markdown",
      "source": [
        "How well does the HDBScan algorithm do, and does this change with your choice of min cluster size? How do the results differ from KMeans?"
      ],
      "metadata": {
        "id": "6E-l7OCGlnVJ"
      }
    },
    {
      "cell_type": "markdown",
      "source": [
        "### <font color='darkorange'>Further reading</font>"
      ],
      "metadata": {
        "id": "v6F-hjnc6zFB"
      }
    },
    {
      "cell_type": "markdown",
      "source": [
        "[Plotly tutorials](https://plotly.com/python/plotly-fundamentals/)"
      ],
      "metadata": {
        "id": "HwhprU0g61lt"
      }
    }
  ]
}