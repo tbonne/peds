{
  "nbformat": 4,
  "nbformat_minor": 2,
  "metadata": {
    "colab": {
      "name": "IntroClustering1_kmeans_HDBScan",
      "provenance": [],
      "collapsed_sections": [],
      "toc_visible": true,
      "authorship_tag": "ABX9TyOo4Q7S1AJdM5P/BNnO3ICq",
      "include_colab_link": true
    },
    "kernelspec": {
      "name": "python3",
      "display_name": "Python 3"
    }
  },
  "cells": [
    {
      "cell_type": "markdown",
      "source": [
        "<a href=\"https://colab.research.google.com/github/tbonne/IntroDataScience/blob/main/InClassNotebooks/IntroClustering1_kmeans_HDBScan.ipynb\" target=\"_parent\"><img src=\"https://colab.research.google.com/assets/colab-badge.svg\" alt=\"Open In Colab\"/></a>"
      ],
      "metadata": {
        "id": "view-in-github",
        "colab_type": "text"
      }
    },
    {
      "cell_type": "markdown",
      "source": [
        "<img src='http://drive.google.com/uc?export=view&id=1eaZWfBLfmkzNndnA8pJvo6tO4Lm7Qz83' width=500>"
      ],
      "metadata": {
        "id": "pgSM23bPW5GI"
      }
    },
    {
      "cell_type": "markdown",
      "source": [
        "## <font color='darkorange'>Clustering algorithms</font>"
      ],
      "metadata": {
        "id": "HkP-sbomvut5"
      }
    },
    {
      "cell_type": "markdown",
      "source": [
        "We will look at developing skills to detect clusters in your data. Identifying clusters can be very helpful when exploring your data, and is a form of unsupervised machine learning.\n",
        "> To perform clustering we will make use of the **sklearn** library. This library is a very useful machine learning library in python. We'll use this library a lot in this course!"
      ],
      "metadata": {
        "id": "NQSi-Pjtv09u"
      }
    },
    {
      "cell_type": "markdown",
      "source": [
        "There is no single best clustering algorithm, as it will often depend on the data you have and the question you'd like to address. In this exercise we will look at two good clustering algorithms.\n",
        "\n",
        "*  K-means\n",
        "*  Hdbscan"
      ],
      "metadata": {
        "id": "rrntCePBvuDZ"
      }
    },
    {
      "cell_type": "markdown",
      "source": [
        "Load python libraries"
      ],
      "metadata": {
        "id": "zVdrSn8sZWfH"
      }
    },
    {
      "cell_type": "code",
      "execution_count": null,
      "source": [
        "import numpy as np\n",
        "import pandas as pd\n",
        "import seaborn as sns\n",
        "import sklearn as sk\n",
        "\n",
        "from sklearn import cluster"
      ],
      "outputs": [],
      "metadata": {
        "id": "_gbNhHczrzC2"
      }
    },
    {
      "cell_type": "markdown",
      "source": [
        "### <font color='darkorange'>Simulating data</font>"
      ],
      "metadata": {
        "id": "YlV3DICbZa_B"
      }
    },
    {
      "cell_type": "markdown",
      "source": [
        "Simulating data is a great way to test out different machine learning algorithms. Here we'll use the numpy library to create some random numbers."
      ],
      "metadata": {
        "id": "2iZQMTmLZnWC"
      }
    },
    {
      "cell_type": "code",
      "execution_count": null,
      "source": [
        "#simulate 100 values from a normal distribution with a mean of 1 and an sd of 4\n",
        "x = np.random.normal(1,4, size = 10)\n",
        "\n",
        "#take a look\n",
        "x"
      ],
      "outputs": [],
      "metadata": {
        "id": "Akco80d4Z2MG"
      }
    },
    {
      "cell_type": "markdown",
      "source": [
        "Let's simulate some data where we know how many clusters there are. \n",
        "\n",
        "> First let's create 1000 points and set them to class 1. Each point will get a random x and y coordinate.\n"
      ],
      "metadata": {
        "id": "wJZnfzlmr01l"
      }
    },
    {
      "cell_type": "code",
      "execution_count": null,
      "source": [
        "#simulate some random values\n",
        "array_class1 = {\"x\":np.random.normal(1,4, size=1000),\n",
        "                \"y\":np.random.normal(1,4, size=1000),\n",
        "                \"class\": 1}\n",
        "\n",
        "#put them in a dataframe\n",
        "df_class1 = pd.DataFrame(data=array_class1)\n",
        "\n",
        "#plot it\n",
        "sns.scatterplot(data=df_class1, x=\"x\",y=\"y\")\n",
        "\n"
      ],
      "outputs": [],
      "metadata": {
        "id": "cPRKRQ5BwR_i"
      }
    },
    {
      "cell_type": "markdown",
      "source": [
        "Create another set of 1000 points and assign them to class 2. Then we'll add the two sets of points together by using **concat**:\n"
      ],
      "metadata": {
        "id": "RY0aNadI2B5g"
      }
    },
    {
      "cell_type": "code",
      "execution_count": null,
      "source": [
        "#generate some random values\n",
        "array_class2 = {\"x\":np.random.normal(8,5, size=1000),\n",
        "                \"y\":np.random.normal(8,1, size=1000),\n",
        "                \"class\": 2}\n",
        "\n",
        "#put them in a dataframe\n",
        "df_class2 = pd.DataFrame(data=array_class2)\n",
        "\n",
        "#bind the two dataframes together by rows\n",
        "df_class = pd.concat([df_class1,df_class2], axis = 0) #axis=0 just says to bind by rows, axis=1 would be by columns \n",
        "\n",
        "#plot it\n",
        "sns.scatterplot(data=df_class, x=\"x\",y=\"y\", hue='class')"
      ],
      "outputs": [],
      "metadata": {
        "id": "OzXYdm-b2GgT"
      }
    },
    {
      "cell_type": "markdown",
      "source": [
        "### <font color='darkorange'>K-Means</font>"
      ],
      "metadata": {
        "id": "J8rChnbytk-O"
      }
    },
    {
      "cell_type": "markdown",
      "source": [
        "Let's try out the first classification algorithm: k-means. \n",
        "> Sklearn uses a standard approach to machine learning models. We'll go through each step with k-means."
      ],
      "metadata": {
        "id": "7UtPQ_MO32ju"
      }
    },
    {
      "cell_type": "markdown",
      "source": [
        "**First** let's build the machine learning algorithm that we will use (i.e., k-means)"
      ],
      "metadata": {
        "id": "B9Bpf4vGcL0b"
      }
    },
    {
      "cell_type": "code",
      "execution_count": null,
      "source": [
        "#initalize the kmeans algorithm\n",
        "clus_kmeans = cluster.KMeans(n_clusters=2) "
      ],
      "outputs": [],
      "metadata": {
        "id": "vVy7GtvOcVkT"
      }
    },
    {
      "cell_type": "markdown",
      "source": [
        "**Second** let's fit the model using data"
      ],
      "metadata": {
        "id": "-KQTFISrcWIc"
      }
    },
    {
      "cell_type": "code",
      "execution_count": null,
      "source": [
        "#fit the model\n",
        "clus_kmeans.fit(df_class[['x','y']] )"
      ],
      "outputs": [],
      "metadata": {
        "id": "9ovnDjraccDV"
      }
    },
    {
      "cell_type": "markdown",
      "source": [
        "**Third**, now that the model is built and fit to data we can use it to make predictions!"
      ],
      "metadata": {
        "id": "7mKx6_ihcdrs"
      }
    },
    {
      "cell_type": "code",
      "execution_count": null,
      "source": [
        "#make some predictions\n",
        "df_class['pred_kmeans'] = clus_kmeans.fit_predict(df_class[['x','y']] )\n",
        "\n",
        "#take a look\n",
        "df_class"
      ],
      "outputs": [],
      "metadata": {
        "id": "JBeiP5E6cjoC"
      }
    },
    {
      "cell_type": "markdown",
      "source": [
        "**Finaly**, we can visualize the predictions it made by using seaborn"
      ],
      "metadata": {
        "id": "4jZwDckyclQx"
      }
    },
    {
      "cell_type": "code",
      "execution_count": null,
      "source": [
        "#plot it!\n",
        "sns.scatterplot(data=df_class,x=\"x\",y=\"y\",hue=\"pred_kmeans\")"
      ],
      "outputs": [],
      "metadata": {
        "id": "KzgGYWxT32IK"
      }
    },
    {
      "cell_type": "markdown",
      "source": [
        "This is what is considered as a hard clustering algorithm - it assigns every point to a cluster. It also makes some assumptions about clusters:\n",
        "\n",
        "*   You know in advance how many clusters there are\n",
        "*   Clusters are roughly oval shaped (noramlly distributied along each dimension)\n",
        "\n",
        "\n"
      ],
      "metadata": {
        "id": "b4XDjNLIs6gW"
      }
    },
    {
      "cell_type": "markdown",
      "source": [
        "<img src='http://drive.google.com/uc?export=view&id=1WC4tXGCEF-1_2LQ74gIxJAZ-GLXCwBdK' width=\"100\" align = 'left'>  "
      ],
      "metadata": {
        "id": "4DsVBg1sdCRH"
      }
    },
    {
      "cell_type": "markdown",
      "source": [
        "Go back and try shifting the mean and standard deviation of the simulated clusters and see how well k-means does. Try changing the number of clusters k-means looks for. When does it break down?"
      ],
      "metadata": {
        "id": "uQk_QgTyRxsc"
      }
    },
    {
      "cell_type": "markdown",
      "source": [
        "<img src='http://drive.google.com/uc?export=view&id=1qWrKY9TgpgQaBCzZfz1xLTV6iCeSwfmG' width=\"100\" align = 'left'>"
      ],
      "metadata": {
        "id": "7hyZXZE4d0VM"
      }
    },
    {
      "cell_type": "markdown",
      "source": [
        "### <font color='darkorange'>Tuning machine learning algorithms</font>"
      ],
      "metadata": {
        "id": "msRNBxDx8Dcn"
      }
    },
    {
      "cell_type": "markdown",
      "source": [
        "The elbow method can be used to help choose how many clusters are likely in the data. It also introduces us to how tune machine learning algorithms by running the model using different parameters and monitoring how well the algorithm performs."
      ],
      "metadata": {
        "id": "1Ljpkm-k8GLV"
      }
    },
    {
      "cell_type": "markdown",
      "source": [
        "First let's measure how successfull the clustering algorithm is. There are many ways to measure *success* in clustering, but here we will use *mean silhouette distance*. Which describes how far apart the points within clusters are from each other.  "
      ],
      "metadata": {
        "id": "dVMH7tGuMIZo"
      }
    },
    {
      "cell_type": "code",
      "execution_count": null,
      "source": [
        "#Mean silhouette distance\n",
        "sk.metrics.silhouette_score(X=df_class.iloc[:,0:2],labels=df_class['pred_kmeans'])"
      ],
      "outputs": [],
      "metadata": {
        "id": "QnLfbUGHANYT"
      }
    },
    {
      "cell_type": "markdown",
      "source": [
        "Try the model above with a different number of clusters and see how this mean silhouette value changes. At what number of clusters is the mean silhouette distance the largest (large means more seperation between clusters).\n",
        "> e.g., is the true number of clusters the highest?"
      ],
      "metadata": {
        "id": "O_KkpICpbLgK"
      }
    },
    {
      "cell_type": "markdown",
      "source": [
        "### <font color='darkorange'>Make our own functions</font>"
      ],
      "metadata": {
        "id": "vuAEma-4joKa"
      }
    },
    {
      "cell_type": "markdown",
      "source": [
        "Note: here we are changing a parameter and re-running the code. In cases like these it can be sometimes useful to create our own functions. Let's take a look at how to create a function in python."
      ],
      "metadata": {
        "id": "He7j5J_gf9TA"
      }
    },
    {
      "cell_type": "code",
      "execution_count": null,
      "source": [
        "#here is a simple function\n",
        "def run_k_means(numb):\n",
        "  return numb"
      ],
      "outputs": [],
      "metadata": {
        "id": "pLdGcJC_gpIM"
      }
    },
    {
      "cell_type": "markdown",
      "source": [
        "Now that we've created it let's use it"
      ],
      "metadata": {
        "id": "zP2ZVSeSg_Pc"
      }
    },
    {
      "cell_type": "code",
      "execution_count": null,
      "source": [
        "run_k_means(2)"
      ],
      "outputs": [],
      "metadata": {
        "id": "l51Z6e1rhB2u"
      }
    },
    {
      "cell_type": "markdown",
      "source": [
        "This function just takes one input (numb) and then prints that number.\n",
        "\n",
        "Let's add each of the model steps above inside the function, with the goal of printing the average silhouette distance."
      ],
      "metadata": {
        "id": "f56PFqxGhG1w"
      }
    },
    {
      "cell_type": "code",
      "execution_count": null,
      "source": [
        "def run_k_means(numb):\n",
        "  \n",
        "  #1. initalize the ml algorithm\n",
        "  clus_kmeans = cluster.KMeans(n_clusters=numb)\n",
        "\n",
        "  #2. fit the ml algorithm\n",
        "  clus_kmeans.fit(df_class[['x','y']] )\n",
        "\n",
        "  #3. make some predictions\n",
        "  df_class['pred_kmeans'] = clus_kmeans.fit_predict(df_class[['x','y']] )\n",
        "\n",
        "  #4. measure performance\n",
        "  avg_sil = sk.metrics.silhouette_score(X=df_class.iloc[:,0:2],labels=df_class['pred_kmeans'])\n",
        "\n",
        "  return avg_sil"
      ],
      "outputs": [],
      "metadata": {
        "id": "-te3FE1whFlY"
      }
    },
    {
      "cell_type": "markdown",
      "source": [
        "Notice here that the input (numb) is now used to build a kmeans model with n_clusters = numb\n",
        " \n",
        "Let's use this new function and see how it works!"
      ],
      "metadata": {
        "id": "795CzG3qiAvH"
      }
    },
    {
      "cell_type": "code",
      "execution_count": null,
      "source": [
        "run_k_means(4)"
      ],
      "outputs": [],
      "metadata": {
        "id": "uV-H-W77iNcG"
      }
    },
    {
      "cell_type": "markdown",
      "source": [
        "Is it much easier to figure out what number of clusters results in the highest avgerage silhouette score?"
      ],
      "metadata": {
        "id": "TiNgoz4DiVR3"
      }
    },
    {
      "cell_type": "markdown",
      "source": [
        "### <font color='darkorange'>Using loops</font>"
      ],
      "metadata": {
        "id": "b8LVYw3Hj3k_"
      }
    },
    {
      "cell_type": "markdown",
      "source": [
        "One last coding trick we'll learn today, is how to use a loop to make this even easier. \n",
        " \n",
        "Let's first look at how loops work in python"
      ],
      "metadata": {
        "id": "dzMureKUiloS"
      }
    },
    {
      "cell_type": "code",
      "execution_count": null,
      "source": [
        "for i in range(2,10):\n",
        "  print(i)"
      ],
      "outputs": [],
      "metadata": {
        "id": "ZrpW7LEpiyeT"
      }
    },
    {
      "cell_type": "markdown",
      "source": [
        "Now that we know the basic structure of a loop, and what it can do, let's use it to help figure out what number of clusters is optimal!"
      ],
      "metadata": {
        "id": "fTD5DcEhi8k3"
      }
    },
    {
      "cell_type": "code",
      "execution_count": null,
      "source": [
        "for i in range(2,10):\n",
        "  print(run_k_means(i))"
      ],
      "outputs": [],
      "metadata": {
        "id": "cDNFz6AijGUS"
      }
    },
    {
      "cell_type": "markdown",
      "source": [
        "Let's plot this out! To store the silhouette values as we run the loop, we'll create an empty list (avg_sil) and each run in the loop we'll add the average silhouette value to the list using **append**. \n",
        "\n"
      ],
      "metadata": {
        "id": "6dUMpF5Bj_Ny"
      }
    },
    {
      "cell_type": "code",
      "execution_count": null,
      "source": [
        "avg_sil = []\n",
        "for i in range(2,10):\n",
        "  avg_sil.append(run_k_means(i))"
      ],
      "outputs": [],
      "metadata": {
        "id": "bEgM7uvSkGxR"
      }
    },
    {
      "cell_type": "markdown",
      "source": [
        "Now that we have a list of average silhouette values, let's place these values in a **dataframe** and plot them using **seaborn**."
      ],
      "metadata": {
        "id": "0fIxrz8dm_oD"
      }
    },
    {
      "cell_type": "code",
      "execution_count": null,
      "source": [
        "#create a dictionary\n",
        "dict_sil = {'sil':avg_sil, 'clusters':list(range(2,10)) }\n",
        "\n",
        "#convert the dictionary into a dataframe\n",
        "df_sil = pd.DataFrame(dict_sil)\n",
        "\n",
        "#plot\n",
        "sns.relplot(x='clusters', y='sil', data=df_sil, kind=\"line\")"
      ],
      "outputs": [],
      "metadata": {
        "id": "-koLyLENj-et"
      }
    },
    {
      "cell_type": "markdown",
      "source": [
        "<img src='http://drive.google.com/uc?export=view&id=1qWrKY9TgpgQaBCzZfz1xLTV6iCeSwfmG' width=\"100\" align = 'left'>"
      ],
      "metadata": {
        "id": "P3RjCENKn6bv"
      }
    },
    {
      "cell_type": "markdown",
      "source": [
        "### <font color='darkorange'>HDBscan</font>"
      ],
      "metadata": {
        "id": "HD1xfmrFtnuI"
      }
    },
    {
      "cell_type": "markdown",
      "source": [
        "Ok let's see how another algorithm does: hdbscan. This method is newer than k-means and focuses on the finding high density regions surrounded by low density."
      ],
      "metadata": {
        "id": "g4D1EMPcKYC9"
      }
    },
    {
      "cell_type": "markdown",
      "source": [
        "To run this clustering algorithm we need to install another python library. Up until now we've been using the libraries on colab, but now we'd like to use one that is not already installed. To do this we install it manually using the !pip command. Then import it just like any other library."
      ],
      "metadata": {
        "id": "sE0Sp761rRqe"
      }
    },
    {
      "cell_type": "code",
      "execution_count": null,
      "source": [
        "!pip install hdbscan\n",
        "import hdbscan"
      ],
      "outputs": [],
      "metadata": {
        "id": "1jrDNJj8rTTY"
      }
    },
    {
      "cell_type": "markdown",
      "source": [
        "Now we can use the **hdbscan** clustering method, it will follow the same steps as sklearn."
      ],
      "metadata": {
        "id": "SJOiRzzArUwy"
      }
    },
    {
      "cell_type": "markdown",
      "source": [
        "First initalize the ml algorithm"
      ],
      "metadata": {
        "id": "MEv1JlRHqlTi"
      }
    },
    {
      "cell_type": "code",
      "execution_count": null,
      "source": [
        "#initalize the kmeans algorithm (hyperparameter - choose minimum cluster size)\n",
        "clus_hdbscan = hdbscan.HDBSCAN(min_cluster_size = 30) "
      ],
      "outputs": [],
      "metadata": {
        "id": "3MuVt9PPqkzL"
      }
    },
    {
      "cell_type": "markdown",
      "source": [
        "Second fit the ml algorithm to the data\n"
      ],
      "metadata": {
        "id": "tkm4aTkRqwJZ"
      }
    },
    {
      "cell_type": "code",
      "execution_count": null,
      "source": [
        "#fit the model\n",
        "clus_hdbscan.fit(df_class[['x','y']] )"
      ],
      "outputs": [],
      "metadata": {
        "id": "sVsRb1VOq3Qa"
      }
    },
    {
      "cell_type": "markdown",
      "source": [
        "Third use the ml algorithm to make some predictions"
      ],
      "metadata": {
        "id": "x-wtYK27q3xK"
      }
    },
    {
      "cell_type": "code",
      "execution_count": null,
      "source": [
        "#make some predictions\n",
        "df_class['pred_khdbscan'] = clus_hdbscan.fit_predict(df_class[['x','y']] )"
      ],
      "outputs": [],
      "metadata": {
        "id": "e1ESWmAtq7_o"
      }
    },
    {
      "cell_type": "markdown",
      "source": [
        "Finally, visualize the predictions of the ml algorithm"
      ],
      "metadata": {
        "id": "ytAJNmDxrFnN"
      }
    },
    {
      "cell_type": "code",
      "execution_count": null,
      "source": [
        "#plot it!\n",
        "sns.scatterplot(data=df_class, x=\"x\",y=\"y\", hue='pred_khdbscan')"
      ],
      "outputs": [],
      "metadata": {
        "id": "uJhTAIZiKYwP"
      }
    },
    {
      "cell_type": "markdown",
      "source": [
        "Notice the negative class? This is HDBscans way of saying that it isn't sure about those points. It is a soft clustering algorithm in that it will give you the probability of each point belonging to a class."
      ],
      "metadata": {
        "id": "AVc6JC13Ph2v"
      }
    },
    {
      "cell_type": "markdown",
      "source": [
        "We can now measure the mean silhouette distance for HDBscan clustering."
      ],
      "metadata": {
        "id": "-V8u6b9FZs8h"
      }
    },
    {
      "cell_type": "code",
      "execution_count": null,
      "source": [
        "#estimate silhouette score for k-means\n",
        "sk.metrics.silhouette_score(X=df_class.loc[:,['x','y']], labels=df_class['pred_khdbscan'])"
      ],
      "outputs": [],
      "metadata": {
        "id": "SAP3CEINZtTk"
      }
    },
    {
      "cell_type": "code",
      "execution_count": null,
      "source": [
        "#get only those points that are given a cluster\n",
        "df_class_sub = df_class[df_class.pred_khdbscan > -1]\n",
        "\n",
        "#estimate silhouette score for k-means\n",
        "sk.metrics.silhouette_score(X=df_class_sub.loc[:,['x','y']],labels=df_class_sub['pred_khdbscan'])"
      ],
      "outputs": [],
      "metadata": {
        "id": "kTu1QMGgZyq-"
      }
    },
    {
      "cell_type": "markdown",
      "source": [
        "How does it do compared to k-means? Does that compare with what you see visually?"
      ],
      "metadata": {
        "id": "ZA70g5pBcX-R"
      }
    },
    {
      "cell_type": "markdown",
      "source": [
        "### <font color='darkorange'>Make our own functions</font>"
      ],
      "metadata": {
        "id": "OqbAx2B7th6x"
      }
    },
    {
      "cell_type": "markdown",
      "source": [
        "<img src='http://drive.google.com/uc?export=view&id=1WC4tXGCEF-1_2LQ74gIxJAZ-GLXCwBdK' width=\"100\" align = 'left'>  "
      ],
      "metadata": {
        "id": "F8mB8xT9twEm"
      }
    },
    {
      "cell_type": "markdown",
      "source": [
        "Let's try to make another function just like the one we did for the k-means algorithm. \n",
        "> feel free to copy and paste the steps from above\n",
        "> remember to think carefully about where the input **minNumb** will go in the code."
      ],
      "metadata": {
        "id": "Tr3MnrrQtzVm"
      }
    },
    {
      "cell_type": "code",
      "execution_count": null,
      "source": [
        "def run_HDBScan(minNumb):\n",
        "  \n",
        "  #1. initalize the ml algorithm\n",
        "  clus_hdbscan = hdbscan.HDBSCAN(min_cluster_size = ?) \n",
        "\n",
        "  #2. fit the ml algorithm\n",
        "  clus_hdbscan.?\n",
        "\n",
        "  #3. make some predictions\n",
        "  df_class['pred_khdbscan'] = clus_hdbscan.?\n",
        "\n",
        "  #4. measure performance\n",
        "  avg_sil = sk.metrics.silhouette_score(?)\n",
        "\n",
        "  return avg_sil"
      ],
      "outputs": [],
      "metadata": {
        "id": "_kD3cTSZt776"
      }
    },
    {
      "cell_type": "markdown",
      "source": [
        "Try out you new function and see if it works!"
      ],
      "metadata": {
        "id": "PqCGtqsPuz2C"
      }
    },
    {
      "cell_type": "code",
      "execution_count": null,
      "source": [
        "#run your function with 500 as the minimum number of points\n",
        "run_HDBScan(40)"
      ],
      "outputs": [],
      "metadata": {
        "id": "uZ9mfQt0u3AW"
      }
    },
    {
      "cell_type": "markdown",
      "source": [
        "### <font color='darkorange'>Running loops</font>"
      ],
      "metadata": {
        "id": "3-xSVjhsvCkb"
      }
    },
    {
      "cell_type": "markdown",
      "source": [
        "<img src='http://drive.google.com/uc?export=view&id=1WC4tXGCEF-1_2LQ74gIxJAZ-GLXCwBdK' width=\"100\" align = 'left'>  "
      ],
      "metadata": {
        "id": "OR50rWdevH4z"
      }
    },
    {
      "cell_type": "markdown",
      "source": [
        "Let's try and use a loop to try out a bunch of different values for the minimum number of points parameter.\n",
        "\n",
        "> the **range()** function follows range(from,to,by) format. e.g., range(10,70,10) = 10, 20, 30, 40, 50, 60"
      ],
      "metadata": {
        "id": "NZeXpxw7vJlY"
      }
    },
    {
      "cell_type": "code",
      "execution_count": null,
      "source": [
        "for ? in range(?,?,?):\n",
        "  print(run_HDBScan(?))"
      ],
      "outputs": [],
      "metadata": {
        "id": "pAmtU97fviYa"
      }
    },
    {
      "cell_type": "markdown",
      "source": [
        "### <font color='darkorange'>Bonus</font>"
      ],
      "metadata": {
        "id": "x0h2nxpEdfJc"
      }
    },
    {
      "cell_type": "markdown",
      "source": [
        "If all is going well, you might want to try to plot the results! \n",
        "> You can follow along with how we ploted the results from the k-means."
      ],
      "metadata": {
        "id": "zl4W4XfsxCvO"
      }
    },
    {
      "cell_type": "code",
      "execution_count": null,
      "source": [
        "avg_sil_hd = []\n",
        "for ? in range(?):\n",
        "  avg_sil_hd.?"
      ],
      "outputs": [],
      "metadata": {
        "id": "Sus7XOoDxOL9"
      }
    },
    {
      "cell_type": "code",
      "execution_count": null,
      "source": [
        "#create a dictionary\n",
        "dict_sil = ?\n",
        "\n",
        "#convert the dictionary into a dataframe\n",
        "df_sil_hd = ?\n",
        "\n",
        "#plot\n",
        "sns.relplot(?)"
      ],
      "outputs": [],
      "metadata": {
        "id": "Si853JxzxNix"
      }
    },
    {
      "cell_type": "markdown",
      "source": [
        "Can you find an optimum value for min_cluster_size? If you go back and run the HDBScan algorithm with the optimal min_cluster_size do you see large differences in how it clusters the data?\n",
        " \n",
        "Finally, what happends if you run your function for large min_cluster sizes? How large can you go before your code fails, and why do you think it failed?"
      ],
      "metadata": {
        "id": "IPgJHTMQxb6h"
      }
    },
    {
      "cell_type": "markdown",
      "source": [
        "### <font color='darkorange'>Further reading</font>"
      ],
      "metadata": {
        "id": "BJqFrYyyYzMx"
      }
    },
    {
      "cell_type": "markdown",
      "source": [
        "A more detailed look at [HDBScan](https://hdbscan.readthedocs.io/en/latest/how_hdbscan_works.html).\n",
        "\n",
        "A comparison between a number of different [clustering algorithms](https://hdbscan.readthedocs.io/en/latest/comparing_clustering_algorithms.html)."
      ],
      "metadata": {
        "id": "QAdU1AJ0Y1CX"
      }
    }
  ]
}