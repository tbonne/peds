{
  "nbformat": 4,
  "nbformat_minor": 2,
  "metadata": {
    "colab": {
      "name": "IntroViz4_exploritoryDataAnalysis.ipynb",
      "provenance": [],
      "collapsed_sections": [],
      "mount_file_id": "1R49MCyzdNfH9lVkC2Fum1xi63d5aUXtg",
      "authorship_tag": "ABX9TyPcjD/evL9iZbPdQL/OjsjX",
      "include_colab_link": true
    },
    "kernelspec": {
      "name": "python3",
      "display_name": "Python 3"
    }
  },
  "cells": [
    {
      "cell_type": "markdown",
      "source": [
        "<a href=\"https://colab.research.google.com/github/tbonne/peds/blob/main/docs/introViz/IntroViz4_exploritoryDataAnalysis.ipynb\" target=\"_parent\"><img src=\"https://colab.research.google.com/assets/colab-badge.svg\" alt=\"Open In Colab\"/></a>"
      ],
      "metadata": {
        "id": "view-in-github",
        "colab_type": "text"
      }
    },
    {
      "cell_type": "markdown",
      "source": [
        "<img src='http://drive.google.com/uc?export=view&id=1Lv8NU_SuGQ9uVjU8N6_NwNi72qbSnbQL'>"
      ],
      "metadata": {
        "id": "DqPzbMV5v_NQ"
      }
    },
    {
      "cell_type": "markdown",
      "source": [
        "## <font color='darkorange'>Exploritory Data Analysis</font>"
      ],
      "metadata": {
        "id": "vAAwrni29gHo"
      }
    },
    {
      "cell_type": "markdown",
      "source": [
        "In this exercise we will use what we learnt in this class to do some exploritory data analysis. The steps we will take are:\n",
        "\n",
        "*  Choose and download a dataset\n",
        "*  Visualize and get summary statistics\n",
        "*  Look for relationships between variables in the data\n",
        "\n"
      ],
      "metadata": {
        "id": "jyHOvgcK2Oj0"
      }
    },
    {
      "cell_type": "markdown",
      "source": [
        "Import the libraries\n"
      ],
      "metadata": {
        "id": "wBv_U2EwAWFS"
      }
    },
    {
      "cell_type": "code",
      "execution_count": null,
      "source": [
        "#import libraries\n",
        "import pandas as pd\n",
        "import matplotlib.pyplot as plt\n",
        "import seaborn as sns\n"
      ],
      "outputs": [],
      "metadata": {
        "id": "npo0C3reAbqn"
      }
    },
    {
      "cell_type": "markdown",
      "source": [
        "### <font color='darkorange'>Data and summary statistics</font>"
      ],
      "metadata": {
        "id": "KvGK8HSV-lql"
      }
    },
    {
      "cell_type": "markdown",
      "source": [
        "Choose a dataset and import it into colaboratory. You can use a dataset from the [class dataset folder](https://drive.google.com/drive/folders/1s2Civxvys_SR1sFF7D2ept1GSmFbICQb?usp=sharing), or if you have found other data please feel free to use that data!\n"
      ],
      "metadata": {
        "id": "M2r3E549wJZL"
      }
    },
    {
      "cell_type": "code",
      "execution_count": null,
      "source": [
        "df_? = pd.read_csv(?)"
      ],
      "outputs": [],
      "metadata": {
        "id": "sobqsVEo4tyE"
      }
    },
    {
      "cell_type": "markdown",
      "source": [
        "What types of data are you dealing with?"
      ],
      "metadata": {
        "id": "BFMyKInr-YxM"
      }
    },
    {
      "cell_type": "code",
      "execution_count": null,
      "source": [],
      "outputs": [],
      "metadata": {
        "id": "FXVrpZ9Z-hfX"
      }
    },
    {
      "cell_type": "markdown",
      "source": [
        "What are the summary statistics of some of the key variables?"
      ],
      "metadata": {
        "id": "1k9BmJYr-cqt"
      }
    },
    {
      "cell_type": "code",
      "execution_count": null,
      "source": [],
      "outputs": [],
      "metadata": {
        "id": "FSJIADa1-gKi"
      }
    },
    {
      "cell_type": "markdown",
      "source": [
        "### <font color=\"darkorange\">Visualize the data</font>"
      ],
      "metadata": {
        "id": "9bKY19_k-tlK"
      }
    },
    {
      "cell_type": "markdown",
      "source": [
        "What does the distribution of values look like for some key variables?"
      ],
      "metadata": {
        "id": "Qz3sEa35-yva"
      }
    },
    {
      "cell_type": "code",
      "execution_count": null,
      "source": [],
      "outputs": [],
      "metadata": {
        "id": "AtEp7bth-2hF"
      }
    },
    {
      "cell_type": "markdown",
      "source": [
        "What are some potentially interesting relationships between variables? \n",
        "> i.e., scatterplots, correlations, and heatmaps"
      ],
      "metadata": {
        "id": "8YYsjvaB-27-"
      }
    },
    {
      "cell_type": "code",
      "execution_count": null,
      "source": [],
      "outputs": [],
      "metadata": {
        "id": "lMeA3Tdx_NY3"
      }
    }
  ]
}