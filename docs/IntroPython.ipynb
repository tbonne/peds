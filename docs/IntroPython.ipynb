{
 "cells": [
  {
   "cell_type": "markdown",
   "metadata": {},
   "source": [
    "<a href=\"https://colab.research.google.com/github/tbonne/peds/blob/main/docs/IntroPython.ipynb\" target=\"_parent\"><img src=\"https://colab.research.google.com/assets/colab-badge.svg\" alt=\"Open In Colab\"/></a>"
   ]
  },
  {
   "cell_type": "markdown",
   "metadata": {
    "id": "Q7CPHsPmNULC"
   },
   "source": [
    "\n",
    "\n",
    "<img src='../_images/python-logo-master-v3-TM.png'>"
   ]
  },
  {
   "cell_type": "markdown",
   "metadata": {},
   "source": [
    "***"
   ]
  },
  {
   "cell_type": "markdown",
   "metadata": {
    "id": "ANZEaZ5SuhD_"
   },
   "source": [
    "# <font color='darkorange'>Short introduction to Python</font>\n",
    "\n",
    "In this course you'll learn to do data science with python! Rather than aiming to give a grand overview of all the great possibilities of using python, we will learn what we need to know to run through the data science workflow, and build our python skills along the way.\n",
    "\n",
    "That said let's learn some basics of python to help us get started!\n"
   ]
  },
  {
   "cell_type": "markdown",
   "metadata": {
    "id": "pPig20py3Ixm"
   },
   "source": [
    "## <font color='darkorange'>Data types in Python</font>"
   ]
  },
  {
   "cell_type": "markdown",
   "metadata": {
    "id": "KsmhKPaTyl-y"
   },
   "source": [
    "First we will explore the main kinds of data types you can have in python:\n",
    "1. **Integers** 1,2,3,4\n",
    "2. **Floats** 1.2, 2.3, 5.6\n",
    "3. **Boolean** True / False\n",
    "4. **String** 'this is a string'\n",
    "5. **Lists** ['oneString', 'twoString'] or [1,2,3,4] or [1.2, 2.3, 5.6] or...\n",
    "6. **Dictionaries** {'key':value}"
   ]
  },
  {
   "cell_type": "code",
   "execution_count": null,
   "metadata": {
    "id": "gUnNT2n6yqej"
   },
   "outputs": [],
   "source": [
    "#This is an integer\n",
    "c1 = 1\n",
    "\n",
    "#this is an float\n",
    "c2 = 1.2\n",
    "\n",
    "#this is a boolean\n",
    "c3 = True\n",
    "\n",
    "#this is a string\n",
    "c4 = \"oneString\"\n",
    "\n",
    "#this is a list\n",
    "c5 = [\"oneString\", \"twoString\", \"threeString\"]\n"
   ]
  },
  {
   "cell_type": "markdown",
   "metadata": {
    "id": "_r8pA1bHyqGt"
   },
   "source": [
    "We can do simple mathematical opperations with the different data types:"
   ]
  },
  {
   "cell_type": "code",
   "execution_count": null,
   "metadata": {
    "id": "jXN8FY_r0Amo"
   },
   "outputs": [],
   "source": [
    "c1 - c2\n",
    "c1 + c2\n",
    "c1 * c2\n",
    "c1 / c2"
   ]
  },
  {
   "cell_type": "markdown",
   "metadata": {
    "id": "nkn3H5Pdz_4Q"
   },
   "source": [
    "As well as ask questions about relative size:"
   ]
  },
  {
   "cell_type": "code",
   "execution_count": null,
   "metadata": {
    "id": "bLNHmW1K0WNM"
   },
   "outputs": [],
   "source": [
    "c1 > c2\n",
    "c1 <= c2"
   ]
  },
  {
   "cell_type": "markdown",
   "metadata": {
    "id": "mc4wGYpO0zrn"
   },
   "source": [
    "Try doing something that you know should not work. The error message points to the line where the error occured, and tries to help you figure out what went wrong (stack overflow link)."
   ]
  },
  {
   "cell_type": "code",
   "execution_count": null,
   "metadata": {
    "id": "MJBT5eZi03t3"
   },
   "outputs": [],
   "source": [
    "c4 + c1"
   ]
  },
  {
   "cell_type": "markdown",
   "metadata": {
    "id": "6Vs01s5KJ4-K"
   },
   "source": [
    "The order of operations is also important. Take a look at the differences below."
   ]
  },
  {
   "cell_type": "code",
   "execution_count": null,
   "metadata": {
    "id": "ndcUjscIKEmD"
   },
   "outputs": [],
   "source": [
    "1 + 2 * 3"
   ]
  },
  {
   "cell_type": "code",
   "execution_count": null,
   "metadata": {
    "id": "YDZbH545KHJn"
   },
   "outputs": [],
   "source": [
    "(1 + 2) * 3"
   ]
  },
  {
   "cell_type": "markdown",
   "metadata": {
    "id": "FGx8HbR6NpU9"
   },
   "source": [
    "<img src='../_images/take_action.jpg' width=\"100\">\n"
   ]
  },
  {
   "cell_type": "markdown",
   "metadata": {
    "id": "nNBj4W_UNpU_"
   },
   "source": [
    "Add 24 to 200 and then divide by 4"
   ]
  },
  {
   "cell_type": "code",
   "execution_count": null,
   "metadata": {
    "id": "y3n0CbvjOAWJ"
   },
   "outputs": [],
   "source": []
  },
  {
   "cell_type": "markdown",
   "metadata": {
    "id": "92veJ72KzpHP"
   },
   "source": [
    "**List**"
   ]
  },
  {
   "cell_type": "markdown",
   "metadata": {
    "id": "I1sgWmRM7HGo"
   },
   "source": [
    "> We'll take a closer look at lists as they will come in very handy throughout the course."
   ]
  },
  {
   "cell_type": "markdown",
   "metadata": {
    "id": "HOOXF6Ng0vK_"
   },
   "source": [
    "**List Indexing**\n",
    " \n",
    "Indexing is where you'd like to get a value out of a list, or change one value in the list."
   ]
  },
  {
   "cell_type": "code",
   "execution_count": null,
   "metadata": {
    "id": "kce0HO682MvY"
   },
   "outputs": [],
   "source": [
    "#create list\n",
    "x = ['apples','oranges']"
   ]
  },
  {
   "cell_type": "markdown",
   "metadata": {
    "id": "QthB8yZj1jau"
   },
   "source": [
    "Grabbing one value:"
   ]
  },
  {
   "cell_type": "code",
   "execution_count": null,
   "metadata": {
    "id": "aZjmxuLDzl0e"
   },
   "outputs": [],
   "source": [
    "#take a look at the first value in the array (note: starts at 0 index)\n",
    "x[0]\n"
   ]
  },
  {
   "cell_type": "markdown",
   "metadata": {
    "id": "2dRfyOQl0Pav"
   },
   "source": [
    "Modifying the first value:"
   ]
  },
  {
   "cell_type": "code",
   "execution_count": null,
   "metadata": {
    "id": "2rmZrzcZ0Q3X"
   },
   "outputs": [],
   "source": [
    "#assign a new value!\n",
    "x[0] = 'watermelon'\n",
    "\n",
    "#how has it changed?\n",
    "x"
   ]
  },
  {
   "cell_type": "markdown",
   "metadata": {
    "id": "OwObEA1x2cJ7"
   },
   "source": [
    "**List Slicing**"
   ]
  },
  {
   "cell_type": "markdown",
   "metadata": {
    "id": "G2KwjQs96xDL"
   },
   "source": [
    "> Slicing a list is where you'd like to get a few values from a list, or modify a few values in the list\n",
    "\n",
    "> To do slicing on a list we use **x2[start:stop:step]**"
   ]
  },
  {
   "cell_type": "markdown",
   "metadata": {
    "id": "raq6uD2_zwCs"
   },
   "source": [
    "Let's make a list of numbers:\n",
    "\n"
   ]
  },
  {
   "cell_type": "code",
   "execution_count": null,
   "metadata": {
    "id": "LIiAAbkyz0dZ"
   },
   "outputs": [],
   "source": [
    "#create a list of numbers \n",
    "x2 = [0,1,2,3,4,5,6,7,8,9]\n",
    "\n",
    "#take a look\n",
    "x2"
   ]
  },
  {
   "cell_type": "markdown",
   "metadata": {
    "id": "Rcu8mfyhz7VY"
   },
   "source": [
    "Now when we want to grab a few numbers we can use slicing"
   ]
  },
  {
   "cell_type": "code",
   "execution_count": null,
   "metadata": {
    "id": "ZF47Ymemz-c2"
   },
   "outputs": [],
   "source": [
    "#get the first three values (Note: we did not specify the 'step' size so it defaults to use 1)\n",
    "x2[0:3]  "
   ]
  },
  {
   "cell_type": "code",
   "execution_count": null,
   "metadata": {
    "id": "C953rsRX3DQX"
   },
   "outputs": [],
   "source": [
    "#get everything after the third value\n",
    "x2[3:]"
   ]
  },
  {
   "cell_type": "markdown",
   "metadata": {
    "id": "hXgc8Tt_8SHH"
   },
   "source": [
    "<img src='../_images/take_action.jpg' width=\"100\">\n"
   ]
  },
  {
   "cell_type": "markdown",
   "metadata": {
    "id": "6u2QAMcLTRaP"
   },
   "source": [
    "Try and select only the values 5 to 7"
   ]
  },
  {
   "cell_type": "code",
   "execution_count": null,
   "metadata": {
    "id": "FkarpCY9-i9c"
   },
   "outputs": [],
   "source": [
    "x2[?:?]"
   ]
  },
  {
   "cell_type": "markdown",
   "metadata": {
    "id": "zPV2UStrS9AL"
   },
   "source": [
    "Create a list of 5 of your favorite foods, then use slicing to select the first three"
   ]
  },
  {
   "cell_type": "code",
   "execution_count": null,
   "metadata": {
    "id": "DW8xkwcsTGHZ"
   },
   "outputs": [],
   "source": [
    "#create a list of foods\n",
    "foods = [??]\n",
    "\n",
    "#use slicing to select the first three\n",
    "foods[?]"
   ]
  },
  {
   "cell_type": "markdown",
   "metadata": {
    "id": "5eGHJ9YEb38C"
   },
   "source": [
    "**Dictionaries**\n",
    "\n",
    "> Dictionaries are very useful objects in Python. They have *keys* that are associated with *values*, in the same way that words in a dictionary are associated with definitions.\n",
    "\n",
    "Let's take a look at an example."
   ]
  },
  {
   "cell_type": "code",
   "execution_count": null,
   "metadata": {
    "id": "qDjzXJ2gcWd3"
   },
   "outputs": [],
   "source": [
    "#create a dictionary\n",
    "dict_ages = {\"amy\": 23, \"scott\":43, \"mel\":33}\n",
    "\n",
    "dict_ages"
   ]
  },
  {
   "cell_type": "markdown",
   "metadata": {
    "id": "6hCG_aVJcyti"
   },
   "source": [
    "Select *values* by using *keys*"
   ]
  },
  {
   "cell_type": "code",
   "execution_count": null,
   "metadata": {
    "id": "No17W37Yc6d6"
   },
   "outputs": [],
   "source": [
    "#select the key amy to get the value (age)\n",
    "dict_ages[\"amy\"]"
   ]
  },
  {
   "cell_type": "markdown",
   "metadata": {
    "id": "bYIbHaQUeoNl"
   },
   "source": [
    "Keys are generally strings or numeric, while values can be anything: numeric, strings, lists, other dictionaries... etc\n"
   ]
  },
  {
   "cell_type": "code",
   "execution_count": null,
   "metadata": {
    "id": "7Bho_cTRex2D"
   },
   "outputs": [],
   "source": [
    "#create a dictionary with names as keys and a list of test scores as values.\n",
    "dict_tests = {\"amy\": [98,87,100], \"scott\": [56,100,79], \"mel\":[55,65,75]}\n",
    "\n",
    "dict_tests['amy']"
   ]
  },
  {
   "cell_type": "markdown",
   "metadata": {
    "id": "3LN1-LJNfaZo"
   },
   "source": [
    "<img src='../_images/take_action.jpg' width=\"100\">\n"
   ]
  },
  {
   "cell_type": "markdown",
   "metadata": {
    "id": "8huMxVIlfaZq"
   },
   "source": [
    "Create a dictionary with the keys as the different datatypes we learnt, and the values as a descriptive text."
   ]
  },
  {
   "cell_type": "code",
   "execution_count": null,
   "metadata": {
    "id": "xzkcrmGOfaZr"
   },
   "outputs": [],
   "source": [
    "dict_dtypes = {\"\":\"\", \"\",\"\"????}"
   ]
  },
  {
   "cell_type": "markdown",
   "metadata": {
    "id": "nUbUWKEzfaZs"
   },
   "source": [
    "Select the value of one data type using the key name"
   ]
  },
  {
   "cell_type": "code",
   "execution_count": null,
   "metadata": {
    "id": "fKN7ZnR3faZt"
   },
   "outputs": [],
   "source": [
    "#Select value using a key\n",
    "dict_dtypes[??]"
   ]
  },
  {
   "cell_type": "markdown",
   "metadata": {
    "id": "L1m6PbRZ6780"
   },
   "source": [
    "## <font color='darkorange'>Further reading</font>\n",
    "  \n",
    "\n",
    "> There are lots of resources out there to supplement this introduction to python. One good resource is the book by Jake VanderPlas: [Python data science handbook](https://jakevdp.github.io/PythonDataScienceHandbook/).\n",
    "  \n",
    "  \n",
    "\n",
    "> In this course we will build slowly on our python skills. Each new challendge in developing our data science workflow will require learning new bits of python code. The idea here is that you'll learn python through applied examples.\n",
    "  \n",
    "  \n",
    "    \n",
    "> If you would like the notebook without missing code check out the [full code](https://colab.research.google.com/github/tbonne/peds/blob/main/docs/fullNotebooks/full_IntroPython.ipynb) version.\n"
   ]
  }
 ],
 "metadata": {
  "colab": {
   "authorship_tag": "ABX9TyOpkBUSUi18t7/iyX5Lc6n9",
   "collapsed_sections": [],
   "name": "IntroPython.ipynb",
   "provenance": []
  },
  "kernelspec": {
   "display_name": "Python 3",
   "name": "python3"
  }
 },
 "nbformat": 4,
 "nbformat_minor": 0
}
