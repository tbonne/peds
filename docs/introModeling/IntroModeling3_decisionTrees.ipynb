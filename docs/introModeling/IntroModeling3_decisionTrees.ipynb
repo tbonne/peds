{
  "nbformat": 4,
  "nbformat_minor": 2,
  "metadata": {
    "colab": {
      "name": "IntroModeling3_decisionTrees.ipynb",
      "provenance": [],
      "collapsed_sections": [],
      "authorship_tag": "ABX9TyNhbeIvBJUWIvy+CHjAXwvZ",
      "include_colab_link": true
    },
    "kernelspec": {
      "name": "python3",
      "display_name": "Python 3"
    },
    "language_info": {
      "name": "python"
    }
  },
  "cells": [
    {
      "cell_type": "markdown",
      "source": [
        "<a href=\"https://colab.research.google.com/github/tbonne/peds/blob/main/docs/introModeling/IntroModeling3_decisionTrees.ipynb\" target=\"_parent\"><img src=\"https://colab.research.google.com/assets/colab-badge.svg\" alt=\"Open In Colab\"/></a>"
      ],
      "metadata": {
        "id": "view-in-github",
        "colab_type": "text"
      }
    },
    {
      "cell_type": "markdown",
      "source": [
        "<img src='http://drive.google.com/uc?export=view&id=1WZbnKvEzIK70qhQXyPIS36ahLWoEsqaA' width=500>"
      ],
      "metadata": {
        "id": "9C2arduFECBl"
      }
    },
    {
      "cell_type": "markdown",
      "source": [
        "## <font color='darkorange'>Decision trees</font>"
      ],
      "metadata": {
        "id": "xDo_JqBMQqJM"
      }
    },
    {
      "cell_type": "markdown",
      "source": [
        "Let's take a look at decision tree as classifiers. Here we will use this algorithm to classify which grape plant was used to create a wine. "
      ],
      "metadata": {
        "id": "0HwGNjO9Qt6G"
      }
    },
    {
      "cell_type": "markdown",
      "source": [
        "Load in the needed libraries"
      ],
      "metadata": {
        "id": "d0x5is0FE_j9"
      }
    },
    {
      "cell_type": "code",
      "execution_count": null,
      "source": [
        "import sklearn as sk\n",
        "import pandas as pd\n",
        "import seaborn as sns\n",
        "import matplotlib.pyplot as plt\n",
        "from sklearn.model_selection import train_test_split\n"
      ],
      "outputs": [],
      "metadata": {
        "id": "d-rPIThpIE3o"
      }
    },
    {
      "cell_type": "markdown",
      "source": [
        "### <font color='darkorange'>Load the data</font>"
      ],
      "metadata": {
        "id": "1z7obQJoGmr5"
      }
    },
    {
      "cell_type": "markdown",
      "source": [
        "Get the 'wine.csv' from the class's shared data folder and load it into a dataframe."
      ],
      "metadata": {
        "id": "cwYGOotUQfqo"
      }
    },
    {
      "cell_type": "code",
      "execution_count": null,
      "source": [
        "#get wine to a dataframe\n",
        "df_wine = pd.read_csv('/content/wine_labs.csv')\n",
        "\n",
        "#take a look\n",
        "df_wine.head(3)\n",
        "\n"
      ],
      "outputs": [],
      "metadata": {
        "id": "NCpMYU5fQiM-"
      }
    },
    {
      "cell_type": "markdown",
      "source": [
        "<img src='http://drive.google.com/uc?export=view&id=1WC4tXGCEF-1_2LQ74gIxJAZ-GLXCwBdK' width=\"100\" align = 'left'>  "
      ],
      "metadata": {
        "id": "GTUwaLV9HdvV"
      }
    },
    {
      "cell_type": "markdown",
      "source": [
        "Q: what kinds of data are we dealing with?"
      ],
      "metadata": {
        "id": "DN6DonAlHYuX"
      }
    },
    {
      "cell_type": "code",
      "execution_count": null,
      "source": [
        "?"
      ],
      "outputs": [],
      "metadata": {
        "id": "8-4mDkjCHbsc"
      }
    },
    {
      "cell_type": "markdown",
      "source": [
        "Q: are there any missing values?"
      ],
      "metadata": {
        "id": "hlYmLGWeTpri"
      }
    },
    {
      "cell_type": "code",
      "execution_count": null,
      "source": [
        "?"
      ],
      "outputs": [],
      "metadata": {
        "id": "LN9UdxsATt8D"
      }
    },
    {
      "cell_type": "code",
      "execution_count": null,
      "source": [
        "#let's drop rows with missing data\n",
        "?"
      ],
      "outputs": [],
      "metadata": {
        "id": "4Cd-Xg-1svxe"
      }
    },
    {
      "cell_type": "markdown",
      "source": [
        "### <font color='darkorange'>Descriptive statistics</font> "
      ],
      "metadata": {
        "id": "nfcRG5tmRhOS"
      }
    },
    {
      "cell_type": "markdown",
      "source": [
        "Let's take a little time to look at some summary statistics.\n",
        " \n",
        "E.g., how many values of plant type there are? "
      ],
      "metadata": {
        "id": "kptMv845FjpI"
      }
    },
    {
      "cell_type": "code",
      "execution_count": null,
      "source": [
        "#count how many of each value in a column using value_conunts\n",
        "df_wine.plant.value_counts()"
      ],
      "outputs": [],
      "metadata": {
        "id": "nG4Am986FjTM"
      }
    },
    {
      "cell_type": "markdown",
      "source": [
        "<img src='http://drive.google.com/uc?export=view&id=1WC4tXGCEF-1_2LQ74gIxJAZ-GLXCwBdK' width=\"100\" align = 'left'>  "
      ],
      "metadata": {
        "id": "dLe7t6uCGiSb"
      }
    },
    {
      "cell_type": "markdown",
      "source": [
        "Choose one feature (column) and get the mean, min, and max."
      ],
      "metadata": {
        "id": "2-_xBgiiFyAO"
      }
    },
    {
      "cell_type": "code",
      "execution_count": null,
      "source": [
        "?"
      ],
      "outputs": [],
      "metadata": {
        "id": "yIYqTxojGAqj"
      }
    },
    {
      "cell_type": "markdown",
      "source": [
        "### <font color='darkorange'>Visualizing the data</font> "
      ],
      "metadata": {
        "id": "WsIoTD89RnSH"
      }
    },
    {
      "cell_type": "markdown",
      "source": [
        "Let's plot the relationships between plant type and some of the wine measures.\n",
        " \n",
        "Q: Choose one or more wine measures and generate a plot that shows the relationship between that measure and plant type."
      ],
      "metadata": {
        "id": "Yi5f6tbMHLjl"
      }
    },
    {
      "cell_type": "code",
      "execution_count": null,
      "source": [
        "?"
      ],
      "outputs": [],
      "metadata": {
        "id": "PP1hbowmH4zH"
      }
    },
    {
      "cell_type": "markdown",
      "source": [
        "### <font color='darkorange'>Data wrangling</font> \n",
        "\n"
      ],
      "metadata": {
        "id": "ozz-07c9RwXe"
      }
    },
    {
      "cell_type": "markdown",
      "source": [
        "#### Preprocessing (categorical input variables)\\\n",
        "> Convert the categorical 'lab' variable using onehot encoding (i.e., create dummy columns)."
      ],
      "metadata": {
        "id": "id3dB2glEi2v"
      }
    },
    {
      "cell_type": "code",
      "execution_count": null,
      "source": [
        "?"
      ],
      "outputs": [],
      "metadata": {
        "id": "ty-cDLrJEil-"
      }
    },
    {
      "cell_type": "markdown",
      "source": [
        "#### Preprocessing (categorical target variable)\n",
        "> As the target variable is categorical we will convert each category into a number, and unlike the onehot encoding we will keep these numbers within the same column."
      ],
      "metadata": {
        "id": "Q-a14jmIPse1"
      }
    },
    {
      "cell_type": "code",
      "execution_count": null,
      "source": [
        "?"
      ],
      "outputs": [],
      "metadata": {
        "id": "KGA16i5mXUZd"
      }
    },
    {
      "cell_type": "markdown",
      "source": [
        "#### Training testing split"
      ],
      "metadata": {
        "id": "1wngk9w1YMLY"
      }
    },
    {
      "cell_type": "markdown",
      "source": [
        "Here we change a little how we do the data splitting. Instead of spliting the dataframe into training and testing, we'll first split the dataframe into inputs and target variables. I.e., we'd like to use X to predict y. Then we split each into training and testing sets. This makes it easier to work with sklearn algorithms."
      ],
      "metadata": {
        "id": "MPPwnrSFKsk-"
      }
    },
    {
      "cell_type": "code",
      "execution_count": null,
      "source": [
        "\n",
        "#split data into predictors (X) and target (y)\n",
        "X = df_wine.drop('plant', axis=1)\n",
        "y = df_wine['plant']\n",
        "\n",
        "#split these data into training and testing datasets\n",
        "X_train, X_test, y_train, y_test = train_test_split(X, y, test_size=0.20)\n"
      ],
      "outputs": [],
      "metadata": {
        "id": "JcziOvoDYO6I"
      }
    },
    {
      "cell_type": "markdown",
      "source": [
        "#### Preprocessing (numeric variables)"
      ],
      "metadata": {
        "id": "dQFF6vqbH2hX"
      }
    },
    {
      "cell_type": "code",
      "execution_count": null,
      "source": [
        "?"
      ],
      "outputs": [],
      "metadata": {
        "id": "6VkAXoajH6DV"
      }
    },
    {
      "cell_type": "markdown",
      "source": [
        "<img src='http://drive.google.com/uc?export=view&id=1qWrKY9TgpgQaBCzZfz1xLTV6iCeSwfmG' width=\"100\" align = 'left'>"
      ],
      "metadata": {
        "id": "C0MmbEZ7dq5e"
      }
    },
    {
      "cell_type": "markdown",
      "source": [
        "### <font color='darkorange'>Model building</font> \n",
        " "
      ],
      "metadata": {
        "id": "2flRXo0eR_ur"
      }
    },
    {
      "cell_type": "markdown",
      "source": [
        "Here we will build our first decision tree!"
      ],
      "metadata": {
        "id": "cekIelOqSG2B"
      }
    },
    {
      "cell_type": "code",
      "execution_count": null,
      "source": [
        "from sklearn.tree import DecisionTreeClassifier\n",
        "\n",
        "#1. build the algorithm\n",
        "classifier = DecisionTreeClassifier()\n",
        "\n",
        "#2. fit the algorithm to the data\n",
        "classifier_res= classifier.fit(X_train, y_train)\n"
      ],
      "outputs": [],
      "metadata": {
        "id": "xWRmQuhdSH5h"
      }
    },
    {
      "cell_type": "markdown",
      "source": [
        "### Predictions"
      ],
      "metadata": {
        "id": "E-gbWapVa6N_"
      }
    },
    {
      "cell_type": "markdown",
      "source": [
        "Make some predictions on the testing data"
      ],
      "metadata": {
        "id": "x1Mwjlurbeux"
      }
    },
    {
      "cell_type": "code",
      "execution_count": null,
      "source": [
        "y_pred = classifier.predict(X_test)"
      ],
      "outputs": [],
      "metadata": {
        "id": "JIKo-fbPbBG7"
      }
    },
    {
      "cell_type": "markdown",
      "source": [
        "Measure classification success"
      ],
      "metadata": {
        "id": "DEr16lBebd6X"
      }
    },
    {
      "cell_type": "code",
      "execution_count": null,
      "source": [
        "from sklearn.metrics import confusion_matrix\n",
        "cm = confusion_matrix(y_test, y_pred)\n",
        "print(cm)\n"
      ],
      "outputs": [],
      "metadata": {
        "id": "ew9BnKJDblBY"
      }
    },
    {
      "cell_type": "code",
      "execution_count": null,
      "source": [
        "#more visual approach\n",
        "sns.heatmap(cm, annot=True)\n",
        "plt.xlabel('Predicted label')\n",
        "plt.ylabel('True label')"
      ],
      "outputs": [],
      "metadata": {
        "id": "rVJQdODwcclq"
      }
    },
    {
      "cell_type": "markdown",
      "source": [
        "More detailed metrics?"
      ],
      "metadata": {
        "id": "xXdo-AEHcnQf"
      }
    },
    {
      "cell_type": "code",
      "execution_count": null,
      "source": [
        "print('Accuracy: {:.2f}'.format(sk.metrics.accuracy_score(y_test, y_pred)))\n",
        "print('Precision: {:.2f}'.format(sk.metrics.precision_score(y_test, y_pred, average='micro')))\n",
        "print('Recal: {:.2f}'.format(sk.metrics.recall_score(y_test, y_pred, average='micro')))"
      ],
      "outputs": [],
      "metadata": {
        "id": "bXbkeYN3cqgN"
      }
    },
    {
      "cell_type": "markdown",
      "source": [
        "<img src='http://drive.google.com/uc?export=view&id=1qWrKY9TgpgQaBCzZfz1xLTV6iCeSwfmG' width=\"100\" align = 'left'>"
      ],
      "metadata": {
        "id": "aocKt6vRdLXv"
      }
    },
    {
      "cell_type": "markdown",
      "source": [
        "##<font color='lightblue'>Hyperparameters</font> \n",
        " "
      ],
      "metadata": {
        "id": "VCt43JabdIFP"
      }
    },
    {
      "cell_type": "markdown",
      "source": [
        "Decision tree algorithms have a number of hyperparameters that can be tuned to acheive better predictions. Let's take a look at one and how we can tune it!\n",
        " \n",
        " "
      ],
      "metadata": {
        "id": "i0VQBpYGdn-z"
      }
    },
    {
      "cell_type": "markdown",
      "source": [
        "First we need some way to test how model performance varies as we change the parameter. We can't use the testing dataset... if we did it really wouldn't be a good test. I.e., the testing data would be used to help build the model and so would not be independent. "
      ],
      "metadata": {
        "id": "u8sd8Sjxf3G-"
      }
    },
    {
      "cell_type": "markdown",
      "source": [
        "So let's split the training dataset again! This will create training and validation datasets! "
      ],
      "metadata": {
        "id": "29gVnbDugQiY"
      }
    },
    {
      "cell_type": "code",
      "execution_count": null,
      "source": [
        "X_hyper_train, X_hyper_val, y_hyper_train, y_hyper_val = train_test_split(X_train, y_train, test_size=0.20)"
      ],
      "outputs": [],
      "metadata": {
        "id": "2-0Z9yLPfMfY"
      }
    },
    {
      "cell_type": "markdown",
      "source": [
        "Let's next focus on the max depth parameter, and see if we can find a value that maximizes the performance of the model on the validation dataset."
      ],
      "metadata": {
        "id": "NNefL3ZNgXXu"
      }
    },
    {
      "cell_type": "markdown",
      "source": [
        "\n",
        "> We'll first build a function that takes as input max depth, and outputs the accuracy score.\n",
        " \n",
        "> We'll then use a loop to try out many max depth scores.\n",
        " \n",
        "> Finally we'll plot the the accuracy scores for each max depth value."
      ],
      "metadata": {
        "id": "G6xL8D6zf1Vc"
      }
    },
    {
      "cell_type": "markdown",
      "source": [
        "Let's first build a function the takes max depth as input and outputs a accuracy score."
      ],
      "metadata": {
        "id": "cPk77gYteS0x"
      }
    },
    {
      "cell_type": "code",
      "execution_count": null,
      "source": [
        "def fit_decision_tree(maxDep):\n",
        "\n",
        "  #1. build the algorithm\n",
        "  ? = ?(max_depth=maxDep)\n",
        "\n",
        "  #2. Fit the algorithm\n",
        "  ?= ?.fit(X_hyper_train, y_hyper_train)\n",
        "\n",
        "  #3. Make predictions\n",
        "  y_pred = ?(X_hyper_val)\n",
        "\n",
        "  #4. Meausure the accuracy\n",
        "  accuracy_measured = ?(y_hyper_val, y_pred)\n",
        "\n",
        "  return accuracy_measured"
      ],
      "outputs": [],
      "metadata": {
        "id": "Xj5-cqamdkrL"
      }
    },
    {
      "cell_type": "markdown",
      "source": [
        "Try out your new function!"
      ],
      "metadata": {
        "id": "aaViV2XIhBJF"
      }
    },
    {
      "cell_type": "code",
      "execution_count": null,
      "source": [
        "fit_decision_tree(maxDep=4)"
      ],
      "outputs": [],
      "metadata": {
        "id": "Y6vG0eNqgxfO"
      }
    },
    {
      "cell_type": "markdown",
      "source": [
        "Next let's build a loop and see what values of max depth give the best results!"
      ],
      "metadata": {
        "id": "wsTMPU2_hD7D"
      }
    },
    {
      "cell_type": "code",
      "execution_count": null,
      "source": [
        "acc_scores = []\n",
        "for i in range(1,?):\n",
        "  acc_s = ?(i)\n",
        "  acc_scores.append(?)"
      ],
      "outputs": [],
      "metadata": {
        "id": "ZW8cukwLhDi4"
      }
    },
    {
      "cell_type": "markdown",
      "source": [
        "Then let's plot it!"
      ],
      "metadata": {
        "id": "Mv-Vs2EWhX6z"
      }
    },
    {
      "cell_type": "code",
      "execution_count": null,
      "source": [
        "#create a dataframe\n",
        "df_plot_maxDep = pd.DataFrame({'accuracy':acc_scores, 'maxDep':range(1,10)})\n",
        "\n",
        "#make a plot\n",
        "sns.relplot(?, kind='line')"
      ],
      "outputs": [],
      "metadata": {
        "id": "p0F17L0ShXod"
      }
    },
    {
      "cell_type": "markdown",
      "source": [
        "### <font color='darkorange'>Bonus</font> \n",
        " "
      ],
      "metadata": {
        "id": "J78EywXFZJdd"
      }
    },
    {
      "cell_type": "markdown",
      "source": [
        "Try this exercise again but this time use min_samples_split. Which is the parameter that defines when splits are no longer considered (e.g., if a leaf has 10 points in it and min_samples_split is 11 then the algorithm will not look to split the leaf.\n",
        "\n"
      ],
      "metadata": {
        "id": "a9DFqK7uXocJ"
      }
    },
    {
      "cell_type": "markdown",
      "source": [
        "<img src='http://drive.google.com/uc?export=view&id=1qWrKY9TgpgQaBCzZfz1xLTV6iCeSwfmG' width=\"100\" align = 'left'>"
      ],
      "metadata": {
        "id": "oI0IEnJlihQb"
      }
    },
    {
      "cell_type": "markdown",
      "source": [
        "### <font color='darkorange'>Model interpretation</font> "
      ],
      "metadata": {
        "id": "0nsw2I5da-tH"
      }
    },
    {
      "cell_type": "markdown",
      "source": [
        "Decision trees can offer some nice visuals that can help interpret and communicate your results, lets take a look at a few"
      ],
      "metadata": {
        "id": "YBexKjX6dYsk"
      }
    },
    {
      "cell_type": "code",
      "execution_count": null,
      "source": [
        "!pip install dtreeviz\n",
        "from dtreeviz.trees import dtreeviz "
      ],
      "outputs": [],
      "metadata": {
        "id": "73ZYQcMIfmiN"
      }
    },
    {
      "cell_type": "code",
      "execution_count": null,
      "source": [
        "#build the figure\n",
        "viz = dtreeviz(classifier_res, X_train, y_train,\n",
        "                target_name=\"plant\",\n",
        "                feature_names=X_train.columns.to_list(),\n",
        "                class_names={0:'plantA',1:'plantB',2:'plantC'},\n",
        "                scale=1.0)\n",
        "\n",
        "#take a look\n",
        "viz"
      ],
      "outputs": [],
      "metadata": {
        "id": "-c6XmZvIfVAo"
      }
    },
    {
      "cell_type": "markdown",
      "source": [
        "Let's look at how the tree does with the test data"
      ],
      "metadata": {
        "id": "x1_3LH25bBdZ"
      }
    },
    {
      "cell_type": "code",
      "execution_count": null,
      "source": [
        "#build the figure\n",
        "viz_test = dtreeviz(classifier_res, X_test, y_test,\n",
        "                target_name=\"plant\",\n",
        "                feature_names=X_train.columns.to_list(),\n",
        "                class_names={0:'plantA',1:'plantB',2:'plantC'},\n",
        "                scale=1)\n",
        "\n",
        "#take a look\n",
        "viz_test"
      ],
      "outputs": [],
      "metadata": {
        "id": "0_KikDvjbAuA"
      }
    },
    {
      "cell_type": "code",
      "execution_count": null,
      "source": [
        "#Vizualize one prediction \n",
        "import numpy as np\n",
        "# pick random X test point\n",
        "X_values_for_pred = X_test.iloc[12] #you can choose any other row!\n",
        "\n",
        "X_values_for_pred"
      ],
      "outputs": [],
      "metadata": {
        "id": "1qO4lQfTa3yO"
      }
    },
    {
      "cell_type": "code",
      "execution_count": null,
      "source": [
        "#build the figure\n",
        "viz_one_pred = dtreeviz(classifier_res, X_train, y_train,\n",
        "                target_name=\"plant\",\n",
        "                feature_names=X_train.columns.to_list(),\n",
        "                class_names={0:'plantA',1:'plantB',2:'plantC'},\n",
        "                scale=0.75,\n",
        "                X=X_values_for_pred)\n",
        "\n",
        "#take a look\n",
        "viz_one_pred"
      ],
      "outputs": [],
      "metadata": {
        "id": "L0XdYC31cU7s"
      }
    },
    {
      "cell_type": "code",
      "execution_count": null,
      "source": [
        "y_test.iloc[12]"
      ],
      "outputs": [],
      "metadata": {
        "id": "ET3QSQKUcoh-"
      }
    },
    {
      "cell_type": "markdown",
      "source": [
        "### <font color='darkorange'>Bonus 2</font> "
      ],
      "metadata": {
        "id": "AiraBYwQ5Awh"
      }
    },
    {
      "cell_type": "markdown",
      "source": [
        "Now that you know how to use decision tree models, try going back to one of the datasets we've already worked on and see if you can get better predictions? Can you still explain what features are helping you to make those predictions?"
      ],
      "metadata": {
        "id": "TP_Pgh9n9Pcw"
      }
    },
    {
      "cell_type": "code",
      "execution_count": null,
      "source": [
        "#load a dataset"
      ],
      "outputs": [],
      "metadata": {
        "id": "i-YZRflb9jAC"
      }
    }
  ]
}