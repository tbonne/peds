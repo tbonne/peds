{
  "nbformat": 4,
  "nbformat_minor": 2,
  "metadata": {
    "colab": {
      "name": "Project3_AnsweringQuestions.ipynb",
      "provenance": [],
      "collapsed_sections": [],
      "mount_file_id": "1R49MCyzdNfH9lVkC2Fum1xi63d5aUXtg",
      "authorship_tag": "ABX9TyOLDcJctCiYL/LOIOjJQYr3",
      "include_colab_link": true
    },
    "kernelspec": {
      "name": "python3",
      "display_name": "Python 3"
    }
  },
  "cells": [
    {
      "cell_type": "markdown",
      "source": [
        "<a href=\"https://colab.research.google.com/github/tbonne/IntroDataScience/blob/main/Projects/Project3_AnsweringQuestions.ipynb\" target=\"_parent\"><img src=\"https://colab.research.google.com/assets/colab-badge.svg\" alt=\"Open In Colab\"/></a>"
      ],
      "metadata": {
        "id": "view-in-github",
        "colab_type": "text"
      }
    },
    {
      "cell_type": "markdown",
      "source": [
        "<img src='http://drive.google.com/uc?export=view&id=1UAsSD6z0wK4UJjjzBhDEIlSZnELLmeeb'>"
      ],
      "metadata": {
        "id": "DqPzbMV5v_NQ"
      }
    },
    {
      "cell_type": "markdown",
      "source": [
        "## <font color='darkorange'>Project 3 - Answering Questions</font>"
      ],
      "metadata": {
        "id": "vAAwrni29gHo"
      }
    },
    {
      "cell_type": "markdown",
      "source": [
        "In this project you will use all you learnt about in the class to answer a question. Imagine you are part of a team and you have been assigned a question to answer, build a notebook that you would be able to share with your team that shows what you found. \n",
        "\n",
        "In this project you will:\n",
        "\n",
        "1.  Introduce your question of interest\n",
        "2.  Make sure your reader knows enough about the data\n",
        "3.  Wrangle and preprocess your data so that a team mate can reproduce your work\n",
        "4.  Build and test a model that can provide insight into your question\n",
        "5.  Interpret your model results\n",
        "6.  Answer your question\n",
        "\n"
      ],
      "metadata": {
        "id": "jyHOvgcK2Oj0"
      }
    },
    {
      "cell_type": "markdown",
      "source": [
        "Note: Marks will be awarded for clarity, organization, and succinctness. I.e., try to point out only the important parts in a well-organized easy to follow manner. (Marks: 3)"
      ],
      "metadata": {
        "id": "VOM6_Dwe6MnH"
      }
    },
    {
      "cell_type": "markdown",
      "source": [
        "### <font color='darkorange'>1. Ask a question </font>"
      ],
      "metadata": {
        "id": "WyyfflcQzGjr"
      }
    },
    {
      "cell_type": "markdown",
      "source": [
        "**Q1**: Layout your question of interest. Remember to state your question as clearly and simply as you can (Mark 1), and what your ideal outcome would be (Marks 1).\n",
        "\n",
        "**Q2**: Identify and describe what data sources you'll use (Marks 1). Make sure to talk about one of the following: data accuracy, reliability, validity, or sample selection. (Marks: 1)\n",
        "\n",
        "**Q3**: Layout what kind of ML problem you are facing and what kind of model you'll use to answer it (eg., is it unsupervised or supervised learning, and is it classification or regression). Make sure to say why. (Marks 1)"
      ],
      "metadata": {
        "id": "gl-8v0MLzLj_"
      }
    },
    {
      "cell_type": "markdown",
      "source": [
        "### <font color='darkorange'>2. Data understanding, exploration, and visualization </font>"
      ],
      "metadata": {
        "id": "KvGK8HSV-lql"
      }
    },
    {
      "cell_type": "markdown",
      "source": [
        "**Action**: While above you gave an overview of the dataset(s) that will be used, here make sure that the reader understands the important details of the data. E.g., show a figure or descriptive statistic and explain why the reader should know about this, i.e., how will it help your reader understand your analysis? (Marks: 2)"
      ],
      "metadata": {
        "id": "TdJ8XvUN0lQK"
      }
    },
    {
      "cell_type": "code",
      "execution_count": null,
      "source": [],
      "outputs": [],
      "metadata": {
        "id": "m8LXjN351_NS"
      }
    },
    {
      "cell_type": "markdown",
      "source": [
        "### <font color='darkorange'>3. Data wrangling and preprocessing </font>"
      ],
      "metadata": {
        "id": "p6skEOWhAKDQ"
      }
    },
    {
      "cell_type": "markdown",
      "source": [
        "**Action**: Layout all your data wrangling and preprocessing steps so that a reader will understand why you took each step, and would be able to reproduce your steps. (Marks: 3)"
      ],
      "metadata": {
        "id": "WMte_Mry1l2T"
      }
    },
    {
      "cell_type": "code",
      "execution_count": null,
      "source": [],
      "outputs": [],
      "metadata": {
        "id": "KtHyLG1B1_-s"
      }
    },
    {
      "cell_type": "markdown",
      "source": [
        "### <font color='darkorange'>4. Build and test a model</font>\n",
        "\n"
      ],
      "metadata": {
        "id": "D8nlQspTG8Ll"
      }
    },
    {
      "cell_type": "markdown",
      "source": [
        "**Action:** Use your training dataset to build a model with the goal addressing your question of interest. (Marks: 2)"
      ],
      "metadata": {
        "id": "n1Srx5ZCBFA9"
      }
    },
    {
      "cell_type": "code",
      "execution_count": null,
      "source": [],
      "outputs": [],
      "metadata": {
        "id": "Qif0JPCmBFU1"
      }
    },
    {
      "cell_type": "markdown",
      "source": [
        "**Q4**: Measure the performance of your model, and describe how well your model generalizes to new data (Marks: 2)"
      ],
      "metadata": {
        "id": "hxEQnE2K2J1d"
      }
    },
    {
      "cell_type": "markdown",
      "source": [
        "### <font color='darkorange'>5. Interpret your model</font>"
      ],
      "metadata": {
        "id": "00Xex47wBGt0"
      }
    },
    {
      "cell_type": "markdown",
      "source": [
        "**Q5**: Interpret your model results. E.g., what features contributed to your predictions, if possible, can you determine the sign and magnitude of the effect (Marks: 2)."
      ],
      "metadata": {
        "id": "kLkpINmzCWJq"
      }
    },
    {
      "cell_type": "markdown",
      "source": [
        "### <font color='darkorange'>6. Answer your question</font>"
      ],
      "metadata": {
        "id": "DBudKPp1BP3G"
      }
    },
    {
      "cell_type": "markdown",
      "source": [
        "**Q6:** Use your analysis above to answer your question of interest. Did you achieve your desired outcome, and what might the next steps be? Remember to write as though you are writing to team mates working on the same/similar problem. (Marks: 3)\n",
        "\n",
        "\n",
        "Note: It is ok if your analysis doesn't provide a strong answer, you can point out where it failed. If anything you can cross the approach you took off the list of possible ways to tackle your question. I.e., you still made progress!"
      ],
      "metadata": {
        "id": "YPRIFmPJBFlZ"
      }
    }
  ]
}