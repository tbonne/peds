{
 "cells": [
  {
   "cell_type": "markdown",
   "metadata": {},
   "source": [
    "<a href=\"https://colab.research.google.com/github/tbonne/peds/blob/main/docs/IntroNotebooks.ipynb\" target=\"_parent\"><img src=\"https://colab.research.google.com/assets/colab-badge.svg\" alt=\"Open In Colab\"/></a>"
   ]
  },
  {
   "cell_type": "markdown",
   "metadata": {
    "id": "nlQv0cvXeuPf"
   },
   "source": [
    "<p align=\"center\">\n",
    "  <img src=\"https://raw.githubusercontent.com/tbonne/peds/main/images/colabLogo.png\" width=\"500\" height=\"200\" alt=\"colab\">\n",
    "</p>"
   ]
  },
  {
   "cell_type": "markdown",
   "metadata": {},
   "source": [
    "***"
   ]
  },
  {
   "cell_type": "markdown",
   "metadata": {
    "id": "9NRmDjwN0QRw"
   },
   "source": [
    "# <font color='darkorange'>Colaboratory notebooks!</font>\n",
    "\n",
    "We'll go through some simple steps to using notebooks. To start off, click on the \"Open in Colab\" link above on the left. This will allow you to edit and run code as we work through these exercises.\n",
    "\n",
    "\n",
    "Notebooks are made up of **text blocks** like this one, and **code blocks** (like the one just below)\n",
    "\n",
    "\n",
    "\n"
   ]
  },
  {
   "cell_type": "code",
   "execution_count": null,
   "metadata": {
    "id": "sEnpt_wR0Pm7"
   },
   "outputs": [],
   "source": [
    "#add code here (a hashtag in the code creates a comment)\n",
    "#let's create a variable i, make it equal to 1, and then print it\n",
    "i = 1\n",
    "print(i)\n",
    "\n",
    "#you can run this code by clicking the play button (or pressing ctr-enter)\n",
    "#you will see the output of the print command just below"
   ]
  },
  {
   "cell_type": "markdown",
   "metadata": {
    "id": "QHr03rpg1BK8"
   },
   "source": [
    "Let's add another code block, this time we will add 1 to i and print it."
   ]
  },
  {
   "cell_type": "code",
   "execution_count": null,
   "metadata": {
    "id": "sXBh6s_81DSg"
   },
   "outputs": [],
   "source": [
    "#let's add 1 to i and print it again\n",
    "i = i + 1\n",
    "print(i)"
   ]
  },
  {
   "cell_type": "markdown",
   "metadata": {
    "id": "uLfBVDNq1MO-"
   },
   "source": [
    "By combining text blocks with code blocks we can build an analysis in a way that tells a story.\n",
    "\n",
    "It is important to note the order you run the blocks can matter. You can see the current order by looking at the square brackets [ ] next to your code chunks. \n",
    " \n",
    " Try playing around with running the above blocks a number of different ways and watch how the outputs change."
   ]
  },
  {
   "cell_type": "markdown",
   "metadata": {
    "id": "j9UCLRNn32ls"
   },
   "source": [
    "## <font color='darkorange'>Saving your work</font>\n",
    "\n",
    "When we save our work it will place the code in our google drive. Try saving it. Do you see it in your google drive in the colaboratory folder?\n",
    " \n",
    "We also have the option of searching your google drive for data. When we start bringing in data this is a very useful option. To the left of the screen you should see the files button. If you click on it and then on \"mount drive\" and give it permission to connect to your google drive. \n",
    "\n",
    "You should now be able to navigate using the files tab on the left to see all your files.\n"
   ]
  },
  {
   "cell_type": "markdown",
   "metadata": {
    "id": "0UD_LGNKG779"
   },
   "source": [
    "## <font color='darkorange'>Collaborating!</font>\n",
    "\n",
    "Working with colab also allows us to share access to a notebook. We will use this in class when we do small group projects, but feel free to help out your classmates and share useful bits of code you might find as we go through the course!"
   ]
  },
  {
   "cell_type": "markdown",
   "metadata": {
    "id": "AxZWNTtz6juZ"
   },
   "source": [
    "## <font color='darkorange'>Staying organized</font>\n",
    "\n",
    "If you click on the text blocks you'll see you have options to **bold**, *italize*, or [add hyper links](https://colab.research.google.com/notebooks/markdown_guide.ipynb). You can also add heading, which you can then see in table of contents (to the left). These are all great tools to create a really organized and readable analysis.\n",
    "\n",
    "Try adding a text box below with some formatting!"
   ]
  },
  {
   "cell_type": "markdown",
   "metadata": {
    "id": "xt3t8lCM8b3J"
   },
   "source": []
  },
  {
   "cell_type": "markdown",
   "metadata": {
    "id": "K_IHsfoodJam"
   },
   "source": [
    "If you'd like to dig a litte deeper into how to format text within colab text blocks you can take a look at this [overview](https://colab.research.google.com/notebooks/markdown_guide.ipynb)."
   ]
  },
  {
   "cell_type": "markdown",
   "metadata": {
    "id": "msBv5-6yG2jj"
   },
   "source": [
    "## <font color='darkorange'>Code version control</font>\n",
    "\n",
    "An important option when your code gets more complicated is that you might want to jump back to an older version. To do so you can click on File -> Revision History. This history will show you the older versions of your notebook and how they have changed."
   ]
  },
  {
   "cell_type": "markdown",
   "metadata": {
    "id": "Rpu2zZuR7553"
   },
   "source": [
    "## <font color='darkorange'>Important limitations</font>\n",
    "\n",
    "We are running this notebook on the cloud using colaboratory which has some advantages (i.e., quick setup, access to some neat hardware) and some disadvantages. The main disadvantage for us is that if we leave the computer idle for more than 30min it will reset. The code we write will be saved, but we might have to rerun the code."
   ]
  }
 ],
 "metadata": {
  "colab": {
   "collapsed_sections": [],
   "name": "IntroNotebooks.ipynb",
   "provenance": []
  },
  "kernelspec": {
   "display_name": "Python 3",
   "name": "python3"
  }
 },
 "nbformat": 4,
 "nbformat_minor": 2
}
