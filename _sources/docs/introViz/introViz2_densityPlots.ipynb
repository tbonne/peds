{
  "nbformat": 4,
  "nbformat_minor": 2,
  "metadata": {
    "colab": {
      "name": "introViz2_densityPlots.ipynb",
      "provenance": [],
      "collapsed_sections": [
        "44JZi9NqR0L-"
      ],
      "mount_file_id": "1HDcsWYRxfD-4GPwTmd-ECovCcls6m1iG",
      "authorship_tag": "ABX9TyPA6/TwVzZX9FitKrjiVLgW",
      "include_colab_link": true
    },
    "kernelspec": {
      "name": "python3",
      "display_name": "Python 3"
    }
  },
  "cells": [
    {
      "cell_type": "markdown",
      "source": [
        "<a href=\"https://colab.research.google.com/github/tbonne/peds/blob/main/docs/introViz/introViz2_densityPlots.ipynb\" target=\"_parent\"><img src=\"https://colab.research.google.com/assets/colab-badge.svg\" alt=\"Open In Colab\"/></a>"
      ],
      "metadata": {
        "id": "view-in-github",
        "colab_type": "text"
      }
    },
    {
      "cell_type": "markdown",
      "source": [
        "<img src='http://drive.google.com/uc?export=view&id=1C2o3BW9_N9LkeIi2lM4viUwvXK75G6Nc'>"
      ],
      "metadata": {
        "id": "gsV5DGfCQ_Ce"
      }
    },
    {
      "cell_type": "markdown",
      "source": [
        "## <font color='darkorange'>Density plots and normal distributions</font>"
      ],
      "metadata": {
        "id": "K6wrqFznuqCk"
      }
    },
    {
      "cell_type": "markdown",
      "source": [
        "In this exercise we will start to use density plots."
      ],
      "metadata": {
        "id": "oH7GFT6DuyTp"
      }
    },
    {
      "cell_type": "markdown",
      "source": [
        "### <font color='darkorange'>Normal distribution</font>"
      ],
      "metadata": {
        "id": "kRaoG6jTzDO5"
      }
    },
    {
      "cell_type": "markdown",
      "source": [
        "Let's start by simulating some data from a normal distribution."
      ],
      "metadata": {
        "id": "vLtpucVUvuRO"
      }
    },
    {
      "cell_type": "code",
      "execution_count": null,
      "source": [
        "# import the libraries we will use\n",
        "import numpy as np\n",
        "import pandas as pd\n",
        "import matplotlib.pyplot as plt\n",
        "import seaborn as sns\n"
      ],
      "outputs": [],
      "metadata": {
        "id": "a2deIuFav6HO"
      }
    },
    {
      "cell_type": "markdown",
      "source": [
        "Let's choose a mean and std and simulate some data from a normal distribution. Here we use the method np.random.normal(mean,std, size) to simulate data."
      ],
      "metadata": {
        "id": "vyXJESl7Uz5x"
      }
    },
    {
      "cell_type": "code",
      "execution_count": null,
      "source": [
        "#choose a mean and a standard deviation\n",
        "my_mean= 2\n",
        "my_std = 10\n",
        "\n",
        "#sample data from a normal distribution\n",
        "my_made_up_data = np.random.normal(my_mean, my_std, size=1000)\n",
        "\n",
        "#take a look the data you made\n",
        "my_made_up_data[0:10]"
      ],
      "outputs": [],
      "metadata": {
        "id": "x_itjh6pTQaq"
      }
    },
    {
      "cell_type": "markdown",
      "source": [
        "Let's take a look at the data"
      ],
      "metadata": {
        "id": "X0UjYjwaz8_L"
      }
    },
    {
      "cell_type": "code",
      "execution_count": null,
      "source": [
        "#plot a histogram\n",
        "sns.displot(my_made_up_data)"
      ],
      "outputs": [],
      "metadata": {
        "id": "bC7X8v4nz8_M"
      }
    },
    {
      "cell_type": "markdown",
      "source": [
        "Given you know the 'real' mean and std how well can you estimate them? Use the code above to get the mean and sd from your sample."
      ],
      "metadata": {
        "id": "JkzHLISKz8_M"
      }
    },
    {
      "cell_type": "code",
      "execution_count": null,
      "source": [
        "#get the mean\n",
        "estimated_mean = my_made_up_data.mean()\n",
        "\n",
        "#get the sd\n",
        "estimated_std = my_made_up_data.std()\n",
        "\n",
        "#print \n",
        "print(\"The estimated mean is \",estimated_mean)\n",
        "print(\"The estimated mean is \",estimated_std)"
      ],
      "outputs": [],
      "metadata": {
        "id": "rJhPo0R3z8_N"
      }
    },
    {
      "cell_type": "markdown",
      "source": [
        "<img src='http://drive.google.com/uc?export=view&id=1WC4tXGCEF-1_2LQ74gIxJAZ-GLXCwBdK' width=\"100\" align = 'center'>  "
      ],
      "metadata": {
        "id": "v00fHEPUSJUL"
      }
    },
    {
      "cell_type": "markdown",
      "source": [
        "  \n",
        "How well can you estimate the true mean from the sample? Try playing around with the size of the sample, the mean, and the std. Can you generate samples where the estimated mean is way off? \n",
        "\n",
        "Share plots to Slack, let's see who can get the biggest difference!"
      ],
      "metadata": {
        "id": "6QlhylQOz8_O"
      }
    },
    {
      "cell_type": "code",
      "execution_count": null,
      "source": [
        "print(\"The true mean is {0} compared to the estimated mean {1}\".format(my_mean, estimated_mean.round(3)))\n",
        "print(\"The true sd is {0} compared to the estimated sd {1}\".format(my_std, estimated_std.round(3)))\n"
      ],
      "outputs": [],
      "metadata": {
        "id": "l5eQMbl_TkK7"
      }
    },
    {
      "cell_type": "markdown",
      "source": [
        "Use a histogram to compare how close your estimates are"
      ],
      "metadata": {
        "id": "oKwu53z8Tdsw"
      }
    },
    {
      "cell_type": "code",
      "execution_count": null,
      "source": [
        "#plot the histogram again and place the estimated mean on the plot\n",
        "sns.displot(my_made_up_data)\n",
        "plt.axvline(estimated_mean,color=\"black\")\n",
        "plt.axvline(my_mean,color=\"red\")\n",
        "\n",
        "#save a plot\n",
        "plt.savefig('hist_compare.png')"
      ],
      "outputs": [],
      "metadata": {
        "id": "OH8AQWajTchf"
      }
    },
    {
      "cell_type": "markdown",
      "source": [
        "### <font color='darkorange'>Density plots</font>"
      ],
      "metadata": {
        "id": "_AxFmCsCy_tJ"
      }
    },
    {
      "cell_type": "markdown",
      "source": [
        "Let's take a look at density plots next. These plots are like the histogram, but instead of counts on the y-axis we now have densities. Values that are found a lot have high densities, whereas values that are rare have low densities. Let's take a look! "
      ],
      "metadata": {
        "id": "crRu8jZsVJV-"
      }
    },
    {
      "cell_type": "code",
      "execution_count": null,
      "source": [
        "#bring in the nyc flight data\n",
        "df_flights = pd.read_csv('/content/nyc_flight_data.csv')\n",
        "\n",
        "#fit a histogram of departure delay times\n",
        "sns.displot(df_flights,x='arr_delay', binwidth=10)"
      ],
      "outputs": [],
      "metadata": {
        "id": "BEAPLe3Oul4x"
      }
    },
    {
      "cell_type": "code",
      "execution_count": null,
      "source": [
        "#plot one with both histogram and density \n",
        "sns.displot(df_flights, x='arr_delay', kde=True)"
      ],
      "outputs": [],
      "metadata": {
        "id": "N9TjqmiLVlZR"
      }
    },
    {
      "cell_type": "code",
      "execution_count": null,
      "source": [
        "#plot just density\n",
        "sns.displot(df_flights, x='arr_delay', kind='kde')"
      ],
      "outputs": [],
      "metadata": {
        "id": "Yv0kPuGJUQ08"
      }
    },
    {
      "cell_type": "markdown",
      "source": [
        "How does this distribution compare to the normal distributions 'bell shaped' curve? Do you see any similarities/differences?"
      ],
      "metadata": {
        "id": "TjhoXN5DWD8e"
      }
    },
    {
      "cell_type": "markdown",
      "source": [
        "### <font color='darkorange'>Distributions within categories</font>"
      ],
      "metadata": {
        "id": "0ViU5oozWS2p"
      }
    },
    {
      "cell_type": "markdown",
      "source": [
        "\n",
        "We can also start to look at these distributions for different groups. So in this case we can look at distributions within carriers using the *hue* input."
      ],
      "metadata": {
        "id": "6sNLNpvVX_0I"
      }
    },
    {
      "cell_type": "code",
      "execution_count": null,
      "source": [
        "#Create a density plot for each carrier\n",
        "sns.displot(df_flights, x='arr_delay', kind='kde', hue='carrier', fill=False).set(xlabel='Arrival delay')\n",
        "plt.savefig('overlapDens.png', dpi=600)"
      ],
      "outputs": [],
      "metadata": {
        "id": "gEHpKNzJYJOZ"
      }
    },
    {
      "cell_type": "markdown",
      "source": [
        "This helps see that they are mostly centered around 0 minutes delay. Are there better ways to vizualize this to see the differences between carriers?\n",
        "\n",
        "#### Let's try a **violin plot**"
      ],
      "metadata": {
        "id": "FIll09p3alC3"
      }
    },
    {
      "cell_type": "code",
      "execution_count": null,
      "source": [
        "#plot a violin plot\n",
        "sns.violinplot(data=df_flights, x='carrier',y='arr_delay')\n",
        "plt.axhline(0, ls='--') #add a dashed line at zero\n",
        "\n",
        "#save the figure\n",
        "plt.savefig('output_figure.png',dpi=600)"
      ],
      "outputs": [],
      "metadata": {
        "id": "BScOZdAYatqc"
      }
    },
    {
      "cell_type": "markdown",
      "source": [
        "Can you use what you've learnt above to decide which airlines are better to take to avoid departure and arrival delays? \n",
        "\n",
        "\n",
        "\n"
      ],
      "metadata": {
        "id": "jyHOvgcK2Oj0"
      }
    },
    {
      "cell_type": "markdown",
      "source": [
        "#### Alternatively we could try out a **Bar plot**"
      ],
      "metadata": {
        "id": "jYwbraz-kFGS"
      }
    },
    {
      "cell_type": "markdown",
      "source": [
        "> There is often many ways to view the same data. "
      ],
      "metadata": {
        "id": "mByoSSXPimtX"
      }
    },
    {
      "cell_type": "code",
      "execution_count": null,
      "source": [
        "sns.barplot(data=df_flights, x=\"carrier\", y=\"arr_delay\" ).set(ylabel='Arrival delay') #change the y-axis lable\n",
        "plt.axhline(0, ls='--') #add a dashed line at zero\n",
        "\n",
        "#save the figure\n",
        "plt.savefig(\"bar_test.png\")"
      ],
      "outputs": [],
      "metadata": {
        "id": "-q76qqviitEu"
      }
    },
    {
      "cell_type": "markdown",
      "source": [
        "Which version of the plot do you find more intuative? Is one easier to *read* than the other?"
      ],
      "metadata": {
        "id": "3LDaZKbvj3q4"
      }
    },
    {
      "cell_type": "markdown",
      "source": [
        "<img src='http://drive.google.com/uc?export=view&id=1WC4tXGCEF-1_2LQ74gIxJAZ-GLXCwBdK' width=\"100\" align = 'center'>  "
      ],
      "metadata": {
        "id": "0LG0RR7KTM45"
      }
    },
    {
      "cell_type": "markdown",
      "source": [
        "  \n",
        "Can you reproduce the top three figures (density plot, violin plot, and bar plot) using origin instead of carrier? Which one do you find the most intuative?"
      ],
      "metadata": {
        "id": "0PtzV31zTNhs"
      }
    },
    {
      "cell_type": "code",
      "execution_count": null,
      "source": [
        "#density plot\n",
        "sns.displot(?, x='?', kind='kde', hue='?', fill=?)"
      ],
      "outputs": [],
      "metadata": {
        "id": "yBTb43-STN86"
      }
    },
    {
      "cell_type": "code",
      "execution_count": null,
      "source": [
        "#plot a violin plot\n",
        "sns.violinplot(data=?, x='?',y='?')\n",
        "plt.axhline(0, ls='--') #add a dashed line at zero"
      ],
      "outputs": [],
      "metadata": {
        "id": "s07C1_TkTuqc"
      }
    },
    {
      "cell_type": "code",
      "execution_count": null,
      "source": [
        "#bar plot\n",
        "sns.barplot(data=?, x=\"?\", y=\"?\" )"
      ],
      "outputs": [],
      "metadata": {
        "id": "ssS14ViSTvBV"
      }
    },
    {
      "cell_type": "markdown",
      "source": [
        "### <font color='darkorange'>Further reading</font>"
      ],
      "metadata": {
        "id": "kK-ljIm5Q71G"
      }
    },
    {
      "cell_type": "markdown",
      "source": [
        "*  Plot using [categorical data](https://seaborn.pydata.org/tutorial/categorical.html) \n",
        "*  Plotting [distributions](https://seaborn.pydata.org/tutorial/distributions.html) "
      ],
      "metadata": {
        "id": "qwyufH-L2e52"
      }
    },
    {
      "cell_type": "markdown",
      "source": [
        "### <font color='darkorange'>(Bonus Questions)</font>"
      ],
      "metadata": {
        "id": "44JZi9NqR0L-"
      }
    },
    {
      "cell_type": "markdown",
      "source": [
        "Create a new variable that indicates if it is day time. (Hint: google -- pandas between function, then choose to time values that roughly delineate day/night)"
      ],
      "metadata": {
        "id": "NWSA7uVBSBBT"
      }
    },
    {
      "cell_type": "code",
      "execution_count": null,
      "source": [
        "df_flights['day'] = ?.?.between(?,?) "
      ],
      "outputs": [],
      "metadata": {
        "id": "6NOTfWjBR5uJ"
      }
    },
    {
      "cell_type": "markdown",
      "source": [
        "Next create plots to determine the difference in arrival delays during the day and night."
      ],
      "metadata": {
        "id": "vM6LkLE3WNys"
      }
    },
    {
      "cell_type": "code",
      "execution_count": null,
      "source": [
        "#density plot\n",
        "?"
      ],
      "outputs": [],
      "metadata": {
        "id": "c7wkGfJhWHBr"
      }
    },
    {
      "cell_type": "code",
      "execution_count": null,
      "source": [
        "#plot a violin plot\n",
        "?"
      ],
      "outputs": [],
      "metadata": {
        "id": "h6vQCA-QWdR9"
      }
    },
    {
      "cell_type": "code",
      "execution_count": null,
      "source": [
        "#bar plot\n",
        "?"
      ],
      "outputs": [],
      "metadata": {
        "id": "IqcBx4xWWhi4"
      }
    },
    {
      "cell_type": "markdown",
      "source": [
        "Post to slack and see if your results rought corespond to what others have found? \n",
        " \n",
        "How sensitive are your results to the choice of times for day/night?"
      ],
      "metadata": {
        "id": "7Soixa2PW9LI"
      }
    }
  ]
}