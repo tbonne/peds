{
  "nbformat": 4,
  "nbformat_minor": 2,
  "metadata": {
    "colab": {
      "name": "IntroViz3_scatterplots.ipynb",
      "provenance": [],
      "collapsed_sections": [
        "SSHJ5OFc6xbv"
      ],
      "mount_file_id": "1R49MCyzdNfH9lVkC2Fum1xi63d5aUXtg",
      "authorship_tag": "ABX9TyO01ucfzwad4L3xXsMDNiHY",
      "include_colab_link": true
    },
    "kernelspec": {
      "name": "python3",
      "display_name": "Python 3"
    }
  },
  "cells": [
    {
      "cell_type": "markdown",
      "source": [
        "<a href=\"https://colab.research.google.com/github/tbonne/peds/blob/main/docs/introViz/IntroViz3_scatterplots.ipynb\" target=\"_parent\"><img src=\"https://colab.research.google.com/assets/colab-badge.svg\" alt=\"Open In Colab\"/></a>"
      ],
      "metadata": {
        "id": "view-in-github",
        "colab_type": "text"
      }
    },
    {
      "cell_type": "markdown",
      "source": [
        "<img src='http://drive.google.com/uc?export=view&id=1C2o3BW9_N9LkeIi2lM4viUwvXK75G6Nc'>"
      ],
      "metadata": {
        "id": "DqPzbMV5v_NQ"
      }
    },
    {
      "cell_type": "markdown",
      "source": [
        "## <font color='darkorange'>Scatter plots</font>\n",
        "\n",
        "In this exercise we will learn how to plot data in scatter plots. Unlike the previous examples with histograms and density plots, scatter plots will let us look at two variables at once (i.e., bivariate relationships).\n",
        "\n"
      ],
      "metadata": {
        "id": "jyHOvgcK2Oj0"
      }
    },
    {
      "cell_type": "markdown",
      "source": [
        "Import the libraries\n"
      ],
      "metadata": {
        "id": "wBv_U2EwAWFS"
      }
    },
    {
      "cell_type": "code",
      "execution_count": null,
      "source": [
        "#import libraries\n",
        "import pandas as pd\n",
        "import matplotlib.pyplot as plt\n",
        "import seaborn as sns\n"
      ],
      "outputs": [],
      "metadata": {
        "id": "npo0C3reAbqn"
      }
    },
    {
      "cell_type": "markdown",
      "source": [
        "Bring in the nyc flight data"
      ],
      "metadata": {
        "id": "M2r3E549wJZL"
      }
    },
    {
      "cell_type": "code",
      "execution_count": null,
      "source": [
        "df_flights = ?"
      ],
      "outputs": [],
      "metadata": {
        "id": "sobqsVEo4tyE"
      }
    },
    {
      "cell_type": "markdown",
      "source": [
        "In our previous exercises we looked at departure and arrival delays as seperate, but are they related to each other. Let's use a scatter plot to see if higher departure delays lead to higher arrival delays.\n"
      ],
      "metadata": {
        "id": "qETX2W0nApeh"
      }
    },
    {
      "cell_type": "code",
      "execution_count": null,
      "source": [
        "#plot a scaterplot\n",
        "sns.scatterplot(data=df_flights, x='dep_delay',y='arr_delay')"
      ],
      "outputs": [],
      "metadata": {
        "id": "RIUmxFlrAmei"
      }
    },
    {
      "cell_type": "markdown",
      "source": [
        "Let's add some nicer labels to the axis of the plot."
      ],
      "metadata": {
        "id": "Xqc_NPvp50vK"
      }
    },
    {
      "cell_type": "code",
      "execution_count": null,
      "source": [
        "#scatterplot with labels\n",
        "sns.scatterplot(data=df_flights, x='dep_delay',y='arr_delay').set(xlabel='Departure delay (minutes)', ylabel='Arrival delay (minutes)')\n",
        "\n",
        "#save file\n",
        "plt.savefig(\"delay_scatterplot.png\")"
      ],
      "outputs": [],
      "metadata": {
        "id": "qHUCBjcl5YWW"
      }
    },
    {
      "cell_type": "markdown",
      "source": [
        "This plot is showing that if departure delays are high, so too will arrival delays. In other words flights that start out late are not able to make up for lost time and end up arriving at their destination late."
      ],
      "metadata": {
        "id": "SSNminDs5_8F"
      }
    },
    {
      "cell_type": "markdown",
      "source": [
        "### <font color='darkorange'>Estimate correlations</font>"
      ],
      "metadata": {
        "id": "_nLixPTJwztL"
      }
    },
    {
      "cell_type": "markdown",
      "source": [
        "> We will use the corr function build into pandas to estimate the correlation between departure delay and arrival delay."
      ],
      "metadata": {
        "id": "yNJ4olmjw5OY"
      }
    },
    {
      "cell_type": "code",
      "execution_count": null,
      "source": [
        "#estimate correlation\n",
        "df_flights.arr_delay.corr(df_flights.dep_delay)"
      ],
      "outputs": [],
      "metadata": {
        "id": "ElNwZCDyw6Kc"
      }
    },
    {
      "cell_type": "markdown",
      "source": [
        "<img src='http://drive.google.com/uc?export=view&id=1WC4tXGCEF-1_2LQ74gIxJAZ-GLXCwBdK' width=\"100\" align = 'left'>  "
      ],
      "metadata": {
        "id": "bVO2HyyqxUDH"
      }
    },
    {
      "cell_type": "markdown",
      "source": [
        "Try and estimate correlations between a few other variables"
      ],
      "metadata": {
        "id": "8QK4WYDdxXR3"
      }
    },
    {
      "cell_type": "code",
      "execution_count": null,
      "source": [
        "#take a look at potential variables to compare (i.e., what columns/variables do we have)\n",
        "?"
      ],
      "outputs": [],
      "metadata": {
        "id": "3soH-jZIxi0_"
      }
    },
    {
      "cell_type": "code",
      "execution_count": null,
      "source": [
        "#estimate the correlation between two variables\n",
        "df_flights.?.corr(df_flights.?)"
      ],
      "outputs": [],
      "metadata": {
        "id": "aQQtZb34xusk"
      }
    },
    {
      "cell_type": "markdown",
      "source": [
        "What is the largest correlation you can find? Can you also plot this relationship as a scatter plot?"
      ],
      "metadata": {
        "id": "vT7JT-5ox3Pz"
      }
    },
    {
      "cell_type": "code",
      "execution_count": null,
      "source": [
        "#Scatterplot\n",
        "sns.scatterplot(data=df_flights, x='?',y='?')"
      ],
      "outputs": [],
      "metadata": {
        "id": "nCRoyW5Bx9OC"
      }
    },
    {
      "cell_type": "markdown",
      "source": [
        "### <font color='darkorange'>Compare many variables using pair plots</font>"
      ],
      "metadata": {
        "id": "EXbJ-lUsHwlf"
      }
    },
    {
      "cell_type": "code",
      "execution_count": null,
      "source": [
        "#let's choose some varibles to look at \n",
        "df_flights_pairs = df_flights[[\"arr_delay\",\"dep_delay\",\"distance\",\"carrier\"]] #notice it did not use carrier... why?\n",
        "\n",
        "#use the pairplot method to look at all combinations of these variables\n",
        "sns.pairplot(df_flights_pairs)"
      ],
      "outputs": [],
      "metadata": {
        "id": "aZ-mq9qBHzG3"
      }
    },
    {
      "cell_type": "markdown",
      "source": [
        "<img src='http://drive.google.com/uc?export=view&id=1WC4tXGCEF-1_2LQ74gIxJAZ-GLXCwBdK' width=\"100\" align = 'left'>  "
      ],
      "metadata": {
        "id": "1KBOOBwt10tn"
      }
    },
    {
      "cell_type": "markdown",
      "source": [
        "Try and visualize the relationships between a few variables."
      ],
      "metadata": {
        "id": "Pb-L7wcH10to"
      }
    },
    {
      "cell_type": "code",
      "execution_count": null,
      "source": [
        "#Choose some varibles to look at \n",
        "df_flights_pairs = df_flights[[\"?\",\"?\",\"?\"]] #notice it did not use carrier... why?\n",
        "\n",
        "#use the pairplot method to look at all combinations of these variables\n",
        "sns.pairplot(?)"
      ],
      "outputs": [],
      "metadata": {
        "id": "RVU4IFF4b0M-"
      }
    },
    {
      "cell_type": "markdown",
      "source": [
        "### <font color='darkorange'>Heat Maps</font>"
      ],
      "metadata": {
        "id": "7Th7ymBOEPSD"
      }
    },
    {
      "cell_type": "markdown",
      "source": [
        "We will use our new found correlation skills to more effectively search for patterns in our data using heat maps! These maps can quickly help us identify high/low correlations between our variables.\n"
      ],
      "metadata": {
        "id": "NMMImYa-ESep"
      }
    },
    {
      "cell_type": "code",
      "execution_count": null,
      "source": [
        "#run a correlation on all combinations of variables in df_flights\n",
        "corrmat = df_flights.corr()\n",
        "\n",
        "#plot the results as a heat map\n",
        "sns.heatmap(corrmat, square=False)"
      ],
      "outputs": [],
      "metadata": {
        "id": "jn1piAE_HaDP"
      }
    },
    {
      "cell_type": "code",
      "execution_count": null,
      "source": [
        "#plot the results as a heat map (this time let's make the figure bigger)\n",
        "plt.subplots(figsize=(12,9))\n",
        "sns.heatmap(corrmat, square=False)"
      ],
      "outputs": [],
      "metadata": {
        "id": "RRg3YmXqGRq4"
      }
    },
    {
      "cell_type": "markdown",
      "source": [
        "Here we can see from the legend on the right that the lighter colours are combinations of variables that have high positive correlations. While darker colors have larger negative correlations.\n",
        "\n",
        "Things to think about:\n",
        "- do all these comparisons make sense? e.g., flight# and distance?\n",
        "- what variable types are there?\n",
        "- why are year and month not showing any values?"
      ],
      "metadata": {
        "id": "BenI8ldsGfuz"
      }
    },
    {
      "cell_type": "markdown",
      "source": [
        "### <font color='darkorange'>Further reading</font>\n",
        "\n",
        "Check out seaborn's very nice page on [plotting relationships using scatterplots](https://seaborn.pydata.org/tutorial/relational.html)."
      ],
      "metadata": {
        "id": "hUa0DRE_8Zag"
      }
    },
    {
      "cell_type": "markdown",
      "source": [
        "### <font color='darkorange'>Bonus material</font>"
      ],
      "metadata": {
        "id": "SSHJ5OFc6xbv"
      }
    },
    {
      "cell_type": "markdown",
      "source": [
        "Visualizing your data is a very important step in any data science workflow. Let's take a look at the case below where four seperate datasets have the same mean and standard deviation, but differ wildly in how their data is ditributed.\n",
        "\n",
        "\n",
        "\n"
      ],
      "metadata": {
        "id": "RioJDCRMUiPW"
      }
    },
    {
      "cell_type": "markdown",
      "source": [
        "<img src='http://drive.google.com/uc?export=view&id=1o1sS3SVNg7SFivTay0damWoN9hq9-0ap'>"
      ],
      "metadata": {
        "id": "h0Znowy0r1NU"
      }
    },
    {
      "cell_type": "markdown",
      "source": [
        "Let's load in the data."
      ],
      "metadata": {
        "id": "U95SXGWk7X5E"
      }
    },
    {
      "cell_type": "code",
      "execution_count": null,
      "source": [
        "df_anscombe = pd.read_json(\"/content/sample_data/anscombe.json\")\n",
        "\n",
        "df_anscombe.head()"
      ],
      "outputs": [],
      "metadata": {
        "id": "XLfGRZybUus9"
      }
    },
    {
      "cell_type": "markdown",
      "source": [
        "First let's show that each has the same summary statistics."
      ],
      "metadata": {
        "id": "5xA21fWo7TBG"
      }
    },
    {
      "cell_type": "code",
      "execution_count": null,
      "source": [
        "df_anscombe.groupby('Series').mean()"
      ],
      "outputs": [],
      "metadata": {
        "id": "39BioL_Q7kYK"
      }
    },
    {
      "cell_type": "code",
      "execution_count": null,
      "source": [
        "df_anscombe.groupby('Series').std()"
      ],
      "outputs": [],
      "metadata": {
        "id": "4Al_BziW71u1"
      }
    },
    {
      "cell_type": "markdown",
      "source": [
        "Now let's take a look using scatter plots"
      ],
      "metadata": {
        "id": "BrmTHBUQ73Xv"
      }
    },
    {
      "cell_type": "code",
      "execution_count": null,
      "source": [
        "sns.scatterplot(data=df_anscombe[(df_anscombe.Series==\"I\")],x=\"X\",y=\"Y\")"
      ],
      "outputs": [],
      "metadata": {
        "id": "pvtx3lIj7kle"
      }
    },
    {
      "cell_type": "code",
      "execution_count": null,
      "source": [
        "sns.scatterplot(data=df_anscombe[(df_anscombe.Series==\"II\")],x=\"X\",y=\"Y\")"
      ],
      "outputs": [],
      "metadata": {
        "id": "2fp4cMoI9IPP"
      }
    },
    {
      "cell_type": "code",
      "execution_count": null,
      "source": [
        "sns.scatterplot(data=df_anscombe[(df_anscombe.Series==\"III\")],x=\"X\",y=\"Y\")"
      ],
      "outputs": [],
      "metadata": {
        "id": "N4TYK4sI9KMQ"
      }
    },
    {
      "cell_type": "code",
      "execution_count": null,
      "source": [
        "sns.scatterplot(data=df_anscombe[(df_anscombe.Series==\"IV\")],x=\"X\",y=\"Y\")"
      ],
      "outputs": [],
      "metadata": {
        "id": "SbUS-MPF9Ls0"
      }
    },
    {
      "cell_type": "markdown",
      "source": [
        "Even though each of these series of points have the same descriptive statistics (mean and standard deviation) they are very different in how they are distributed. This is why it is important to visualize your data!"
      ],
      "metadata": {
        "id": "XUdQiBEd9TdI"
      }
    }
  ]
}