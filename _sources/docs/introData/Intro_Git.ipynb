{
  "nbformat": 4,
  "nbformat_minor": 0,
  "metadata": {
    "colab": {
      "provenance": [],
      "collapsed_sections": [
        "bMlM9nzT5kF_"
      ]
    },
    "kernelspec": {
      "name": "python3",
      "display_name": "Python 3"
    },
    "language_info": {
      "name": "python"
    }
  },
  "cells": [
    {
      "cell_type": "markdown",
      "source": [
        "<a href=\"https://colab.research.google.com/github/tbonne/peds/blob/main/docs/introData/IntroData5_CombineData.ipynb\" target=\"_parent\"><img src=\"https://colab.research.google.com/assets/colab-badge.svg\" alt=\"Open In Colab\"/></a>"
      ],
      "metadata": {
        "id": "JULAL2upR51T"
      }
    },
    {
      "cell_type": "markdown",
      "source": [
        "<p align=\"center\">\n",
        "  <img src=\"https://git-scm.com/images/logos/downloads/Git-Logo-2Color.png\" width=\"500\" alt=\"colab\">\n",
        "</p>"
      ],
      "metadata": {
        "id": "jGeyI-InR70z"
      }
    },
    {
      "cell_type": "markdown",
      "source": [
        "# Git\n",
        "\n",
        "Let's learn how to use git to collaboratively code. We saw in the lectures what the main commands are and how they are used. But let's see if we can solidify these concepts by applying them to a list project! This project just lists different data science resources out there, and will be a way for us to try and collaboratively edit some shared documents using git.\n",
        "\n",
        "</br>\n",
        "\n",
        "Hopefully some of the lists might even be useful!\n",
        "\n",
        "</br>\n",
        "\n",
        "You can see the project we will edit here: https://github.com/tbonne/DS_lists\n"
      ],
      "metadata": {
        "id": "JJ8BTLQER_Px"
      }
    },
    {
      "cell_type": "markdown",
      "source": [
        "To edit this project we will follow the following steps:\n",
        "\n",
        "- 1) Create a copy of the repository on your GitHub\n",
        "- 2) Make sure github recognizes you!\n",
        "- 3) Create a branch for you to work on\n",
        "- 4) Edit/add one thing to a file (use a random number to choose the file!)\n",
        "- 5) Push your edits to the branch\n",
        "- 6) Submit a pull request\n",
        "- 7) Instructor/TA approoves the pull request\n",
        "\n",
        "Let's go through each step in more detail!"
      ],
      "metadata": {
        "id": "Janvuf26bem4"
      }
    },
    {
      "cell_type": "markdown",
      "source": [
        "### 1) Fork the DS_list repository\n",
        "\n"
      ],
      "metadata": {
        "id": "5L9BCnDeqOCF"
      }
    },
    {
      "cell_type": "markdown",
      "source": [
        "Because the DS_list repository is public, you can see all the lists, and download it. But to edit it, without being an explicit colaborator, you'll need to create your own copy.\n",
        "\n",
        "To do this go to github and fork a copy of the DS_list project. The fork button is on the top right."
      ],
      "metadata": {
        "id": "wOhtTX78wXZ8"
      }
    },
    {
      "cell_type": "markdown",
      "source": [
        "### 2) Make sure github recognizes you in colab\n",
        "\n",
        "We have to let GitHub know who is working on this colab session. That way when we make changes and push them to the repository it knows who did it.\n",
        "\n",
        "So first we have to get an Access Token from your github account. To do so:\n",
        "\n",
        "- login to you github account at github.com\n",
        "\n",
        "- Click on your profile picture (top right), then on 'settings', then 'developer settings' (bottom left).\n",
        "\n",
        "- Click on 'personal access tokens', then on 'tokens classic', then on 'generate new token.'\n",
        "- Give it a name (e.g., colab_project), experiation days 7.\n",
        "\n",
        "- For select scope, we can just click 'repo' that should be enough for this project.\n",
        "\n",
        "Now that we have the token, copy it and use it after running the code below to authenticate yourself."
      ],
      "metadata": {
        "id": "ibVeTcgYjRXo"
      }
    },
    {
      "cell_type": "code",
      "source": [
        "import os, getpass\n",
        "\n",
        "#Enter your github user name here\n",
        "os.environ[\"GITHUB_USER\"] = 'tbonne'\n",
        "\n",
        "# Optional: enter once per runtime\n",
        "os.environ[\"GITHUB_TOKEN\"] = getpass.getpass(\"Token: \")\n"
      ],
      "metadata": {
        "id": "MTF5MflZhA1f"
      },
      "execution_count": null,
      "outputs": []
    },
    {
      "cell_type": "markdown",
      "source": [
        "We can then set our name and email. This will be useful when seeing who did what in the code."
      ],
      "metadata": {
        "id": "tHucbqNzkrSM"
      }
    },
    {
      "cell_type": "code",
      "source": [
        "# Git identity (for commits)\n",
        "!git config --global user.name \"First Last\"\n",
        "!git config --global user.email \"student@example.com\""
      ],
      "metadata": {
        "id": "9jWFXrlBitL1"
      },
      "execution_count": null,
      "outputs": []
    },
    {
      "cell_type": "markdown",
      "source": [
        "Ok now we are ready to start editing the project!"
      ],
      "metadata": {
        "id": "i_d6X6XGix5-"
      }
    },
    {
      "cell_type": "markdown",
      "source": [
        "### 2) Copy the repository to colab"
      ],
      "metadata": {
        "id": "-zR1KXJEcxdh"
      }
    },
    {
      "cell_type": "markdown",
      "source": [
        "Let's first clone the project to colab."
      ],
      "metadata": {
        "id": "xLmWpkFAc3Dx"
      }
    },
    {
      "cell_type": "code",
      "source": [
        "!git clone https://github.com/tbonne/DS_lists.git"
      ],
      "metadata": {
        "id": "tyoOn7Fimot4"
      },
      "execution_count": null,
      "outputs": []
    },
    {
      "cell_type": "markdown",
      "source": [
        "You should now see the repository in the files folder on the top left.\n",
        "\n",
        "For the next few commands lets make sure we are in the right directory, so let's change directories (cd) into the DS_lists directory."
      ],
      "metadata": {
        "id": "9-c9sUWle2_K"
      }
    },
    {
      "cell_type": "code",
      "source": [
        "%cd /content/DS_lists"
      ],
      "metadata": {
        "id": "AxSv7wNDmq0h"
      },
      "execution_count": null,
      "outputs": []
    },
    {
      "cell_type": "markdown",
      "source": [
        "Now let's create a branch for you to work on."
      ],
      "metadata": {
        "id": "y8x8RoRXm3Zd"
      }
    },
    {
      "cell_type": "code",
      "source": [
        "!git switch -c docs/updatelist-LASTNAME"
      ],
      "metadata": {
        "id": "7LLFfA1sR-75"
      },
      "execution_count": null,
      "outputs": []
    },
    {
      "cell_type": "markdown",
      "source": [
        "You've created the branch locally, now let's push the branch online.\n",
        "\n",
        "First we have to setup where to send the new branch: i.e., the origin\n"
      ],
      "metadata": {
        "id": "2hNgchZqfIts"
      }
    },
    {
      "cell_type": "code",
      "source": [
        "#set the origin to the DS_lists repro\n",
        "!git remote set-url origin \"https://${GITHUB_TOKEN}@github.com/${GITHUB_USER}/DS_lists.git\""
      ],
      "metadata": {
        "id": "FG18NP6sfp9n"
      },
      "execution_count": null,
      "outputs": []
    },
    {
      "cell_type": "markdown",
      "source": [
        "Once the origin is setup we then need to push the new branch."
      ],
      "metadata": {
        "id": "9zCJz9nff3os"
      }
    },
    {
      "cell_type": "code",
      "source": [
        "!git push origin docs/updatelist-LASTNAME"
      ],
      "metadata": {
        "id": "1P9dNXYFfQTT"
      },
      "execution_count": null,
      "outputs": []
    },
    {
      "cell_type": "markdown",
      "source": [
        "Ok, we are now ready to make edits!"
      ],
      "metadata": {
        "id": "3xOMd-oGldZs"
      }
    },
    {
      "cell_type": "markdown",
      "source": [
        "### 4) Edit a data science list\n",
        "\n",
        "\n"
      ],
      "metadata": {
        "id": "abFc1RBRd3fR"
      }
    },
    {
      "cell_type": "markdown",
      "source": [
        "Now that you have cloned the repository, and created a branch, open up your chosen list and make an addition or edit.\n",
        "\n",
        "Use the random number to choose the file you will edit! In the lists folder of the repository you will see the files are numbered.\n",
        "\n"
      ],
      "metadata": {
        "id": "6ICxMhH9mft9"
      }
    },
    {
      "cell_type": "code",
      "source": [
        "import numpy as np\n",
        "\n",
        "np.random.randint(1,10)"
      ],
      "metadata": {
        "id": "8z_GTsSew6SV"
      },
      "execution_count": null,
      "outputs": []
    },
    {
      "cell_type": "markdown",
      "source": [
        "Note: to open a list, goto the files folder on the left, and open up the DS_lists/lists folder. You should see your list in there. Click on it and edit it. Then save the file."
      ],
      "metadata": {
        "id": "jF9jThi5w5_z"
      }
    },
    {
      "cell_type": "markdown",
      "source": [
        "### 5) Add and commit your edits locally"
      ],
      "metadata": {
        "id": "v1jAn-ZFmgW7"
      }
    },
    {
      "cell_type": "markdown",
      "source": [
        "Ok, now that you've edited your group list, let's save these changes.\n",
        "\n",
        "Let's learn how to use **add** to register what you changed and **commit** to update your local copy of the reprository with these changes.\n",
        "\n",
        "\n"
      ],
      "metadata": {
        "id": "e0T74iRmnqde"
      }
    },
    {
      "cell_type": "markdown",
      "source": [
        "Before we use these commands let's look at what git is doing at the momment.\n",
        "\n",
        "Let's use git status to get a summary of where git is at the moment."
      ],
      "metadata": {
        "id": "yAdg9Y-nonqb"
      }
    },
    {
      "cell_type": "code",
      "source": [
        "!git status"
      ],
      "metadata": {
        "id": "EKZsVPr6oPVA"
      },
      "execution_count": null,
      "outputs": []
    },
    {
      "cell_type": "markdown",
      "source": [
        "Nothing should be added, but git should show that you are on the branch you just created."
      ],
      "metadata": {
        "id": "ZNEdAkgDljE7"
      }
    },
    {
      "cell_type": "markdown",
      "source": [
        "We can even look at the current logs to see what's been done. Not much yet!"
      ],
      "metadata": {
        "id": "10xf5YSIzGdf"
      }
    },
    {
      "cell_type": "code",
      "source": [
        "!git log --oneline"
      ],
      "metadata": {
        "id": "zPMQ-oHAmEc9"
      },
      "execution_count": null,
      "outputs": []
    },
    {
      "cell_type": "markdown",
      "source": [
        "Above you should see a line for each action git has taken. Right now there's not much, but you should see where you created your branch.\n",
        "\n",
        "Ok, now that we checked the status of git, lets **add** and **commit** your changes."
      ],
      "metadata": {
        "id": "GCp-xdAXoquE"
      }
    },
    {
      "cell_type": "code",
      "source": [
        "#Add all changes\n",
        "!git add -all"
      ],
      "metadata": {
        "id": "IfH-Q7Ktozdv"
      },
      "execution_count": null,
      "outputs": []
    },
    {
      "cell_type": "markdown",
      "source": [
        "We could use:\n",
        "* git add filename.txt to say add a specific file\n",
        "* git add -all to add anything that has updated in this folder and any sub-folders\n",
        "\n",
        "Once we've added all the changes let's commit them to our local repository here on colab."
      ],
      "metadata": {
        "id": "1LJ6uoIwmB8O"
      }
    },
    {
      "cell_type": "code",
      "source": [
        "#Commit the changes\n",
        "!git commit -m \"Some short description of what you did...\""
      ],
      "metadata": {
        "id": "4LGmI3iko3RN"
      },
      "execution_count": null,
      "outputs": []
    },
    {
      "cell_type": "markdown",
      "source": [
        "Each time you **add** and **commit** the version is save locally.\n",
        "\n",
        "Let's see how the logs have changed."
      ],
      "metadata": {
        "id": "7Ipmh7aJgztQ"
      }
    },
    {
      "cell_type": "code",
      "source": [
        "!git log --oneline"
      ],
      "metadata": {
        "id": "or_xgw_chnTb"
      },
      "execution_count": null,
      "outputs": []
    },
    {
      "cell_type": "markdown",
      "source": [
        "You should see an extra line showing your recent commmit with your message. The alphanumeric strings at the start of the lines are your commits. You can always go back in time to a new commit if something goes wrong."
      ],
      "metadata": {
        "id": "EbZ-b9tWmWk4"
      }
    },
    {
      "cell_type": "markdown",
      "source": [
        "### 6) Push your local changes to your forked repository online"
      ],
      "metadata": {
        "id": "7SafGl44hPOC"
      }
    },
    {
      "cell_type": "markdown",
      "source": [
        "Now that you've edited a list, let's upload that to github. To do that we'll firt do a **push** to send these changes to your forked repository."
      ],
      "metadata": {
        "id": "8nHMBKCvoa3H"
      }
    },
    {
      "cell_type": "code",
      "source": [
        "!git push origin docs/updatelist-LASTNAME"
      ],
      "metadata": {
        "id": "eJdYuOoYpGz_"
      },
      "execution_count": null,
      "outputs": []
    },
    {
      "cell_type": "markdown",
      "source": [
        "At this stage, if you are collaborating with others, sometimes you'll find some conflicts here! For example, someone might have altered the same list as you. In these cases you'll have to do some work to merge the two changes. Sometimes git will be able to automatically merge the differences, but sometimes it will simply mark where the conflicts are and get you to choose what to keep."
      ],
      "metadata": {
        "id": "EQ3OGEGErz7c"
      }
    },
    {
      "cell_type": "markdown",
      "source": [
        "### Start a pull request"
      ],
      "metadata": {
        "id": "8FcaR-mh0r5-"
      }
    },
    {
      "cell_type": "markdown",
      "source": [
        "Now that you've edited a list, and updated your forked copy of the repository, it's time to send these updates back to the original repository.\n",
        "\n",
        "To do this we'll have to start a pull request.\n",
        "\n",
        "This can be done on GitHub. If you go to your GitHub page and open your forked repository, you should see yellow banner at the top asking if you want to \"compare and pull request\".\n",
        "\n",
        "When you click on that you just want to make sure:\n",
        "\n",
        "* the 'base fork' points to the original repository (e.g., tbonne/DS_list)\n",
        "* the 'base' points to the master branch\n",
        "* the 'head fork' points to your forked copy of the repository\n",
        "* the 'compare branch' points to your branch\n",
        "\n",
        "For the most part these values will be set correctly automatically.\n",
        "\n",
        "You can add a little note about what you're updating.\n",
        "\n",
        "Then you can click \"create pull request\"."
      ],
      "metadata": {
        "id": "DOj2FSAk0u57"
      }
    },
    {
      "cell_type": "markdown",
      "source": [
        "An instructor or TA will now be able to check your pull request and decide if the addition is something that should be added!"
      ],
      "metadata": {
        "id": "0StSrjcf3trN"
      }
    },
    {
      "cell_type": "markdown",
      "source": [
        "### Learning more!\n",
        "\n",
        "\n",
        "\n"
      ],
      "metadata": {
        "id": "tEmFKfS_fbbk"
      }
    },
    {
      "cell_type": "markdown",
      "source": [
        "If you would like to go deeper into git here is a great series of videos that will expand on what we covered here:\n",
        "* https://yuja.ucalgary.ca/V/PlayList?node=6694269&a=1248179342"
      ],
      "metadata": {
        "id": "EnARo_wI5n6G"
      }
    },
    {
      "cell_type": "markdown",
      "source": [
        "A good step that can take you a little further would be to try and setup git on your computer and use VSCode.\n",
        "\n",
        "* https://code.visualstudio.com/docs/sourcecontrol/intro-to-git"
      ],
      "metadata": {
        "id": "ao1V5U-P3uw-"
      }
    },
    {
      "cell_type": "markdown",
      "source": [
        "### Notes:\n"
      ],
      "metadata": {
        "id": "bMlM9nzT5kF_"
      }
    },
    {
      "cell_type": "markdown",
      "source": [
        "* !: This prefix in Colab allows you to execute shell commands directly.\n",
        "* %cd: Changes the current directory within Colab."
      ],
      "metadata": {
        "id": "HmLP4ep95lka"
      }
    },
    {
      "cell_type": "markdown",
      "source": [
        "Some other useful git commands:\n",
        "\n",
        "> View logs (what's been done):\n",
        "```git log --oneline```\n",
        "\n",
        "> List all branches:\n",
        "```git branch -a```\n",
        "\n",
        "> Delete a branch:\n",
        "```git branch -d theBranchToRemove```\n",
        "\n"
      ],
      "metadata": {
        "id": "XlEcUpv3VTTB"
      }
    }
  ]
}