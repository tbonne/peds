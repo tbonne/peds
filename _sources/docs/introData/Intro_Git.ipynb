{
  "cells": [
    {
      "cell_type": "markdown",
      "metadata": {
        "id": "JULAL2upR51T"
      },
      "source": [
        "<a href=\"https://colab.research.google.com/github/tbonne/peds/blob/main/docs/introData/Intro_Git.ipynb\" target=\"_parent\"><img src=\"https://colab.research.google.com/assets/colab-badge.svg\" alt=\"Open In Colab\"/></a>"
      ]
    },
    {
      "cell_type": "markdown",
      "metadata": {
        "id": "jGeyI-InR70z"
      },
      "source": [
        "<p align=\"center\">\n",
        "  <img src=\"https://git-scm.com/images/logos/downloads/Git-Logo-2Color.png\" width=\"500\" alt=\"colab\">\n",
        "</p>"
      ]
    },
    {
      "cell_type": "markdown",
      "metadata": {
        "id": "JJ8BTLQER_Px"
      },
      "source": [
        "## <font color='darkorange'>Introduction to Git</font>\n",
        "\n",
        "Let's learn how to use git to collaboratively code. We saw in the lectures what the main commands are and how they are used. But let's see if we can solidify these concepts by applying them to a list project! This project just lists different data science resources out there, and will be a way for us to try and collaboratively edit some shared documents using git.\n",
        "\n",
        "</br>\n",
        "\n",
        "Hopefully some of the lists might even be useful!\n",
        "\n",
        "</br>\n",
        "\n",
        "You can see the project we will edit here: https://github.com/tbonne/DS_lists\n"
      ]
    },
    {
      "cell_type": "markdown",
      "metadata": {
        "id": "Janvuf26bem4"
      },
      "source": [
        "To edit this project we will follow the following steps:\n",
        "\n",
        "- 1) Create a copy of the repository on your GitHub\n",
        "- 2) Make sure github recognizes you!\n",
        "- 3) Create a branch for you to work on\n",
        "- 4) Edit/add one thing to a file (use a random number to choose the file!)\n",
        "- 5) Push your edits to the branch\n",
        "- 6) Submit a pull request\n",
        "- 7) Instructor/TA approoves the pull request\n",
        "\n",
        "Let's go through each step in more detail!"
      ]
    },
    {
      "cell_type": "markdown",
      "metadata": {
        "id": "5L9BCnDeqOCF"
      },
      "source": [
        "### 1) Fork the DS_list repository\n",
        "\n"
      ]
    },
    {
      "cell_type": "markdown",
      "metadata": {
        "id": "wOhtTX78wXZ8"
      },
      "source": [
        "Because the DS_list repository is public, you can see all the lists, and download it. But to edit it, without being an explicit colaborator, you'll need to create your own copy.\n",
        "\n",
        "To do this go to github and fork a copy of the DS_list project. The fork button is on the top right."
      ]
    },
    {
      "cell_type": "markdown",
      "metadata": {
        "id": "ibVeTcgYjRXo"
      },
      "source": [
        "### 2) Make sure github recognizes you in colab\n",
        "\n",
        "We have to let GitHub know who is working on this colab session. That way when we make changes and push them to the repository it knows who did it.\n",
        "\n",
        "So first we have to get an Access Token from your github account. To do so:\n",
        "\n",
        "- login to you github account at github.com\n",
        "\n",
        "- Click on your profile picture (top right), then on 'settings', then 'developer settings' (bottom left).\n",
        "\n",
        "- Click on 'personal access tokens', then on 'tokens classic', then on 'generate new token.'\n",
        "- Give it a name (e.g., colab_project), experiation days 7.\n",
        "\n",
        "- For select scope, we can just click 'repo' that should be enough for this project.\n",
        "\n",
        "Now that we have the token, copy it and use it after running the code below to authenticate yourself."
      ]
    },
    {
      "cell_type": "code",
      "execution_count": null,
      "metadata": {
        "id": "MTF5MflZhA1f"
      },
      "outputs": [],
      "source": [
        "import os, getpass\n",
        "\n",
        "#Enter your github user name here\n",
        "os.environ[\"GITHUB_USER\"] = 'tbonne'\n",
        "\n",
        "# Optional: enter once per runtime\n",
        "os.environ[\"GITHUB_TOKEN\"] = getpass.getpass(\"Token: \")\n"
      ]
    },
    {
      "cell_type": "markdown",
      "metadata": {
        "id": "tHucbqNzkrSM"
      },
      "source": [
        "We can then set our name and email. This will be useful when seeing who did what in the code."
      ]
    },
    {
      "cell_type": "code",
      "execution_count": null,
      "metadata": {
        "id": "9jWFXrlBitL1"
      },
      "outputs": [],
      "source": [
        "# Git identity (for commits)\n",
        "!git config --global user.name \"First Last\"\n",
        "!git config --global user.email \"student@example.com\""
      ]
    },
    {
      "cell_type": "markdown",
      "metadata": {
        "id": "i_d6X6XGix5-"
      },
      "source": [
        "Ok now we are ready to start editing the project!"
      ]
    },
    {
      "cell_type": "markdown",
      "metadata": {
        "id": "-zR1KXJEcxdh"
      },
      "source": [
        "### 2) Copy the repository to colab"
      ]
    },
    {
      "cell_type": "markdown",
      "metadata": {
        "id": "xLmWpkFAc3Dx"
      },
      "source": [
        "Let's first clone the project to colab."
      ]
    },
    {
      "cell_type": "code",
      "execution_count": null,
      "metadata": {
        "id": "tyoOn7Fimot4"
      },
      "outputs": [],
      "source": [
        "!git clone https://github.com/tbonne/DS_lists.git"
      ]
    },
    {
      "cell_type": "markdown",
      "metadata": {
        "id": "9-c9sUWle2_K"
      },
      "source": [
        "You should now see the repository in the files folder on the top left.\n",
        "\n",
        "For the next few commands lets make sure we are in the right directory, so let's change directories (cd) into the DS_lists directory."
      ]
    },
    {
      "cell_type": "code",
      "execution_count": null,
      "metadata": {
        "id": "AxSv7wNDmq0h"
      },
      "outputs": [],
      "source": [
        "%cd /content/DS_lists"
      ]
    },
    {
      "cell_type": "markdown",
      "metadata": {
        "id": "y8x8RoRXm3Zd"
      },
      "source": [
        "Now let's create a branch for you to work on."
      ]
    },
    {
      "cell_type": "code",
      "execution_count": null,
      "metadata": {
        "id": "7LLFfA1sR-75"
      },
      "outputs": [],
      "source": [
        "!git switch -c docs/updatelist-LASTNAME"
      ]
    },
    {
      "cell_type": "markdown",
      "metadata": {
        "id": "2hNgchZqfIts"
      },
      "source": [
        "You've created the branch locally, now let's push the branch online.\n",
        "\n",
        "First we have to setup where to send the new branch: i.e., the origin\n"
      ]
    },
    {
      "cell_type": "code",
      "execution_count": null,
      "metadata": {
        "id": "FG18NP6sfp9n"
      },
      "outputs": [],
      "source": [
        "#set the origin to the DS_lists repro\n",
        "!git remote set-url origin \"https://${GITHUB_TOKEN}@github.com/${GITHUB_USER}/DS_lists.git\""
      ]
    },
    {
      "cell_type": "markdown",
      "metadata": {
        "id": "9zCJz9nff3os"
      },
      "source": [
        "Once the origin is setup we then need to push the new branch."
      ]
    },
    {
      "cell_type": "code",
      "execution_count": null,
      "metadata": {
        "id": "1P9dNXYFfQTT"
      },
      "outputs": [],
      "source": [
        "!git push origin docs/updatelist-LASTNAME"
      ]
    },
    {
      "cell_type": "markdown",
      "metadata": {
        "id": "3xOMd-oGldZs"
      },
      "source": [
        "Ok, we are now ready to make edits!"
      ]
    },
    {
      "cell_type": "markdown",
      "metadata": {
        "id": "abFc1RBRd3fR"
      },
      "source": [
        "### 4) Edit a data science list\n",
        "\n",
        "\n"
      ]
    },
    {
      "cell_type": "markdown",
      "metadata": {
        "id": "6ICxMhH9mft9"
      },
      "source": [
        "Now that you have cloned the repository, and created a branch, open up your chosen list and make an addition or edit.\n",
        "\n",
        "Use the random number to choose the file you will edit! In the lists folder of the repository you will see the files are numbered.\n",
        "\n"
      ]
    },
    {
      "cell_type": "code",
      "execution_count": null,
      "metadata": {
        "id": "8z_GTsSew6SV"
      },
      "outputs": [],
      "source": [
        "import numpy as np\n",
        "\n",
        "np.random.randint(1,10)"
      ]
    },
    {
      "cell_type": "markdown",
      "metadata": {
        "id": "jF9jThi5w5_z"
      },
      "source": [
        "Note: to open a list, goto the files folder on the left, and open up the DS_lists/lists folder. You should see your list in there. Click on it and edit it. Then save the file."
      ]
    },
    {
      "cell_type": "markdown",
      "metadata": {
        "id": "v1jAn-ZFmgW7"
      },
      "source": [
        "### 5) Add and commit your edits locally"
      ]
    },
    {
      "cell_type": "markdown",
      "metadata": {
        "id": "e0T74iRmnqde"
      },
      "source": [
        "Ok, now that you've edited your group list, let's save these changes.\n",
        "\n",
        "Let's learn how to use **add** to register what you changed and **commit** to update your local copy of the reprository with these changes.\n",
        "\n",
        "\n"
      ]
    },
    {
      "cell_type": "markdown",
      "metadata": {
        "id": "yAdg9Y-nonqb"
      },
      "source": [
        "Before we use these commands let's look at what git is doing at the momment.\n",
        "\n",
        "Let's use git status to get a summary of where git is at the moment."
      ]
    },
    {
      "cell_type": "code",
      "execution_count": null,
      "metadata": {
        "id": "EKZsVPr6oPVA"
      },
      "outputs": [],
      "source": [
        "!git status"
      ]
    },
    {
      "cell_type": "markdown",
      "metadata": {
        "id": "ZNEdAkgDljE7"
      },
      "source": [
        "Nothing should be added, but git should show that you are on the branch you just created."
      ]
    },
    {
      "cell_type": "markdown",
      "metadata": {
        "id": "10xf5YSIzGdf"
      },
      "source": [
        "We can even look at the current logs to see what's been done. Not much yet!"
      ]
    },
    {
      "cell_type": "code",
      "execution_count": null,
      "metadata": {
        "id": "zPMQ-oHAmEc9"
      },
      "outputs": [],
      "source": [
        "!git log --oneline"
      ]
    },
    {
      "cell_type": "markdown",
      "metadata": {
        "id": "GCp-xdAXoquE"
      },
      "source": [
        "Above you should see a line for each action git has taken. Right now there's not much, but you should see where you created your branch.\n",
        "\n",
        "Ok, now that we checked the status of git, lets **add** and **commit** your changes."
      ]
    },
    {
      "cell_type": "code",
      "execution_count": null,
      "metadata": {
        "id": "IfH-Q7Ktozdv"
      },
      "outputs": [],
      "source": [
        "#Add all changes\n",
        "!git add --all"
      ]
    },
    {
      "cell_type": "markdown",
      "metadata": {
        "id": "1LJ6uoIwmB8O"
      },
      "source": [
        "We could use:\n",
        "* git add filename.txt to say add a specific file\n",
        "* git add -all to add anything that has updated in this folder and any sub-folders\n",
        "\n",
        "Once we've added all the changes let's commit them to our local repository here on colab."
      ]
    },
    {
      "cell_type": "code",
      "execution_count": null,
      "metadata": {
        "id": "4LGmI3iko3RN"
      },
      "outputs": [],
      "source": [
        "#Commit the changes\n",
        "!git commit -m \"Some short description of what you did...\""
      ]
    },
    {
      "cell_type": "markdown",
      "metadata": {
        "id": "7Ipmh7aJgztQ"
      },
      "source": [
        "Each time you **add** and **commit** the version is save locally.\n",
        "\n",
        "Let's see how the logs have changed."
      ]
    },
    {
      "cell_type": "code",
      "execution_count": null,
      "metadata": {
        "id": "or_xgw_chnTb"
      },
      "outputs": [],
      "source": [
        "!git log --oneline"
      ]
    },
    {
      "cell_type": "markdown",
      "metadata": {
        "id": "EbZ-b9tWmWk4"
      },
      "source": [
        "You should see an extra line showing your recent commmit with your message. The alphanumeric strings at the start of the lines are your commits. You can always go back in time to a new commit if something goes wrong."
      ]
    },
    {
      "cell_type": "markdown",
      "metadata": {
        "id": "7SafGl44hPOC"
      },
      "source": [
        "### 6) Push your local changes to your forked repository online"
      ]
    },
    {
      "cell_type": "markdown",
      "metadata": {
        "id": "8nHMBKCvoa3H"
      },
      "source": [
        "Now that you've edited a list, let's upload that to github. To do that we'll firt do a **push** to send these changes to your forked repository."
      ]
    },
    {
      "cell_type": "code",
      "execution_count": null,
      "metadata": {
        "id": "eJdYuOoYpGz_"
      },
      "outputs": [],
      "source": [
        "!git push origin docs/updatelist-LASTNAME"
      ]
    },
    {
      "cell_type": "markdown",
      "metadata": {
        "id": "EQ3OGEGErz7c"
      },
      "source": [
        "At this stage, if you are collaborating with others, sometimes you'll find some conflicts here! For example, someone might have altered the same list as you. In these cases you'll have to do some work to merge the two changes. Sometimes git will be able to automatically merge the differences, but sometimes it will simply mark where the conflicts are and get you to choose what to keep."
      ]
    },
    {
      "cell_type": "markdown",
      "metadata": {
        "id": "8FcaR-mh0r5-"
      },
      "source": [
        "### Start a pull request"
      ]
    },
    {
      "cell_type": "markdown",
      "metadata": {
        "id": "DOj2FSAk0u57"
      },
      "source": [
        "Now that you've edited a list, and updated your forked copy of the repository, it's time to send these updates back to the original repository.\n",
        "\n",
        "To do this we'll have to start a pull request.\n",
        "\n",
        "This can be done on GitHub. If you go to your GitHub page and open your forked repository, you should see yellow banner at the top asking if you want to \"compare and pull request\".\n",
        "\n",
        "When you click on that you just want to make sure:\n",
        "\n",
        "* the 'base fork' points to the original repository (e.g., tbonne/DS_list)\n",
        "* the 'base' points to the master branch\n",
        "* the 'head fork' points to your forked copy of the repository\n",
        "* the 'compare branch' points to your branch\n",
        "\n",
        "For the most part these values will be set correctly automatically.\n",
        "\n",
        "You can add a little note about what you're updating.\n",
        "\n",
        "Then you can click \"create pull request\"."
      ]
    },
    {
      "cell_type": "markdown",
      "metadata": {
        "id": "0StSrjcf3trN"
      },
      "source": [
        "An instructor or TA will now be able to check your pull request and decide if the addition is something that should be added!"
      ]
    },
    {
      "cell_type": "markdown",
      "metadata": {
        "id": "tEmFKfS_fbbk"
      },
      "source": [
        "### Learning more!\n",
        "\n",
        "\n",
        "\n"
      ]
    },
    {
      "cell_type": "markdown",
      "metadata": {
        "id": "EnARo_wI5n6G"
      },
      "source": [
        "If you would like to go deeper into git here is a great series of videos that will expand on what we covered here:\n",
        "* https://yuja.ucalgary.ca/V/PlayList?node=6694269&a=1248179342"
      ]
    },
    {
      "cell_type": "markdown",
      "metadata": {
        "id": "ao1V5U-P3uw-"
      },
      "source": [
        "A good step that can take you a little further would be to try and setup git on your computer and use VSCode.\n",
        "\n",
        "* https://code.visualstudio.com/docs/sourcecontrol/intro-to-git"
      ]
    },
    {
      "cell_type": "markdown",
      "metadata": {
        "id": "bMlM9nzT5kF_"
      },
      "source": [
        "### Notes:\n"
      ]
    },
    {
      "cell_type": "markdown",
      "metadata": {
        "id": "HmLP4ep95lka"
      },
      "source": [
        "* !: This prefix in Colab allows you to execute shell commands directly.\n",
        "* %cd: Changes the current directory within Colab."
      ]
    },
    {
      "cell_type": "markdown",
      "metadata": {
        "id": "XlEcUpv3VTTB"
      },
      "source": [
        "Some other useful git commands:\n",
        "\n",
        "> View logs (what's been done):\n",
        "```git log --oneline```\n",
        "\n",
        "> List all branches:\n",
        "```git branch -a```\n",
        "\n",
        "> Delete a branch:\n",
        "```git branch -d theBranchToRemove```\n",
        "\n"
      ]
    }
  ],
  "metadata": {
    "colab": {
      "collapsed_sections": [
        "bMlM9nzT5kF_"
      ],
      "provenance": []
    },
    "kernelspec": {
      "display_name": "Python 3",
      "name": "python3"
    },
    "language_info": {
      "name": "python"
    }
  },
  "nbformat": 4,
  "nbformat_minor": 0
}
