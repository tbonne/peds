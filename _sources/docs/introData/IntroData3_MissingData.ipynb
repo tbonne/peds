{
 "cells": [
  {
   "cell_type": "markdown",
   "metadata": {},
   "source": [
    "<a href=\"https://colab.research.google.com/github/tbonne/peds/blob/main/docs/introData/IntroData3_MissingData.ipynb\" target=\"_parent\"><img src=\"https://colab.research.google.com/assets/colab-badge.svg\" alt=\"Open In Colab\"/></a>"
   ]
  },
  {
   "cell_type": "markdown",
   "metadata": {
    "id": "pBZP_OiE51hS"
   },
   "source": [
    "\n",
    "```{image} ../../images/missingData.jpeg\n",
    ":width: 300\n",
    ":align: center\n",
    ":alt: colab\n",
    "```\n"
   ]
  },
  {
   "cell_type": "markdown",
   "metadata": {},
   "source": [
    "***"
   ]
  },
  {
   "cell_type": "markdown",
   "metadata": {
    "id": "FU-OJpTL8a8G"
   },
   "source": [
    "## <font color='darkorange'>Missing Data</font>"
   ]
  },
  {
   "cell_type": "markdown",
   "metadata": {
    "id": "t3PFv2z8AkQt"
   },
   "source": [
    "In this exercise we will learn how to handle missing data. \n",
    "\n",
    "Outline:\n",
    "*  How to find missing data\n",
    "*  How to remove missing data (if appropriate!)\n",
    "\n"
   ]
  },
  {
   "cell_type": "markdown",
   "metadata": {
    "id": "1WTg3hAj6qnT"
   },
   "source": [
    "### <font color='darkorange'>Load Data</font>"
   ]
  },
  {
   "cell_type": "markdown",
   "metadata": {
    "id": "WvsoKtBe9SOU"
   },
   "source": [
    "```{image} ../../images/take_action.jpg\n",
    ":width: 100\n",
    ":align: left\n",
    ":alt: colab\n",
    "```\n",
    "<br><br><br>"
   ]
  },
  {
   "cell_type": "markdown",
   "metadata": {
    "id": "_mUGfCfe6ptZ"
   },
   "source": [
    "  \n",
    "First load in the pandas library and bring in the NYC flight data"
   ]
  },
  {
   "cell_type": "code",
   "execution_count": null,
   "metadata": {
    "id": "3zRNUusg8X7g"
   },
   "outputs": [],
   "source": [
    "#Import pandas library\n",
    "??\n",
    "\n",
    "#read in the NYC flight data\n",
    "df_flights = ??"
   ]
  },
  {
   "cell_type": "markdown",
   "metadata": {
    "id": "Wsk61Ewp9fs-"
   },
   "source": [
    "Give a thumbs up in Slack once your done!"
   ]
  },
  {
   "cell_type": "markdown",
   "metadata": {
    "id": "qSD00xVj7DOS"
   },
   "source": [
    "### <font color='darkorange'>Identifying Missing Data</font>"
   ]
  },
  {
   "cell_type": "markdown",
   "metadata": {
    "id": "444XSvI7x7Dl"
   },
   "source": [
    "Most data that you'll find will have missing values, or values that cannot be true (i.e., errors). Here we will look at how to find missing values, and how to handle them."
   ]
  },
  {
   "cell_type": "markdown",
   "metadata": {
    "id": "GOVN8AbRGRvq"
   },
   "source": [
    "Below we use the method **isna()** to identify cells in the dataframe where the values are **NA**. We use the sum function ontop of the **isna** method to count the number of **NA** values.\n",
    "\n",
    "> Note: when you combine methods in this way the outputs of the first (going left to right) act as inputs for the second. This is called method chaining, and we will use it with pandas objects!"
   ]
  },
  {
   "cell_type": "code",
   "execution_count": null,
   "metadata": {
    "id": "34oRtQdnCxH1"
   },
   "outputs": [],
   "source": [
    "#count Null values for each column of the dataframe\n",
    "df_flights.isna().sum()"
   ]
  },
  {
   "cell_type": "markdown",
   "metadata": {
    "id": "JA1teHK1Hzgg"
   },
   "source": [
    "So we can see that there are not that many missing values in this dataframe. Let's take a look at how many rows of data we have:"
   ]
  },
  {
   "cell_type": "code",
   "execution_count": null,
   "metadata": {
    "id": "QU0WZuNEHnuT"
   },
   "outputs": [],
   "source": [
    "len(df_flights)"
   ]
  },
  {
   "cell_type": "markdown",
   "metadata": {
    "id": "bLBAiMcMIBxg"
   },
   "source": [
    "And at what proportion of data is missing:"
   ]
  },
  {
   "cell_type": "code",
   "execution_count": null,
   "metadata": {
    "id": "pSGg196tIBC3"
   },
   "outputs": [],
   "source": [
    "df_flights.isnull().sum() / len(df_flights)"
   ]
  },
  {
   "cell_type": "markdown",
   "metadata": {
    "id": "ZFtdL0YldwD-"
   },
   "source": [
    "We can take a look at these missing values within the dataframe by opening the dataframe in colab (Files - dubble click on the file - then filter by NA)"
   ]
  },
  {
   "cell_type": "markdown",
   "metadata": {
    "id": "IjmH1vEbIRY-"
   },
   "source": [
    "So we can see in this dataset there is very little in the way of missing data! But what should we do with those data entries? We could:\n",
    "\n",
    "1. Understand how/why they are missing (data story!)\n",
    "1. Remove those data entries (missing at random?)\n",
    "2. Fill them in with estimates (impute the missing data)"
   ]
  },
  {
   "cell_type": "markdown",
   "metadata": {
    "id": "xmUy2WNT-ANv"
   },
   "source": [
    "### <font color='darkorange'>Drop Missing Data</font>"
   ]
  },
  {
   "cell_type": "markdown",
   "metadata": {
    "id": "SNITlJ0ZIa5B"
   },
   "source": [
    "Below we will remove the rows with missing data in one column. So if there is no data in this column then it will remove that entire row from the data."
   ]
  },
  {
   "cell_type": "code",
   "execution_count": null,
   "metadata": {
    "id": "DHwhiklpXq6F"
   },
   "outputs": [],
   "source": [
    "#drop rows if air time contains missing values\n",
    "df_flights_airtime_na = df_flights[df_flights.air_time.isna()==False]\n",
    "\n",
    "#take a look at the new length of the dataframe\n",
    "len(df_flights_airtime_na)\n"
   ]
  },
  {
   "cell_type": "markdown",
   "metadata": {
    "id": "PtJNhHOBgqGY"
   },
   "source": [
    "It is also possible to remove any row that has missing values."
   ]
  },
  {
   "cell_type": "code",
   "execution_count": null,
   "metadata": {
    "id": "FhtLXpLkgp10"
   },
   "outputs": [],
   "source": [
    "#drop rows if any column contain missing values\n",
    "df_flights_sub_na = df_flights.dropna(how='any')\n",
    "\n",
    "len(df_flights_sub_na)"
   ]
  },
  {
   "cell_type": "markdown",
   "metadata": {
    "id": "WMd6olXwGU9I"
   },
   "source": [
    "```{image} ../../images/take_action.jpg\n",
    ":width: 100\n",
    ":align: left\n",
    ":alt: colab\n",
    "```\n",
    "<br><br><br>"
   ]
  },
  {
   "cell_type": "markdown",
   "metadata": {
    "id": "w8IudZJWGZ3O"
   },
   "source": [
    "  \n",
    "Try removing all the rows with NAs in arr_time."
   ]
  },
  {
   "cell_type": "code",
   "execution_count": null,
   "metadata": {
    "id": "FnDrYBDMGUmC"
   },
   "outputs": [],
   "source": [
    "#drop rows if arrival time contains missing values\n",
    "df_flights_arr_time_na = ?\n",
    "\n",
    "#check the length"
   ]
  },
  {
   "cell_type": "markdown",
   "metadata": {
    "id": "e7FSsKNoD50-"
   },
   "source": [
    "### <font color='darkorange'>Add column of missingness</font>"
   ]
  },
  {
   "cell_type": "markdown",
   "metadata": {
    "id": "M-JEGyDQEEc2"
   },
   "source": [
    "Here the idea is that missing data might be useful for making predictions. Let's add another column to the DataFrame to identify missing data in *air time*.\n",
    "\n",
    "> Here we use method chaining to select a column 'air_time' and check to see if each row has an NA value. This gives us true and false values for each row."
   ]
  },
  {
   "cell_type": "code",
   "execution_count": null,
   "metadata": {
    "id": "3THCurOIETww"
   },
   "outputs": [],
   "source": [
    "#create new column with true/false if there is missing data in air time\n",
    "df_flights['missingAirTime'] = df_flights.air_time.isna()\n",
    "\n",
    "#take a look \n",
    "df_flights"
   ]
  },
  {
   "cell_type": "markdown",
   "metadata": {
    "id": "lY8bnquJFcbo"
   },
   "source": [
    "Let's add one more step to that method chain, and convert the true false into integers. To do so we'll add the method **asType('int')**, which converts the true/false into 1/0."
   ]
  },
  {
   "cell_type": "code",
   "execution_count": null,
   "metadata": {
    "id": "V0SoE1fEFSxd"
   },
   "outputs": [],
   "source": [
    "#create new column with true/false if there is missing data in air time\n",
    "df_flights['missingAirTime'] = df_flights.air_time.isna().astype('int')\n",
    "\n",
    "#take a look \n",
    "df_flights"
   ]
  },
  {
   "cell_type": "markdown",
   "metadata": {
    "id": "x0NQ_2SFbwAl"
   },
   "source": [
    "```{image} ../../images/take_action.jpg\n",
    ":width: 100\n",
    ":align: left\n",
    ":alt: colab\n",
    "```\n",
    "<br><br><br>"
   ]
  },
  {
   "cell_type": "markdown",
   "metadata": {
    "id": "LJhK9sj_bwAn"
   },
   "source": [
    "Try adding a column of missingness for plane tail number (i.e., tailnum)."
   ]
  },
  {
   "cell_type": "code",
   "execution_count": null,
   "metadata": {
    "id": "fx5WdyuHbwAo"
   },
   "outputs": [],
   "source": [
    "#create new column with 1/0 if there is missing data in tailnum\n",
    "df_flights[?] = ?\n",
    "\n",
    "#take a look\n",
    "?\n"
   ]
  },
  {
   "cell_type": "markdown",
   "metadata": {
    "id": "KXhMgL0tAULT"
   },
   "source": [
    "### <font color='darkorange'>Further reading</font>"
   ]
  },
  {
   "cell_type": "markdown",
   "metadata": {
    "id": "QXhltXp2AUln"
   },
   "source": [
    "There are many ways to deal with [missing data with pandas](https://pandas.pydata.org/pandas-docs/stable/user_guide/missing_data.html). Just remember that some ways are more justifyable than others, and a good understanding of how the data came to be is key in deciding which ways might work best.\n",
    "\n",
    "> If you would like the notebook without missing code check out the [full code](https://colab.research.google.com/github/tbonne/peds/blob/main/docs/fullNotebooks/full_IntroData3_MissingData.ipynb) version."
   ]
  }
 ],
 "metadata": {
  "colab": {
   "authorship_tag": "ABX9TyMAbNSh6NG5RJhX7d/HD8A6",
   "collapsed_sections": [],
   "mount_file_id": "18zqUd6ikvKab_E0PdMQrguGX-3hoHck-",
   "name": "IntroData3_MissingData.ipynb",
   "provenance": []
  },
  "kernelspec": {
   "display_name": "Python 3",
   "name": "python3"
  }
 },
 "nbformat": 4,
 "nbformat_minor": 2
}
