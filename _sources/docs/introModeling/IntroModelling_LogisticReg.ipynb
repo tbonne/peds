{
  "nbformat": 4,
  "nbformat_minor": 2,
  "metadata": {
    "colab": {
      "name": "IntroModelling_LogisticReg.ipynb",
      "provenance": [],
      "collapsed_sections": [],
      "authorship_tag": "ABX9TyOeqLWnzBhQehWioLwgrotP",
      "include_colab_link": true
    },
    "kernelspec": {
      "name": "python3",
      "display_name": "Python 3"
    },
    "language_info": {
      "name": "python"
    }
  },
  "cells": [
    {
      "cell_type": "markdown",
      "source": [
        "<a href=\"https://colab.research.google.com/github/tbonne/peds/blob/main/docs/introModeling/IntroModelling_LogisticReg.ipynb\" target=\"_parent\"><img src=\"https://colab.research.google.com/assets/colab-badge.svg\" alt=\"Open In Colab\"/></a>"
      ],
      "metadata": {
        "id": "view-in-github",
        "colab_type": "text"
      }
    },
    {
      "cell_type": "markdown",
      "source": [
        "<img src='http://drive.google.com/uc?export=view&id=1bZKsW45WU9qy7y13X5QF5IYgJ58OTYm0'>"
      ],
      "metadata": {
        "id": "0BFAQnfHmeaB"
      }
    },
    {
      "cell_type": "markdown",
      "source": [
        "## <font color='darkorange'>Logistic regression</font>"
      ],
      "metadata": {
        "id": "4VTsxBzT7tAb"
      }
    },
    {
      "cell_type": "markdown",
      "source": [
        "> In previous classes we have used exploritory approaches to visualize and quantify relationships between variables. We used linear regression to make predictions about numeric values (e.g., boston house prices), now we will use logistic regression models for a classification problem. Here we will try and distinguish tissue samples as positive/negative for breast cancer."
      ],
      "metadata": {
        "id": "03s3L0-C8Zxr"
      }
    },
    {
      "cell_type": "markdown",
      "source": [
        "Let's load in our growing list of python packages that we are getting used to using.\n"
      ],
      "metadata": {
        "id": "MAhpAGvgCH_5"
      }
    },
    {
      "cell_type": "code",
      "execution_count": null,
      "source": [
        "import sklearn as sk\n",
        "from sklearn.model_selection import train_test_split\n",
        "\n",
        "import pandas as pd\n",
        "import seaborn as sns\n",
        "import matplotlib.pyplot as plt\n",
        "\n",
        "import statsmodels.api as sm\n",
        "import statsmodels.formula.api as smf\n"
      ],
      "outputs": [],
      "metadata": {
        "id": "JyXkhDShnx8J"
      }
    },
    {
      "cell_type": "markdown",
      "source": [
        "Then let's load in the breast cancer dataset, and get it into a format we can use."
      ],
      "metadata": {
        "id": "aZZS3rQvo7Xk"
      }
    },
    {
      "cell_type": "code",
      "execution_count": null,
      "source": [
        "# The tissue sample dataset\n",
        "df_cancer = ?\n",
        "\n",
        "#take a look\n",
        "?"
      ],
      "outputs": [],
      "metadata": {
        "id": "Iv6LFQPupABa"
      }
    },
    {
      "cell_type": "markdown",
      "source": [
        "### <font color='darkorange'>Understand the data </font>"
      ],
      "metadata": {
        "id": "wJHjdshLGGyI"
      }
    },
    {
      "cell_type": "markdown",
      "source": [
        "What kinds of data is the cancer data?\n"
      ],
      "metadata": {
        "id": "E-eSiYP3HOlx"
      }
    },
    {
      "cell_type": "code",
      "execution_count": null,
      "source": [
        "?"
      ],
      "outputs": [],
      "metadata": {
        "id": "3YbSSBjNHWun"
      }
    },
    {
      "cell_type": "markdown",
      "source": [
        "Are there missing values anywhere?"
      ],
      "metadata": {
        "id": "4JTcOqxPHXZh"
      }
    },
    {
      "cell_type": "code",
      "execution_count": null,
      "source": [
        "?"
      ],
      "outputs": [],
      "metadata": {
        "id": "6hmyJub7HX6h"
      }
    },
    {
      "cell_type": "markdown",
      "source": [
        "### <font color='darkorange'>Visualize and Explore </font>"
      ],
      "metadata": {
        "id": "IRu_wGLKG5qK"
      }
    },
    {
      "cell_type": "markdown",
      "source": [
        "Histogram of the target variable"
      ],
      "metadata": {
        "id": "mEcsEoBeFpYa"
      }
    },
    {
      "cell_type": "code",
      "execution_count": null,
      "source": [
        "?"
      ],
      "outputs": [],
      "metadata": {
        "id": "RNIgmjtjFrz5"
      }
    },
    {
      "cell_type": "markdown",
      "source": [
        "Plot the target variable (benign) on the y-axis with another variable on the x-axis. Try out a few different variables on the x-axis."
      ],
      "metadata": {
        "id": "g87llbBEG-J4"
      }
    },
    {
      "cell_type": "code",
      "execution_count": null,
      "source": [
        "?"
      ],
      "outputs": [],
      "metadata": {
        "id": "STIJY6mXGGh3"
      }
    },
    {
      "cell_type": "markdown",
      "source": [
        "Create a heat map to help you explore"
      ],
      "metadata": {
        "id": "kBlzvYeAHb_p"
      }
    },
    {
      "cell_type": "code",
      "execution_count": null,
      "source": [
        "?"
      ],
      "outputs": [],
      "metadata": {
        "id": "gIxHKp43JMzO"
      }
    },
    {
      "cell_type": "markdown",
      "source": [
        "### <font color='darkorange'>Data wrangeling </font>"
      ],
      "metadata": {
        "id": "GFsEVUnqquWz"
      }
    },
    {
      "cell_type": "markdown",
      "source": [
        "#### Data preprocessing (binary variables)"
      ],
      "metadata": {
        "id": "HYoCKQeQsVBl"
      }
    },
    {
      "cell_type": "code",
      "execution_count": null,
      "source": [
        "from sklearn.preprocessing import OrdinalEncoder\n",
        "\n",
        "#get the columns names of features you'd like to turn into 0/1\n",
        "bin_names = ['benign']\n",
        "\n",
        "#create a dataframe of those features\n",
        "bin_features = df_cancer[bin_names]\n",
        "\n",
        "#fit the scaler to those data\n",
        "bin_scaler = OrdinalEncoder().fit(bin_features.values)\n",
        "\n",
        "#use the scaler to transform your data\n",
        "bin_features = bin_scaler.transform(bin_features.values)\n",
        "\n",
        "#put these scaled features back into your transformed features dataframe\n",
        "df_cancer[bin_names] = bin_features\n",
        "\n",
        "#take a look\n",
        "df_cancer"
      ],
      "outputs": [],
      "metadata": {
        "id": "Mc_Ru7FRsdJ9"
      }
    },
    {
      "cell_type": "code",
      "execution_count": null,
      "source": [
        "bin_scaler.categories_"
      ],
      "outputs": [],
      "metadata": {
        "id": "dl4BZFyoM6qq"
      }
    },
    {
      "cell_type": "markdown",
      "source": [
        "#### Data preprocessing (categorical variables)"
      ],
      "metadata": {
        "id": "RWiQn1gHs4i5"
      }
    },
    {
      "cell_type": "markdown",
      "source": [
        "Technician ID number is a categorical value, but it is being treated as a number (int64). Let's convert it to a category."
      ],
      "metadata": {
        "id": "O2wZLBstt_rV"
      }
    },
    {
      "cell_type": "code",
      "execution_count": null,
      "source": [
        "df_cancer['technician'] = df_cancer.technician.astype('category')"
      ],
      "outputs": [],
      "metadata": {
        "id": "6hLs5unAN0kb"
      }
    },
    {
      "cell_type": "code",
      "execution_count": null,
      "source": [
        "\n",
        "#categorical variables\n",
        "cat_names = ['technician']\n",
        "\n",
        "#create dummy variables\n",
        "df_cat = pd.get_dummies(df_cancer[cat_names])\n",
        "\n",
        "#add them back to the original dataframe\n",
        "df_cancer = pd.concat([df_cancer,df_cat], axis=1)\n",
        "\n",
        "#remove the old columns\n",
        "df_cancer = df_cancer.drop(cat_names, axis=1)\n",
        "\n",
        "#take a look\n",
        "df_cancer"
      ],
      "outputs": [],
      "metadata": {
        "id": "X2loCli-s0SF"
      }
    },
    {
      "cell_type": "markdown",
      "source": [
        "#### Split our dataframe into training and testing datasets"
      ],
      "metadata": {
        "id": "n8C4RUB7RYCG"
      }
    },
    {
      "cell_type": "code",
      "execution_count": null,
      "source": [
        "#split the data into training and testing (80/20 split)\n",
        "df_train, df_test = sk.model_selection.train_test_split(df_cancer, test_size=0.20)\n"
      ],
      "outputs": [],
      "metadata": {
        "id": "eZEdEuROIFNC"
      }
    },
    {
      "cell_type": "code",
      "execution_count": null,
      "source": [
        "#take a look training dataset\n",
        "df_train.shape"
      ],
      "outputs": [],
      "metadata": {
        "id": "2CmwRtpxS7Vf"
      }
    },
    {
      "cell_type": "code",
      "execution_count": null,
      "source": [
        "#take a look\n",
        "df_test.shape\n"
      ],
      "outputs": [],
      "metadata": {
        "id": "HdMXfjuFSNfq"
      }
    },
    {
      "cell_type": "markdown",
      "source": [
        "### Data pre-processing (numeric)"
      ],
      "metadata": {
        "id": "gk9WNnywF7Cw"
      }
    },
    {
      "cell_type": "code",
      "execution_count": null,
      "source": [
        "#Feature Scaling (after spliting the data!)\n",
        "from sklearn.preprocessing import StandardScaler \n",
        "\n",
        "#numeric variables\n",
        "numb_names = df_train.drop(['benign','technician_1','technician_2','technician_3','technician_4'],axis=1).select_dtypes('number').columns.tolist()\n",
        "\n",
        "#create the standard scaler object\n",
        "sc = StandardScaler()\n",
        "\n",
        "#use this object to fit (i.e., to calculate the mean and sd of each variable in the training data) and then to transform the training data\n",
        "df_train[numb_names] = sc.fit_transform(df_train[numb_names])\n",
        "\n",
        "#use the fit from the training data to transform the test data\n",
        "df_test[numb_names] = sc.transform(df_test[numb_names])\n"
      ],
      "outputs": [],
      "metadata": {
        "id": "7dXBfXA8F9UD"
      }
    },
    {
      "cell_type": "markdown",
      "source": [
        "\n",
        "### <font color='darkorange'>Modeling and Prediction</font>"
      ],
      "metadata": {
        "id": "d5JdBUC5HlCl"
      }
    },
    {
      "cell_type": "markdown",
      "source": [
        "> Let's look building our second kind of model -- logistic regression! How well can we predict the benign cases? This is similar to clustering analysis except we have the labels! Can we train a model to make the right predictions?\n",
        "<br>\n",
        "We will follow a general approach when building models. We will divide the dataset into *training* and *testing* datasets. \n",
        "<br>\n",
        "This lets us fit the model to one part of the data and then use the withheld data to test the predictions of the model. This helps us avoid *overfitting* our model!"
      ],
      "metadata": {
        "id": "xlIVmLX7HqMm"
      }
    },
    {
      "cell_type": "markdown",
      "source": [
        "### Fit a model"
      ],
      "metadata": {
        "id": "moh5HFYwTKoz"
      }
    },
    {
      "cell_type": "markdown",
      "source": [
        "<img src='http://drive.google.com/uc?export=view&id=1WC4tXGCEF-1_2LQ74gIxJAZ-GLXCwBdK' width=\"100\" align = 'left'>  "
      ],
      "metadata": {
        "id": "_YLTO-6TN-wq"
      }
    },
    {
      "cell_type": "markdown",
      "source": [
        "Below choose a variable to predict if the tissue sample is benign or not."
      ],
      "metadata": {
        "id": "dIvVVDYnN_uq"
      }
    },
    {
      "cell_type": "markdown",
      "source": [
        "In general when using sklearn to fit a model we will follow these steps:"
      ],
      "metadata": {
        "id": "vrThvCCaTbqR"
      }
    },
    {
      "cell_type": "code",
      "execution_count": null,
      "source": [
        "#define model parameters\n",
        "log_reg = smf.logit('benign ~ ?', data=df_train)\n",
        "\n",
        "#fit the model to the training data\n",
        "results = log_reg.fit()\n",
        "\n",
        "#Get a summary of the model parameters\n",
        "print(results.summary())\n"
      ],
      "outputs": [],
      "metadata": {
        "id": "jI65cVtTTbFd"
      }
    },
    {
      "cell_type": "markdown",
      "source": [
        "#### Visualize and explore the model predictions"
      ],
      "metadata": {
        "id": "GmYUjT27dbBy"
      }
    },
    {
      "cell_type": "markdown",
      "source": [
        "Let's look at where the model to a good/bad job of classifying images into benign or not!"
      ],
      "metadata": {
        "id": "_s_PldxndpS3"
      }
    },
    {
      "cell_type": "code",
      "execution_count": null,
      "source": [
        "#let's first predict values in the testing dataset\n",
        "df_test['benign_prob'] = results.predict(df_test).round(2)\n",
        "\n",
        "df_test['benign_pred'] = (df_test['benign_prob']>0.5).astype(int) #here we've used 0.5 as the threshold of benign or not!\n",
        "\n",
        "df_test"
      ],
      "outputs": [],
      "metadata": {
        "id": "OYucuvmqj0uN"
      }
    },
    {
      "cell_type": "markdown",
      "source": [
        "Let's plot the predicted and observed points!"
      ],
      "metadata": {
        "id": "V4YdwcpskQyC"
      }
    },
    {
      "cell_type": "code",
      "execution_count": null,
      "source": [
        "sns.scatterplot(data=df_test,x='mean_symmetry', y='benign')"
      ],
      "outputs": [],
      "metadata": {
        "id": "EZxBRFwqdwd5"
      }
    },
    {
      "cell_type": "code",
      "execution_count": null,
      "source": [
        "sns.scatterplot(data=df_test,x='mean_symmetry', y='benign')\n",
        "sns.scatterplot(data=df_test,x='mean_symmetry', y='benign_pred')"
      ],
      "outputs": [],
      "metadata": {
        "id": "-OgHBdczgYn1"
      }
    },
    {
      "cell_type": "markdown",
      "source": [
        "<img src='http://drive.google.com/uc?export=view&id=1qWrKY9TgpgQaBCzZfz1xLTV6iCeSwfmG' width=\"100\" align = 'left'>"
      ],
      "metadata": {
        "id": "C0MmbEZ7dq5e"
      }
    },
    {
      "cell_type": "markdown",
      "source": [
        "How good is the model at classifying?"
      ],
      "metadata": {
        "id": "S7gvWHDrbuK1"
      }
    },
    {
      "cell_type": "code",
      "execution_count": null,
      "source": [
        "#confusion table\n",
        "confusion_matrix = sk.metrics.confusion_matrix(df_test['benign'], df_test['benign_pred'])\n",
        "print(confusion_matrix)"
      ],
      "outputs": [],
      "metadata": {
        "id": "ksoip4-QFDYe"
      }
    },
    {
      "cell_type": "code",
      "execution_count": null,
      "source": [
        "#more visual approach\n",
        "sns.heatmap(confusion_matrix, annot=True)\n",
        "plt.xlabel('Predicted label')\n",
        "plt.ylabel('True label')"
      ],
      "outputs": [],
      "metadata": {
        "id": "AhYeBHZJMn2u"
      }
    },
    {
      "cell_type": "markdown",
      "source": [
        "Measuring classification success:"
      ],
      "metadata": {
        "id": "bEvZvpW3FFdB"
      }
    },
    {
      "cell_type": "code",
      "execution_count": null,
      "source": [
        "print('Accuracy: {:.2f}'.format(sk.metrics.accuracy_score(df_test['benign'], df_test['benign_pred'])))\n",
        "print('precision: {:.2f}'.format(sk.metrics.precision_score(df_test['benign'], df_test['benign_pred'])))\n",
        "print('recal: {:.2f}'.format(sk.metrics.recall_score(df_test['benign'], df_test['benign_pred'])))\n"
      ],
      "outputs": [],
      "metadata": {
        "id": "T-3K34M6clh1"
      }
    },
    {
      "cell_type": "markdown",
      "source": [
        "> **Accuracy** is the overall ability of the model to correctly identify positive and negative samples.\n",
        "\n",
        "> **Precision** is intuitively the ability of the classifier to not label a sample as positive if it is negative.\n",
        "\n",
        "> **Recall** is intuitively the ability of the classifier to find all the positive samples."
      ],
      "metadata": {
        "id": "8wk1MP3yPt41"
      }
    },
    {
      "cell_type": "markdown",
      "source": [
        "Compare that accuracy if we just predicted the most common type (i.e., let's compute a baseline!)"
      ],
      "metadata": {
        "id": "imuhCYCRwAKW"
      }
    },
    {
      "cell_type": "code",
      "execution_count": null,
      "source": [
        "df_cancer.benign.value_counts()"
      ],
      "outputs": [],
      "metadata": {
        "id": "nZtsrN4AwHZG"
      }
    },
    {
      "cell_type": "code",
      "execution_count": null,
      "source": [
        "357/(212+357)"
      ],
      "outputs": [],
      "metadata": {
        "id": "mBePam8lwMDT"
      }
    },
    {
      "cell_type": "markdown",
      "source": [
        "Is all that variation noise? Or maybe there are other variables that might explain why the predictions are off."
      ],
      "metadata": {
        "id": "d2iuYitVkb3O"
      }
    },
    {
      "cell_type": "markdown",
      "source": [
        "<img src='http://drive.google.com/uc?export=view&id=1qWrKY9TgpgQaBCzZfz1xLTV6iCeSwfmG' width=\"100\" align = 'left'>"
      ],
      "metadata": {
        "id": "SS_vxHN7vpBg"
      }
    },
    {
      "cell_type": "markdown",
      "source": [
        "### Fit a more complex model"
      ],
      "metadata": {
        "id": "6L3gTa8Ik_6I"
      }
    },
    {
      "cell_type": "markdown",
      "source": [
        "This time we will try logistic regression with many predictors. How high can you get the accuracy?"
      ],
      "metadata": {
        "id": "S4pSaQXslLVk"
      }
    },
    {
      "cell_type": "markdown",
      "source": [
        "<img src='http://drive.google.com/uc?export=view&id=1WC4tXGCEF-1_2LQ74gIxJAZ-GLXCwBdK' width=\"100\" align = 'left'>  "
      ],
      "metadata": {
        "id": "uUm_ZfRBvhs5"
      }
    },
    {
      "cell_type": "code",
      "execution_count": null,
      "source": [
        "#define model parameters\n",
        "log_reg2 = smf.logit('benign ~ ?' , data=df_train)\n",
        "\n",
        "#fit the model to the training data\n",
        "results2 = log_reg2.fit(method='bfgs')\n",
        "\n",
        "#Get a summary of the model parameters\n",
        "print(results2.summary())\n"
      ],
      "outputs": [],
      "metadata": {
        "id": "LcG4MXuolVpB"
      }
    },
    {
      "cell_type": "markdown",
      "source": [
        "Visualize and explore these predictions"
      ],
      "metadata": {
        "id": "8yeNY-fNlVpo"
      }
    },
    {
      "cell_type": "code",
      "execution_count": null,
      "source": [
        "#let's first predict values in the testing dataset\n",
        "df_test['benign_prob_multi'] = ?.predict(?).round(2)\n",
        "\n",
        "df_test['benign_pred_multi'] = (?>0.5).astype(int) #here we've used 0.5 as the threshold of benign or not!\n",
        "\n",
        "df_test"
      ],
      "outputs": [],
      "metadata": {
        "id": "Ql6ferivj2v4"
      }
    },
    {
      "cell_type": "markdown",
      "source": [
        "First let's look at how the model fit to the training data. Now that we have two predictors we'll have to look at one at a time.\n",
        "</br>\n",
        "Let's look at RM first:"
      ],
      "metadata": {
        "id": "UkNy9y6XlVpp"
      }
    },
    {
      "cell_type": "markdown",
      "source": [
        "How good is the model at predicting?"
      ],
      "metadata": {
        "id": "NHsjIRSOlVpu"
      }
    },
    {
      "cell_type": "code",
      "execution_count": null,
      "source": [
        "#confusion table\n",
        "confusion_matrix2 = sk.metrics.confusion_matrix(?, ?)\n",
        "print(?)"
      ],
      "outputs": [],
      "metadata": {
        "id": "aFLuCoA1TFjY"
      }
    },
    {
      "cell_type": "code",
      "execution_count": null,
      "source": [
        "#more visual approach\n",
        "sns.heatmap(?, annot=True)\n",
        "plt.xlabel('Predicted label')\n",
        "plt.ylabel('True label')"
      ],
      "outputs": [],
      "metadata": {
        "id": "IyradqCwTFj4"
      }
    },
    {
      "cell_type": "markdown",
      "source": [
        "Measuring classification success:"
      ],
      "metadata": {
        "id": "CxIVSJErTFj7"
      }
    },
    {
      "cell_type": "code",
      "execution_count": null,
      "source": [
        "print('Accuracy: {:.2f}'.format(sk.metrics.accuracy_score(?, ?)))\n",
        "print('Precision: {:.2f}'.format(sk.metrics.precision_score(?, ?)))\n",
        "print('Recall: {:.2f}'.format(sk.metrics.recall_score(?, ?)))"
      ],
      "outputs": [],
      "metadata": {
        "id": "LoOHb_z4TFj7"
      }
    },
    {
      "cell_type": "markdown",
      "source": [
        "> **Accuracy** is the fraction of predictions our model got right.\n",
        "\n",
        "> **Precision** is intuitively the ability of the classifier to not label a sample as positive if it is negative.\n",
        "\n",
        "> **Recall** is intuitively the ability of the classifier to find all the positive samples."
      ],
      "metadata": {
        "id": "0ng0E-HeTgiB"
      }
    },
    {
      "cell_type": "markdown",
      "source": [
        "### <font color='darkorange'>Bonus </font>\n"
      ],
      "metadata": {
        "id": "03Ocqib_Yqqu"
      }
    },
    {
      "cell_type": "markdown",
      "source": [
        "**Titanic survivors**"
      ],
      "metadata": {}
    },
    {
      "cell_type": "markdown",
      "source": [
        "Let's see if we can use what we learnt today to predict who survived the titanic sinking, and what features help us to make these predictions.\n",
        "\n",
        "> I've taken a random 20% sample from the titanic data. Try and build a model on the data you have (titanic_subsample.csv - in the shared data folder) that can best predict who will survive.\n",
        "\n",
        "> when you think you've got a good model, let me know on slack and i'll give you the with-held sample. You can then estimate your models performance!"
      ],
      "metadata": {
        "id": "IDtR4pZx5Z6v"
      }
    },
    {
      "cell_type": "code",
      "execution_count": null,
      "source": [
        "df_titanic = pd.read_csv('titanic_subset.csv')\n",
        "\n",
        "df_titanic"
      ],
      "outputs": [],
      "metadata": {
        "id": "sZ0zdUOa5swV"
      }
    },
    {
      "cell_type": "markdown",
      "source": [
        "**Data understanding**"
      ],
      "metadata": {
        "id": "yILa1g5052Qj"
      }
    },
    {
      "cell_type": "code",
      "execution_count": null,
      "source": [],
      "outputs": [],
      "metadata": {
        "id": "CI7uRfHX54qE"
      }
    },
    {
      "cell_type": "markdown",
      "source": [
        "**Exploration and visualization**"
      ],
      "metadata": {
        "id": "ecEdp5iY55ML"
      }
    },
    {
      "cell_type": "code",
      "execution_count": null,
      "source": [],
      "outputs": [],
      "metadata": {
        "id": "xz9Cc2uy59QN"
      }
    },
    {
      "cell_type": "markdown",
      "source": [
        "**Data Preprocessing**"
      ],
      "metadata": {
        "id": "GhMq1eKv6Bbm"
      }
    },
    {
      "cell_type": "markdown",
      "source": [
        "> Feel free here to work with a subset of features that you think will help make predictions in the with-held dataset! I.e., what relationships will generalize well?"
      ],
      "metadata": {
        "id": "4dgLp6Qc6F7u"
      }
    },
    {
      "cell_type": "markdown",
      "source": [
        "**Model building**"
      ],
      "metadata": {
        "id": "4XqfoM4I594j"
      }
    },
    {
      "cell_type": "code",
      "execution_count": null,
      "source": [],
      "outputs": [],
      "metadata": {
        "id": "dmF6gOEK81cb"
      }
    },
    {
      "cell_type": "markdown",
      "source": [
        "**Model predictions**"
      ],
      "metadata": {
        "id": "JmzHUa11-RVB"
      }
    },
    {
      "cell_type": "markdown",
      "source": [
        "When you've got a good model and you are ready to test it out let me know and i'll send you the withheld data! When you measure the performance of the model does it differ in accuracy, precision, and recall?"
      ],
      "metadata": {
        "id": "wdacn-sf-B7h"
      }
    },
    {
      "cell_type": "code",
      "execution_count": null,
      "source": [],
      "outputs": [],
      "metadata": {
        "id": "LEp71grz-UC8"
      }
    }
  ]
}