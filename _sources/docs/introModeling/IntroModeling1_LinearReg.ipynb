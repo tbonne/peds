{
  "nbformat": 4,
  "nbformat_minor": 2,
  "metadata": {
    "colab": {
      "name": "IntroModeling1_LinearReg.ipynb",
      "provenance": [],
      "collapsed_sections": [],
      "authorship_tag": "ABX9TyPTZy0+xo1W59EjpXqDP/Zu",
      "include_colab_link": true
    },
    "kernelspec": {
      "name": "python3",
      "display_name": "Python 3"
    }
  },
  "cells": [
    {
      "cell_type": "markdown",
      "source": [
        "<a href=\"https://colab.research.google.com/github/tbonne/peds/blob/main/docs/introModeling/IntroModeling1_LinearReg.ipynb\" target=\"_parent\"><img src=\"https://colab.research.google.com/assets/colab-badge.svg\" alt=\"Open In Colab\"/></a>"
      ],
      "metadata": {
        "id": "view-in-github",
        "colab_type": "text"
      }
    },
    {
      "cell_type": "markdown",
      "source": [
        "<img src='http://drive.google.com/uc?export=view&id=1L4qAFCwXR9S6RHVzdOc7PhL7-B3yW-Jb' width=\"300\">  "
      ],
      "metadata": {
        "id": "TrWSETZ3NmJs"
      }
    },
    {
      "cell_type": "markdown",
      "source": [
        "## <font color='darkorange'>Linear regression</font>"
      ],
      "metadata": {
        "id": "4VTsxBzT7tAb"
      }
    },
    {
      "cell_type": "markdown",
      "source": [
        "In previous classes we have used exploritory approaches to visualize and quantify relationships between variables. Now we will use linear regression to start to build models that can make predictions based on these relationships. "
      ],
      "metadata": {
        "id": "03s3L0-C8Zxr"
      }
    },
    {
      "cell_type": "markdown",
      "source": [
        "Import the needed libraries"
      ],
      "metadata": {
        "id": "TF0wODYsSb22"
      }
    },
    {
      "cell_type": "code",
      "execution_count": null,
      "source": [
        "import sklearn as sk\n",
        "import pandas as pd\n",
        "import seaborn as sns\n",
        "import matplotlib.pyplot as plt\n",
        "\n",
        "import statsmodels.api as sm #for running regression!\n",
        "import statsmodels.formula.api as smf\n"
      ],
      "outputs": [],
      "metadata": {
        "id": "ABe6f2_V7X3h"
      }
    },
    {
      "cell_type": "markdown",
      "source": [
        "### <font color='darkorange'>Load the data</font>"
      ],
      "metadata": {}
    },
    {
      "cell_type": "markdown",
      "source": [
        "Download the 'bostonHouses.csv' from the class's [shared data folder](https://drive.google.com/drive/folders/1s2Civxvys_SR1sFF7D2ept1GSmFbICQb?usp=sharing) and load it into a dataframe.\n",
        "> Note: one way to get the data in, is just to drag and drop the csv file into the files tab on the left. However, using this method means that when we leave our session the data will be removed (i.e., it isn't on your gdrive)."
      ],
      "metadata": {
        "id": "vUf5CUjMTCgH"
      }
    },
    {
      "cell_type": "code",
      "execution_count": null,
      "source": [
        "df_boston = pd.read_csv('/content/bostonHouses.csv')"
      ],
      "outputs": [],
      "metadata": {
        "id": "F_73fyteS9gX"
      }
    },
    {
      "cell_type": "markdown",
      "source": [
        "<img src='http://drive.google.com/uc?export=view&id=1WC4tXGCEF-1_2LQ74gIxJAZ-GLXCwBdK' width=\"100\">  "
      ],
      "metadata": {
        "id": "k3DKADFdU0re"
      }
    },
    {
      "cell_type": "markdown",
      "source": [
        "Q: What kinds of data do you have?\n"
      ],
      "metadata": {
        "id": "E-eSiYP3HOlx"
      }
    },
    {
      "cell_type": "code",
      "execution_count": null,
      "source": [
        "?"
      ],
      "outputs": [],
      "metadata": {
        "id": "3YbSSBjNHWun"
      }
    },
    {
      "cell_type": "markdown",
      "source": [
        "Q: Are there missing values anywhere?"
      ],
      "metadata": {
        "id": "4JTcOqxPHXZh"
      }
    },
    {
      "cell_type": "code",
      "execution_count": null,
      "source": [
        "?"
      ],
      "outputs": [],
      "metadata": {
        "id": "6hmyJub7HX6h"
      }
    },
    {
      "cell_type": "markdown",
      "source": [
        "### <font color='lightblue'>Visualize and Explore</font>"
      ],
      "metadata": {
        "id": "IRu_wGLKG5qK"
      }
    },
    {
      "cell_type": "markdown",
      "source": [
        "<img src='http://drive.google.com/uc?export=view&id=1WC4tXGCEF-1_2LQ74gIxJAZ-GLXCwBdK' width=\"100\">  "
      ],
      "metadata": {
        "id": "Z-XsLsMQVJBE"
      }
    },
    {
      "cell_type": "markdown",
      "source": [
        "Plot the house prices on the y-axis, with some other variables on the x-axis.\n",
        "> Generally the value we are trying to predict is called the response variable, while the values we are using to make those predictions are the predictor variables."
      ],
      "metadata": {
        "id": "g87llbBEG-J4"
      }
    },
    {
      "cell_type": "code",
      "execution_count": null,
      "source": [
        "sns.scatterplot(data=df_boston, x=\"?\",y=\"price\")"
      ],
      "outputs": [],
      "metadata": {
        "id": "STIJY6mXGGh3"
      }
    },
    {
      "cell_type": "markdown",
      "source": [
        "Create a heat map to help you identify potentially interesting relationships."
      ],
      "metadata": {
        "id": "kBlzvYeAHb_p"
      }
    },
    {
      "cell_type": "code",
      "execution_count": null,
      "source": [
        "df_boston_corr = df_boston.?()\n",
        "sns.heatmap(data=?)"
      ],
      "outputs": [],
      "metadata": {
        "id": "gIxHKp43JMzO"
      }
    },
    {
      "cell_type": "markdown",
      "source": [
        "### <font color='darkorange'>Build and train a model </font>"
      ],
      "metadata": {
        "id": "d5JdBUC5HlCl"
      }
    },
    {
      "cell_type": "markdown",
      "source": [
        "Let's look at building our first model -- linear regression! \n",
        "> Can how well can we predict the price of a house based on the proportion of large lots in the area (i.e., the ZN value)?"
      ],
      "metadata": {
        "id": "6Pvddzu_V9Ym"
      }
    },
    {
      "cell_type": "code",
      "execution_count": null,
      "source": [
        "#Build the model\n",
        "linear_reg_model = smf.ols(formula='price ~ RM', data=df_boston)\n",
        "\n",
        "#Use the data to fit the model (i.e., find the best intercept and slope parameters)\n",
        "linear_reg_results = linear_reg_model.fit()\n",
        "\n",
        "#make predictions using the model\n",
        "df_boston['price_pred'] = linear_reg_results.predict(df_boston)"
      ],
      "outputs": [],
      "metadata": {
        "id": "jySJe9bGV8lf"
      }
    },
    {
      "cell_type": "markdown",
      "source": [
        "Let's take a look at the predictions!"
      ],
      "metadata": {
        "id": "U8It3FHqX4x1"
      }
    },
    {
      "cell_type": "code",
      "execution_count": null,
      "source": [
        "df_boston"
      ],
      "outputs": [],
      "metadata": {
        "id": "BzbR3ZSHX9KL"
      }
    },
    {
      "cell_type": "markdown",
      "source": [
        "Let's plot the predictions"
      ],
      "metadata": {
        "id": "L1wuh6o4YE9v"
      }
    },
    {
      "cell_type": "code",
      "execution_count": null,
      "source": [
        "sns.scatterplot(data=df_boston,x='RM', y='price')\n",
        "sns.scatterplot(data=df_boston,x='RM', y='price_pred')\n"
      ],
      "outputs": [],
      "metadata": {
        "id": "gIp6hA-QYEw1"
      }
    },
    {
      "cell_type": "markdown",
      "source": [
        "We can see that all the predicted points fall along a line. This is y = a + b*rooms.\n",
        " \n",
        "Let's take a look at what values for a (intercept) and b (slope RM) the model estimated."
      ],
      "metadata": {
        "id": "0GSoZJ_aZc9v"
      }
    },
    {
      "cell_type": "code",
      "execution_count": null,
      "source": [
        "print(linear_reg_results.summary())"
      ],
      "outputs": [],
      "metadata": {
        "id": "wyoJTungeX4p"
      }
    },
    {
      "cell_type": "markdown",
      "source": [
        "Before moving on let's drop the predictions we have made so far."
      ],
      "metadata": {
        "id": "Wr5smD6t8Tff"
      }
    },
    {
      "cell_type": "code",
      "execution_count": null,
      "source": [
        "df_boston = df_boston.drop('price_pred',axis=1)"
      ],
      "outputs": [],
      "metadata": {
        "id": "hUNqmKiO8D8f"
      }
    },
    {
      "cell_type": "markdown",
      "source": [
        "<img src='http://drive.google.com/uc?export=view&id=1qWrKY9TgpgQaBCzZfz1xLTV6iCeSwfmG' width=\"100\">"
      ],
      "metadata": {
        "id": "C0MmbEZ7dq5e"
      }
    },
    {
      "cell_type": "markdown",
      "source": [
        "### <font color='darkorange'>Training / Testing Split </font>"
      ],
      "metadata": {
        "id": "n8C4RUB7RYCG"
      }
    },
    {
      "cell_type": "markdown",
      "source": [
        "\n",
        "</br>\n",
        "</br>\n",
        "We will follow a general approach when building models. We will divide the dataset into *training* and *testing* datasets. \n",
        "</br>\n",
        "This lets us fit the model to one part of the data and then use the withheld data to test the predictions of the model. This helps us avoid *overfitting* our model!"
      ],
      "metadata": {
        "id": "xlIVmLX7HqMm"
      }
    },
    {
      "cell_type": "code",
      "execution_count": null,
      "source": [
        "#load libraries to do the training and testing split\n",
        "from sklearn.model_selection import train_test_split\n",
        "\n",
        "#Split the dataframe into 80% training and 20% testing datasets\n",
        "df_train, df_test = train_test_split(df_boston, test_size=0.20)"
      ],
      "outputs": [],
      "metadata": {
        "id": "eZEdEuROIFNC"
      }
    },
    {
      "cell_type": "code",
      "execution_count": null,
      "source": [
        "#take a look at the shape of the training dataset\n",
        "df_train.shape"
      ],
      "outputs": [],
      "metadata": {
        "id": "2CmwRtpxS7Vf"
      }
    },
    {
      "cell_type": "code",
      "execution_count": null,
      "source": [
        "#take a look at the shape of the testing dataset\n",
        "df_test.shape\n"
      ],
      "outputs": [],
      "metadata": {
        "id": "HdMXfjuFSNfq"
      }
    },
    {
      "cell_type": "markdown",
      "source": [
        "### <font color='darkorange'>Fit a model </font>"
      ],
      "metadata": {
        "id": "moh5HFYwTKoz"
      }
    },
    {
      "cell_type": "markdown",
      "source": [
        "<img src='http://drive.google.com/uc?export=view&id=1WC4tXGCEF-1_2LQ74gIxJAZ-GLXCwBdK' width=\"100\">  "
      ],
      "metadata": {
        "id": "Dvm90X8DlqnT"
      }
    },
    {
      "cell_type": "markdown",
      "source": [
        "In general when using sklearn to fit a model we will follow these steps:"
      ],
      "metadata": {
        "id": "vrThvCCaTbqR"
      }
    },
    {
      "cell_type": "code",
      "execution_count": null,
      "source": [
        "#define model parameters\n",
        "linear_reg_split_model = smf.ols(formula='?', data=df_train) #note: using training data\n",
        "\n",
        "#fit the model to the training data\n",
        "linear_reg_split_results = linear_reg_split_model.?\n",
        "\n",
        "#predict values in the training and testing dataset\n",
        "df_train['price_pred'] = ?(df_train) #note: using train data\n",
        "df_test['price_pred'] = ?(df_test) #note: using test data\n",
        "\n",
        "#Get a summary of the model parameters\n",
        "print(linear_reg_split_results.summary())"
      ],
      "outputs": [],
      "metadata": {
        "id": "jI65cVtTTbFd"
      }
    },
    {
      "cell_type": "markdown",
      "source": [
        "Visualize predictions on the training dataset"
      ],
      "metadata": {
        "id": "GmYUjT27dbBy"
      }
    },
    {
      "cell_type": "code",
      "execution_count": null,
      "source": [
        "?(data=df_train,x=\"RM\",y=\"price\") # observed price\n",
        "?(data=df_train,x=\"RM\",y=\"price_pred\") #predicted price\n"
      ],
      "outputs": [],
      "metadata": {
        "id": "-OgHBdczgYn1"
      }
    },
    {
      "cell_type": "markdown",
      "source": [
        "Visualize predictions on the testing dataset"
      ],
      "metadata": {
        "id": "OI0ISMZ6hLa5"
      }
    },
    {
      "cell_type": "code",
      "execution_count": null,
      "source": [
        "?(data=df_test,x=\"RM\",y=\"price\") # observed price\n",
        "?(data=df_test,x=\"RM\",y=\"price_pred\") # predicted price\n"
      ],
      "outputs": [],
      "metadata": {
        "id": "KqQVt4qUhKgg"
      }
    },
    {
      "cell_type": "markdown",
      "source": [
        "How good is the model at predicting?"
      ],
      "metadata": {
        "id": "S7gvWHDrbuK1"
      }
    },
    {
      "cell_type": "markdown",
      "source": [
        "> Making predictions in the training dataset"
      ],
      "metadata": {
        "id": "JVjbIwh9jrZN"
      }
    },
    {
      "cell_type": "code",
      "execution_count": null,
      "source": [
        "#mean squared error\n",
        "mse_train = sk.metrics.mean_squared_error(df_train['price'], df_train['price_pred']) \n",
        "\n",
        "print(\" Mean squared error = \", mse_train)"
      ],
      "outputs": [],
      "metadata": {
        "id": "iP5YMbKljvIj"
      }
    },
    {
      "cell_type": "markdown",
      "source": [
        "> Making predictions in the testing dataset (not used to fit the model)"
      ],
      "metadata": {
        "id": "feVCA701j0fM"
      }
    },
    {
      "cell_type": "code",
      "execution_count": null,
      "source": [
        "#mean squared error\n",
        "mse_test = sk.metrics.mean_squared_error(df_test['price'], df_test['price_pred']) \n",
        "\n",
        "print(\" Mean squared error = \", mse_test)"
      ],
      "outputs": [],
      "metadata": {
        "id": "copqYxmCj4QR"
      }
    },
    {
      "cell_type": "markdown",
      "source": [
        "Q: Which prediction error is higher?"
      ],
      "metadata": {
        "id": "4Y6ZNq82kMwJ"
      }
    },
    {
      "cell_type": "markdown",
      "source": [
        "Q: Is all that error just noise? Or could there be other variables that might explain why the predictions are off?"
      ],
      "metadata": {
        "id": "d2iuYitVkb3O"
      }
    },
    {
      "cell_type": "markdown",
      "source": [
        "<img src='http://drive.google.com/uc?export=view&id=1qWrKY9TgpgQaBCzZfz1xLTV6iCeSwfmG' width=\"100\">"
      ],
      "metadata": {
        "id": "giyvuAxJgSOa"
      }
    },
    {
      "cell_type": "markdown",
      "source": [
        "### <font color='lightblue'>Fit a more complex model</font>"
      ],
      "metadata": {
        "id": "6L3gTa8Ik_6I"
      }
    },
    {
      "cell_type": "markdown",
      "source": [
        "This time we will try multiple linear regression"
      ],
      "metadata": {
        "id": "S4pSaQXslLVk"
      }
    },
    {
      "cell_type": "code",
      "execution_count": null,
      "source": [
        "#define model parameters, and the training data to be used\n",
        "multi_linear_reg = smf.ols(formula='price ~ RM + ZN', data=df_train) #use training data\n",
        "\n",
        "#fit the model to the training data\n",
        "results_RN_ZN = multi_linear_reg.fit() \n",
        "\n",
        "#Predict values in the testing dataset\n",
        "df_test['price_pred_RM_ZN'] = results_RN_ZN.predict(df_test) #predict on testing data\n",
        "\n",
        "#Get a summary of the model parameters\n",
        "print(results_RN_ZN.summary()) \n"
      ],
      "outputs": [],
      "metadata": {
        "id": "LcG4MXuolVpB"
      }
    },
    {
      "cell_type": "markdown",
      "source": [
        "Visualize and explore these predictions"
      ],
      "metadata": {
        "id": "8yeNY-fNlVpo"
      }
    },
    {
      "cell_type": "code",
      "execution_count": null,
      "source": [
        "df_test"
      ],
      "outputs": [],
      "metadata": {
        "id": "Ql6ferivj2v4"
      }
    },
    {
      "cell_type": "markdown",
      "source": [
        "First let's look at how the model predicts the price of houses in the testing dataset. Now that we have two predictors we'll have to look at one at a time.\n",
        "</br>\n",
        "Let's look at the number of rooms (RM) first:"
      ],
      "metadata": {
        "id": "UkNy9y6XlVpp"
      }
    },
    {
      "cell_type": "code",
      "execution_count": null,
      "source": [
        "sns.scatterplot(data=df_test,x='RM', y='price')\n",
        "sns.scatterplot(data=df_test,x='RM', y='price_pred_RM_ZN')\n"
      ],
      "outputs": [],
      "metadata": {
        "id": "ISDYqiddlVpq"
      }
    },
    {
      "cell_type": "markdown",
      "source": [
        "Then at lot size (ZN):"
      ],
      "metadata": {
        "id": "lpiaTnKMtE7a"
      }
    },
    {
      "cell_type": "code",
      "execution_count": null,
      "source": [
        "sns.scatterplot(data=df_test,x='ZN', y='price')\n",
        "sns.scatterplot(data=df_test,x='ZN', y='price_pred_RM_ZN')"
      ],
      "outputs": [],
      "metadata": {
        "id": "SYoe7PJ1tGhL"
      }
    },
    {
      "cell_type": "markdown",
      "source": [
        "How good is the model at predicting?"
      ],
      "metadata": {
        "id": "NHsjIRSOlVpu"
      }
    },
    {
      "cell_type": "code",
      "execution_count": null,
      "source": [
        "#mean squared error\n",
        "mse_multi = sk.metrics.mean_squared_error(df_test['price'], df_test['price_pred_RM_ZN']) \n",
        "\n",
        "print(\" Mean squared error = \", mse_multi.round(2))\n",
        "\n"
      ],
      "outputs": [],
      "metadata": {
        "id": "oE07NmnClVpv"
      }
    },
    {
      "cell_type": "markdown",
      "source": [
        "Q: how does that compare to our simple model?"
      ],
      "metadata": {
        "id": "zU9L78-Oo--6"
      }
    },
    {
      "cell_type": "markdown",
      "source": [
        "<img src='http://drive.google.com/uc?export=view&id=1WC4tXGCEF-1_2LQ74gIxJAZ-GLXCwBdK' width=\"100\">  "
      ],
      "metadata": {
        "id": "r2ZaE1KKpKk4"
      }
    },
    {
      "cell_type": "markdown",
      "source": [
        "### <font color='lightblue'>Try adding more variables!</font>\n",
        " \n",
        " Run a linear regression model to predict house prices. Try and beat the RMSE of the previous models! Feel free to post to slack your results and RMSE scores! Does RMSE always decrease as you add more variables?"
      ],
      "metadata": {
        "id": "lc8RCXOrxCHX"
      }
    },
    {
      "cell_type": "code",
      "execution_count": null,
      "source": [
        "#define model parameters\n",
        "large_linear_reg = ?\n",
        "\n",
        "#fit the model to the training data\n",
        "large_linear_reg_res = ?\n",
        "\n",
        "#predit with the full model\n",
        "df_test['price_pred_full'] = ?\n",
        "\n",
        "#Get a summary of the model parameters\n",
        "print(?) "
      ],
      "outputs": [],
      "metadata": {
        "id": "dGhrD9IemCHT"
      }
    },
    {
      "cell_type": "markdown",
      "source": [
        "How well does it do on the test data?"
      ],
      "metadata": {
        "id": "aWSmXpW_maHS"
      }
    },
    {
      "cell_type": "code",
      "execution_count": null,
      "source": [
        "#mean squared error\n",
        "mse_full = ?\n",
        "\n",
        "print(\" Mean squared error = \", ?)\n"
      ],
      "outputs": [],
      "metadata": {
        "id": "q9Ji6W8QmZ3U"
      }
    },
    {
      "cell_type": "markdown",
      "source": [
        "<img src='http://drive.google.com/uc?export=view&id=1qWrKY9TgpgQaBCzZfz1xLTV6iCeSwfmG' width=\"100\">"
      ],
      "metadata": {
        "id": "-weXKGRN3MCv"
      }
    },
    {
      "cell_type": "markdown",
      "source": [
        "### <font color='lightblue'>Explaining how the model is making predictions</font>"
      ],
      "metadata": {
        "id": "h852C7SpsWzN"
      }
    },
    {
      "cell_type": "markdown",
      "source": [
        "With linear regression we can look to see what features are important when making predictions. We can also see the direction and magnitude of the effect of these features.\n",
        "> E.g., more rooms in a house are positively associated with house price"
      ],
      "metadata": {
        "id": "gW82VH3Ks4wd"
      }
    },
    {
      "cell_type": "markdown",
      "source": [
        "Let's take a look at how to make it easier to see which features are important when making predictions.\n",
        "> To do this we'll ensure that all numeric features are on the same scale (e.g., mean of 0, and standard deviation of 1)."
      ],
      "metadata": {
        "id": "R8saNIkjtVlr"
      }
    },
    {
      "cell_type": "markdown",
      "source": [
        "Data wrangling: preprocessing the data"
      ],
      "metadata": {
        "id": "XjxUeWwpv-_s"
      }
    },
    {
      "cell_type": "code",
      "execution_count": null,
      "source": [
        "from sklearn.preprocessing import StandardScaler\n"
      ],
      "outputs": [],
      "metadata": {
        "id": "z1TzauNnstwu"
      }
    },
    {
      "cell_type": "markdown",
      "source": [
        "Data preprocessing should be done after the training testing split"
      ],
      "metadata": {
        "id": "v19jraci1Hym"
      }
    },
    {
      "cell_type": "code",
      "execution_count": null,
      "source": [
        "#Split the dataframe into 80% training and 20% testing datasets\n",
        "df_train, df_test = train_test_split(df_boston, test_size=0.20)"
      ],
      "outputs": [],
      "metadata": {
        "id": "6D1Sq_4V1McD"
      }
    },
    {
      "cell_type": "markdown",
      "source": [
        "As the preprocessing step can be quite time consuming, We'll use a function called DataFrameMapper to help make it easier. The steps to using this function are:\n",
        "> 1. Build the transformer\n",
        "2. Fit the transformer and \n",
        "3. Use the transformer to transform the data\n"
      ],
      "metadata": {
        "id": "kuebewUqwHlo"
      }
    },
    {
      "cell_type": "code",
      "execution_count": null,
      "source": [
        "#create a copy of your dataframe to transform\n",
        "df_train_scaled = df_train.copy()\n",
        "\n",
        "#1. build the preprocessing transformer\n",
        "scal = StandardScaler()\n",
        "\n",
        "#2. Fit the DataFrameMapper, and transform the data \n",
        "df_train_scaled = scal.fit_transform(df_train[:])\n",
        "\n",
        "#take a look\n",
        "df_train_scaled"
      ],
      "outputs": [],
      "metadata": {
        "id": "rmLVRaLRw93V"
      }
    },
    {
      "cell_type": "markdown",
      "source": [
        "Q: estimate the mean and standard deviation for one of the new transformed features."
      ],
      "metadata": {
        "id": "9QgxxZhjye6U"
      }
    },
    {
      "cell_type": "code",
      "execution_count": null,
      "source": [],
      "outputs": [],
      "metadata": {
        "id": "bF1BAk60ymip"
      }
    },
    {
      "cell_type": "markdown",
      "source": [
        "Now run your best model again, this time with the scaled training data."
      ],
      "metadata": {
        "id": "lwf3qy3_zYzU"
      }
    },
    {
      "cell_type": "code",
      "execution_count": null,
      "source": [
        "#define model parameters, and the training data to be used\n",
        "best_linear_reg_scaled = smf.ols(formula='price ~ RM', data=df_train_scaled) \n",
        "\n",
        "#fit the model to the training data\n",
        "?\n",
        "\n",
        "#Get a summary of the model parameters\n",
        "?\n"
      ],
      "outputs": [],
      "metadata": {
        "id": "SPJe3CE3zlZv"
      }
    },
    {
      "cell_type": "markdown",
      "source": [
        "We can now compare the relative effect of each of the features in predicting the price of a house.\n",
        "> e.g the magnitude and direction of each parameter estimate.\n",
        " \n"
      ],
      "metadata": {
        "id": "nj-mUI_j34tG"
      }
    },
    {
      "cell_type": "markdown",
      "source": [
        "\n",
        "### <font color='darkorange'>Further reading</font>"
      ],
      "metadata": {
        "id": "ck64DNX_jcjl"
      }
    },
    {
      "cell_type": "markdown",
      "source": [
        "Read more about [using statsmodel](https://www.statsmodels.org/stable/gettingstarted.html) to run regression models.\n"
      ],
      "metadata": {
        "id": "BBuzn2WSjd3y"
      }
    }
  ]
}