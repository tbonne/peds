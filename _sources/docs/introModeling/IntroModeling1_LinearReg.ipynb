{
  "nbformat": 4,
  "nbformat_minor": 0,
  "metadata": {
    "colab": {
      "name": "IntroModeling1_LinearReg.ipynb",
      "provenance": [],
      "collapsed_sections": [],
      "authorship_tag": "ABX9TyPTZy0+xo1W59EjpXqDP/Zu",
      "include_colab_link": true
    },
    "kernelspec": {
      "name": "python3",
      "display_name": "Python 3"
    }
  },
  "cells": [
    {
      "cell_type": "markdown",
      "metadata": {
        "id": "view-in-github",
        "colab_type": "text"
      },
      "source": [
        "<a href=\"https://colab.research.google.com/github/tbonne/IntroDataScience/blob/main/InClassNotebooks/IntroModeling1_LinearReg.ipynb\" target=\"_parent\"><img src=\"https://colab.research.google.com/assets/colab-badge.svg\" alt=\"Open In Colab\"/></a>"
      ]
    },
    {
      "cell_type": "markdown",
      "metadata": {
        "id": "TrWSETZ3NmJs"
      },
      "source": [
        "<img src='http://drive.google.com/uc?export=view&id=1L4qAFCwXR9S6RHVzdOc7PhL7-B3yW-Jb' width=\"300\" align = 'left'>  "
      ]
    },
    {
      "cell_type": "markdown",
      "metadata": {
        "id": "4VTsxBzT7tAb"
      },
      "source": [
        "#<font color='lightblue'>Linear regression</font>"
      ]
    },
    {
      "cell_type": "markdown",
      "metadata": {
        "id": "03s3L0-C8Zxr"
      },
      "source": [
        "In previous classes we have used exploritory approaches to visualize and quantify relationships between variables. Now we will use linear regression to start to build models that can make predictions based on these relationships. "
      ]
    },
    {
      "cell_type": "markdown",
      "metadata": {
        "id": "TF0wODYsSb22"
      },
      "source": [
        "Import the needed libraries"
      ]
    },
    {
      "cell_type": "code",
      "metadata": {
        "id": "ABe6f2_V7X3h"
      },
      "source": [
        "import sklearn as sk\n",
        "import pandas as pd\n",
        "import seaborn as sns\n",
        "import matplotlib.pyplot as plt\n",
        "\n",
        "import statsmodels.api as sm #for running regression!\n",
        "import statsmodels.formula.api as smf\n"
      ],
      "execution_count": null,
      "outputs": []
    },
    {
      "cell_type": "markdown",
      "metadata": {
        "id": "wJHjdshLGGyI"
      },
      "source": [
        "### <font color='lightblue'>Load the data</font>"
      ]
    },
    {
      "cell_type": "markdown",
      "metadata": {
        "id": "vUf5CUjMTCgH"
      },
      "source": [
        "Download the 'bostonHouses.csv' from the class's [shared data folder](https://drive.google.com/drive/folders/1s2Civxvys_SR1sFF7D2ept1GSmFbICQb?usp=sharing) and load it into a dataframe.\n",
        "> Note: one way to get the data in, is just to drag and drop the csv file into the files tab on the left. However, using this method means that when we leave our session the data will be removed (i.e., it isn't on your gdrive)."
      ]
    },
    {
      "cell_type": "code",
      "metadata": {
        "id": "F_73fyteS9gX"
      },
      "source": [
        "df_boston = pd.read_csv('/content/bostonHouses.csv')"
      ],
      "execution_count": null,
      "outputs": []
    },
    {
      "cell_type": "markdown",
      "metadata": {
        "id": "k3DKADFdU0re"
      },
      "source": [
        "<img src='http://drive.google.com/uc?export=view&id=1WC4tXGCEF-1_2LQ74gIxJAZ-GLXCwBdK' width=\"100\" align = 'left'>  "
      ]
    },
    {
      "cell_type": "markdown",
      "metadata": {
        "id": "E-eSiYP3HOlx"
      },
      "source": [
        "Q: What kinds of data do you have?\n"
      ]
    },
    {
      "cell_type": "code",
      "metadata": {
        "id": "3YbSSBjNHWun"
      },
      "source": [
        "?"
      ],
      "execution_count": null,
      "outputs": []
    },
    {
      "cell_type": "markdown",
      "metadata": {
        "id": "4JTcOqxPHXZh"
      },
      "source": [
        "Q: Are there missing values anywhere?"
      ]
    },
    {
      "cell_type": "code",
      "metadata": {
        "id": "6hmyJub7HX6h"
      },
      "source": [
        "?"
      ],
      "execution_count": null,
      "outputs": []
    },
    {
      "cell_type": "markdown",
      "metadata": {
        "id": "IRu_wGLKG5qK"
      },
      "source": [
        "### <font color='lightblue'>Visualize and Explore</font>"
      ]
    },
    {
      "cell_type": "markdown",
      "metadata": {
        "id": "Z-XsLsMQVJBE"
      },
      "source": [
        "<img src='http://drive.google.com/uc?export=view&id=1WC4tXGCEF-1_2LQ74gIxJAZ-GLXCwBdK' width=\"100\" align = 'left'>  "
      ]
    },
    {
      "cell_type": "markdown",
      "metadata": {
        "id": "g87llbBEG-J4"
      },
      "source": [
        "Plot the house prices on the y-axis, with some other variables on the x-axis.\n",
        "> Generally the value we are trying to predict is called the response variable, while the values we are using to make those predictions are the predictor variables."
      ]
    },
    {
      "cell_type": "code",
      "metadata": {
        "id": "STIJY6mXGGh3"
      },
      "source": [
        "sns.scatterplot(data=df_boston, x=\"?\",y=\"price\")"
      ],
      "execution_count": null,
      "outputs": []
    },
    {
      "cell_type": "markdown",
      "metadata": {
        "id": "kBlzvYeAHb_p"
      },
      "source": [
        "Create a heat map to help you identify potentially interesting relationships."
      ]
    },
    {
      "cell_type": "code",
      "metadata": {
        "id": "gIxHKp43JMzO"
      },
      "source": [
        "df_boston_corr = df_boston.?()\n",
        "sns.heatmap(data=?)"
      ],
      "execution_count": null,
      "outputs": []
    },
    {
      "cell_type": "markdown",
      "metadata": {
        "id": "d5JdBUC5HlCl"
      },
      "source": [
        "### <font color='lightblue'>Build and train a model </font>"
      ]
    },
    {
      "cell_type": "markdown",
      "metadata": {
        "id": "6Pvddzu_V9Ym"
      },
      "source": [
        "Let's look at building our first model -- linear regression! \n",
        "> Can how well can we predict the price of a house based on the proportion of large lots in the area (i.e., the ZN value)?"
      ]
    },
    {
      "cell_type": "code",
      "metadata": {
        "id": "jySJe9bGV8lf"
      },
      "source": [
        "#Build the model\n",
        "linear_reg_model = smf.ols(formula='price ~ RM', data=df_boston)\n",
        "\n",
        "#Use the data to fit the model (i.e., find the best intercept and slope parameters)\n",
        "linear_reg_results = linear_reg_model.fit()\n",
        "\n",
        "#make predictions using the model\n",
        "df_boston['price_pred'] = linear_reg_results.predict(df_boston)"
      ],
      "execution_count": null,
      "outputs": []
    },
    {
      "cell_type": "markdown",
      "metadata": {
        "id": "U8It3FHqX4x1"
      },
      "source": [
        "Let's take a look at the predictions!"
      ]
    },
    {
      "cell_type": "code",
      "metadata": {
        "id": "BzbR3ZSHX9KL"
      },
      "source": [
        "df_boston"
      ],
      "execution_count": null,
      "outputs": []
    },
    {
      "cell_type": "markdown",
      "metadata": {
        "id": "L1wuh6o4YE9v"
      },
      "source": [
        "Let's plot the predictions"
      ]
    },
    {
      "cell_type": "code",
      "metadata": {
        "id": "gIp6hA-QYEw1"
      },
      "source": [
        "sns.scatterplot(data=df_boston,x='RM', y='price')\n",
        "sns.scatterplot(data=df_boston,x='RM', y='price_pred')\n"
      ],
      "execution_count": null,
      "outputs": []
    },
    {
      "cell_type": "markdown",
      "metadata": {
        "id": "0GSoZJ_aZc9v"
      },
      "source": [
        "We can see that all the predicted points fall along a line. This is y = a + b*rooms.\n",
        " \n",
        "Let's take a look at what values for a (intercept) and b (slope RM) the model estimated."
      ]
    },
    {
      "cell_type": "code",
      "metadata": {
        "id": "wyoJTungeX4p"
      },
      "source": [
        "print(linear_reg_results.summary())"
      ],
      "execution_count": null,
      "outputs": []
    },
    {
      "cell_type": "markdown",
      "metadata": {
        "id": "Wr5smD6t8Tff"
      },
      "source": [
        "Before moving on let's drop the predictions we have made so far."
      ]
    },
    {
      "cell_type": "code",
      "metadata": {
        "id": "hUNqmKiO8D8f"
      },
      "source": [
        "df_boston = df_boston.drop('price_pred',axis=1)"
      ],
      "execution_count": null,
      "outputs": []
    },
    {
      "cell_type": "markdown",
      "metadata": {
        "id": "C0MmbEZ7dq5e"
      },
      "source": [
        "<img src='http://drive.google.com/uc?export=view&id=1qWrKY9TgpgQaBCzZfz1xLTV6iCeSwfmG' width=\"100\" align = 'left'>"
      ]
    },
    {
      "cell_type": "markdown",
      "metadata": {
        "id": "n8C4RUB7RYCG"
      },
      "source": [
        "### <font color='lightblue'>Training / Testing Split </font>"
      ]
    },
    {
      "cell_type": "markdown",
      "metadata": {
        "id": "xlIVmLX7HqMm"
      },
      "source": [
        "\n",
        "</br>\n",
        "</br>\n",
        "We will follow a general approach when building models. We will divide the dataset into *training* and *testing* datasets. \n",
        "</br>\n",
        "This lets us fit the model to one part of the data and then use the withheld data to test the predictions of the model. This helps us avoid *overfitting* our model!"
      ]
    },
    {
      "cell_type": "code",
      "metadata": {
        "id": "eZEdEuROIFNC"
      },
      "source": [
        "#load libraries to do the training and testing split\n",
        "from sklearn.model_selection import train_test_split\n",
        "\n",
        "#Split the dataframe into 80% training and 20% testing datasets\n",
        "df_train, df_test = train_test_split(df_boston, test_size=0.20)"
      ],
      "execution_count": null,
      "outputs": []
    },
    {
      "cell_type": "code",
      "metadata": {
        "id": "2CmwRtpxS7Vf"
      },
      "source": [
        "#take a look at the shape of the training dataset\n",
        "df_train.shape"
      ],
      "execution_count": null,
      "outputs": []
    },
    {
      "cell_type": "code",
      "metadata": {
        "id": "HdMXfjuFSNfq"
      },
      "source": [
        "#take a look at the shape of the testing dataset\n",
        "df_test.shape\n"
      ],
      "execution_count": null,
      "outputs": []
    },
    {
      "cell_type": "markdown",
      "metadata": {
        "id": "moh5HFYwTKoz"
      },
      "source": [
        "### <font color='lightblue'>Fit a model </font>"
      ]
    },
    {
      "cell_type": "markdown",
      "metadata": {
        "id": "Dvm90X8DlqnT"
      },
      "source": [
        "<img src='http://drive.google.com/uc?export=view&id=1WC4tXGCEF-1_2LQ74gIxJAZ-GLXCwBdK' width=\"100\" align = 'left'>  "
      ]
    },
    {
      "cell_type": "markdown",
      "metadata": {
        "id": "vrThvCCaTbqR"
      },
      "source": [
        "In general when using sklearn to fit a model we will follow these steps:"
      ]
    },
    {
      "cell_type": "code",
      "metadata": {
        "id": "jI65cVtTTbFd"
      },
      "source": [
        "#define model parameters\n",
        "linear_reg_split_model = smf.ols(formula='?', data=df_train) #note: using training data\n",
        "\n",
        "#fit the model to the training data\n",
        "linear_reg_split_results = linear_reg_split_model.?\n",
        "\n",
        "#predict values in the training and testing dataset\n",
        "df_train['price_pred'] = ?(df_train) #note: using train data\n",
        "df_test['price_pred'] = ?(df_test) #note: using test data\n",
        "\n",
        "#Get a summary of the model parameters\n",
        "print(linear_reg_split_results.summary())"
      ],
      "execution_count": null,
      "outputs": []
    },
    {
      "cell_type": "markdown",
      "metadata": {
        "id": "GmYUjT27dbBy"
      },
      "source": [
        "Visualize predictions on the training dataset"
      ]
    },
    {
      "cell_type": "code",
      "metadata": {
        "id": "-OgHBdczgYn1"
      },
      "source": [
        "?(data=df_train,x=\"RM\",y=\"price\") # observed price\n",
        "?(data=df_train,x=\"RM\",y=\"price_pred\") #predicted price\n"
      ],
      "execution_count": null,
      "outputs": []
    },
    {
      "cell_type": "markdown",
      "metadata": {
        "id": "OI0ISMZ6hLa5"
      },
      "source": [
        "Visualize predictions on the testing dataset"
      ]
    },
    {
      "cell_type": "code",
      "metadata": {
        "id": "KqQVt4qUhKgg"
      },
      "source": [
        "?(data=df_test,x=\"RM\",y=\"price\") # observed price\n",
        "?(data=df_test,x=\"RM\",y=\"price_pred\") # predicted price\n"
      ],
      "execution_count": null,
      "outputs": []
    },
    {
      "cell_type": "markdown",
      "metadata": {
        "id": "S7gvWHDrbuK1"
      },
      "source": [
        "How good is the model at predicting?"
      ]
    },
    {
      "cell_type": "markdown",
      "metadata": {
        "id": "JVjbIwh9jrZN"
      },
      "source": [
        "> Making predictions in the training dataset"
      ]
    },
    {
      "cell_type": "code",
      "metadata": {
        "id": "iP5YMbKljvIj"
      },
      "source": [
        "#mean squared error\n",
        "mse_train = sk.metrics.mean_squared_error(df_train['price'], df_train['price_pred']) \n",
        "\n",
        "print(\" Mean squared error = \", mse_train)"
      ],
      "execution_count": null,
      "outputs": []
    },
    {
      "cell_type": "markdown",
      "metadata": {
        "id": "feVCA701j0fM"
      },
      "source": [
        "> Making predictions in the testing dataset (not used to fit the model)"
      ]
    },
    {
      "cell_type": "code",
      "metadata": {
        "id": "copqYxmCj4QR"
      },
      "source": [
        "#mean squared error\n",
        "mse_test = sk.metrics.mean_squared_error(df_test['price'], df_test['price_pred']) \n",
        "\n",
        "print(\" Mean squared error = \", mse_test)"
      ],
      "execution_count": null,
      "outputs": []
    },
    {
      "cell_type": "markdown",
      "metadata": {
        "id": "4Y6ZNq82kMwJ"
      },
      "source": [
        "Q: Which prediction error is higher?"
      ]
    },
    {
      "cell_type": "markdown",
      "metadata": {
        "id": "d2iuYitVkb3O"
      },
      "source": [
        "Q: Is all that error just noise? Or could there be other variables that might explain why the predictions are off?"
      ]
    },
    {
      "cell_type": "markdown",
      "metadata": {
        "id": "giyvuAxJgSOa"
      },
      "source": [
        "<img src='http://drive.google.com/uc?export=view&id=1qWrKY9TgpgQaBCzZfz1xLTV6iCeSwfmG' width=\"100\" align = 'left'>"
      ]
    },
    {
      "cell_type": "markdown",
      "metadata": {
        "id": "6L3gTa8Ik_6I"
      },
      "source": [
        "### <font color='lightblue'>Fit a more complex model</font>"
      ]
    },
    {
      "cell_type": "markdown",
      "metadata": {
        "id": "S4pSaQXslLVk"
      },
      "source": [
        "This time we will try multiple linear regression"
      ]
    },
    {
      "cell_type": "code",
      "metadata": {
        "id": "LcG4MXuolVpB"
      },
      "source": [
        "#define model parameters, and the training data to be used\n",
        "multi_linear_reg = smf.ols(formula='price ~ RM + ZN', data=df_train) #use training data\n",
        "\n",
        "#fit the model to the training data\n",
        "results_RN_ZN = multi_linear_reg.fit() \n",
        "\n",
        "#Predict values in the testing dataset\n",
        "df_test['price_pred_RM_ZN'] = results_RN_ZN.predict(df_test) #predict on testing data\n",
        "\n",
        "#Get a summary of the model parameters\n",
        "print(results_RN_ZN.summary()) \n"
      ],
      "execution_count": null,
      "outputs": []
    },
    {
      "cell_type": "markdown",
      "metadata": {
        "id": "8yeNY-fNlVpo"
      },
      "source": [
        "Visualize and explore these predictions"
      ]
    },
    {
      "cell_type": "code",
      "metadata": {
        "id": "Ql6ferivj2v4"
      },
      "source": [
        "df_test"
      ],
      "execution_count": null,
      "outputs": []
    },
    {
      "cell_type": "markdown",
      "metadata": {
        "id": "UkNy9y6XlVpp"
      },
      "source": [
        "First let's look at how the model predicts the price of houses in the testing dataset. Now that we have two predictors we'll have to look at one at a time.\n",
        "</br>\n",
        "Let's look at the number of rooms (RM) first:"
      ]
    },
    {
      "cell_type": "code",
      "metadata": {
        "id": "ISDYqiddlVpq"
      },
      "source": [
        "sns.scatterplot(data=df_test,x='RM', y='price')\n",
        "sns.scatterplot(data=df_test,x='RM', y='price_pred_RM_ZN')\n"
      ],
      "execution_count": null,
      "outputs": []
    },
    {
      "cell_type": "markdown",
      "metadata": {
        "id": "lpiaTnKMtE7a"
      },
      "source": [
        "Then at lot size (ZN):"
      ]
    },
    {
      "cell_type": "code",
      "metadata": {
        "id": "SYoe7PJ1tGhL"
      },
      "source": [
        "sns.scatterplot(data=df_test,x='ZN', y='price')\n",
        "sns.scatterplot(data=df_test,x='ZN', y='price_pred_RM_ZN')"
      ],
      "execution_count": null,
      "outputs": []
    },
    {
      "cell_type": "markdown",
      "metadata": {
        "id": "NHsjIRSOlVpu"
      },
      "source": [
        "How good is the model at predicting?"
      ]
    },
    {
      "cell_type": "code",
      "metadata": {
        "id": "oE07NmnClVpv"
      },
      "source": [
        "#mean squared error\n",
        "mse_multi = sk.metrics.mean_squared_error(df_test['price'], df_test['price_pred_RM_ZN']) \n",
        "\n",
        "print(\" Mean squared error = \", mse_multi.round(2))\n",
        "\n"
      ],
      "execution_count": null,
      "outputs": []
    },
    {
      "cell_type": "markdown",
      "metadata": {
        "id": "zU9L78-Oo--6"
      },
      "source": [
        "Q: how does that compare to our simple model?"
      ]
    },
    {
      "cell_type": "markdown",
      "metadata": {
        "id": "r2ZaE1KKpKk4"
      },
      "source": [
        "<img src='http://drive.google.com/uc?export=view&id=1WC4tXGCEF-1_2LQ74gIxJAZ-GLXCwBdK' width=\"100\" align = 'left'>  "
      ]
    },
    {
      "cell_type": "markdown",
      "metadata": {
        "id": "lc8RCXOrxCHX"
      },
      "source": [
        "### <font color='lightblue'>Try adding more variables!</font>\n",
        " \n",
        " Run a linear regression model to predict house prices. Try and beat the RMSE of the previous models! Feel free to post to slack your results and RMSE scores! Does RMSE always decrease as you add more variables?"
      ]
    },
    {
      "cell_type": "code",
      "metadata": {
        "id": "dGhrD9IemCHT"
      },
      "source": [
        "#define model parameters\n",
        "large_linear_reg = ?\n",
        "\n",
        "#fit the model to the training data\n",
        "large_linear_reg_res = ?\n",
        "\n",
        "#predit with the full model\n",
        "df_test['price_pred_full'] = ?\n",
        "\n",
        "#Get a summary of the model parameters\n",
        "print(?) "
      ],
      "execution_count": null,
      "outputs": []
    },
    {
      "cell_type": "markdown",
      "metadata": {
        "id": "aWSmXpW_maHS"
      },
      "source": [
        "How well does it do on the test data?"
      ]
    },
    {
      "cell_type": "code",
      "metadata": {
        "id": "q9Ji6W8QmZ3U"
      },
      "source": [
        "#mean squared error\n",
        "mse_full = ?\n",
        "\n",
        "print(\" Mean squared error = \", ?)\n"
      ],
      "execution_count": null,
      "outputs": []
    },
    {
      "cell_type": "markdown",
      "metadata": {
        "id": "-weXKGRN3MCv"
      },
      "source": [
        "<img src='http://drive.google.com/uc?export=view&id=1qWrKY9TgpgQaBCzZfz1xLTV6iCeSwfmG' width=\"100\" align = 'left'>"
      ]
    },
    {
      "cell_type": "markdown",
      "metadata": {
        "id": "h852C7SpsWzN"
      },
      "source": [
        "### <font color='lightblue'>Explaining how the model is making predictions</font>"
      ]
    },
    {
      "cell_type": "markdown",
      "metadata": {
        "id": "gW82VH3Ks4wd"
      },
      "source": [
        "With linear regression we can look to see what features are important when making predictions. We can also see the direction and magnitude of the effect of these features.\n",
        "> E.g., more rooms in a house are positively associated with house price"
      ]
    },
    {
      "cell_type": "markdown",
      "metadata": {
        "id": "R8saNIkjtVlr"
      },
      "source": [
        "Let's take a look at how to make it easier to see which features are important when making predictions.\n",
        "> To do this we'll ensure that all numeric features are on the same scale (e.g., mean of 0, and standard deviation of 1)."
      ]
    },
    {
      "cell_type": "markdown",
      "metadata": {
        "id": "XjxUeWwpv-_s"
      },
      "source": [
        "Data wrangling: preprocessing the data"
      ]
    },
    {
      "cell_type": "code",
      "metadata": {
        "id": "z1TzauNnstwu"
      },
      "source": [
        "from sklearn.preprocessing import StandardScaler\n"
      ],
      "execution_count": null,
      "outputs": []
    },
    {
      "cell_type": "markdown",
      "metadata": {
        "id": "v19jraci1Hym"
      },
      "source": [
        "Data preprocessing should be done after the training testing split"
      ]
    },
    {
      "cell_type": "code",
      "metadata": {
        "id": "6D1Sq_4V1McD"
      },
      "source": [
        "#Split the dataframe into 80% training and 20% testing datasets\n",
        "df_train, df_test = train_test_split(df_boston, test_size=0.20)"
      ],
      "execution_count": null,
      "outputs": []
    },
    {
      "cell_type": "markdown",
      "metadata": {
        "id": "kuebewUqwHlo"
      },
      "source": [
        "As the preprocessing step can be quite time consuming, We'll use a function called DataFrameMapper to help make it easier. The steps to using this function are:\n",
        "> 1. Build the transformer\n",
        "2. Fit the transformer and \n",
        "3. Use the transformer to transform the data\n"
      ]
    },
    {
      "cell_type": "code",
      "metadata": {
        "id": "rmLVRaLRw93V"
      },
      "source": [
        "#create a copy of your dataframe to transform\n",
        "df_train_scaled = df_train.copy()\n",
        "\n",
        "#1. build the preprocessing transformer\n",
        "scal = StandardScaler()\n",
        "\n",
        "#2. Fit the DataFrameMapper, and transform the data \n",
        "df_train_scaled = scal.fit_transform(df_train[:])\n",
        "\n",
        "#take a look\n",
        "df_train_scaled"
      ],
      "execution_count": null,
      "outputs": []
    },
    {
      "cell_type": "markdown",
      "metadata": {
        "id": "9QgxxZhjye6U"
      },
      "source": [
        "Q: estimate the mean and standard deviation for one of the new transformed features."
      ]
    },
    {
      "cell_type": "code",
      "metadata": {
        "id": "bF1BAk60ymip"
      },
      "source": [
        ""
      ],
      "execution_count": null,
      "outputs": []
    },
    {
      "cell_type": "markdown",
      "metadata": {
        "id": "lwf3qy3_zYzU"
      },
      "source": [
        "Now run your best model again, this time with the scaled training data."
      ]
    },
    {
      "cell_type": "code",
      "metadata": {
        "id": "SPJe3CE3zlZv"
      },
      "source": [
        "#define model parameters, and the training data to be used\n",
        "best_linear_reg_scaled = smf.ols(formula='price ~ RM', data=df_train_scaled) \n",
        "\n",
        "#fit the model to the training data\n",
        "?\n",
        "\n",
        "#Get a summary of the model parameters\n",
        "?\n"
      ],
      "execution_count": null,
      "outputs": []
    },
    {
      "cell_type": "markdown",
      "metadata": {
        "id": "nj-mUI_j34tG"
      },
      "source": [
        "We can now compare the relative effect of each of the features in predicting the price of a house.\n",
        "> e.g the magnitude and direction of each parameter estimate.\n",
        " \n"
      ]
    },
    {
      "cell_type": "markdown",
      "metadata": {
        "id": "ck64DNX_jcjl"
      },
      "source": [
        "\n",
        "# <font color='lightblue'>Further reading</font>"
      ]
    },
    {
      "cell_type": "markdown",
      "metadata": {
        "id": "BBuzn2WSjd3y"
      },
      "source": [
        "Read more about [using statsmodel](https://www.statsmodels.org/stable/gettingstarted.html) to run regression models.\n"
      ]
    }
  ]
}